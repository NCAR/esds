{
 "cells": [
  {
   "cell_type": "markdown",
   "metadata": {},
   "source": [
    "# Creating Model Documentation Using Jupyterbook and Intake-esm\n",
    "\n",
    "A common step to any project is documenting your data and your data workflow. Fortunately, open tools in the scientific python ecosystem make that much easier! In this example, we will cover creating your github repo, creating the catalog, visualizing the catalog, and generating a static webpage you can share with collaborators!\n",
    "\n",
    "## Fair Warning\n",
    "This week's post is quite detailed, so just a warning! If you would like to look at the finished product, check out the following\n",
    "\n",
    "* [Github repository with the content built here](https://github.com/mgrover1/cesm-test-data)\n",
    "* [Finished website with content](https://mgrover1.github.io/cesm-test-data/)\n",
    "\n",
    "By the end of this post, we will cover how to build a webpage that looks like this\n",
    "![CESM book page](../images/cesm_book_page.png)"
   ]
  },
  {
   "cell_type": "markdown",
   "metadata": {},
   "source": [
    "## Create your Github Repository\n",
    "\n",
    "Go to [Github](https://github.com/) and select \"New\" in the top lefthand corner next to \"Repositories\" - this will pull up the following window. Once you are here, go ahead and name your repository!\n",
    "\n",
    "Be sure to add:\n",
    "* Repository name\n",
    "* Description\n",
    "* README\n",
    "* Gitignore (use the python template)\n",
    "* Choose a license\n"
   ]
  },
  {
   "cell_type": "markdown",
   "metadata": {},
   "source": [
    "![screen_grab](../images/github_screen_grab.png)"
   ]
  },
  {
   "cell_type": "markdown",
   "metadata": {},
   "source": [
    "## Clone your Repository\n",
    "At this point, you can go ahead and clone your repository! You can either clone to your local machine, or to some Jupyterhub (such as the [NCAR Jupyterhub](https://jupyterhub.ucar.edu)), which will do in this case.\n",
    "\n",
    "### Copy the link from Github\n",
    "Copy the link from Github by clicking on the green \"Code\" button\n",
    "![Github Clone Link](../images/github_clone_link.png)"
   ]
  },
  {
   "cell_type": "markdown",
   "metadata": {},
   "source": [
    "### Clone to your machine!\n",
    "We want to clone to the repository within the [Jupyterhub](https://jupyterhub.ucar.edu), so once logging on, we open a terminal and paste the link using the following syntax\n",
    "\n",
    "```bash\n",
    "git clone https://github.com/mgrover1/cesm-test-data.git\n",
    "```"
   ]
  },
  {
   "cell_type": "markdown",
   "metadata": {},
   "source": [
    "## Create a docs directory\n",
    "Now that you cloned the repository, move into it and create a `docs` directory using the following\n",
    "\n",
    "```bash\n",
    "cd cesm-test-data\n",
    "mkdir docs\n",
    "```"
   ]
  },
  {
   "cell_type": "markdown",
   "metadata": {},
   "source": [
    "## Build your Catalog\n",
    "Open a new Jupyter Notebook called `model_documentation.ipynb` within the `docs` directory and select a development environment which includes the following:\n",
    "- jupyter-book\n",
    "- ecgtools\n",
    "\n",
    "If you haven't installed these yet, you can use conda and pip (ecgtools is not yet on conda-forge)\n",
    "\n",
    "```bash\n",
    "conda install -c conda-forge jupyter-book intake-esm graphviz\n",
    "pip install ecgtools\n",
    "```\n",
    "\n",
    "In this case, follow the instructions in the [Building an Intake-esm catalog from CESM2 History Files](https://ncar.github.io/esds/posts/ecgtools-history-files-example/) post provides the instructions for building the data catalog"
   ]
  },
  {
   "cell_type": "markdown",
   "metadata": {},
   "source": [
    "## Read the Catalog and Visualize the Components and Frequency\n",
    "A couple weeks ago, we covered [Creating Visualizations of Intake-ESM Catalogs](https://ncar.github.io/esds/posts/graphviz_example/) which is helpful for understanding how [`Graphviz`](https://graphviz.readthedocs.io/en/stable/manual.html) works!\n",
    "\n",
    "### Imports"
   ]
  },
  {
   "cell_type": "code",
   "execution_count": 8,
   "metadata": {},
   "outputs": [],
   "source": [
    "import intake\n",
    "from graphviz import Digraph"
   ]
  },
  {
   "cell_type": "markdown",
   "metadata": {},
   "source": [
    "### Read in the Test History Catalog"
   ]
  },
  {
   "cell_type": "code",
   "execution_count": 9,
   "metadata": {},
   "outputs": [],
   "source": [
    "col = intake.open_esm_datastore('/glade/work/mgrover/cesm-hist-test.json')"
   ]
  },
  {
   "cell_type": "markdown",
   "metadata": {},
   "source": [
    "We will assign the dataframe from the catalog to its own variable"
   ]
  },
  {
   "cell_type": "code",
   "execution_count": 10,
   "metadata": {},
   "outputs": [],
   "source": [
    "df = col.df"
   ]
  },
  {
   "cell_type": "markdown",
   "metadata": {},
   "source": [
    "### Visualize the Catalog\n",
    "Using the `Diagraph` object from the [`Graphviz` library](https://graphviz.readthedocs.io/en/stable/manual.html), we setup a loop to create the visualization using the three categories\n",
    "* Case\n",
    "* Component\n",
    "* Frequency"
   ]
  },
  {
   "cell_type": "code",
   "execution_count": 11,
   "metadata": {},
   "outputs": [],
   "source": [
    "# Create Digraph object - use the left to right orientation instead of vertical\n",
    "dot = Digraph(graph_attr={'rankdir': 'LR'})\n",
    "\n",
    "# Save the catalog as a pdf\n",
    "dot.format = 'pdf'\n",
    "\n",
    "# Start counting at one for node numbers\n",
    "num_node = 1\n",
    "\n",
    "# Loop through the different cases\n",
    "for case in df.case.unique():\n",
    "    case_i = num_node\n",
    "    dot.node(str(case_i), label=case)\n",
    "    num_node += 1\n",
    "\n",
    "    # Loop through the different components in each case\n",
    "    for component in df.loc[df.case == case].component.unique():\n",
    "        comp_i = num_node\n",
    "        dot.node(str(comp_i), label=component)\n",
    "        dot.edge(str(case_i), str(comp_i))\n",
    "        num_node += 1\n",
    "\n",
    "        # Loop through the frequency in each component within each experiment\n",
    "        for frequency in df.loc[(df.case == case) & (df.component == component)].frequency.unique():\n",
    "            freq_i = num_node\n",
    "\n",
    "            # Pull out the the stream information\n",
    "            stream = df.loc[\n",
    "                (df.case == case) & (df.component == component) & (df.frequency == frequency)\n",
    "            ].stream.values[0]\n",
    "\n",
    "            # Add both stream and frequency information to these bubbles\n",
    "            dot.node(str(freq_i), label=f'stream: {stream} \\n frequency: {frequency}')\n",
    "            dot.edge(str(comp_i), str(freq_i))\n",
    "            num_node += 1\n",
    "        comp_i += 1\n",
    "    case_i += 1"
   ]
  },
  {
   "cell_type": "markdown",
   "metadata": {},
   "source": [
    "Now visualize it in inline by running a cell with just the `dot` object"
   ]
  },
  {
   "cell_type": "code",
   "execution_count": 12,
   "metadata": {},
   "outputs": [
    {
     "data": {
      "image/svg+xml": [
       "<?xml version=\"1.0\" encoding=\"UTF-8\" standalone=\"no\"?>\n",
       "<!DOCTYPE svg PUBLIC \"-//W3C//DTD SVG 1.1//EN\"\n",
       " \"http://www.w3.org/Graphics/SVG/1.1/DTD/svg11.dtd\">\n",
       "<!-- Generated by graphviz version 2.30.1 (20180420.1509)\n",
       " -->\n",
       "<!-- Title: %3 Pages: 1 -->\n",
       "<svg width=\"724pt\" height=\"636pt\"\n",
       " viewBox=\"0.00 0.00 724.00 636.00\" xmlns=\"http://www.w3.org/2000/svg\" xmlns:xlink=\"http://www.w3.org/1999/xlink\">\n",
       "<g id=\"graph0\" class=\"graph\" transform=\"scale(1 1) rotate(0) translate(4 632)\">\n",
       "<title>%3</title>\n",
       "<polygon fill=\"white\" stroke=\"white\" points=\"-4,5 -4,-632 721,-632 721,5 -4,5\"/>\n",
       "<!-- 1 -->\n",
       "<g id=\"node1\" class=\"node\"><title>1</title>\n",
       "<ellipse fill=\"none\" stroke=\"black\" cx=\"132\" cy=\"-203\" rx=\"131.077\" ry=\"18\"/>\n",
       "<text text-anchor=\"middle\" x=\"132\" y=\"-199.3\" font-family=\"Times,serif\" font-size=\"14.00\">b.e20.B1850.f19_g17.test</text>\n",
       "</g>\n",
       "<!-- 2 -->\n",
       "<g id=\"node2\" class=\"node\"><title>2</title>\n",
       "<ellipse fill=\"none\" stroke=\"black\" cx=\"329\" cy=\"-521\" rx=\"28.6953\" ry=\"18\"/>\n",
       "<text text-anchor=\"middle\" x=\"329\" y=\"-517.3\" font-family=\"Times,serif\" font-size=\"14.00\">atm</text>\n",
       "</g>\n",
       "<!-- 1&#45;&gt;2 -->\n",
       "<g id=\"edge1\" class=\"edge\"><title>1&#45;&gt;2</title>\n",
       "<path fill=\"none\" stroke=\"black\" d=\"M144.043,-221.008C176.919,-274.622 274.237,-433.325 312.397,-495.555\"/>\n",
       "<polygon fill=\"black\" stroke=\"black\" points=\"309.578,-497.654 317.789,-504.349 315.546,-493.994 309.578,-497.654\"/>\n",
       "</g>\n",
       "<!-- 4 -->\n",
       "<g id=\"node4\" class=\"node\"><title>4</title>\n",
       "<ellipse fill=\"none\" stroke=\"black\" cx=\"329\" cy=\"-386\" rx=\"27.0966\" ry=\"18\"/>\n",
       "<text text-anchor=\"middle\" x=\"329\" y=\"-382.3\" font-family=\"Times,serif\" font-size=\"14.00\">ocn</text>\n",
       "</g>\n",
       "<!-- 1&#45;&gt;4 -->\n",
       "<g id=\"edge3\" class=\"edge\"><title>1&#45;&gt;4</title>\n",
       "<path fill=\"none\" stroke=\"black\" d=\"M152.052,-220.88C188.019,-254.634 265.797,-327.625 304.763,-364.193\"/>\n",
       "<polygon fill=\"black\" stroke=\"black\" points=\"302.773,-367.126 312.46,-371.417 307.564,-362.021 302.773,-367.126\"/>\n",
       "</g>\n",
       "<!-- 9 -->\n",
       "<g id=\"node9\" class=\"node\"><title>9</title>\n",
       "<ellipse fill=\"none\" stroke=\"black\" cx=\"329\" cy=\"-233\" rx=\"27\" ry=\"18\"/>\n",
       "<text text-anchor=\"middle\" x=\"329\" y=\"-229.3\" font-family=\"Times,serif\" font-size=\"14.00\">lnd</text>\n",
       "</g>\n",
       "<!-- 1&#45;&gt;9 -->\n",
       "<g id=\"edge8\" class=\"edge\"><title>1&#45;&gt;9</title>\n",
       "<path fill=\"none\" stroke=\"black\" d=\"M219.95,-216.377C245.55,-220.315 272.131,-224.405 292.524,-227.542\"/>\n",
       "<polygon fill=\"black\" stroke=\"black\" points=\"292.169,-231.029 302.585,-229.09 293.234,-224.11 292.169,-231.029\"/>\n",
       "</g>\n",
       "<!-- 11 -->\n",
       "<g id=\"node11\" class=\"node\"><title>11</title>\n",
       "<ellipse fill=\"none\" stroke=\"black\" cx=\"329\" cy=\"-174\" rx=\"27\" ry=\"18\"/>\n",
       "<text text-anchor=\"middle\" x=\"329\" y=\"-170.3\" font-family=\"Times,serif\" font-size=\"14.00\">glc</text>\n",
       "</g>\n",
       "<!-- 1&#45;&gt;11 -->\n",
       "<g id=\"edge10\" class=\"edge\"><title>1&#45;&gt;11</title>\n",
       "<path fill=\"none\" stroke=\"black\" d=\"M221.656,-189.815C246.558,-186.112 272.237,-182.293 292.121,-179.336\"/>\n",
       "<polygon fill=\"black\" stroke=\"black\" points=\"292.866,-182.764 302.242,-177.831 291.836,-175.84 292.866,-182.764\"/>\n",
       "</g>\n",
       "<!-- 13 -->\n",
       "<g id=\"node13\" class=\"node\"><title>13</title>\n",
       "<ellipse fill=\"none\" stroke=\"black\" cx=\"329\" cy=\"-111\" rx=\"27\" ry=\"18\"/>\n",
       "<text text-anchor=\"middle\" x=\"329\" y=\"-107.3\" font-family=\"Times,serif\" font-size=\"14.00\">rof</text>\n",
       "</g>\n",
       "<!-- 1&#45;&gt;13 -->\n",
       "<g id=\"edge12\" class=\"edge\"><title>1&#45;&gt;13</title>\n",
       "<path fill=\"none\" stroke=\"black\" d=\"M169.678,-185.696C206.587,-168.282 262.858,-141.734 297.429,-125.423\"/>\n",
       "<polygon fill=\"black\" stroke=\"black\" points=\"299.02,-128.543 306.571,-121.11 296.033,-122.212 299.02,-128.543\"/>\n",
       "</g>\n",
       "<!-- 15 -->\n",
       "<g id=\"node15\" class=\"node\"><title>15</title>\n",
       "<ellipse fill=\"none\" stroke=\"black\" cx=\"329\" cy=\"-39\" rx=\"27\" ry=\"18\"/>\n",
       "<text text-anchor=\"middle\" x=\"329\" y=\"-35.3\" font-family=\"Times,serif\" font-size=\"14.00\">ice</text>\n",
       "</g>\n",
       "<!-- 1&#45;&gt;15 -->\n",
       "<g id=\"edge14\" class=\"edge\"><title>1&#45;&gt;15</title>\n",
       "<path fill=\"none\" stroke=\"black\" d=\"M154.24,-185.137C190.672,-154.496 264.874,-92.0907 303.459,-59.6397\"/>\n",
       "<polygon fill=\"black\" stroke=\"black\" points=\"306.17,-61.9327 311.571,-52.8175 301.665,-56.5755 306.17,-61.9327\"/>\n",
       "</g>\n",
       "<!-- 3 -->\n",
       "<g id=\"node3\" class=\"node\"><title>3</title>\n",
       "<ellipse fill=\"none\" stroke=\"black\" cx=\"555\" cy=\"-602\" rx=\"115.931\" ry=\"26.7407\"/>\n",
       "<text text-anchor=\"middle\" x=\"555\" y=\"-605.8\" font-family=\"Times,serif\" font-size=\"14.00\">stream: cam.h0 </text>\n",
       "<text text-anchor=\"middle\" x=\"555\" y=\"-590.8\" font-family=\"Times,serif\" font-size=\"14.00\"> frequency: month_1</text>\n",
       "</g>\n",
       "<!-- 2&#45;&gt;3 -->\n",
       "<g id=\"edge2\" class=\"edge\"><title>2&#45;&gt;3</title>\n",
       "<path fill=\"none\" stroke=\"black\" d=\"M346.871,-535.23C359.203,-544.947 376.723,-557.393 394,-565 411.746,-572.814 431.355,-579.087 450.586,-584.087\"/>\n",
       "<polygon fill=\"black\" stroke=\"black\" points=\"449.739,-587.483 460.289,-586.514 451.437,-580.692 449.739,-587.483\"/>\n",
       "</g>\n",
       "<!-- 5 -->\n",
       "<g id=\"node5\" class=\"node\"><title>5</title>\n",
       "<ellipse fill=\"none\" stroke=\"black\" cx=\"555\" cy=\"-530\" rx=\"115.931\" ry=\"26.7407\"/>\n",
       "<text text-anchor=\"middle\" x=\"555\" y=\"-533.8\" font-family=\"Times,serif\" font-size=\"14.00\">stream: pop.h </text>\n",
       "<text text-anchor=\"middle\" x=\"555\" y=\"-518.8\" font-family=\"Times,serif\" font-size=\"14.00\"> frequency: month_1</text>\n",
       "</g>\n",
       "<!-- 4&#45;&gt;5 -->\n",
       "<g id=\"edge4\" class=\"edge\"><title>4&#45;&gt;5</title>\n",
       "<path fill=\"none\" stroke=\"black\" d=\"M335.675,-403.836C344.291,-427.928 363.031,-470.443 394,-493 407.678,-502.963 423.614,-510.294 440.026,-515.68\"/>\n",
       "<polygon fill=\"black\" stroke=\"black\" points=\"439.144,-519.07 449.73,-518.631 441.181,-512.373 439.144,-519.07\"/>\n",
       "</g>\n",
       "<!-- 6 -->\n",
       "<g id=\"node6\" class=\"node\"><title>6</title>\n",
       "<ellipse fill=\"none\" stroke=\"black\" cx=\"555\" cy=\"-458\" rx=\"156.042\" ry=\"26.7407\"/>\n",
       "<text text-anchor=\"middle\" x=\"555\" y=\"-461.8\" font-family=\"Times,serif\" font-size=\"14.00\">stream: pop.h.ecosys.nday1 </text>\n",
       "<text text-anchor=\"middle\" x=\"555\" y=\"-446.8\" font-family=\"Times,serif\" font-size=\"14.00\"> frequency: day_1</text>\n",
       "</g>\n",
       "<!-- 4&#45;&gt;6 -->\n",
       "<g id=\"edge5\" class=\"edge\"><title>4&#45;&gt;6</title>\n",
       "<path fill=\"none\" stroke=\"black\" d=\"M349.225,-398.324C361.6,-405.793 378.259,-415.006 394,-421 408.673,-426.588 424.437,-431.483 440.145,-435.726\"/>\n",
       "<polygon fill=\"black\" stroke=\"black\" points=\"439.346,-439.135 449.907,-438.284 441.12,-432.364 439.346,-439.135\"/>\n",
       "</g>\n",
       "<!-- 7 -->\n",
       "<g id=\"node7\" class=\"node\"><title>7</title>\n",
       "<ellipse fill=\"none\" stroke=\"black\" cx=\"555\" cy=\"-386\" rx=\"160.526\" ry=\"26.7407\"/>\n",
       "<text text-anchor=\"middle\" x=\"555\" y=\"-389.8\" font-family=\"Times,serif\" font-size=\"14.00\">stream: pop.h.ecosys.nyear1 </text>\n",
       "<text text-anchor=\"middle\" x=\"555\" y=\"-374.8\" font-family=\"Times,serif\" font-size=\"14.00\"> frequency: year_1</text>\n",
       "</g>\n",
       "<!-- 4&#45;&gt;7 -->\n",
       "<g id=\"edge6\" class=\"edge\"><title>4&#45;&gt;7</title>\n",
       "<path fill=\"none\" stroke=\"black\" d=\"M356.575,-386C364.567,-386 373.988,-386 384.307,-386\"/>\n",
       "<polygon fill=\"black\" stroke=\"black\" points=\"384.459,-389.5 394.459,-386 384.459,-382.5 384.459,-389.5\"/>\n",
       "</g>\n",
       "<!-- 8 -->\n",
       "<g id=\"node8\" class=\"node\"><title>8</title>\n",
       "<ellipse fill=\"none\" stroke=\"black\" cx=\"555\" cy=\"-314\" rx=\"96.3333\" ry=\"26.7407\"/>\n",
       "<text text-anchor=\"middle\" x=\"555\" y=\"-317.8\" font-family=\"Times,serif\" font-size=\"14.00\">stream: pop.h </text>\n",
       "<text text-anchor=\"middle\" x=\"555\" y=\"-302.8\" font-family=\"Times,serif\" font-size=\"14.00\"> frequency: once</text>\n",
       "</g>\n",
       "<!-- 4&#45;&gt;8 -->\n",
       "<g id=\"edge7\" class=\"edge\"><title>4&#45;&gt;8</title>\n",
       "<path fill=\"none\" stroke=\"black\" d=\"M348.887,-373.439C361.266,-365.704 378.054,-356.127 394,-350 415.531,-341.727 439.458,-335.085 462.108,-329.87\"/>\n",
       "<polygon fill=\"black\" stroke=\"black\" points=\"463.069,-333.241 472.067,-327.648 461.545,-326.409 463.069,-333.241\"/>\n",
       "</g>\n",
       "<!-- 10 -->\n",
       "<g id=\"node10\" class=\"node\"><title>10</title>\n",
       "<ellipse fill=\"none\" stroke=\"black\" cx=\"555\" cy=\"-242\" rx=\"115.931\" ry=\"26.7407\"/>\n",
       "<text text-anchor=\"middle\" x=\"555\" y=\"-245.8\" font-family=\"Times,serif\" font-size=\"14.00\">stream: clm2.h0 </text>\n",
       "<text text-anchor=\"middle\" x=\"555\" y=\"-230.8\" font-family=\"Times,serif\" font-size=\"14.00\"> frequency: month_1</text>\n",
       "</g>\n",
       "<!-- 9&#45;&gt;10 -->\n",
       "<g id=\"edge9\" class=\"edge\"><title>9&#45;&gt;10</title>\n",
       "<path fill=\"none\" stroke=\"black\" d=\"M356.134,-234.05C375.129,-234.813 402.36,-235.907 430.568,-237.041\"/>\n",
       "<polygon fill=\"black\" stroke=\"black\" points=\"430.442,-240.538 440.575,-237.443 430.723,-233.544 430.442,-240.538\"/>\n",
       "</g>\n",
       "<!-- 12 -->\n",
       "<g id=\"node12\" class=\"node\"><title>12</title>\n",
       "<ellipse fill=\"none\" stroke=\"black\" cx=\"555\" cy=\"-170\" rx=\"106.132\" ry=\"26.7407\"/>\n",
       "<text text-anchor=\"middle\" x=\"555\" y=\"-173.8\" font-family=\"Times,serif\" font-size=\"14.00\">stream: cism.h </text>\n",
       "<text text-anchor=\"middle\" x=\"555\" y=\"-158.8\" font-family=\"Times,serif\" font-size=\"14.00\"> frequency: year_1</text>\n",
       "</g>\n",
       "<!-- 11&#45;&gt;12 -->\n",
       "<g id=\"edge11\" class=\"edge\"><title>11&#45;&gt;12</title>\n",
       "<path fill=\"none\" stroke=\"black\" d=\"M356.134,-173.533C377.014,-173.16 407.843,-172.61 438.984,-172.054\"/>\n",
       "<polygon fill=\"black\" stroke=\"black\" points=\"439.158,-175.551 449.093,-171.873 439.032,-168.553 439.158,-175.551\"/>\n",
       "</g>\n",
       "<!-- 14 -->\n",
       "<g id=\"node14\" class=\"node\"><title>14</title>\n",
       "<ellipse fill=\"none\" stroke=\"black\" cx=\"555\" cy=\"-98\" rx=\"115.931\" ry=\"26.7407\"/>\n",
       "<text text-anchor=\"middle\" x=\"555\" y=\"-101.8\" font-family=\"Times,serif\" font-size=\"14.00\">stream: mosart.h0 </text>\n",
       "<text text-anchor=\"middle\" x=\"555\" y=\"-86.8\" font-family=\"Times,serif\" font-size=\"14.00\"> frequency: month_1</text>\n",
       "</g>\n",
       "<!-- 13&#45;&gt;14 -->\n",
       "<g id=\"edge13\" class=\"edge\"><title>13&#45;&gt;14</title>\n",
       "<path fill=\"none\" stroke=\"black\" d=\"M356.134,-109.483C375.491,-108.36 403.399,-106.74 432.179,-105.07\"/>\n",
       "<polygon fill=\"black\" stroke=\"black\" points=\"432.602,-108.551 442.383,-104.478 432.197,-101.563 432.602,-108.551\"/>\n",
       "</g>\n",
       "<!-- 16 -->\n",
       "<g id=\"node16\" class=\"node\"><title>16</title>\n",
       "<ellipse fill=\"none\" stroke=\"black\" cx=\"555\" cy=\"-26\" rx=\"115.931\" ry=\"26.7407\"/>\n",
       "<text text-anchor=\"middle\" x=\"555\" y=\"-29.8\" font-family=\"Times,serif\" font-size=\"14.00\">stream: cice.h </text>\n",
       "<text text-anchor=\"middle\" x=\"555\" y=\"-14.8\" font-family=\"Times,serif\" font-size=\"14.00\"> frequency: month_1</text>\n",
       "</g>\n",
       "<!-- 15&#45;&gt;16 -->\n",
       "<g id=\"edge15\" class=\"edge\"><title>15&#45;&gt;16</title>\n",
       "<path fill=\"none\" stroke=\"black\" d=\"M356.134,-37.4833C375.491,-36.3599 403.399,-34.7402 432.179,-33.07\"/>\n",
       "<polygon fill=\"black\" stroke=\"black\" points=\"432.602,-36.5514 442.383,-32.4778 432.197,-29.5631 432.602,-36.5514\"/>\n",
       "</g>\n",
       "</g>\n",
       "</svg>\n"
      ],
      "text/plain": [
       "<graphviz.dot.Digraph at 0x2b5980844d90>"
      ]
     },
     "execution_count": 12,
     "metadata": {},
     "output_type": "execute_result"
    }
   ],
   "source": [
    "dot"
   ]
  },
  {
   "cell_type": "markdown",
   "metadata": {},
   "source": [
    "### Save the Visualization\n",
    "In the block of code above, we specified `dot.format = 'pdf'` which will ensure that when we save the graph, it is in PDF format. Other options include (but not limited to) `svg` and `png`!\n",
    "\n",
    "The `Diagraph` method for saving is `.render()` with the filename in the argument (within the parentheses)"
   ]
  },
  {
   "cell_type": "code",
   "execution_count": 13,
   "metadata": {},
   "outputs": [
    {
     "data": {
      "text/plain": [
       "'cesm_test_catalog.pdf'"
      ]
     },
     "execution_count": 13,
     "metadata": {},
     "output_type": "execute_result"
    }
   ],
   "source": [
    "dot.render('cesm_test_catalog')"
   ]
  },
  {
   "cell_type": "markdown",
   "metadata": {},
   "source": [
    "This saved a file within your directory called `cesm_test_catalog.pdf`! You can double click this within your file browser to take a look"
   ]
  },
  {
   "cell_type": "markdown",
   "metadata": {},
   "source": [
    "## Add Jupyterbook files\n",
    "If you are curious about [Jupyterbook](https://jupyterbook.org/intro.html), be sure to checkout their [official documentation](https://jupyterbook.org/intro.html), specifically their [building your first book](https://jupyterbook.org/start/your-first-book.html) tutorial!\n",
    "\n",
    "The main two files we need now are\n",
    "* The table of contents (`_toc.yml`)\n",
    "* The config file (`_config.yml`)\n",
    "\n",
    "Go ahead and create text files with your docs directory using those identical filenames"
   ]
  },
  {
   "cell_type": "markdown",
   "metadata": {},
   "source": [
    "### Download a sample CESM logo\n",
    "I copied over a copy of the CESM logo to Github, which can be downloaded using the following (be sure to save to an an `image` directory in `docs`\n",
    "\n",
    "```bash\n",
    "wget https://raw.githubusercontent.com/mgrover1/cesm-workflow/main/images/cesm.jpg\n",
    "```"
   ]
  },
  {
   "cell_type": "markdown",
   "metadata": {},
   "source": [
    "### Adding to your Config (`_config.yml`) file\n",
    "Within your `_config.yml` file, input the following\n",
    "\n",
    "```bash\n",
    "title: \"CESM Test Data\"\n",
    "logo: images/cesm.jpg\n",
    "execute:\n",
    "  execute_notebooks: \"off\"\n",
    "```"
   ]
  },
  {
   "cell_type": "markdown",
   "metadata": {},
   "source": [
    "### Add to your Table of Contents (`_toc.yml`) file\n",
    "\n",
    "This is where you place your content - in this case, the `model_documentation.ipynb` notebook. Jupyterbook does not require you specify the file type here - so leave off the `.ipynb`\n",
    "```bash\n",
    "- file: model_documentation\n",
    "```"
   ]
  },
  {
   "cell_type": "markdown",
   "metadata": {},
   "source": [
    "## Build your Book!\n",
    "Now that you have your content, config file, and table of contents, it's time to build the book. Make sure you are in your repository root directory, and run the following\n",
    "```bash\n",
    "jupyter-book build docs\n",
    "```\n",
    "\n",
    "If it built correctly, you should see the following\n",
    "```\n",
    "===============================================================================\n",
    "\n",
    "Finished generating HTML for book.\n",
    "Your book's HTML pages are here:\n",
    "    docs/_build/html/\n",
    "You can look at your book by opening this file in a browser:\n",
    "    docs/_build/html/index.html\n",
    "Or paste this line directly into your browser bar:\n",
    "    file:///glade/work/mgrover/git_repos/cesm-test-data/docs/_build/html/index.html            \n",
    "\n",
    "===============================================================================\n",
    "```\n",
    "\n",
    "## View the Book on Github\n",
    "It can be difficult to view the book on the Jupyterhub, but fortunately we can use Github for publishing this online!\n",
    "\n",
    "The [Jupyterbook publish your book online](https://jupyterbook.org/start/publish.html) docs are helpful here, so we use the second part here [describing using Github Pages](https://jupyterbook.org/start/publish.html#publish-your-book-online-with-github-pages)\n",
    "\n",
    "### Install Github Pages Import\n",
    "\n",
    "If you have not done so already, install the following\n",
    "\n",
    "```bash\n",
    "pip install ghp-import\n",
    "```\n",
    "\n",
    "### Build the book and push to your Github Pages branch\n",
    "\n",
    "Move to your docs directory again, and run the following (after building your book)\n",
    "\n",
    "```bash\n",
    "ghp-import -n -p -f _build/html\n",
    "```\n",
    "\n",
    "### Rebuilding your book\n",
    "If you make changes to your notebook or want to rebuild your book, run the following within your project root directory\n",
    "```bash\n",
    "jupyter-book build docs\n",
    "```\n",
    "\n",
    "and this within your `docs` directory\n",
    "```bash\n",
    "ghp-import -n -p -f _build/html\n",
    "```"
   ]
  },
  {
   "cell_type": "markdown",
   "metadata": {},
   "source": [
    "## Go checkout your book!\n",
    "Your book will be published along the following url structure\n",
    "\n",
    "\n",
    "`{github_username}.github.io/{repository_name}`\n",
    "\n",
    "For this example, the book can be found here\n",
    "\n",
    "[**https://mgrover1.github.io/cesm-test-data/**](https://mgrover1.github.io/cesm-test-data/)"
   ]
  },
  {
   "cell_type": "markdown",
   "metadata": {},
   "source": [
    "## Conclusion\n",
    "This was a fairly in-depth post which covered content from previous [ESDS blog posts](https://ncar.github.io/esds/blog/), but I hope this provides a starting point for documentation your data, visualizing the data available, and sharing your data documentation with others!"
   ]
  }
 ],
 "metadata": {
  "author": "Max Grover",
  "date": "2021-06-25",
  "kernelspec": {
   "display_name": "Python 3",
   "language": "python",
   "name": "python3"
  },
  "language_info": {
   "codemirror_mode": {
    "name": "ipython",
    "version": 3
   },
   "file_extension": ".py",
   "mimetype": "text/x-python",
   "name": "python",
   "nbconvert_exporter": "python",
   "pygments_lexer": "ipython3",
   "version": "3.9.4"
  },
  "tags": "jupyter,cesm,intake,documentation",
  "title": "Creating Model Documentation Using Jupyterbook and Intake-esm"
 },
 "nbformat": 4,
 "nbformat_minor": 4
}
