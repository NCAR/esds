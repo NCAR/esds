{
 "cells": [
  {
   "cell_type": "markdown",
   "id": "bfd9cb30-4482-4695-ab80-63b2d2536cf2",
   "metadata": {},
   "source": [
    "# Benchmarking Performance of History vs. Timeseries Files with [`ecgtools`](https://ecgtools.readthedocs.io/en/latest/), [`Intake-ESM`](https://intake-esm.readthedocs.io/en/latest/), and [`Dask`](https://dask.org/)\n",
    "\n",
    "In this example, we will walk through \"benchmarking\" performance of reading, apply calculations, and visualizing data from the Community Earth System Model (CESM), using the following packages:\n",
    "* [`ecgtools`](https://ecgtools.readthedocs.io/en/latest/)\n",
    "* [`Intake-ESM`](https://intake-esm.readthedocs.io/en/latest/)\n",
    "* [`Dask`](https://dask.org/)\n",
    "\n",
    "Going into this analysis, we have a ***hypothesis*** that performance should be substantially better when reading from timeseries files, but let's take a look...\n",
    "\n",
    "One thing to note is that during the process of writing this, I continually upped the amount of computational resources requested for the cluster"
   ]
  },
  {
   "cell_type": "markdown",
   "id": "7511948a-7fe1-4bc6-880a-735599ef05b1",
   "metadata": {},
   "source": [
    "## Imports"
   ]
  },
  {
   "cell_type": "markdown",
   "id": "3073144b-bd77-4775-89b1-3ccbb9bebecd",
   "metadata": {},
   "source": [
    "### Installing packages via `conda-forge`\n",
    "\n",
    "As of this week, [`ecgtools`](https://ecgtools.readthedocs.io/en/latest/) is available via `conda-forge`, which is very exciting! You can install the packages used here using the following:\n",
    "\n",
    "```bash\n",
    "conda install -c conda-forge ecgtools ncar-jobqueue distributed intake-esm pandas\n",
    "```\n",
    "\n",
    "We will also install [`hvPlot`](https://hvplot.holoviz.org/index.html#) to help with visualization, installing from the `pyviz` channel!\n",
    "\n",
    "```bash\n",
    "conda install -c pyviz hvplot\n",
    "```"
   ]
  },
  {
   "cell_type": "code",
   "execution_count": 2,
   "id": "66fe2b0c-5d78-4b27-ac77-a1a5de1a056d",
   "metadata": {},
   "outputs": [],
   "source": [
    "import ast\n",
    "import time\n",
    "\n",
    "import hvplot\n",
    "import hvplot.pandas\n",
    "import intake\n",
    "import pandas as pd\n",
    "from dask.distributed import performance_report\n",
    "from distributed import Client\n",
    "from ecgtools import Builder\n",
    "from ecgtools.parsers.cesm import parse_cesm_history, parse_cesm_timeseries\n",
    "from ncar_jobqueue import NCARCluster"
   ]
  },
  {
   "cell_type": "markdown",
   "id": "3ba985ea-8428-4098-b455-71306957963f",
   "metadata": {
    "tags": []
   },
   "source": [
    "## Build the Catalogs\n",
    "\n",
    "Something to keep in mind here is that [`ecgtools`](https://ecgtools.readthedocs.io/en/latest/)'s builder parallelizes across the number of cores you have available; so ideally, for this section of the notebook, you will want to use more than a single core, up to however many you see fit."
   ]
  },
  {
   "cell_type": "markdown",
   "id": "35aa32b1-4edf-4e1b-9940-9e3ef603b092",
   "metadata": {},
   "source": [
    "### Build the History File Catalog"
   ]
  },
  {
   "cell_type": "code",
   "execution_count": 4,
   "id": "1e77b174-e386-41fb-a31a-b10879ba8368",
   "metadata": {},
   "outputs": [],
   "source": [
    "cesm_history_builder = Builder(\n",
    "    \"/glade/campaign/cesm/development/espwg/SMYLE/initial_conditions/SMYLE-FOSI\",\n",
    "    exclude_patterns=[\"*/rest/*\", \"*/logs/*\", \"*/proc/*\"],\n",
    ")"
   ]
  },
  {
   "cell_type": "markdown",
   "id": "f5d2feb8-d4e4-4290-a97b-b0a2492dd2ae",
   "metadata": {},
   "source": [
    "### Build the catalog using the `parse_cesm_history` parser"
   ]
  },
  {
   "cell_type": "code",
   "execution_count": 7,
   "id": "8f8a7301-cf7c-4810-a2c5-21deb3a4fb5d",
   "metadata": {},
   "outputs": [
    {
     "name": "stderr",
     "output_type": "stream",
     "text": [
      "[Parallel(n_jobs=-1)]: Using backend LokyBackend with 40 concurrent workers.\n",
      "[Parallel(n_jobs=-1)]: Done   2 out of   4 | elapsed:    1.2s remaining:    1.2s\n",
      "[Parallel(n_jobs=-1)]: Done   4 out of   4 | elapsed:    1.4s remaining:    0.0s\n",
      "[Parallel(n_jobs=-1)]: Done   4 out of   4 | elapsed:    1.4s finished\n",
      "[Parallel(n_jobs=-1)]: Using backend LokyBackend with 40 concurrent workers.\n",
      "[Parallel(n_jobs=-1)]: Done  82 tasks      | elapsed:    5.1s\n",
      "[Parallel(n_jobs=-1)]: Done 208 tasks      | elapsed:    5.6s\n",
      "[Parallel(n_jobs=-1)]: Done 370 tasks      | elapsed:    6.3s\n",
      "[Parallel(n_jobs=-1)]: Done 568 tasks      | elapsed:    7.1s\n",
      "[Parallel(n_jobs=-1)]: Done 802 tasks      | elapsed:    7.9s\n",
      "[Parallel(n_jobs=-1)]: Done 1072 tasks      | elapsed:    8.9s\n",
      "[Parallel(n_jobs=-1)]: Done 1378 tasks      | elapsed:   10.0s\n",
      "[Parallel(n_jobs=-1)]: Done 1720 tasks      | elapsed:   11.2s\n",
      "[Parallel(n_jobs=-1)]: Done 2098 tasks      | elapsed:   12.5s\n",
      "[Parallel(n_jobs=-1)]: Done 2512 tasks      | elapsed:   14.1s\n",
      "[Parallel(n_jobs=-1)]: Done 2962 tasks      | elapsed:   15.8s\n",
      "[Parallel(n_jobs=-1)]: Done 3448 tasks      | elapsed:   17.7s\n",
      "[Parallel(n_jobs=-1)]: Done 3970 tasks      | elapsed:   19.6s\n",
      "[Parallel(n_jobs=-1)]: Done 4528 tasks      | elapsed:   23.5s\n",
      "[Parallel(n_jobs=-1)]: Done 5122 tasks      | elapsed:   34.1s\n",
      "[Parallel(n_jobs=-1)]: Done 5752 tasks      | elapsed:   51.7s\n",
      "[Parallel(n_jobs=-1)]: Done 6015 out of 6015 | elapsed:   56.9s finished\n"
     ]
    },
    {
     "data": {
      "text/plain": [
       "Builder(root_path=PosixPath('/glade/campaign/cesm/development/espwg/SMYLE/initial_conditions/SMYLE-FOSI'), extension='.nc', depth=0, exclude_patterns=['*/rest/*', '*/logs/*', '*/proc/*'], njobs=-1)"
      ]
     },
     "execution_count": 7,
     "metadata": {},
     "output_type": "execute_result"
    }
   ],
   "source": [
    "cesm_history_builder.build(parse_cesm_history)"
   ]
  },
  {
   "cell_type": "code",
   "execution_count": 8,
   "id": "06e289c0-9896-45d7-a204-929bf4e1ad0f",
   "metadata": {},
   "outputs": [
    {
     "data": {
      "text/html": [
       "<div>\n",
       "<style scoped>\n",
       "    .dataframe tbody tr th:only-of-type {\n",
       "        vertical-align: middle;\n",
       "    }\n",
       "\n",
       "    .dataframe tbody tr th {\n",
       "        vertical-align: top;\n",
       "    }\n",
       "\n",
       "    .dataframe thead th {\n",
       "        text-align: right;\n",
       "    }\n",
       "</style>\n",
       "<table border=\"1\" class=\"dataframe\">\n",
       "  <thead>\n",
       "    <tr style=\"text-align: right;\">\n",
       "      <th></th>\n",
       "      <th>component</th>\n",
       "      <th>stream</th>\n",
       "      <th>date</th>\n",
       "      <th>case</th>\n",
       "      <th>member_id</th>\n",
       "      <th>frequency</th>\n",
       "      <th>variables</th>\n",
       "      <th>path</th>\n",
       "    </tr>\n",
       "  </thead>\n",
       "  <tbody>\n",
       "    <tr>\n",
       "      <th>0</th>\n",
       "      <td>ice</td>\n",
       "      <td>cice.h</td>\n",
       "      <td>0001-01</td>\n",
       "      <td>g.e22.GOMIPECOIAF_JRA-1p4-2018.TL319_g17.SMYLE...</td>\n",
       "      <td>005</td>\n",
       "      <td>month_1</td>\n",
       "      <td>[hi, hs, snowfrac, Tsfc, aice, uvel, vvel, uat...</td>\n",
       "      <td>/glade/campaign/cesm/development/espwg/SMYLE/i...</td>\n",
       "    </tr>\n",
       "    <tr>\n",
       "      <th>1</th>\n",
       "      <td>ice</td>\n",
       "      <td>cice.h</td>\n",
       "      <td>0001-02</td>\n",
       "      <td>g.e22.GOMIPECOIAF_JRA-1p4-2018.TL319_g17.SMYLE...</td>\n",
       "      <td>005</td>\n",
       "      <td>month_1</td>\n",
       "      <td>[hi, hs, snowfrac, Tsfc, aice, uvel, vvel, uat...</td>\n",
       "      <td>/glade/campaign/cesm/development/espwg/SMYLE/i...</td>\n",
       "    </tr>\n",
       "    <tr>\n",
       "      <th>2</th>\n",
       "      <td>ice</td>\n",
       "      <td>cice.h</td>\n",
       "      <td>0001-03</td>\n",
       "      <td>g.e22.GOMIPECOIAF_JRA-1p4-2018.TL319_g17.SMYLE...</td>\n",
       "      <td>005</td>\n",
       "      <td>month_1</td>\n",
       "      <td>[hi, hs, snowfrac, Tsfc, aice, uvel, vvel, uat...</td>\n",
       "      <td>/glade/campaign/cesm/development/espwg/SMYLE/i...</td>\n",
       "    </tr>\n",
       "    <tr>\n",
       "      <th>3</th>\n",
       "      <td>ice</td>\n",
       "      <td>cice.h</td>\n",
       "      <td>0001-04</td>\n",
       "      <td>g.e22.GOMIPECOIAF_JRA-1p4-2018.TL319_g17.SMYLE...</td>\n",
       "      <td>005</td>\n",
       "      <td>month_1</td>\n",
       "      <td>[hi, hs, snowfrac, Tsfc, aice, uvel, vvel, uat...</td>\n",
       "      <td>/glade/campaign/cesm/development/espwg/SMYLE/i...</td>\n",
       "    </tr>\n",
       "    <tr>\n",
       "      <th>4</th>\n",
       "      <td>ice</td>\n",
       "      <td>cice.h</td>\n",
       "      <td>0001-05</td>\n",
       "      <td>g.e22.GOMIPECOIAF_JRA-1p4-2018.TL319_g17.SMYLE...</td>\n",
       "      <td>005</td>\n",
       "      <td>month_1</td>\n",
       "      <td>[hi, hs, snowfrac, Tsfc, aice, uvel, vvel, uat...</td>\n",
       "      <td>/glade/campaign/cesm/development/espwg/SMYLE/i...</td>\n",
       "    </tr>\n",
       "    <tr>\n",
       "      <th>...</th>\n",
       "      <td>...</td>\n",
       "      <td>...</td>\n",
       "      <td>...</td>\n",
       "      <td>...</td>\n",
       "      <td>...</td>\n",
       "      <td>...</td>\n",
       "      <td>...</td>\n",
       "      <td>...</td>\n",
       "    </tr>\n",
       "    <tr>\n",
       "      <th>6010</th>\n",
       "      <td>ocn</td>\n",
       "      <td>pop.h.nday1</td>\n",
       "      <td>0368-08-01</td>\n",
       "      <td>g.e22.GOMIPECOIAF_JRA-1p4-2018.TL319_g17.SMYLE...</td>\n",
       "      <td>005</td>\n",
       "      <td>day_1</td>\n",
       "      <td>[SST, SST2, SSS, HMXL_DR_2, XMXL_2]</td>\n",
       "      <td>/glade/campaign/cesm/development/espwg/SMYLE/i...</td>\n",
       "    </tr>\n",
       "    <tr>\n",
       "      <th>6011</th>\n",
       "      <td>ocn</td>\n",
       "      <td>pop.h.nday1</td>\n",
       "      <td>0368-09-01</td>\n",
       "      <td>g.e22.GOMIPECOIAF_JRA-1p4-2018.TL319_g17.SMYLE...</td>\n",
       "      <td>005</td>\n",
       "      <td>day_1</td>\n",
       "      <td>[SST, SST2, SSS, HMXL_DR_2, XMXL_2]</td>\n",
       "      <td>/glade/campaign/cesm/development/espwg/SMYLE/i...</td>\n",
       "    </tr>\n",
       "    <tr>\n",
       "      <th>6012</th>\n",
       "      <td>ocn</td>\n",
       "      <td>pop.h.nday1</td>\n",
       "      <td>0368-10-01</td>\n",
       "      <td>g.e22.GOMIPECOIAF_JRA-1p4-2018.TL319_g17.SMYLE...</td>\n",
       "      <td>005</td>\n",
       "      <td>day_1</td>\n",
       "      <td>[SST, SST2, SSS, HMXL_DR_2, XMXL_2]</td>\n",
       "      <td>/glade/campaign/cesm/development/espwg/SMYLE/i...</td>\n",
       "    </tr>\n",
       "    <tr>\n",
       "      <th>6013</th>\n",
       "      <td>ocn</td>\n",
       "      <td>pop.h.nday1</td>\n",
       "      <td>0368-11-01</td>\n",
       "      <td>g.e22.GOMIPECOIAF_JRA-1p4-2018.TL319_g17.SMYLE...</td>\n",
       "      <td>005</td>\n",
       "      <td>day_1</td>\n",
       "      <td>[SST, SST2, SSS, HMXL_DR_2, XMXL_2]</td>\n",
       "      <td>/glade/campaign/cesm/development/espwg/SMYLE/i...</td>\n",
       "    </tr>\n",
       "    <tr>\n",
       "      <th>6014</th>\n",
       "      <td>ocn</td>\n",
       "      <td>pop.h.nday1</td>\n",
       "      <td>0368-12-01</td>\n",
       "      <td>g.e22.GOMIPECOIAF_JRA-1p4-2018.TL319_g17.SMYLE...</td>\n",
       "      <td>005</td>\n",
       "      <td>day_1</td>\n",
       "      <td>[SST, SST2, SSS, HMXL_DR_2, XMXL_2]</td>\n",
       "      <td>/glade/campaign/cesm/development/espwg/SMYLE/i...</td>\n",
       "    </tr>\n",
       "  </tbody>\n",
       "</table>\n",
       "<p>6015 rows × 8 columns</p>\n",
       "</div>"
      ],
      "text/plain": [
       "     component       stream        date  \\\n",
       "0          ice       cice.h     0001-01   \n",
       "1          ice       cice.h     0001-02   \n",
       "2          ice       cice.h     0001-03   \n",
       "3          ice       cice.h     0001-04   \n",
       "4          ice       cice.h     0001-05   \n",
       "...        ...          ...         ...   \n",
       "6010       ocn  pop.h.nday1  0368-08-01   \n",
       "6011       ocn  pop.h.nday1  0368-09-01   \n",
       "6012       ocn  pop.h.nday1  0368-10-01   \n",
       "6013       ocn  pop.h.nday1  0368-11-01   \n",
       "6014       ocn  pop.h.nday1  0368-12-01   \n",
       "\n",
       "                                                   case member_id frequency  \\\n",
       "0     g.e22.GOMIPECOIAF_JRA-1p4-2018.TL319_g17.SMYLE...       005   month_1   \n",
       "1     g.e22.GOMIPECOIAF_JRA-1p4-2018.TL319_g17.SMYLE...       005   month_1   \n",
       "2     g.e22.GOMIPECOIAF_JRA-1p4-2018.TL319_g17.SMYLE...       005   month_1   \n",
       "3     g.e22.GOMIPECOIAF_JRA-1p4-2018.TL319_g17.SMYLE...       005   month_1   \n",
       "4     g.e22.GOMIPECOIAF_JRA-1p4-2018.TL319_g17.SMYLE...       005   month_1   \n",
       "...                                                 ...       ...       ...   \n",
       "6010  g.e22.GOMIPECOIAF_JRA-1p4-2018.TL319_g17.SMYLE...       005     day_1   \n",
       "6011  g.e22.GOMIPECOIAF_JRA-1p4-2018.TL319_g17.SMYLE...       005     day_1   \n",
       "6012  g.e22.GOMIPECOIAF_JRA-1p4-2018.TL319_g17.SMYLE...       005     day_1   \n",
       "6013  g.e22.GOMIPECOIAF_JRA-1p4-2018.TL319_g17.SMYLE...       005     day_1   \n",
       "6014  g.e22.GOMIPECOIAF_JRA-1p4-2018.TL319_g17.SMYLE...       005     day_1   \n",
       "\n",
       "                                              variables  \\\n",
       "0     [hi, hs, snowfrac, Tsfc, aice, uvel, vvel, uat...   \n",
       "1     [hi, hs, snowfrac, Tsfc, aice, uvel, vvel, uat...   \n",
       "2     [hi, hs, snowfrac, Tsfc, aice, uvel, vvel, uat...   \n",
       "3     [hi, hs, snowfrac, Tsfc, aice, uvel, vvel, uat...   \n",
       "4     [hi, hs, snowfrac, Tsfc, aice, uvel, vvel, uat...   \n",
       "...                                                 ...   \n",
       "6010                [SST, SST2, SSS, HMXL_DR_2, XMXL_2]   \n",
       "6011                [SST, SST2, SSS, HMXL_DR_2, XMXL_2]   \n",
       "6012                [SST, SST2, SSS, HMXL_DR_2, XMXL_2]   \n",
       "6013                [SST, SST2, SSS, HMXL_DR_2, XMXL_2]   \n",
       "6014                [SST, SST2, SSS, HMXL_DR_2, XMXL_2]   \n",
       "\n",
       "                                                   path  \n",
       "0     /glade/campaign/cesm/development/espwg/SMYLE/i...  \n",
       "1     /glade/campaign/cesm/development/espwg/SMYLE/i...  \n",
       "2     /glade/campaign/cesm/development/espwg/SMYLE/i...  \n",
       "3     /glade/campaign/cesm/development/espwg/SMYLE/i...  \n",
       "4     /glade/campaign/cesm/development/espwg/SMYLE/i...  \n",
       "...                                                 ...  \n",
       "6010  /glade/campaign/cesm/development/espwg/SMYLE/i...  \n",
       "6011  /glade/campaign/cesm/development/espwg/SMYLE/i...  \n",
       "6012  /glade/campaign/cesm/development/espwg/SMYLE/i...  \n",
       "6013  /glade/campaign/cesm/development/espwg/SMYLE/i...  \n",
       "6014  /glade/campaign/cesm/development/espwg/SMYLE/i...  \n",
       "\n",
       "[6015 rows x 8 columns]"
      ]
     },
     "execution_count": 8,
     "metadata": {},
     "output_type": "execute_result"
    }
   ],
   "source": [
    "cesm_history_builder.df"
   ]
  },
  {
   "cell_type": "markdown",
   "id": "39c88e4b-564c-4201-8b45-cc969781c7e0",
   "metadata": {},
   "source": [
    "### Save the catalog locally"
   ]
  },
  {
   "cell_type": "code",
   "execution_count": 9,
   "id": "32327e69-767e-4ea5-949d-a4d670827974",
   "metadata": {},
   "outputs": [
    {
     "name": "stdout",
     "output_type": "stream",
     "text": [
      "Saved catalog location: cesm-hist-smyle-fosi.json and cesm-hist-smyle-fosi.csv\n"
     ]
    }
   ],
   "source": [
    "cesm_history_builder.save(\n",
    "    # File path - could save as .csv (uncompressed csv) or .csv.gz (compressed csv)\n",
    "    \"cesm-hist-smyle-fosi.csv\",\n",
    "    # Column name including filepath\n",
    "    path_column_name='path',\n",
    "    # Column name including variables\n",
    "    variable_column_name='variables',\n",
    "    # Data file format - could be netcdf or zarr (in this case, netcdf)\n",
    "    data_format=\"netcdf\",\n",
    "    # Which attributes to groupby when reading in variables using intake-esm\n",
    "    groupby_attrs=[\"component\", \"stream\", \"case\"],\n",
    "    # Aggregations which are fed into xarray when reading in data using intake\n",
    "    aggregations=[\n",
    "        {\n",
    "            \"type\": \"join_existing\",\n",
    "            \"attribute_name\": \"date\",\n",
    "            \"options\": {\"dim\": \"time\", \"coords\": \"minimal\", \"compat\": \"override\"},\n",
    "        }\n",
    "    ],\n",
    ")"
   ]
  },
  {
   "cell_type": "markdown",
   "id": "71f9d7c7-c3ad-4695-bed5-aaa2c89d6aab",
   "metadata": {},
   "source": [
    "## Build the Timeseries Catalog"
   ]
  },
  {
   "cell_type": "code",
   "execution_count": 10,
   "id": "950de68a-f7a1-4fd2-bb86-c8af10d2d774",
   "metadata": {},
   "outputs": [],
   "source": [
    "cesm_timeseries_builder = Builder(\n",
    "    \"/glade/campaign/cesm/development/espwg/SMYLE/initial_conditions/SMYLE-FOSI\",\n",
    "    exclude_patterns=[\"*/rest/*\", \"*/logs/*\", \"*/hist/*\"],\n",
    ")"
   ]
  },
  {
   "cell_type": "markdown",
   "id": "04b2ce8d-2b5e-444a-8c6c-b346be797df2",
   "metadata": {},
   "source": [
    "### Build the catalog using the `parse_cesm_timeseries` parser"
   ]
  },
  {
   "cell_type": "code",
   "execution_count": 11,
   "id": "a5baa36d-6f73-4998-82cd-d09ba3924a29",
   "metadata": {},
   "outputs": [
    {
     "name": "stderr",
     "output_type": "stream",
     "text": [
      "[Parallel(n_jobs=-1)]: Using backend LokyBackend with 40 concurrent workers.\n",
      "[Parallel(n_jobs=-1)]: Done   2 out of   4 | elapsed:    0.1s remaining:    0.1s\n",
      "[Parallel(n_jobs=-1)]: Done   4 out of   4 | elapsed:    0.3s remaining:    0.0s\n",
      "[Parallel(n_jobs=-1)]: Done   4 out of   4 | elapsed:    0.3s finished\n",
      "[Parallel(n_jobs=-1)]: Using backend LokyBackend with 40 concurrent workers.\n",
      "[Parallel(n_jobs=-1)]: Done  84 tasks      | elapsed:    0.3s\n",
      "[Parallel(n_jobs=-1)]: Done 336 tasks      | elapsed:    1.5s\n",
      "[Parallel(n_jobs=-1)]: Done 545 out of 624 | elapsed:    2.4s remaining:    0.3s\n",
      "[Parallel(n_jobs=-1)]: Done 624 out of 624 | elapsed:    2.6s finished\n",
      "/glade/work/mgrover/git_repos/ecgtools/ecgtools/builder.py:179: UserWarning: Unable to parse 45 assets/files. A list of these assets can be found in `.invalid_assets` attribute.\n",
      "  self.get_directories().get_filelist()._parse(\n"
     ]
    },
    {
     "data": {
      "text/plain": [
       "Builder(root_path=PosixPath('/glade/campaign/cesm/development/espwg/SMYLE/initial_conditions/SMYLE-FOSI'), extension='.nc', depth=0, exclude_patterns=['*/rest/*', '*/logs/*', '*/hist/*'], njobs=-1)"
      ]
     },
     "execution_count": 11,
     "metadata": {},
     "output_type": "execute_result"
    }
   ],
   "source": [
    "cesm_timeseries_builder.build(parse_cesm_timeseries)"
   ]
  },
  {
   "cell_type": "markdown",
   "id": "a9a7b63d-c1fc-446d-9281-50ac3291fd7d",
   "metadata": {},
   "source": [
    "### Save the catalog locally"
   ]
  },
  {
   "cell_type": "code",
   "execution_count": 13,
   "id": "f56e9910-f555-4595-8e05-c47a7aa99122",
   "metadata": {},
   "outputs": [
    {
     "name": "stdout",
     "output_type": "stream",
     "text": [
      "Saved catalog location: cesm-tseries-smyle-fosi.json and cesm-tseries-smyle-fosi.csv\n"
     ]
    },
    {
     "name": "stderr",
     "output_type": "stream",
     "text": [
      "/glade/scratch/mgrover/ipykernel_129934/2723049127.py:1: UserWarning: Unable to parse 45 assets/files. A list of these assets can be found in invalid_assets_cesm-tseries-smyle-fosi.csv.\n",
      "  cesm_timeseries_builder.save(\n"
     ]
    }
   ],
   "source": [
    "cesm_timeseries_builder.save(\n",
    "    # File path - could save as .csv (uncompressed csv) or .csv.gz (compressed csv)\n",
    "    \"cesm-tseries-smyle-fosi.csv\",\n",
    "    # Column name including filepath\n",
    "    path_column_name='path',\n",
    "    # Column name including variables\n",
    "    variable_column_name='variable',\n",
    "    # Data file format - could be netcdf or zarr (in this case, netcdf)\n",
    "    data_format=\"netcdf\",\n",
    "    # Which attributes to groupby when reading in variables using intake-esm\n",
    "    groupby_attrs=[\"component\", \"stream\", \"case\"],\n",
    "    # Aggregations which are fed into xarray when reading in data using intake\n",
    "    aggregations=[\n",
    "        {\"type\": \"union\", \"attribute_name\": \"variable\"},\n",
    "        {\n",
    "            \"type\": \"join_existing\",\n",
    "            \"attribute_name\": \"time_range\",\n",
    "            \"options\": {\"dim\": \"time\", \"coords\": \"minimal\", \"compat\": \"override\"},\n",
    "        },\n",
    "    ],\n",
    ")"
   ]
  },
  {
   "cell_type": "markdown",
   "id": "58b746dd-1092-4650-84a2-6b53721003b7",
   "metadata": {},
   "source": [
    "## Spin up a Dask Cluster"
   ]
  },
  {
   "cell_type": "code",
   "execution_count": 3,
   "id": "9b1885cf-f8a6-4f05-8303-eb35fdccaf46",
   "metadata": {},
   "outputs": [
    {
     "data": {
      "application/vnd.jupyter.widget-view+json": {
       "model_id": "a88598bc787641c0af3e3cc620282dc7",
       "version_major": 2,
       "version_minor": 0
      },
      "text/plain": [
       "Tab(children=(HTML(value='<div class=\"jp-RenderedHTMLCommon jp-RenderedHTML jp-mod-trusted jp-OutputArea-outpu…"
      ]
     },
     "metadata": {},
     "output_type": "display_data"
    }
   ],
   "source": [
    "cluster = NCARCluster(memory='25 GB', cores=1, walltime='06:00:00')\n",
    "cluster.scale(23)\n",
    "client = Client(cluster)\n",
    "cluster"
   ]
  },
  {
   "cell_type": "markdown",
   "id": "a273823d-87ec-4e07-badd-a35d420c7080",
   "metadata": {},
   "source": [
    "## Read the Catalogs Using Intake-ESM\n",
    "Here, we read the catalogs we just created in the previous section! Remember, there are numerous variables in a single file (row) for the history files, so we use `ast` to help parse those rows!"
   ]
  },
  {
   "cell_type": "code",
   "execution_count": 4,
   "id": "b7372206-6ae3-4c46-8790-380f069c9fdb",
   "metadata": {},
   "outputs": [
    {
     "data": {
      "text/html": [
       "<p><strong>None catalog with 5 dataset(s) from 6015 asset(s)</strong>:</p> <div>\n",
       "<style scoped>\n",
       "    .dataframe tbody tr th:only-of-type {\n",
       "        vertical-align: middle;\n",
       "    }\n",
       "\n",
       "    .dataframe tbody tr th {\n",
       "        vertical-align: top;\n",
       "    }\n",
       "\n",
       "    .dataframe thead th {\n",
       "        text-align: right;\n",
       "    }\n",
       "</style>\n",
       "<table border=\"1\" class=\"dataframe\">\n",
       "  <thead>\n",
       "    <tr style=\"text-align: right;\">\n",
       "      <th></th>\n",
       "      <th>unique</th>\n",
       "    </tr>\n",
       "  </thead>\n",
       "  <tbody>\n",
       "    <tr>\n",
       "      <th>component</th>\n",
       "      <td>2</td>\n",
       "    </tr>\n",
       "    <tr>\n",
       "      <th>stream</th>\n",
       "      <td>5</td>\n",
       "    </tr>\n",
       "    <tr>\n",
       "      <th>date</th>\n",
       "      <td>5235</td>\n",
       "    </tr>\n",
       "    <tr>\n",
       "      <th>case</th>\n",
       "      <td>1</td>\n",
       "    </tr>\n",
       "    <tr>\n",
       "      <th>member_id</th>\n",
       "      <td>1</td>\n",
       "    </tr>\n",
       "    <tr>\n",
       "      <th>frequency</th>\n",
       "      <td>3</td>\n",
       "    </tr>\n",
       "    <tr>\n",
       "      <th>variables</th>\n",
       "      <td>620</td>\n",
       "    </tr>\n",
       "    <tr>\n",
       "      <th>path</th>\n",
       "      <td>6015</td>\n",
       "    </tr>\n",
       "  </tbody>\n",
       "</table>\n",
       "</div>"
      ],
      "text/plain": [
       "<IPython.core.display.HTML object>"
      ]
     },
     "metadata": {},
     "output_type": "display_data"
    }
   ],
   "source": [
    "history_catalog = intake.open_esm_datastore(\n",
    "    'cesm-hist-smyle-fosi.json',\n",
    "    csv_kwargs={\"converters\": {\"variables\": ast.literal_eval}},\n",
    "    sep=\"/\",\n",
    ")\n",
    "history_catalog"
   ]
  },
  {
   "cell_type": "markdown",
   "id": "71e70916-639b-448f-87da-81978aee6c20",
   "metadata": {},
   "source": [
    "The timeseries file does not require any additional arguments 👌"
   ]
  },
  {
   "cell_type": "code",
   "execution_count": 5,
   "id": "f2d33dc2-6b10-42c7-b5f0-37c9b7857937",
   "metadata": {},
   "outputs": [
    {
     "data": {
      "text/html": [
       "<p><strong>None catalog with 4 dataset(s) from 579 asset(s)</strong>:</p> <div>\n",
       "<style scoped>\n",
       "    .dataframe tbody tr th:only-of-type {\n",
       "        vertical-align: middle;\n",
       "    }\n",
       "\n",
       "    .dataframe tbody tr th {\n",
       "        vertical-align: top;\n",
       "    }\n",
       "\n",
       "    .dataframe thead th {\n",
       "        text-align: right;\n",
       "    }\n",
       "</style>\n",
       "<table border=\"1\" class=\"dataframe\">\n",
       "  <thead>\n",
       "    <tr style=\"text-align: right;\">\n",
       "      <th></th>\n",
       "      <th>unique</th>\n",
       "    </tr>\n",
       "  </thead>\n",
       "  <tbody>\n",
       "    <tr>\n",
       "      <th>component</th>\n",
       "      <td>2</td>\n",
       "    </tr>\n",
       "    <tr>\n",
       "      <th>stream</th>\n",
       "      <td>4</td>\n",
       "    </tr>\n",
       "    <tr>\n",
       "      <th>case</th>\n",
       "      <td>1</td>\n",
       "    </tr>\n",
       "    <tr>\n",
       "      <th>member_id</th>\n",
       "      <td>1</td>\n",
       "    </tr>\n",
       "    <tr>\n",
       "      <th>variable</th>\n",
       "      <td>579</td>\n",
       "    </tr>\n",
       "    <tr>\n",
       "      <th>start_time</th>\n",
       "      <td>3</td>\n",
       "    </tr>\n",
       "    <tr>\n",
       "      <th>end_time</th>\n",
       "      <td>3</td>\n",
       "    </tr>\n",
       "    <tr>\n",
       "      <th>time_range</th>\n",
       "      <td>3</td>\n",
       "    </tr>\n",
       "    <tr>\n",
       "      <th>long_name</th>\n",
       "      <td>570</td>\n",
       "    </tr>\n",
       "    <tr>\n",
       "      <th>units</th>\n",
       "      <td>67</td>\n",
       "    </tr>\n",
       "    <tr>\n",
       "      <th>vertical_levels</th>\n",
       "      <td>1</td>\n",
       "    </tr>\n",
       "    <tr>\n",
       "      <th>frequency</th>\n",
       "      <td>3</td>\n",
       "    </tr>\n",
       "    <tr>\n",
       "      <th>path</th>\n",
       "      <td>579</td>\n",
       "    </tr>\n",
       "  </tbody>\n",
       "</table>\n",
       "</div>"
      ],
      "text/plain": [
       "<IPython.core.display.HTML object>"
      ]
     },
     "metadata": {},
     "output_type": "display_data"
    }
   ],
   "source": [
    "timeseries_catalog = intake.open_esm_datastore('cesm-tseries-smyle-fosi.json')\n",
    "timeseries_catalog"
   ]
  },
  {
   "cell_type": "markdown",
   "id": "9c3bddbc-aed0-41f6-9cad-8d02c23ff49e",
   "metadata": {},
   "source": [
    "### Search for Just Monthly Ocean Output\n",
    "We are only interested in monthly (`frequency='month_1'`) ocean (`component='ocn'`) output in this case"
   ]
  },
  {
   "cell_type": "code",
   "execution_count": 7,
   "id": "672bcfde-fcff-46c1-b2b6-0bd4f552d11e",
   "metadata": {},
   "outputs": [
    {
     "data": {
      "text/html": [
       "<p><strong>None catalog with 1 dataset(s) from 410 asset(s)</strong>:</p> <div>\n",
       "<style scoped>\n",
       "    .dataframe tbody tr th:only-of-type {\n",
       "        vertical-align: middle;\n",
       "    }\n",
       "\n",
       "    .dataframe tbody tr th {\n",
       "        vertical-align: top;\n",
       "    }\n",
       "\n",
       "    .dataframe thead th {\n",
       "        text-align: right;\n",
       "    }\n",
       "</style>\n",
       "<table border=\"1\" class=\"dataframe\">\n",
       "  <thead>\n",
       "    <tr style=\"text-align: right;\">\n",
       "      <th></th>\n",
       "      <th>unique</th>\n",
       "    </tr>\n",
       "  </thead>\n",
       "  <tbody>\n",
       "    <tr>\n",
       "      <th>component</th>\n",
       "      <td>1</td>\n",
       "    </tr>\n",
       "    <tr>\n",
       "      <th>stream</th>\n",
       "      <td>1</td>\n",
       "    </tr>\n",
       "    <tr>\n",
       "      <th>case</th>\n",
       "      <td>1</td>\n",
       "    </tr>\n",
       "    <tr>\n",
       "      <th>member_id</th>\n",
       "      <td>1</td>\n",
       "    </tr>\n",
       "    <tr>\n",
       "      <th>variable</th>\n",
       "      <td>410</td>\n",
       "    </tr>\n",
       "    <tr>\n",
       "      <th>start_time</th>\n",
       "      <td>1</td>\n",
       "    </tr>\n",
       "    <tr>\n",
       "      <th>end_time</th>\n",
       "      <td>1</td>\n",
       "    </tr>\n",
       "    <tr>\n",
       "      <th>time_range</th>\n",
       "      <td>1</td>\n",
       "    </tr>\n",
       "    <tr>\n",
       "      <th>long_name</th>\n",
       "      <td>409</td>\n",
       "    </tr>\n",
       "    <tr>\n",
       "      <th>units</th>\n",
       "      <td>55</td>\n",
       "    </tr>\n",
       "    <tr>\n",
       "      <th>vertical_levels</th>\n",
       "      <td>1</td>\n",
       "    </tr>\n",
       "    <tr>\n",
       "      <th>frequency</th>\n",
       "      <td>1</td>\n",
       "    </tr>\n",
       "    <tr>\n",
       "      <th>path</th>\n",
       "      <td>410</td>\n",
       "    </tr>\n",
       "  </tbody>\n",
       "</table>\n",
       "</div>"
      ],
      "text/plain": [
       "<IPython.core.display.HTML object>"
      ]
     },
     "metadata": {},
     "output_type": "display_data"
    }
   ],
   "source": [
    "monthly_ocean_timeseries = timeseries_catalog.search(component='ocn', frequency='month_1')\n",
    "monthly_ocean_timeseries"
   ]
  },
  {
   "cell_type": "code",
   "execution_count": 8,
   "id": "fa00b71d-f3c2-4310-8ddc-6f382fabf437",
   "metadata": {},
   "outputs": [
    {
     "data": {
      "text/html": [
       "<p><strong>None catalog with 1 dataset(s) from 756 asset(s)</strong>:</p> <div>\n",
       "<style scoped>\n",
       "    .dataframe tbody tr th:only-of-type {\n",
       "        vertical-align: middle;\n",
       "    }\n",
       "\n",
       "    .dataframe tbody tr th {\n",
       "        vertical-align: top;\n",
       "    }\n",
       "\n",
       "    .dataframe thead th {\n",
       "        text-align: right;\n",
       "    }\n",
       "</style>\n",
       "<table border=\"1\" class=\"dataframe\">\n",
       "  <thead>\n",
       "    <tr style=\"text-align: right;\">\n",
       "      <th></th>\n",
       "      <th>unique</th>\n",
       "    </tr>\n",
       "  </thead>\n",
       "  <tbody>\n",
       "    <tr>\n",
       "      <th>component</th>\n",
       "      <td>1</td>\n",
       "    </tr>\n",
       "    <tr>\n",
       "      <th>stream</th>\n",
       "      <td>1</td>\n",
       "    </tr>\n",
       "    <tr>\n",
       "      <th>date</th>\n",
       "      <td>756</td>\n",
       "    </tr>\n",
       "    <tr>\n",
       "      <th>case</th>\n",
       "      <td>1</td>\n",
       "    </tr>\n",
       "    <tr>\n",
       "      <th>member_id</th>\n",
       "      <td>1</td>\n",
       "    </tr>\n",
       "    <tr>\n",
       "      <th>frequency</th>\n",
       "      <td>1</td>\n",
       "    </tr>\n",
       "    <tr>\n",
       "      <th>variables</th>\n",
       "      <td>446</td>\n",
       "    </tr>\n",
       "    <tr>\n",
       "      <th>path</th>\n",
       "      <td>756</td>\n",
       "    </tr>\n",
       "  </tbody>\n",
       "</table>\n",
       "</div>"
      ],
      "text/plain": [
       "<IPython.core.display.HTML object>"
      ]
     },
     "metadata": {},
     "output_type": "display_data"
    }
   ],
   "source": [
    "monthly_ocean_history = history_catalog.search(component='ocn', frequency='month_1')\n",
    "monthly_ocean_history"
   ]
  },
  {
   "cell_type": "markdown",
   "id": "0d96f08a-9684-4c23-8685-8887b334f833",
   "metadata": {
    "tags": []
   },
   "source": [
    "## Test File Access Speeds\n",
    "Here, we test the time it takes to read in the following time ranges:\n",
    "* 1 year\n",
    "* 5 years\n",
    "* 10 years\n",
    "* 20 years\n",
    "* 40 years\n",
    "* 60 years\n",
    "\n",
    "A useful tool we will use here is the [Dask Performance Report](https://docs.dask.org/en/latest/diagnostics-distributed.html) which enables the user to output their Dask dashboard, so they can share it with others. This provides a means of going back to a computation on your cluster to investigate which tasks, workers, etc."
   ]
  },
  {
   "cell_type": "markdown",
   "id": "9e71663f-bb82-4dae-80ae-748acc0cfe77",
   "metadata": {},
   "source": [
    "### Test out the Timeseries Files"
   ]
  },
  {
   "cell_type": "code",
   "execution_count": 9,
   "id": "48939477-652d-429d-adcb-fe99090c0096",
   "metadata": {},
   "outputs": [],
   "source": [
    "def test_timeseries_file(\n",
    "    num_years, chunk_strategy='time', long_term_average=False, monthly_average=False\n",
    "):\n",
    "    start = time.time()\n",
    "    chunk_dict = {'time': {'time': 240}, 'spatial': {'nlon': 160, 'nlat': 192}}\n",
    "    dsets = monthly_ocean_timeseries.search(variable='FG_CO2').to_dataset_dict(\n",
    "        'FG_CO2',\n",
    "        cdf_kwargs={'use_cftime': True, 'chunks': chunk_dict[chunk_strategy]},\n",
    "        progressbar=False,\n",
    "    )\n",
    "    keys = list(dsets.keys())\n",
    "    ds = dsets[keys[0]]\n",
    "\n",
    "    if long_term_average:\n",
    "        ds.mean(dim='time').compute()\n",
    "\n",
    "    if monthly_average:\n",
    "        ds.groupby('time.month').mean(dim='time').compute()\n",
    "\n",
    "    end = time.time()\n",
    "    return end - start"
   ]
  },
  {
   "cell_type": "markdown",
   "id": "8b8d42c5-764c-4d6f-a638-0af0526c78b4",
   "metadata": {},
   "source": [
    "### Apply the Computation with Timeseries\n",
    "It can be accessed using [this link](timeseries-computation.html)!"
   ]
  },
  {
   "cell_type": "code",
   "execution_count": 10,
   "id": "165d7054-47de-4848-8615-6f966fb02689",
   "metadata": {},
   "outputs": [
    {
     "name": "stdout",
     "output_type": "stream",
     "text": [
      "Starting year 1\n",
      "Starting year 5\n",
      "Starting year 10\n",
      "Starting year 20\n",
      "Starting year 30\n",
      "Starting year 40\n",
      "Starting year 50\n",
      "Starting year 60\n"
     ]
    }
   ],
   "source": [
    "years = [1, 5, 10, 20, 30, 40, 50, 60]\n",
    "\n",
    "df = pd.DataFrame()\n",
    "\n",
    "with performance_report(filename=\"timeseries-computation.html\"):\n",
    "    for year in years:\n",
    "        print(f'Starting year {year}')\n",
    "        # Compute without computation\n",
    "        wall_time = test_timeseries_file(year)\n",
    "        df = df.append(\n",
    "            {\n",
    "                'catalog': 'timeseries',\n",
    "                'computation': 'file_access',\n",
    "                'num_years': year,\n",
    "                'wall_time': wall_time,\n",
    "            },\n",
    "            ignore_index=True,\n",
    "        )\n",
    "\n",
    "        # Compute with long-term mean computation\n",
    "        wall_time = test_timeseries_file(year, long_term_average=True)\n",
    "        df = df.append(\n",
    "            {\n",
    "                'catalog': 'timeseries',\n",
    "                'computation': 'long_term_average',\n",
    "                'num_years': year,\n",
    "                'wall_time': wall_time,\n",
    "            },\n",
    "            ignore_index=True,\n",
    "        )\n",
    "\n",
    "        # Compute with long-term mean computation\n",
    "        wall_time = test_timeseries_file(year, monthly_average=True)\n",
    "        df = df.append(\n",
    "            {\n",
    "                'catalog': 'timeseries',\n",
    "                'computation': 'monthly_average',\n",
    "                'num_years': year,\n",
    "                'wall_time': wall_time,\n",
    "            },\n",
    "            ignore_index=True,\n",
    "        )\n",
    "df_timeseries = df"
   ]
  },
  {
   "cell_type": "code",
   "execution_count": 11,
   "id": "4648edae-6339-4176-a96b-31cd4aab0de9",
   "metadata": {},
   "outputs": [
    {
     "data": {},
     "metadata": {},
     "output_type": "display_data"
    },
    {
     "data": {
      "application/vnd.holoviews_exec.v0+json": "",
      "text/html": [
       "<div id='4730'>\n",
       "\n",
       "\n",
       "\n",
       "\n",
       "\n",
       "  <div class=\"bk-root\" id=\"ea8bd943-a250-47b7-bb31-19ecab667e7e\" data-root-id=\"4730\"></div>\n",
       "</div>\n",
       "<script type=\"application/javascript\">(function(root) {\n",
       "  function embed_document(root) {\n",
       "    var docs_json = {\"e874d4e4-61a0-4daf-991b-e5e2b6943034\":{\"defs\":[{\"extends\":null,\"module\":null,\"name\":\"ReactiveHTML1\",\"overrides\":[],\"properties\":[]},{\"extends\":null,\"module\":null,\"name\":\"FlexBox1\",\"overrides\":[],\"properties\":[{\"default\":\"flex-start\",\"kind\":null,\"name\":\"align_content\"},{\"default\":\"flex-start\",\"kind\":null,\"name\":\"align_items\"},{\"default\":\"row\",\"kind\":null,\"name\":\"flex_direction\"},{\"default\":\"wrap\",\"kind\":null,\"name\":\"flex_wrap\"},{\"default\":\"flex-start\",\"kind\":null,\"name\":\"justify_content\"}]},{\"extends\":null,\"module\":null,\"name\":\"TemplateActions1\",\"overrides\":[],\"properties\":[{\"default\":0,\"kind\":null,\"name\":\"open_modal\"},{\"default\":0,\"kind\":null,\"name\":\"close_modal\"}]},{\"extends\":null,\"module\":null,\"name\":\"MaterialTemplateActions1\",\"overrides\":[],\"properties\":[{\"default\":0,\"kind\":null,\"name\":\"open_modal\"},{\"default\":0,\"kind\":null,\"name\":\"close_modal\"}]}],\"roots\":{\"references\":[{\"attributes\":{\"below\":[{\"id\":\"4836\"}],\"center\":[{\"id\":\"4839\"},{\"id\":\"4843\"}],\"height\":300,\"left\":[{\"id\":\"4840\"}],\"margin\":null,\"min_border_bottom\":10,\"min_border_left\":10,\"min_border_right\":10,\"min_border_top\":10,\"renderers\":[{\"id\":\"4863\"}],\"sizing_mode\":\"fixed\",\"title\":{\"id\":\"4828\"},\"toolbar\":{\"id\":\"4850\"},\"toolbar_location\":null,\"width\":400,\"x_range\":{\"id\":\"4732\"},\"x_scale\":{\"id\":\"4832\"},\"y_range\":{\"id\":\"4733\"},\"y_scale\":{\"id\":\"4834\"}},\"id\":\"4827\",\"subtype\":\"Figure\",\"type\":\"Plot\"},{\"attributes\":{},\"id\":\"4749\",\"type\":\"BasicTicker\"},{\"attributes\":{},\"id\":\"4802\",\"type\":\"ResetTool\"},{\"attributes\":{\"axis_label\":\"Time (s)\",\"formatter\":{\"id\":\"4870\"},\"major_label_policy\":{\"id\":\"4871\"},\"ticker\":{\"id\":\"4841\"}},\"id\":\"4840\",\"type\":\"LinearAxis\"},{\"attributes\":{\"data\":{\"num_years\":{\"__ndarray__\":\"AAAAAAAA8D8AAAAAAAAUQAAAAAAAACRAAAAAAAAANEAAAAAAAAA+QAAAAAAAAERAAAAAAAAASUAAAAAAAABOQA==\",\"dtype\":\"float64\",\"order\":\"little\",\"shape\":[8]},\"wall_time\":{\"__ndarray__\":\"AAAAQAHMDEAAAAAAPnIHQAAAAABgFgdAAAAAoOtMBEAAAADghCUFQAAAAKCHwgdAAAAAIJTUAEAAAADg7gQDQA==\",\"dtype\":\"float64\",\"order\":\"little\",\"shape\":[8]}},\"selected\":{\"id\":\"4858\"},\"selection_policy\":{\"id\":\"4902\"}},\"id\":\"4857\",\"type\":\"ColumnDataSource\"},{\"attributes\":{\"end\":3.9490416765213014,\"reset_end\":3.9490416765213014,\"reset_start\":-0.2441173315048218,\"start\":-0.2441173315048218,\"tags\":[[[\"wall_time\",\"wall_time\",null]]]},\"id\":\"4733\",\"type\":\"Range1d\"},{\"attributes\":{\"line_color\":\"#30a2da\",\"line_width\":2,\"x\":{\"field\":\"num_years\"},\"y\":{\"field\":\"wall_time\"}},\"id\":\"4773\",\"type\":\"Line\"},{\"attributes\":{\"axis\":{\"id\":\"4794\"},\"dimension\":1,\"grid_line_color\":null,\"ticker\":null},\"id\":\"4797\",\"type\":\"Grid\"},{\"attributes\":{},\"id\":\"4766\",\"type\":\"Selection\"},{\"attributes\":{\"margin\":[5,5,5,5],\"name\":\"HSpacer01791\",\"sizing_mode\":\"stretch_width\"},\"id\":\"5185\",\"type\":\"Spacer\"},{\"attributes\":{},\"id\":\"4844\",\"type\":\"SaveTool\"},{\"attributes\":{\"overlay\":{\"id\":\"4757\"}},\"id\":\"4755\",\"type\":\"BoxZoomTool\"},{\"attributes\":{},\"id\":\"4778\",\"type\":\"BasicTickFormatter\"},{\"attributes\":{\"axis\":{\"id\":\"4744\"},\"grid_line_color\":null,\"ticker\":null},\"id\":\"4747\",\"type\":\"Grid\"},{\"attributes\":{\"margin\":[5,5,5,5],\"name\":\"HSpacer01790\",\"sizing_mode\":\"stretch_width\"},\"id\":\"4731\",\"type\":\"Spacer\"},{\"attributes\":{\"bottom_units\":\"screen\",\"fill_alpha\":0.5,\"fill_color\":\"lightgrey\",\"left_units\":\"screen\",\"level\":\"overlay\",\"line_alpha\":1.0,\"line_color\":\"black\",\"line_dash\":[4,4],\"line_width\":2,\"right_units\":\"screen\",\"syncable\":false,\"top_units\":\"screen\"},\"id\":\"4757\",\"type\":\"BoxAnnotation\"},{\"attributes\":{\"line_color\":\"#30a2da\",\"line_width\":2,\"x\":{\"field\":\"num_years\"},\"y\":{\"field\":\"wall_time\"}},\"id\":\"4768\",\"type\":\"Line\"},{\"attributes\":{},\"id\":\"4822\",\"type\":\"AllLabels\"},{\"attributes\":{\"bottom_units\":\"screen\",\"fill_alpha\":0.5,\"fill_color\":\"lightgrey\",\"left_units\":\"screen\",\"level\":\"overlay\",\"line_alpha\":1.0,\"line_color\":\"black\",\"line_dash\":[4,4],\"line_width\":2,\"right_units\":\"screen\",\"syncable\":false,\"top_units\":\"screen\"},\"id\":\"4849\",\"type\":\"BoxAnnotation\"},{\"attributes\":{\"data\":{\"num_years\":{\"__ndarray__\":\"AAAAAAAA8D8AAAAAAAAUQAAAAAAAACRAAAAAAAAANEAAAAAAAAA+QAAAAAAAAERAAAAAAAAASUAAAAAAAABOQA==\",\"dtype\":\"float64\",\"order\":\"little\",\"shape\":[8]},\"wall_time\":{\"__ndarray__\":\"AAAAIFg5AUAAAAAA+AbXPwAAAAAMAc4/AAAAAIJzzj8AAAAANIXPPwAAAACUy7s/AAAAALhA0D8AAAAAxPW6Pw==\",\"dtype\":\"float64\",\"order\":\"little\",\"shape\":[8]}},\"selected\":{\"id\":\"4766\"},\"selection_policy\":{\"id\":\"4880\"}},\"id\":\"4765\",\"type\":\"ColumnDataSource\"},{\"attributes\":{\"below\":[{\"id\":\"4744\"}],\"center\":[{\"id\":\"4747\"},{\"id\":\"4751\"}],\"height\":300,\"left\":[{\"id\":\"4748\"}],\"margin\":null,\"min_border_bottom\":10,\"min_border_left\":10,\"min_border_right\":10,\"min_border_top\":10,\"renderers\":[{\"id\":\"4771\"}],\"sizing_mode\":\"fixed\",\"title\":{\"id\":\"4736\"},\"toolbar\":{\"id\":\"4758\"},\"toolbar_location\":null,\"width\":400,\"x_range\":{\"id\":\"4732\"},\"x_scale\":{\"id\":\"4740\"},\"y_range\":{\"id\":\"4733\"},\"y_scale\":{\"id\":\"4742\"}},\"id\":\"4735\",\"subtype\":\"Figure\",\"type\":\"Plot\"},{\"attributes\":{},\"id\":\"4832\",\"type\":\"LinearScale\"},{\"attributes\":{},\"id\":\"4848\",\"type\":\"ResetTool\"},{\"attributes\":{},\"id\":\"4868\",\"type\":\"AllLabels\"},{\"attributes\":{},\"id\":\"4845\",\"type\":\"PanTool\"},{\"attributes\":{},\"id\":\"4740\",\"type\":\"LinearScale\"},{\"attributes\":{},\"id\":\"4788\",\"type\":\"LinearScale\"},{\"attributes\":{\"axis_label\":\"num_years\",\"formatter\":{\"id\":\"4775\"},\"major_label_policy\":{\"id\":\"4776\"},\"ticker\":{\"id\":\"4745\"}},\"id\":\"4744\",\"type\":\"LinearAxis\"},{\"attributes\":{},\"id\":\"4841\",\"type\":\"BasicTicker\"},{\"attributes\":{},\"id\":\"4742\",\"type\":\"LinearScale\"},{\"attributes\":{\"children\":[[{\"id\":\"4735\"},0,0],[{\"id\":\"4781\"},0,1],[{\"id\":\"4827\"},0,2]]},\"id\":\"4905\",\"type\":\"GridBox\"},{\"attributes\":{\"axis_label\":\"num_years\",\"formatter\":{\"id\":\"4821\"},\"major_label_policy\":{\"id\":\"4822\"},\"ticker\":{\"id\":\"4791\"}},\"id\":\"4790\",\"type\":\"LinearAxis\"},{\"attributes\":{},\"id\":\"4871\",\"type\":\"AllLabels\"},{\"attributes\":{},\"id\":\"4837\",\"type\":\"BasicTicker\"},{\"attributes\":{},\"id\":\"4779\",\"type\":\"AllLabels\"},{\"attributes\":{\"overlay\":{\"id\":\"4849\"}},\"id\":\"4847\",\"type\":\"BoxZoomTool\"},{\"attributes\":{},\"id\":\"4858\",\"type\":\"Selection\"},{\"attributes\":{\"data_source\":{\"id\":\"4765\"},\"glyph\":{\"id\":\"4768\"},\"hover_glyph\":null,\"muted_glyph\":{\"id\":\"4770\"},\"nonselection_glyph\":{\"id\":\"4769\"},\"selection_glyph\":{\"id\":\"4773\"},\"view\":{\"id\":\"4772\"}},\"id\":\"4771\",\"type\":\"GlyphRenderer\"},{\"attributes\":{\"active_multi\":null,\"tools\":[{\"id\":\"4826\"},{\"id\":\"4844\"},{\"id\":\"4845\"},{\"id\":\"4846\"},{\"id\":\"4847\"},{\"id\":\"4848\"}]},\"id\":\"4850\",\"type\":\"Toolbar\"},{\"attributes\":{\"data_source\":{\"id\":\"4811\"},\"glyph\":{\"id\":\"4814\"},\"hover_glyph\":null,\"muted_glyph\":{\"id\":\"4816\"},\"nonselection_glyph\":{\"id\":\"4815\"},\"selection_glyph\":{\"id\":\"4819\"},\"view\":{\"id\":\"4818\"}},\"id\":\"4817\",\"type\":\"GlyphRenderer\"},{\"attributes\":{\"active_multi\":null,\"tools\":[{\"id\":\"4734\"},{\"id\":\"4752\"},{\"id\":\"4753\"},{\"id\":\"4754\"},{\"id\":\"4755\"},{\"id\":\"4756\"}]},\"id\":\"4758\",\"type\":\"Toolbar\"},{\"attributes\":{},\"id\":\"4786\",\"type\":\"LinearScale\"},{\"attributes\":{},\"id\":\"4825\",\"type\":\"AllLabels\"},{\"attributes\":{},\"id\":\"4754\",\"type\":\"WheelZoomTool\"},{\"attributes\":{\"line_color\":\"#30a2da\",\"line_width\":2,\"x\":{\"field\":\"num_years\"},\"y\":{\"field\":\"wall_time\"}},\"id\":\"4860\",\"type\":\"Line\"},{\"attributes\":{\"text\":\"Monthly climatology\",\"text_color\":\"black\",\"text_font_size\":\"12pt\"},\"id\":\"4828\",\"type\":\"Title\"},{\"attributes\":{\"axis\":{\"id\":\"4840\"},\"dimension\":1,\"grid_line_color\":null,\"ticker\":null},\"id\":\"4843\",\"type\":\"Grid\"},{\"attributes\":{},\"id\":\"4745\",\"type\":\"BasicTicker\"},{\"attributes\":{\"bottom_units\":\"screen\",\"fill_alpha\":0.5,\"fill_color\":\"lightgrey\",\"left_units\":\"screen\",\"level\":\"overlay\",\"line_alpha\":1.0,\"line_color\":\"black\",\"line_dash\":[4,4],\"line_width\":2,\"right_units\":\"screen\",\"syncable\":false,\"top_units\":\"screen\"},\"id\":\"4803\",\"type\":\"BoxAnnotation\"},{\"attributes\":{\"line_color\":\"#30a2da\",\"line_width\":2,\"x\":{\"field\":\"num_years\"},\"y\":{\"field\":\"wall_time\"}},\"id\":\"4814\",\"type\":\"Line\"},{\"attributes\":{\"end\":60.0,\"reset_end\":60.0,\"reset_start\":1.0,\"start\":1.0,\"tags\":[[[\"num_years\",\"num_years\",null]]]},\"id\":\"4732\",\"type\":\"Range1d\"},{\"attributes\":{},\"id\":\"4834\",\"type\":\"LinearScale\"},{\"attributes\":{},\"id\":\"4791\",\"type\":\"BasicTicker\"},{\"attributes\":{\"axis_label\":\"Time (s)\",\"formatter\":{\"id\":\"4778\"},\"major_label_policy\":{\"id\":\"4779\"},\"ticker\":{\"id\":\"4749\"}},\"id\":\"4748\",\"type\":\"LinearAxis\"},{\"attributes\":{\"text\":\"Long term mean\",\"text_color\":\"black\",\"text_font_size\":\"12pt\"},\"id\":\"4782\",\"type\":\"Title\"},{\"attributes\":{\"axis_label\":\"num_years\",\"formatter\":{\"id\":\"4867\"},\"major_label_policy\":{\"id\":\"4868\"},\"ticker\":{\"id\":\"4837\"}},\"id\":\"4836\",\"type\":\"LinearAxis\"},{\"attributes\":{\"axis\":{\"id\":\"4790\"},\"grid_line_color\":null,\"ticker\":null},\"id\":\"4793\",\"type\":\"Grid\"},{\"attributes\":{\"axis_label\":\"Time (s)\",\"formatter\":{\"id\":\"4824\"},\"major_label_policy\":{\"id\":\"4825\"},\"ticker\":{\"id\":\"4795\"}},\"id\":\"4794\",\"type\":\"LinearAxis\"},{\"attributes\":{},\"id\":\"4870\",\"type\":\"BasicTickFormatter\"},{\"attributes\":{},\"id\":\"4775\",\"type\":\"BasicTickFormatter\"},{\"attributes\":{},\"id\":\"4821\",\"type\":\"BasicTickFormatter\"},{\"attributes\":{},\"id\":\"4800\",\"type\":\"WheelZoomTool\"},{\"attributes\":{},\"id\":\"4846\",\"type\":\"WheelZoomTool\"},{\"attributes\":{},\"id\":\"4798\",\"type\":\"SaveTool\"},{\"attributes\":{},\"id\":\"4902\",\"type\":\"UnionRenderers\"},{\"attributes\":{\"children\":[{\"id\":\"4907\"},{\"id\":\"4905\"}]},\"id\":\"4908\",\"type\":\"Column\"},{\"attributes\":{},\"id\":\"4753\",\"type\":\"PanTool\"},{\"attributes\":{},\"id\":\"4867\",\"type\":\"BasicTickFormatter\"},{\"attributes\":{\"axis\":{\"id\":\"4748\"},\"dimension\":1,\"grid_line_color\":null,\"ticker\":null},\"id\":\"4751\",\"type\":\"Grid\"},{\"attributes\":{\"callback\":null,\"renderers\":[{\"id\":\"4817\"}],\"tags\":[\"hv_created\"],\"tooltips\":[[\"num_years\",\"@{num_years}\"],[\"wall_time\",\"@{wall_time}\"]]},\"id\":\"4780\",\"type\":\"HoverTool\"},{\"attributes\":{\"line_color\":\"#30a2da\",\"line_width\":2,\"x\":{\"field\":\"num_years\"},\"y\":{\"field\":\"wall_time\"}},\"id\":\"4865\",\"type\":\"Line\"},{\"attributes\":{\"active_multi\":null,\"tools\":[{\"id\":\"4780\"},{\"id\":\"4798\"},{\"id\":\"4799\"},{\"id\":\"4800\"},{\"id\":\"4801\"},{\"id\":\"4802\"}]},\"id\":\"4804\",\"type\":\"Toolbar\"},{\"attributes\":{},\"id\":\"4756\",\"type\":\"ResetTool\"},{\"attributes\":{\"axis\":{\"id\":\"4836\"},\"grid_line_color\":null,\"ticker\":null},\"id\":\"4839\",\"type\":\"Grid\"},{\"attributes\":{\"line_alpha\":0.2,\"line_color\":\"#30a2da\",\"line_width\":2,\"x\":{\"field\":\"num_years\"},\"y\":{\"field\":\"wall_time\"}},\"id\":\"4862\",\"type\":\"Line\"},{\"attributes\":{},\"id\":\"4891\",\"type\":\"UnionRenderers\"},{\"attributes\":{\"callback\":null,\"renderers\":[{\"id\":\"4863\"}],\"tags\":[\"hv_created\"],\"tooltips\":[[\"num_years\",\"@{num_years}\"],[\"wall_time\",\"@{wall_time}\"]]},\"id\":\"4826\",\"type\":\"HoverTool\"},{\"attributes\":{\"line_alpha\":0.2,\"line_color\":\"#30a2da\",\"line_width\":2,\"x\":{\"field\":\"num_years\"},\"y\":{\"field\":\"wall_time\"}},\"id\":\"4770\",\"type\":\"Line\"},{\"attributes\":{\"data\":{\"num_years\":{\"__ndarray__\":\"AAAAAAAA8D8AAAAAAAAUQAAAAAAAACRAAAAAAAAANEAAAAAAAAA+QAAAAAAAAERAAAAAAAAASUAAAAAAAABOQA==\",\"dtype\":\"float64\",\"order\":\"little\",\"shape\":[8]},\"wall_time\":{\"__ndarray__\":\"AAAAoKEPBkAAAAAAZ4HxPwAAAADCMfM/AAAAQJ6d8j8AAABALG3+PwAAAMDnxvc/AAAAQNwz+j8AAABAoJn3Pw==\",\"dtype\":\"float64\",\"order\":\"little\",\"shape\":[8]}},\"selected\":{\"id\":\"4812\"},\"selection_policy\":{\"id\":\"4891\"}},\"id\":\"4811\",\"type\":\"ColumnDataSource\"},{\"attributes\":{\"line_alpha\":0.1,\"line_color\":\"#30a2da\",\"line_width\":2,\"x\":{\"field\":\"num_years\"},\"y\":{\"field\":\"wall_time\"}},\"id\":\"4861\",\"type\":\"Line\"},{\"attributes\":{\"source\":{\"id\":\"4857\"}},\"id\":\"4864\",\"type\":\"CDSView\"},{\"attributes\":{\"data_source\":{\"id\":\"4857\"},\"glyph\":{\"id\":\"4860\"},\"hover_glyph\":null,\"muted_glyph\":{\"id\":\"4862\"},\"nonselection_glyph\":{\"id\":\"4861\"},\"selection_glyph\":{\"id\":\"4865\"},\"view\":{\"id\":\"4864\"}},\"id\":\"4863\",\"type\":\"GlyphRenderer\"},{\"attributes\":{\"source\":{\"id\":\"4811\"}},\"id\":\"4818\",\"type\":\"CDSView\"},{\"attributes\":{},\"id\":\"4812\",\"type\":\"Selection\"},{\"attributes\":{},\"id\":\"4824\",\"type\":\"BasicTickFormatter\"},{\"attributes\":{\"callback\":null,\"renderers\":[{\"id\":\"4771\"}],\"tags\":[\"hv_created\"],\"tooltips\":[[\"num_years\",\"@{num_years}\"],[\"wall_time\",\"@{wall_time}\"]]},\"id\":\"4734\",\"type\":\"HoverTool\"},{\"attributes\":{\"line_color\":\"#30a2da\",\"line_width\":2,\"x\":{\"field\":\"num_years\"},\"y\":{\"field\":\"wall_time\"}},\"id\":\"4819\",\"type\":\"Line\"},{\"attributes\":{},\"id\":\"4776\",\"type\":\"AllLabels\"},{\"attributes\":{\"overlay\":{\"id\":\"4803\"}},\"id\":\"4801\",\"type\":\"BoxZoomTool\"},{\"attributes\":{},\"id\":\"4752\",\"type\":\"SaveTool\"},{\"attributes\":{},\"id\":\"4880\",\"type\":\"UnionRenderers\"},{\"attributes\":{\"children\":[{\"id\":\"4731\"},{\"id\":\"4908\"},{\"id\":\"5185\"}],\"margin\":[0,0,0,0],\"name\":\"Row01786\",\"tags\":[\"embedded\"]},\"id\":\"4730\",\"type\":\"Row\"},{\"attributes\":{\"below\":[{\"id\":\"4790\"}],\"center\":[{\"id\":\"4793\"},{\"id\":\"4797\"}],\"height\":300,\"left\":[{\"id\":\"4794\"}],\"margin\":null,\"min_border_bottom\":10,\"min_border_left\":10,\"min_border_right\":10,\"min_border_top\":10,\"renderers\":[{\"id\":\"4817\"}],\"sizing_mode\":\"fixed\",\"title\":{\"id\":\"4782\"},\"toolbar\":{\"id\":\"4804\"},\"toolbar_location\":null,\"width\":400,\"x_range\":{\"id\":\"4732\"},\"x_scale\":{\"id\":\"4786\"},\"y_range\":{\"id\":\"4733\"},\"y_scale\":{\"id\":\"4788\"}},\"id\":\"4781\",\"subtype\":\"Figure\",\"type\":\"Plot\"},{\"attributes\":{\"text\":\"No computation\",\"text_color\":\"black\",\"text_font_size\":\"12pt\"},\"id\":\"4736\",\"type\":\"Title\"},{\"attributes\":{\"line_alpha\":0.1,\"line_color\":\"#30a2da\",\"line_width\":2,\"x\":{\"field\":\"num_years\"},\"y\":{\"field\":\"wall_time\"}},\"id\":\"4815\",\"type\":\"Line\"},{\"attributes\":{\"line_alpha\":0.1,\"line_color\":\"#30a2da\",\"line_width\":2,\"x\":{\"field\":\"num_years\"},\"y\":{\"field\":\"wall_time\"}},\"id\":\"4769\",\"type\":\"Line\"},{\"attributes\":{\"toolbar\":{\"id\":\"4906\"},\"toolbar_location\":\"above\"},\"id\":\"4907\",\"type\":\"ToolbarBox\"},{\"attributes\":{\"source\":{\"id\":\"4765\"}},\"id\":\"4772\",\"type\":\"CDSView\"},{\"attributes\":{\"line_alpha\":0.2,\"line_color\":\"#30a2da\",\"line_width\":2,\"x\":{\"field\":\"num_years\"},\"y\":{\"field\":\"wall_time\"}},\"id\":\"4816\",\"type\":\"Line\"},{\"attributes\":{},\"id\":\"4795\",\"type\":\"BasicTicker\"},{\"attributes\":{},\"id\":\"4799\",\"type\":\"PanTool\"},{\"attributes\":{\"toolbars\":[{\"id\":\"4758\"},{\"id\":\"4804\"},{\"id\":\"4850\"}],\"tools\":[{\"id\":\"4734\"},{\"id\":\"4752\"},{\"id\":\"4753\"},{\"id\":\"4754\"},{\"id\":\"4755\"},{\"id\":\"4756\"},{\"id\":\"4780\"},{\"id\":\"4798\"},{\"id\":\"4799\"},{\"id\":\"4800\"},{\"id\":\"4801\"},{\"id\":\"4802\"},{\"id\":\"4826\"},{\"id\":\"4844\"},{\"id\":\"4845\"},{\"id\":\"4846\"},{\"id\":\"4847\"},{\"id\":\"4848\"}]},\"id\":\"4906\",\"type\":\"ProxyToolbar\"}],\"root_ids\":[\"4730\"]},\"title\":\"Bokeh Application\",\"version\":\"2.3.3\"}};\n",
       "    var render_items = [{\"docid\":\"e874d4e4-61a0-4daf-991b-e5e2b6943034\",\"root_ids\":[\"4730\"],\"roots\":{\"4730\":\"ea8bd943-a250-47b7-bb31-19ecab667e7e\"}}];\n",
       "    root.Bokeh.embed.embed_items_notebook(docs_json, render_items);\n",
       "  }\n",
       "  if (root.Bokeh !== undefined && root.Bokeh.Panel !== undefined) {\n",
       "    embed_document(root);\n",
       "  } else {\n",
       "    var attempts = 0;\n",
       "    var timer = setInterval(function(root) {\n",
       "      if (root.Bokeh !== undefined && root.Bokeh.Panel !== undefined) {\n",
       "        clearInterval(timer);\n",
       "        embed_document(root);\n",
       "      } else if (document.readyState == \"complete\") {\n",
       "        attempts++;\n",
       "        if (attempts > 200) {\n",
       "          clearInterval(timer);\n",
       "          console.log(\"Bokeh: ERROR: Unable to run BokehJS code because BokehJS library is missing\");\n",
       "        }\n",
       "      }\n",
       "    }, 25, root)\n",
       "  }\n",
       "})(window);</script>"
      ],
      "text/plain": [
       ":Layout\n",
       "   .Curve.No_computation      :Curve   [num_years]   (wall_time)\n",
       "   .Curve.Long_term_mean      :Curve   [num_years]   (wall_time)\n",
       "   .Curve.Monthly_climatology :Curve   [num_years]   (wall_time)"
      ]
     },
     "execution_count": 11,
     "metadata": {
      "application/vnd.holoviews_exec.v0+json": {
       "id": "4730"
      }
     },
     "output_type": "execute_result"
    }
   ],
   "source": [
    "file_read_in = df.loc[df.computation == 'file_access'].hvplot(\n",
    "    x='num_years', y='wall_time', ylabel='Time (s)', width=400, label='No computation'\n",
    ")\n",
    "long_term_mean = df.loc[df.computation == 'long_term_average'].hvplot(\n",
    "    x='num_years', y='wall_time', ylabel='Time (s)', width=400, label='Long term mean'\n",
    ")\n",
    "monthly_average = df.loc[df.computation == 'monthly_average'].hvplot(\n",
    "    x='num_years', y='wall_time', ylabel='Time (s)', width=400, label='Monthly climatology'\n",
    ")\n",
    "\n",
    "file_read_in + long_term_mean + monthly_average"
   ]
  },
  {
   "cell_type": "markdown",
   "id": "a4aa0f5d-6523-4fd7-840d-9980a69fd03e",
   "metadata": {},
   "source": [
    "### Test out the History Files\n",
    "Next, we investigate the time it takes to read the datasets, compute a temporal average over the entire time period, and compute a monthly climatology using CESM history file output"
   ]
  },
  {
   "cell_type": "code",
   "execution_count": 12,
   "id": "80276260-c696-445b-82e2-f244d69a45fc",
   "metadata": {},
   "outputs": [],
   "source": [
    "def test_history_file(\n",
    "    num_years, chunk_strategy='time', long_term_average=False, monthly_average=False\n",
    "):\n",
    "    start = time.time()\n",
    "    chunk_dict = {'time': {'time': 240}, 'spatial': {'nlon': 160, 'nlat': 192}}\n",
    "    dsets = monthly_ocean_history.search(\n",
    "        date=monthly_ocean_history.df.date[: num_years * 12], variables='FG_CO2'\n",
    "    ).to_dataset_dict(\n",
    "        'FG_CO2',\n",
    "        cdf_kwargs={'use_cftime': True, 'chunks': chunk_dict[chunk_strategy]},\n",
    "        progressbar=False,\n",
    "    )\n",
    "    keys = list(dsets.keys())\n",
    "    ds = dsets[keys[0]]\n",
    "\n",
    "    if long_term_average:\n",
    "        ds.mean(dim='time').compute()\n",
    "\n",
    "    if monthly_average:\n",
    "        ds.groupby('time.month').mean(dim='time').compute()\n",
    "\n",
    "    end = time.time()\n",
    "    return end - start"
   ]
  },
  {
   "cell_type": "markdown",
   "id": "c4f6f3a3-9e1b-4a68-84e7-861931648ea1",
   "metadata": {},
   "source": [
    "### Apply the Computation with History Files\n",
    "It can be accessed using [this link](history-computation.html)!"
   ]
  },
  {
   "cell_type": "code",
   "execution_count": 13,
   "id": "f432855c-9674-4820-9072-357ac49232d7",
   "metadata": {},
   "outputs": [
    {
     "name": "stdout",
     "output_type": "stream",
     "text": [
      "Starting year 1\n",
      "Starting year 5\n",
      "Starting year 10\n",
      "Starting year 20\n",
      "Starting year 30\n",
      "Starting year 40\n",
      "Starting year 50\n",
      "Starting year 60\n"
     ]
    }
   ],
   "source": [
    "df = pd.DataFrame()\n",
    "with performance_report(filename=\"history-computation.html\"):\n",
    "    for year in years:\n",
    "        print(f'Starting year {year}')\n",
    "\n",
    "        # Compute without computation\n",
    "        wall_time = test_history_file(year)\n",
    "        df = df.append(\n",
    "            {\n",
    "                'catalog': 'history',\n",
    "                'computation': 'file_access',\n",
    "                'num_years': year,\n",
    "                'wall_time': wall_time,\n",
    "            },\n",
    "            ignore_index=True,\n",
    "        )\n",
    "\n",
    "        # Compute with long-term mean computation\n",
    "        wall_time = test_history_file(year, long_term_average=True)\n",
    "        df = df.append(\n",
    "            {\n",
    "                'catalog': 'history',\n",
    "                'computation': 'long_term_average',\n",
    "                'num_years': year,\n",
    "                'wall_time': wall_time,\n",
    "            },\n",
    "            ignore_index=True,\n",
    "        )\n",
    "\n",
    "        # Compute with monthly climatology\n",
    "        wall_time = test_history_file(year, monthly_average=True)\n",
    "        df = df.append(\n",
    "            {\n",
    "                'catalog': 'history',\n",
    "                'computation': 'monthly_average',\n",
    "                'num_years': year,\n",
    "                'wall_time': wall_time,\n",
    "            },\n",
    "            ignore_index=True,\n",
    "        )\n",
    "\n",
    "df_history = df"
   ]
  },
  {
   "cell_type": "markdown",
   "id": "895ba0f2-22d5-44ab-a78d-8720150b8432",
   "metadata": {},
   "source": [
    "### Plot a Comparison of Wall time for Different Computations"
   ]
  },
  {
   "cell_type": "code",
   "execution_count": 19,
   "id": "47bfecca-a462-46a2-a67b-c62a1c3119cb",
   "metadata": {},
   "outputs": [
    {
     "data": {},
     "metadata": {},
     "output_type": "display_data"
    },
    {
     "data": {
      "application/vnd.holoviews_exec.v0+json": "",
      "text/html": [
       "<div id='43249'>\n",
       "\n",
       "\n",
       "\n",
       "\n",
       "\n",
       "  <div class=\"bk-root\" id=\"61ecbaa8-b4be-4421-a551-445c12761aca\" data-root-id=\"43249\"></div>\n",
       "</div>\n",
       "<script type=\"application/javascript\">(function(root) {\n",
       "  function embed_document(root) {\n",
       "    var docs_json = {\"12e03b6f-0d86-4772-970a-963a10bb36d9\":{\"defs\":[{\"extends\":null,\"module\":null,\"name\":\"ReactiveHTML1\",\"overrides\":[],\"properties\":[]},{\"extends\":null,\"module\":null,\"name\":\"FlexBox1\",\"overrides\":[],\"properties\":[{\"default\":\"flex-start\",\"kind\":null,\"name\":\"align_content\"},{\"default\":\"flex-start\",\"kind\":null,\"name\":\"align_items\"},{\"default\":\"row\",\"kind\":null,\"name\":\"flex_direction\"},{\"default\":\"wrap\",\"kind\":null,\"name\":\"flex_wrap\"},{\"default\":\"flex-start\",\"kind\":null,\"name\":\"justify_content\"}]},{\"extends\":null,\"module\":null,\"name\":\"TemplateActions1\",\"overrides\":[],\"properties\":[{\"default\":0,\"kind\":null,\"name\":\"open_modal\"},{\"default\":0,\"kind\":null,\"name\":\"close_modal\"}]},{\"extends\":null,\"module\":null,\"name\":\"MaterialTemplateActions1\",\"overrides\":[],\"properties\":[{\"default\":0,\"kind\":null,\"name\":\"open_modal\"},{\"default\":0,\"kind\":null,\"name\":\"close_modal\"}]}],\"roots\":{\"references\":[{\"attributes\":{},\"id\":\"43275\",\"type\":\"ResetTool\"},{\"attributes\":{\"line_color\":\"#30a2da\",\"line_width\":2,\"x\":{\"field\":\"num_years\"},\"y\":{\"field\":\"wall_time\"}},\"id\":\"43384\",\"type\":\"Line\"},{\"attributes\":{},\"id\":\"43344\",\"type\":\"AllLabels\"},{\"attributes\":{\"margin\":[5,5,5,5],\"name\":\"HSpacer06121\",\"sizing_mode\":\"stretch_width\"},\"id\":\"43250\",\"type\":\"Spacer\"},{\"attributes\":{\"data_source\":{\"id\":\"43284\"},\"glyph\":{\"id\":\"43287\"},\"hover_glyph\":null,\"muted_glyph\":{\"id\":\"43289\"},\"nonselection_glyph\":{\"id\":\"43288\"},\"selection_glyph\":{\"id\":\"43292\"},\"view\":{\"id\":\"43291\"}},\"id\":\"43290\",\"type\":\"GlyphRenderer\"},{\"attributes\":{},\"id\":\"43353\",\"type\":\"LinearScale\"},{\"attributes\":{\"source\":{\"id\":\"43330\"}},\"id\":\"43337\",\"type\":\"CDSView\"},{\"attributes\":{},\"id\":\"43318\",\"type\":\"PanTool\"},{\"attributes\":{\"axis\":{\"id\":\"43267\"},\"dimension\":1,\"grid_line_color\":null,\"ticker\":null},\"id\":\"43270\",\"type\":\"Grid\"},{\"attributes\":{},\"id\":\"43307\",\"type\":\"LinearScale\"},{\"attributes\":{\"active_multi\":null,\"tools\":[{\"id\":\"43253\"},{\"id\":\"43271\"},{\"id\":\"43272\"},{\"id\":\"43273\"},{\"id\":\"43274\"},{\"id\":\"43275\"}]},\"id\":\"43277\",\"type\":\"Toolbar\"},{\"attributes\":{\"line_color\":\"#30a2da\",\"line_width\":2,\"x\":{\"field\":\"num_years\"},\"y\":{\"field\":\"wall_time\"}},\"id\":\"43379\",\"type\":\"Line\"},{\"attributes\":{},\"id\":\"43319\",\"type\":\"WheelZoomTool\"},{\"attributes\":{},\"id\":\"43421\",\"type\":\"UnionRenderers\"},{\"attributes\":{},\"id\":\"43340\",\"type\":\"BasicTickFormatter\"},{\"attributes\":{\"line_color\":\"#30a2da\",\"line_width\":2,\"x\":{\"field\":\"num_years\"},\"y\":{\"field\":\"wall_time\"}},\"id\":\"43292\",\"type\":\"Line\"},{\"attributes\":{},\"id\":\"43298\",\"type\":\"AllLabels\"},{\"attributes\":{\"overlay\":{\"id\":\"43276\"}},\"id\":\"43274\",\"type\":\"BoxZoomTool\"},{\"attributes\":{\"callback\":null,\"renderers\":[{\"id\":\"43290\"}],\"tags\":[\"hv_created\"],\"tooltips\":[[\"num_years\",\"@{num_years}\"],[\"wall_time\",\"@{wall_time}\"]]},\"id\":\"43253\",\"type\":\"HoverTool\"},{\"attributes\":{\"axis\":{\"id\":\"43263\"},\"grid_line_color\":null,\"ticker\":null},\"id\":\"43266\",\"type\":\"Grid\"},{\"attributes\":{\"source\":{\"id\":\"43376\"}},\"id\":\"43383\",\"type\":\"CDSView\"},{\"attributes\":{},\"id\":\"43295\",\"type\":\"AllLabels\"},{\"attributes\":{\"axis\":{\"id\":\"43313\"},\"dimension\":1,\"grid_line_color\":null,\"ticker\":null},\"id\":\"43316\",\"type\":\"Grid\"},{\"attributes\":{},\"id\":\"43331\",\"type\":\"Selection\"},{\"attributes\":{\"active_multi\":null,\"tools\":[{\"id\":\"43299\"},{\"id\":\"43317\"},{\"id\":\"43318\"},{\"id\":\"43319\"},{\"id\":\"43320\"},{\"id\":\"43321\"}]},\"id\":\"43323\",\"type\":\"Toolbar\"},{\"attributes\":{},\"id\":\"43264\",\"type\":\"BasicTicker\"},{\"attributes\":{\"data_source\":{\"id\":\"43376\"},\"glyph\":{\"id\":\"43379\"},\"hover_glyph\":null,\"muted_glyph\":{\"id\":\"43381\"},\"nonselection_glyph\":{\"id\":\"43380\"},\"selection_glyph\":{\"id\":\"43384\"},\"view\":{\"id\":\"43383\"}},\"id\":\"43382\",\"type\":\"GlyphRenderer\"},{\"attributes\":{\"axis_label\":\"num_years\",\"formatter\":{\"id\":\"43340\"},\"major_label_policy\":{\"id\":\"43341\"},\"ticker\":{\"id\":\"43310\"}},\"id\":\"43309\",\"type\":\"LinearAxis\"},{\"attributes\":{},\"id\":\"43268\",\"type\":\"BasicTicker\"},{\"attributes\":{\"axis_label\":\"num_years\",\"formatter\":{\"id\":\"43386\"},\"major_label_policy\":{\"id\":\"43387\"},\"ticker\":{\"id\":\"43356\"}},\"id\":\"43355\",\"type\":\"LinearAxis\"},{\"attributes\":{},\"id\":\"43367\",\"type\":\"ResetTool\"},{\"attributes\":{\"line_alpha\":0.2,\"line_color\":\"#30a2da\",\"line_width\":2,\"x\":{\"field\":\"num_years\"},\"y\":{\"field\":\"wall_time\"}},\"id\":\"43381\",\"type\":\"Line\"},{\"attributes\":{\"overlay\":{\"id\":\"43322\"}},\"id\":\"43320\",\"type\":\"BoxZoomTool\"},{\"attributes\":{\"data\":{\"num_years\":{\"__ndarray__\":\"AAAAAAAA8D8AAAAAAAAUQAAAAAAAACRAAAAAAAAANEAAAAAAAAA+QAAAAAAAAERAAAAAAAAASUAAAAAAAABOQAAAAAAAAPA/AAAAAAAAFEAAAAAAAAAkQAAAAAAAADRAAAAAAAAAPkAAAAAAAABEQAAAAAAAAElAAAAAAAAATkA=\",\"dtype\":\"float64\",\"order\":\"little\",\"shape\":[16]},\"wall_time\":{\"__ndarray__\":\"AAAAIFg5AUAAAAAA+AbXPwAAAAAMAc4/AAAAAIJzzj8AAAAANIXPPwAAAACUy7s/AAAAALhA0D8AAAAAxPW6PwAAAICHNOM/AAAAQFOm+j8AAADA/yMLQAAAAAjh2SFAAAAANNAAMEAAAADcdY49QAAAAH4Ao0VAAAAAxo5VTEA=\",\"dtype\":\"float64\",\"order\":\"little\",\"shape\":[16]}},\"selected\":{\"id\":\"43285\"},\"selection_policy\":{\"id\":\"43399\"}},\"id\":\"43284\",\"type\":\"ColumnDataSource\"},{\"attributes\":{\"source\":{\"id\":\"43284\"}},\"id\":\"43291\",\"type\":\"CDSView\"},{\"attributes\":{},\"id\":\"43294\",\"type\":\"BasicTickFormatter\"},{\"attributes\":{\"axis\":{\"id\":\"43355\"},\"grid_line_color\":null,\"ticker\":null},\"id\":\"43358\",\"type\":\"Grid\"},{\"attributes\":{},\"id\":\"43272\",\"type\":\"PanTool\"},{\"attributes\":{\"margin\":[5,5,5,5],\"name\":\"HSpacer06122\",\"sizing_mode\":\"stretch_width\"},\"id\":\"43698\",\"type\":\"Spacer\"},{\"attributes\":{\"bottom_units\":\"screen\",\"fill_alpha\":0.5,\"fill_color\":\"lightgrey\",\"left_units\":\"screen\",\"level\":\"overlay\",\"line_alpha\":1.0,\"line_color\":\"black\",\"line_dash\":[4,4],\"line_width\":2,\"right_units\":\"screen\",\"syncable\":false,\"top_units\":\"screen\"},\"id\":\"43322\",\"type\":\"BoxAnnotation\"},{\"attributes\":{},\"id\":\"43389\",\"type\":\"BasicTickFormatter\"},{\"attributes\":{\"data\":{\"num_years\":{\"__ndarray__\":\"AAAAAAAA8D8AAAAAAAAUQAAAAAAAACRAAAAAAAAANEAAAAAAAAA+QAAAAAAAAERAAAAAAAAASUAAAAAAAABOQAAAAAAAAPA/AAAAAAAAFEAAAAAAAAAkQAAAAAAAADRAAAAAAAAAPkAAAAAAAABEQAAAAAAAAElAAAAAAAAATkA=\",\"dtype\":\"float64\",\"order\":\"little\",\"shape\":[16]},\"wall_time\":{\"__ndarray__\":\"AAAAoKEPBkAAAAAAZ4HxPwAAAADCMfM/AAAAQJ6d8j8AAABALG3+PwAAAMDnxvc/AAAAQNwz+j8AAABAoJn3PwAAAAD6xe4/AAAAgC+HAkAAAADgkLMOQAAAAHA+byNAAAAAdLrbMUAAAAC87ks/QAAAAIhlPkdAAAAAcE/oT0A=\",\"dtype\":\"float64\",\"order\":\"little\",\"shape\":[16]}},\"selected\":{\"id\":\"43331\"},\"selection_policy\":{\"id\":\"43410\"}},\"id\":\"43330\",\"type\":\"ColumnDataSource\"},{\"attributes\":{},\"id\":\"43310\",\"type\":\"BasicTicker\"},{\"attributes\":{\"line_color\":\"#30a2da\",\"line_width\":2,\"x\":{\"field\":\"num_years\"},\"y\":{\"field\":\"wall_time\"}},\"id\":\"43333\",\"type\":\"Line\"},{\"attributes\":{},\"id\":\"43387\",\"type\":\"AllLabels\"},{\"attributes\":{},\"id\":\"43341\",\"type\":\"AllLabels\"},{\"attributes\":{\"active_multi\":null,\"tools\":[{\"id\":\"43345\"},{\"id\":\"43363\"},{\"id\":\"43364\"},{\"id\":\"43365\"},{\"id\":\"43366\"},{\"id\":\"43367\"}]},\"id\":\"43369\",\"type\":\"Toolbar\"},{\"attributes\":{},\"id\":\"43305\",\"type\":\"LinearScale\"},{\"attributes\":{},\"id\":\"43410\",\"type\":\"UnionRenderers\"},{\"attributes\":{},\"id\":\"43365\",\"type\":\"WheelZoomTool\"},{\"attributes\":{},\"id\":\"43356\",\"type\":\"BasicTicker\"},{\"attributes\":{},\"id\":\"43399\",\"type\":\"UnionRenderers\"},{\"attributes\":{\"callback\":null,\"renderers\":[{\"id\":\"43382\"}],\"tags\":[\"hv_created\"],\"tooltips\":[[\"num_years\",\"@{num_years}\"],[\"wall_time\",\"@{wall_time}\"]]},\"id\":\"43345\",\"type\":\"HoverTool\"},{\"attributes\":{\"toolbars\":[{\"id\":\"43277\"},{\"id\":\"43323\"},{\"id\":\"43369\"}],\"tools\":[{\"id\":\"43253\"},{\"id\":\"43271\"},{\"id\":\"43272\"},{\"id\":\"43273\"},{\"id\":\"43274\"},{\"id\":\"43275\"},{\"id\":\"43299\"},{\"id\":\"43317\"},{\"id\":\"43318\"},{\"id\":\"43319\"},{\"id\":\"43320\"},{\"id\":\"43321\"},{\"id\":\"43345\"},{\"id\":\"43363\"},{\"id\":\"43364\"},{\"id\":\"43365\"},{\"id\":\"43366\"},{\"id\":\"43367\"}]},\"id\":\"43425\",\"type\":\"ProxyToolbar\"},{\"attributes\":{},\"id\":\"43360\",\"type\":\"BasicTicker\"},{\"attributes\":{},\"id\":\"43321\",\"type\":\"ResetTool\"},{\"attributes\":{},\"id\":\"43259\",\"type\":\"LinearScale\"},{\"attributes\":{\"line_alpha\":0.1,\"line_color\":\"#30a2da\",\"line_width\":2,\"x\":{\"field\":\"num_years\"},\"y\":{\"field\":\"wall_time\"}},\"id\":\"43288\",\"type\":\"Line\"},{\"attributes\":{},\"id\":\"43351\",\"type\":\"LinearScale\"},{\"attributes\":{\"axis_label\":\"num_years\",\"formatter\":{\"id\":\"43294\"},\"major_label_policy\":{\"id\":\"43295\"},\"ticker\":{\"id\":\"43264\"}},\"id\":\"43263\",\"type\":\"LinearAxis\"},{\"attributes\":{\"end\":60.0,\"reset_end\":60.0,\"reset_start\":1.0,\"start\":1.0,\"tags\":[[[\"num_years\",\"num_years\",null]]]},\"id\":\"43251\",\"type\":\"Range1d\"},{\"attributes\":{},\"id\":\"43271\",\"type\":\"SaveTool\"},{\"attributes\":{\"children\":[{\"id\":\"43250\"},{\"id\":\"43427\"},{\"id\":\"43698\"}],\"margin\":[0,0,0,0],\"name\":\"Row06117\",\"tags\":[\"embedded\"]},\"id\":\"43249\",\"type\":\"Row\"},{\"attributes\":{\"toolbar\":{\"id\":\"43425\"},\"toolbar_location\":\"above\"},\"id\":\"43426\",\"type\":\"ToolbarBox\"},{\"attributes\":{\"axis_label\":\"Time (s)\",\"formatter\":{\"id\":\"43343\"},\"major_label_policy\":{\"id\":\"43344\"},\"ticker\":{\"id\":\"43314\"}},\"id\":\"43313\",\"type\":\"LinearAxis\"},{\"attributes\":{\"text\":\"Long term mean\",\"text_color\":\"black\",\"text_font_size\":\"12pt\"},\"id\":\"43301\",\"type\":\"Title\"},{\"attributes\":{\"text\":\"No computation\",\"text_color\":\"black\",\"text_font_size\":\"12pt\"},\"id\":\"43255\",\"type\":\"Title\"},{\"attributes\":{\"text\":\"Monthly climatology\",\"text_color\":\"black\",\"text_font_size\":\"12pt\"},\"id\":\"43347\",\"type\":\"Title\"},{\"attributes\":{\"axis\":{\"id\":\"43359\"},\"dimension\":1,\"grid_line_color\":null,\"ticker\":null},\"id\":\"43362\",\"type\":\"Grid\"},{\"attributes\":{\"axis_label\":\"Time (s)\",\"formatter\":{\"id\":\"43389\"},\"major_label_policy\":{\"id\":\"43390\"},\"ticker\":{\"id\":\"43360\"}},\"id\":\"43359\",\"type\":\"LinearAxis\"},{\"attributes\":{\"line_color\":\"#30a2da\",\"line_width\":2,\"x\":{\"field\":\"num_years\"},\"y\":{\"field\":\"wall_time\"}},\"id\":\"43287\",\"type\":\"Line\"},{\"attributes\":{},\"id\":\"43364\",\"type\":\"PanTool\"},{\"attributes\":{\"line_alpha\":0.1,\"line_color\":\"#30a2da\",\"line_width\":2,\"x\":{\"field\":\"num_years\"},\"y\":{\"field\":\"wall_time\"}},\"id\":\"43380\",\"type\":\"Line\"},{\"attributes\":{},\"id\":\"43343\",\"type\":\"BasicTickFormatter\"},{\"attributes\":{\"line_alpha\":0.2,\"line_color\":\"#30a2da\",\"line_width\":2,\"x\":{\"field\":\"num_years\"},\"y\":{\"field\":\"wall_time\"}},\"id\":\"43289\",\"type\":\"Line\"},{\"attributes\":{},\"id\":\"43297\",\"type\":\"BasicTickFormatter\"},{\"attributes\":{\"below\":[{\"id\":\"43355\"}],\"center\":[{\"id\":\"43358\"},{\"id\":\"43362\"}],\"height\":300,\"left\":[{\"id\":\"43359\"}],\"margin\":null,\"min_border_bottom\":10,\"min_border_left\":10,\"min_border_right\":10,\"min_border_top\":10,\"renderers\":[{\"id\":\"43382\"}],\"sizing_mode\":\"fixed\",\"title\":{\"id\":\"43347\"},\"toolbar\":{\"id\":\"43369\"},\"toolbar_location\":null,\"width\":400,\"x_range\":{\"id\":\"43251\"},\"x_scale\":{\"id\":\"43351\"},\"y_range\":{\"id\":\"43252\"},\"y_scale\":{\"id\":\"43353\"}},\"id\":\"43346\",\"subtype\":\"Figure\",\"type\":\"Plot\"},{\"attributes\":{},\"id\":\"43273\",\"type\":\"WheelZoomTool\"},{\"attributes\":{\"data_source\":{\"id\":\"43330\"},\"glyph\":{\"id\":\"43333\"},\"hover_glyph\":null,\"muted_glyph\":{\"id\":\"43335\"},\"nonselection_glyph\":{\"id\":\"43334\"},\"selection_glyph\":{\"id\":\"43338\"},\"view\":{\"id\":\"43337\"}},\"id\":\"43336\",\"type\":\"GlyphRenderer\"},{\"attributes\":{\"bottom_units\":\"screen\",\"fill_alpha\":0.5,\"fill_color\":\"lightgrey\",\"left_units\":\"screen\",\"level\":\"overlay\",\"line_alpha\":1.0,\"line_color\":\"black\",\"line_dash\":[4,4],\"line_width\":2,\"right_units\":\"screen\",\"syncable\":false,\"top_units\":\"screen\"},\"id\":\"43368\",\"type\":\"BoxAnnotation\"},{\"attributes\":{\"callback\":null,\"renderers\":[{\"id\":\"43336\"}],\"tags\":[\"hv_created\"],\"tooltips\":[[\"num_years\",\"@{num_years}\"],[\"wall_time\",\"@{wall_time}\"]]},\"id\":\"43299\",\"type\":\"HoverTool\"},{\"attributes\":{},\"id\":\"43261\",\"type\":\"LinearScale\"},{\"attributes\":{},\"id\":\"43377\",\"type\":\"Selection\"},{\"attributes\":{\"overlay\":{\"id\":\"43368\"}},\"id\":\"43366\",\"type\":\"BoxZoomTool\"},{\"attributes\":{\"line_alpha\":0.1,\"line_color\":\"#30a2da\",\"line_width\":2,\"x\":{\"field\":\"num_years\"},\"y\":{\"field\":\"wall_time\"}},\"id\":\"43334\",\"type\":\"Line\"},{\"attributes\":{},\"id\":\"43314\",\"type\":\"BasicTicker\"},{\"attributes\":{\"children\":[{\"id\":\"43426\"},{\"id\":\"43424\"}]},\"id\":\"43427\",\"type\":\"Column\"},{\"attributes\":{\"line_alpha\":0.2,\"line_color\":\"#30a2da\",\"line_width\":2,\"x\":{\"field\":\"num_years\"},\"y\":{\"field\":\"wall_time\"}},\"id\":\"43335\",\"type\":\"Line\"},{\"attributes\":{\"axis\":{\"id\":\"43309\"},\"grid_line_color\":null,\"ticker\":null},\"id\":\"43312\",\"type\":\"Grid\"},{\"attributes\":{},\"id\":\"43386\",\"type\":\"BasicTickFormatter\"},{\"attributes\":{\"bottom_units\":\"screen\",\"fill_alpha\":0.5,\"fill_color\":\"lightgrey\",\"left_units\":\"screen\",\"level\":\"overlay\",\"line_alpha\":1.0,\"line_color\":\"black\",\"line_dash\":[4,4],\"line_width\":2,\"right_units\":\"screen\",\"syncable\":false,\"top_units\":\"screen\"},\"id\":\"43276\",\"type\":\"BoxAnnotation\"},{\"attributes\":{},\"id\":\"43390\",\"type\":\"AllLabels\"},{\"attributes\":{},\"id\":\"43317\",\"type\":\"SaveTool\"},{\"attributes\":{\"end\":70.18588540554046,\"reset_end\":70.18588540554046,\"reset_start\":-6.265648579597474,\"start\":-6.265648579597474,\"tags\":[[[\"wall_time\",\"wall_time\",null]]]},\"id\":\"43252\",\"type\":\"Range1d\"},{\"attributes\":{\"children\":[[{\"id\":\"43254\"},0,0],[{\"id\":\"43300\"},0,1],[{\"id\":\"43346\"},0,2]]},\"id\":\"43424\",\"type\":\"GridBox\"},{\"attributes\":{},\"id\":\"43363\",\"type\":\"SaveTool\"},{\"attributes\":{},\"id\":\"43285\",\"type\":\"Selection\"},{\"attributes\":{\"data\":{\"num_years\":{\"__ndarray__\":\"AAAAAAAA8D8AAAAAAAAUQAAAAAAAACRAAAAAAAAANEAAAAAAAAA+QAAAAAAAAERAAAAAAAAASUAAAAAAAABOQAAAAAAAAPA/AAAAAAAAFEAAAAAAAAAkQAAAAAAAADRAAAAAAAAAPkAAAAAAAABEQAAAAAAAAElAAAAAAAAATkA=\",\"dtype\":\"float64\",\"order\":\"little\",\"shape\":[16]},\"wall_time\":{\"__ndarray__\":\"AAAAQAHMDEAAAAAAPnIHQAAAAABgFgdAAAAAoOtMBEAAAADghCUFQAAAAKCHwgdAAAAAIJTUAEAAAADg7gQDQAAAAIAh+Oo/AAAAoCD6AEAAAACgtj8PQAAAAKAVtiNAAAAA1GynMUAAAAAUO+M/QAAAAJYkJUZAAAAAgO8GT0A=\",\"dtype\":\"float64\",\"order\":\"little\",\"shape\":[16]}},\"selected\":{\"id\":\"43377\"},\"selection_policy\":{\"id\":\"43421\"}},\"id\":\"43376\",\"type\":\"ColumnDataSource\"},{\"attributes\":{\"line_color\":\"#30a2da\",\"line_width\":2,\"x\":{\"field\":\"num_years\"},\"y\":{\"field\":\"wall_time\"}},\"id\":\"43338\",\"type\":\"Line\"},{\"attributes\":{\"below\":[{\"id\":\"43263\"}],\"center\":[{\"id\":\"43266\"},{\"id\":\"43270\"}],\"height\":300,\"left\":[{\"id\":\"43267\"}],\"margin\":null,\"min_border_bottom\":10,\"min_border_left\":10,\"min_border_right\":10,\"min_border_top\":10,\"renderers\":[{\"id\":\"43290\"}],\"sizing_mode\":\"fixed\",\"title\":{\"id\":\"43255\"},\"toolbar\":{\"id\":\"43277\"},\"toolbar_location\":null,\"width\":400,\"x_range\":{\"id\":\"43251\"},\"x_scale\":{\"id\":\"43259\"},\"y_range\":{\"id\":\"43252\"},\"y_scale\":{\"id\":\"43261\"}},\"id\":\"43254\",\"subtype\":\"Figure\",\"type\":\"Plot\"},{\"attributes\":{\"below\":[{\"id\":\"43309\"}],\"center\":[{\"id\":\"43312\"},{\"id\":\"43316\"}],\"height\":300,\"left\":[{\"id\":\"43313\"}],\"margin\":null,\"min_border_bottom\":10,\"min_border_left\":10,\"min_border_right\":10,\"min_border_top\":10,\"renderers\":[{\"id\":\"43336\"}],\"sizing_mode\":\"fixed\",\"title\":{\"id\":\"43301\"},\"toolbar\":{\"id\":\"43323\"},\"toolbar_location\":null,\"width\":400,\"x_range\":{\"id\":\"43251\"},\"x_scale\":{\"id\":\"43305\"},\"y_range\":{\"id\":\"43252\"},\"y_scale\":{\"id\":\"43307\"}},\"id\":\"43300\",\"subtype\":\"Figure\",\"type\":\"Plot\"},{\"attributes\":{\"axis_label\":\"Time (s)\",\"formatter\":{\"id\":\"43297\"},\"major_label_policy\":{\"id\":\"43298\"},\"ticker\":{\"id\":\"43268\"}},\"id\":\"43267\",\"type\":\"LinearAxis\"}],\"root_ids\":[\"43249\"]},\"title\":\"Bokeh Application\",\"version\":\"2.3.3\"}};\n",
       "    var render_items = [{\"docid\":\"12e03b6f-0d86-4772-970a-963a10bb36d9\",\"root_ids\":[\"43249\"],\"roots\":{\"43249\":\"61ecbaa8-b4be-4421-a551-445c12761aca\"}}];\n",
       "    root.Bokeh.embed.embed_items_notebook(docs_json, render_items);\n",
       "  }\n",
       "  if (root.Bokeh !== undefined && root.Bokeh.Panel !== undefined) {\n",
       "    embed_document(root);\n",
       "  } else {\n",
       "    var attempts = 0;\n",
       "    var timer = setInterval(function(root) {\n",
       "      if (root.Bokeh !== undefined && root.Bokeh.Panel !== undefined) {\n",
       "        clearInterval(timer);\n",
       "        embed_document(root);\n",
       "      } else if (document.readyState == \"complete\") {\n",
       "        attempts++;\n",
       "        if (attempts > 200) {\n",
       "          clearInterval(timer);\n",
       "          console.log(\"Bokeh: ERROR: Unable to run BokehJS code because BokehJS library is missing\");\n",
       "        }\n",
       "      }\n",
       "    }, 25, root)\n",
       "  }\n",
       "})(window);</script>"
      ],
      "text/plain": [
       ":Layout\n",
       "   .Curve.No_computation      :Curve   [num_years]   (wall_time)\n",
       "   .Curve.Long_term_mean      :Curve   [num_years]   (wall_time)\n",
       "   .Curve.Monthly_climatology :Curve   [num_years]   (wall_time)"
      ]
     },
     "execution_count": 19,
     "metadata": {
      "application/vnd.holoviews_exec.v0+json": {
       "id": "43249"
      }
     },
     "output_type": "execute_result"
    }
   ],
   "source": [
    "file_read_in = df.loc[df.computation == 'file_access'].hvplot(\n",
    "    x='num_years', y='wall_time', ylabel='Time (s)', width=400, label='No computation'\n",
    ")\n",
    "long_term_mean = df.loc[df.computation == 'long_term_average'].hvplot(\n",
    "    x='num_years', y='wall_time', ylabel='Time (s)', width=400, label='Long term mean'\n",
    ")\n",
    "monthly_average = df.loc[df.computation == 'monthly_average'].hvplot(\n",
    "    x='num_years', y='wall_time', ylabel='Time (s)', width=400, label='Monthly climatology'\n",
    ")\n",
    "\n",
    "file_read_in + long_term_mean + monthly_average"
   ]
  },
  {
   "cell_type": "markdown",
   "id": "e9899b86-d462-47d7-af51-b62699f1d36c",
   "metadata": {
    "tags": []
   },
   "source": [
    "## Visualize the Comparisons\n",
    "Using additional options in [`hvPlot`](https://hvplot.holoviz.org/), we can investigate these comparisons further!"
   ]
  },
  {
   "cell_type": "markdown",
   "id": "6f9bc159-49cf-4a7f-8506-cc1f5f24e1bb",
   "metadata": {},
   "source": [
    "### Intercomparison of Timeseries"
   ]
  },
  {
   "cell_type": "code",
   "execution_count": 20,
   "id": "2ce73db1-0f23-4b11-aa89-00b855de9622",
   "metadata": {},
   "outputs": [
    {
     "data": {},
     "metadata": {},
     "output_type": "display_data"
    },
    {
     "data": {
      "application/vnd.holoviews_exec.v0+json": "",
      "text/html": [
       "<div id='44222'>\n",
       "\n",
       "\n",
       "\n",
       "\n",
       "\n",
       "  <div class=\"bk-root\" id=\"4211ebaf-e14e-4f74-a1a9-d054f9af88f0\" data-root-id=\"44222\"></div>\n",
       "</div>\n",
       "<script type=\"application/javascript\">(function(root) {\n",
       "  function embed_document(root) {\n",
       "    var docs_json = {\"84ff92cd-c53c-4a16-8753-b3de22c4a900\":{\"defs\":[{\"extends\":null,\"module\":null,\"name\":\"ReactiveHTML1\",\"overrides\":[],\"properties\":[]},{\"extends\":null,\"module\":null,\"name\":\"FlexBox1\",\"overrides\":[],\"properties\":[{\"default\":\"flex-start\",\"kind\":null,\"name\":\"align_content\"},{\"default\":\"flex-start\",\"kind\":null,\"name\":\"align_items\"},{\"default\":\"row\",\"kind\":null,\"name\":\"flex_direction\"},{\"default\":\"wrap\",\"kind\":null,\"name\":\"flex_wrap\"},{\"default\":\"flex-start\",\"kind\":null,\"name\":\"justify_content\"}]},{\"extends\":null,\"module\":null,\"name\":\"TemplateActions1\",\"overrides\":[],\"properties\":[{\"default\":0,\"kind\":null,\"name\":\"open_modal\"},{\"default\":0,\"kind\":null,\"name\":\"close_modal\"}]},{\"extends\":null,\"module\":null,\"name\":\"MaterialTemplateActions1\",\"overrides\":[],\"properties\":[{\"default\":0,\"kind\":null,\"name\":\"open_modal\"},{\"default\":0,\"kind\":null,\"name\":\"close_modal\"}]}],\"roots\":{\"references\":[{\"attributes\":{},\"id\":\"44254\",\"type\":\"WheelZoomTool\"},{\"attributes\":{\"overlay\":{\"id\":\"44257\"}},\"id\":\"44255\",\"type\":\"BoxZoomTool\"},{\"attributes\":{},\"id\":\"44293\",\"type\":\"Selection\"},{\"attributes\":{\"below\":[{\"id\":\"44244\"}],\"center\":[{\"id\":\"44247\"},{\"id\":\"44251\"}],\"height\":300,\"left\":[{\"id\":\"44248\"}],\"margin\":null,\"min_border_bottom\":10,\"min_border_left\":10,\"min_border_right\":10,\"min_border_top\":10,\"renderers\":[{\"id\":\"44277\"},{\"id\":\"44298\"},{\"id\":\"44320\"}],\"right\":[{\"id\":\"44289\"}],\"sizing_mode\":\"fixed\",\"title\":{\"id\":\"44236\"},\"toolbar\":{\"id\":\"44258\"},\"toolbar_location\":null,\"width\":550,\"x_range\":{\"id\":\"44230\"},\"x_scale\":{\"id\":\"44240\"},\"y_range\":{\"id\":\"44231\"},\"y_scale\":{\"id\":\"44242\"}},\"id\":\"44235\",\"subtype\":\"Figure\",\"type\":\"Plot\"},{\"attributes\":{\"label\":{\"value\":\"file_access\"},\"renderers\":[{\"id\":\"44277\"}]},\"id\":\"44290\",\"type\":\"LegendItem\"},{\"attributes\":{\"format\":\"0,0.0[00000]\"},\"id\":\"44453\",\"type\":\"NumberFormatter\"},{\"attributes\":{\"data_source\":{\"id\":\"44314\"},\"glyph\":{\"id\":\"44317\"},\"hover_glyph\":null,\"muted_glyph\":{\"id\":\"44319\"},\"nonselection_glyph\":{\"id\":\"44318\"},\"selection_glyph\":{\"id\":\"44337\"},\"view\":{\"id\":\"44321\"}},\"id\":\"44320\",\"type\":\"GlyphRenderer\"},{\"attributes\":{\"axis\":{\"id\":\"44244\"},\"grid_line_color\":null,\"ticker\":null},\"id\":\"44247\",\"type\":\"Grid\"},{\"attributes\":{},\"id\":\"44270\",\"type\":\"AllLabels\"},{\"attributes\":{\"margin\":[5,5,5,5],\"name\":\"HSpacer06721\",\"sizing_mode\":\"stretch_width\"},\"id\":\"44223\",\"type\":\"Spacer\"},{\"attributes\":{\"end\":3.9490416765213014,\"reset_end\":3.9490416765213014,\"reset_start\":-0.2441173315048218,\"start\":-0.2441173315048218,\"tags\":[[[\"wall_time\",\"wall_time\",null]]]},\"id\":\"44231\",\"type\":\"Range1d\"},{\"attributes\":{\"axis_label\":\"Wall Time (s)\",\"formatter\":{\"id\":\"44269\"},\"major_label_policy\":{\"id\":\"44270\"},\"ticker\":{\"id\":\"44249\"}},\"id\":\"44248\",\"type\":\"LinearAxis\"},{\"attributes\":{},\"id\":\"44249\",\"type\":\"BasicTicker\"},{\"attributes\":{\"line_alpha\":0.2,\"line_color\":\"#e5ae38\",\"line_width\":2,\"x\":{\"field\":\"num_years\"},\"y\":{\"field\":\"wall_time\"}},\"id\":\"44319\",\"type\":\"Line\"},{\"attributes\":{},\"id\":\"44439\",\"type\":\"StringEditor\"},{\"attributes\":{},\"id\":\"44252\",\"type\":\"SaveTool\"},{\"attributes\":{},\"id\":\"44438\",\"type\":\"StringFormatter\"},{\"attributes\":{\"line_alpha\":0.1,\"line_color\":\"#e5ae38\",\"line_width\":2,\"x\":{\"field\":\"num_years\"},\"y\":{\"field\":\"wall_time\"}},\"id\":\"44318\",\"type\":\"Line\"},{\"attributes\":{},\"id\":\"44272\",\"type\":\"Selection\"},{\"attributes\":{},\"id\":\"44443\",\"type\":\"StringFormatter\"},{\"attributes\":{\"axis_label\":\"Number of Years\",\"formatter\":{\"id\":\"44266\"},\"major_label_policy\":{\"id\":\"44267\"},\"ticker\":{\"id\":\"44245\"}},\"id\":\"44244\",\"type\":\"LinearAxis\"},{\"attributes\":{\"text_color\":\"black\",\"text_font_size\":\"12pt\"},\"id\":\"44236\",\"type\":\"Title\"},{\"attributes\":{\"line_alpha\":0.1,\"line_color\":\"#30a2da\",\"line_width\":2,\"x\":{\"field\":\"num_years\"},\"y\":{\"field\":\"wall_time\"}},\"id\":\"44275\",\"type\":\"Line\"},{\"attributes\":{\"editor\":{\"id\":\"44439\"},\"field\":\"catalog\",\"formatter\":{\"id\":\"44438\"},\"title\":\"catalog\"},\"id\":\"44440\",\"type\":\"TableColumn\"},{\"attributes\":{},\"id\":\"44287\",\"type\":\"UnionRenderers\"},{\"attributes\":{\"data\":{\"computation\":[\"monthly_average\",\"monthly_average\",\"monthly_average\",\"monthly_average\",\"monthly_average\",\"monthly_average\",\"monthly_average\",\"monthly_average\"],\"num_years\":{\"__ndarray__\":\"AAAAAAAA8D8AAAAAAAAUQAAAAAAAACRAAAAAAAAANEAAAAAAAAA+QAAAAAAAAERAAAAAAAAASUAAAAAAAABOQA==\",\"dtype\":\"float64\",\"order\":\"little\",\"shape\":[8]},\"wall_time\":{\"__ndarray__\":\"AAAAQAHMDEAAAAAAPnIHQAAAAABgFgdAAAAAoOtMBEAAAADghCUFQAAAAKCHwgdAAAAAIJTUAEAAAADg7gQDQA==\",\"dtype\":\"float64\",\"order\":\"little\",\"shape\":[8]}},\"selected\":{\"id\":\"44315\"},\"selection_policy\":{\"id\":\"44334\"}},\"id\":\"44314\",\"type\":\"ColumnDataSource\"},{\"attributes\":{\"editor\":{\"id\":\"44444\"},\"field\":\"computation\",\"formatter\":{\"id\":\"44443\"},\"title\":\"computation\"},\"id\":\"44445\",\"type\":\"TableColumn\"},{\"attributes\":{},\"id\":\"44310\",\"type\":\"UnionRenderers\"},{\"attributes\":{\"data_source\":{\"id\":\"44271\"},\"glyph\":{\"id\":\"44274\"},\"hover_glyph\":null,\"muted_glyph\":{\"id\":\"44276\"},\"nonselection_glyph\":{\"id\":\"44275\"},\"selection_glyph\":{\"id\":\"44291\"},\"view\":{\"id\":\"44278\"}},\"id\":\"44277\",\"type\":\"GlyphRenderer\"},{\"attributes\":{},\"id\":\"44240\",\"type\":\"LinearScale\"},{\"attributes\":{\"line_color\":\"#e5ae38\",\"line_width\":2,\"x\":{\"field\":\"num_years\"},\"y\":{\"field\":\"wall_time\"}},\"id\":\"44317\",\"type\":\"Line\"},{\"attributes\":{\"end\":60.0,\"reset_end\":60.0,\"reset_start\":1.0,\"start\":1.0,\"tags\":[[[\"num_years\",\"num_years\",null]]]},\"id\":\"44230\",\"type\":\"Range1d\"},{\"attributes\":{},\"id\":\"44253\",\"type\":\"PanTool\"},{\"attributes\":{\"format\":\"0,0.0[00000]\"},\"id\":\"44448\",\"type\":\"NumberFormatter\"},{\"attributes\":{\"line_color\":\"#fc4f30\",\"line_width\":2,\"x\":{\"field\":\"num_years\"},\"y\":{\"field\":\"wall_time\"}},\"id\":\"44295\",\"type\":\"Line\"},{\"attributes\":{},\"id\":\"44334\",\"type\":\"UnionRenderers\"},{\"attributes\":{\"toolbars\":[{\"id\":\"44258\"}],\"tools\":[{\"id\":\"44232\"},{\"id\":\"44252\"},{\"id\":\"44253\"},{\"id\":\"44254\"},{\"id\":\"44255\"},{\"id\":\"44256\"}]},\"id\":\"44479\",\"type\":\"ProxyToolbar\"},{\"attributes\":{},\"id\":\"44266\",\"type\":\"BasicTickFormatter\"},{\"attributes\":{\"children\":[{\"id\":\"44480\"},{\"id\":\"44478\"}]},\"id\":\"44481\",\"type\":\"Column\"},{\"attributes\":{\"columns\":[{\"id\":\"44440\"},{\"id\":\"44445\"},{\"id\":\"44450\"},{\"id\":\"44455\"}],\"height\":300,\"reorderable\":false,\"source\":{\"id\":\"44436\"},\"view\":{\"id\":\"44460\"},\"width\":420},\"id\":\"44458\",\"type\":\"DataTable\"},{\"attributes\":{},\"id\":\"44449\",\"type\":\"NumberEditor\"},{\"attributes\":{},\"id\":\"44267\",\"type\":\"AllLabels\"},{\"attributes\":{\"line_color\":\"#fc4f30\",\"line_width\":2,\"x\":{\"field\":\"num_years\"},\"y\":{\"field\":\"wall_time\"}},\"id\":\"44313\",\"type\":\"Line\"},{\"attributes\":{\"toolbar\":{\"id\":\"44479\"},\"toolbar_location\":\"above\"},\"id\":\"44480\",\"type\":\"ToolbarBox\"},{\"attributes\":{},\"id\":\"44242\",\"type\":\"LinearScale\"},{\"attributes\":{},\"id\":\"44454\",\"type\":\"NumberEditor\"},{\"attributes\":{\"data\":{\"computation\":[\"long_term_average\",\"long_term_average\",\"long_term_average\",\"long_term_average\",\"long_term_average\",\"long_term_average\",\"long_term_average\",\"long_term_average\"],\"num_years\":{\"__ndarray__\":\"AAAAAAAA8D8AAAAAAAAUQAAAAAAAACRAAAAAAAAANEAAAAAAAAA+QAAAAAAAAERAAAAAAAAASUAAAAAAAABOQA==\",\"dtype\":\"float64\",\"order\":\"little\",\"shape\":[8]},\"wall_time\":{\"__ndarray__\":\"AAAAoKEPBkAAAAAAZ4HxPwAAAADCMfM/AAAAQJ6d8j8AAABALG3+PwAAAMDnxvc/AAAAQNwz+j8AAABAoJn3Pw==\",\"dtype\":\"float64\",\"order\":\"little\",\"shape\":[8]}},\"selected\":{\"id\":\"44293\"},\"selection_policy\":{\"id\":\"44310\"}},\"id\":\"44292\",\"type\":\"ColumnDataSource\"},{\"attributes\":{\"bottom_units\":\"screen\",\"fill_alpha\":0.5,\"fill_color\":\"lightgrey\",\"left_units\":\"screen\",\"level\":\"overlay\",\"line_alpha\":1.0,\"line_color\":\"black\",\"line_dash\":[4,4],\"line_width\":2,\"right_units\":\"screen\",\"syncable\":false,\"top_units\":\"screen\"},\"id\":\"44257\",\"type\":\"BoxAnnotation\"},{\"attributes\":{\"source\":{\"id\":\"44314\"}},\"id\":\"44321\",\"type\":\"CDSView\"},{\"attributes\":{\"label\":{\"value\":\"long_term_average\"},\"renderers\":[{\"id\":\"44298\"}]},\"id\":\"44312\",\"type\":\"LegendItem\"},{\"attributes\":{},\"id\":\"44315\",\"type\":\"Selection\"},{\"attributes\":{},\"id\":\"44256\",\"type\":\"ResetTool\"},{\"attributes\":{\"editor\":{\"id\":\"44449\"},\"field\":\"num_years\",\"formatter\":{\"id\":\"44448\"},\"title\":\"num_years\"},\"id\":\"44450\",\"type\":\"TableColumn\"},{\"attributes\":{\"label\":{\"value\":\"monthly_average\"},\"renderers\":[{\"id\":\"44320\"}]},\"id\":\"44336\",\"type\":\"LegendItem\"},{\"attributes\":{\"source\":{\"id\":\"44292\"}},\"id\":\"44299\",\"type\":\"CDSView\"},{\"attributes\":{\"line_color\":\"#e5ae38\",\"line_width\":2,\"x\":{\"field\":\"num_years\"},\"y\":{\"field\":\"wall_time\"}},\"id\":\"44337\",\"type\":\"Line\"},{\"attributes\":{\"data_source\":{\"id\":\"44292\"},\"glyph\":{\"id\":\"44295\"},\"hover_glyph\":null,\"muted_glyph\":{\"id\":\"44297\"},\"nonselection_glyph\":{\"id\":\"44296\"},\"selection_glyph\":{\"id\":\"44313\"},\"view\":{\"id\":\"44299\"}},\"id\":\"44298\",\"type\":\"GlyphRenderer\"},{\"attributes\":{\"line_alpha\":0.2,\"line_color\":\"#30a2da\",\"line_width\":2,\"x\":{\"field\":\"num_years\"},\"y\":{\"field\":\"wall_time\"}},\"id\":\"44276\",\"type\":\"Line\"},{\"attributes\":{},\"id\":\"44437\",\"type\":\"Selection\"},{\"attributes\":{\"line_alpha\":0.2,\"line_color\":\"#fc4f30\",\"line_width\":2,\"x\":{\"field\":\"num_years\"},\"y\":{\"field\":\"wall_time\"}},\"id\":\"44297\",\"type\":\"Line\"},{\"attributes\":{},\"id\":\"44444\",\"type\":\"StringEditor\"},{\"attributes\":{\"axis\":{\"id\":\"44248\"},\"dimension\":1,\"grid_line_color\":null,\"ticker\":null},\"id\":\"44251\",\"type\":\"Grid\"},{\"attributes\":{\"children\":[[{\"id\":\"44235\"},0,0],[{\"id\":\"44458\"},0,1]]},\"id\":\"44478\",\"type\":\"GridBox\"},{\"attributes\":{\"data\":{\"computation\":[\"file_access\",\"file_access\",\"file_access\",\"file_access\",\"file_access\",\"file_access\",\"file_access\",\"file_access\"],\"num_years\":{\"__ndarray__\":\"AAAAAAAA8D8AAAAAAAAUQAAAAAAAACRAAAAAAAAANEAAAAAAAAA+QAAAAAAAAERAAAAAAAAASUAAAAAAAABOQA==\",\"dtype\":\"float64\",\"order\":\"little\",\"shape\":[8]},\"wall_time\":{\"__ndarray__\":\"AAAAIFg5AUAAAAAA+AbXPwAAAAAMAc4/AAAAAIJzzj8AAAAANIXPPwAAAACUy7s/AAAAALhA0D8AAAAAxPW6Pw==\",\"dtype\":\"float64\",\"order\":\"little\",\"shape\":[8]}},\"selected\":{\"id\":\"44272\"},\"selection_policy\":{\"id\":\"44287\"}},\"id\":\"44271\",\"type\":\"ColumnDataSource\"},{\"attributes\":{\"children\":[{\"id\":\"44223\"},{\"id\":\"44481\"},{\"id\":\"44632\"}],\"margin\":[0,0,0,0],\"name\":\"Row06717\",\"tags\":[\"embedded\"]},\"id\":\"44222\",\"type\":\"Row\"},{\"attributes\":{\"active_multi\":null,\"tools\":[{\"id\":\"44232\"},{\"id\":\"44252\"},{\"id\":\"44253\"},{\"id\":\"44254\"},{\"id\":\"44255\"},{\"id\":\"44256\"}]},\"id\":\"44258\",\"type\":\"Toolbar\"},{\"attributes\":{\"source\":{\"id\":\"44436\"}},\"id\":\"44460\",\"type\":\"CDSView\"},{\"attributes\":{\"source\":{\"id\":\"44271\"}},\"id\":\"44278\",\"type\":\"CDSView\"},{\"attributes\":{\"line_alpha\":0.1,\"line_color\":\"#fc4f30\",\"line_width\":2,\"x\":{\"field\":\"num_years\"},\"y\":{\"field\":\"wall_time\"}},\"id\":\"44296\",\"type\":\"Line\"},{\"attributes\":{\"callback\":null,\"renderers\":[{\"id\":\"44277\"},{\"id\":\"44298\"},{\"id\":\"44320\"}],\"tags\":[\"hv_created\"],\"tooltips\":[[\"computation\",\"@{computation}\"],[\"num_years\",\"@{num_years}\"],[\"wall_time\",\"@{wall_time}\"]]},\"id\":\"44232\",\"type\":\"HoverTool\"},{\"attributes\":{},\"id\":\"44477\",\"type\":\"UnionRenderers\"},{\"attributes\":{\"line_color\":\"#30a2da\",\"line_width\":2,\"x\":{\"field\":\"num_years\"},\"y\":{\"field\":\"wall_time\"}},\"id\":\"44274\",\"type\":\"Line\"},{\"attributes\":{},\"id\":\"44245\",\"type\":\"BasicTicker\"},{\"attributes\":{\"line_color\":\"#30a2da\",\"line_width\":2,\"x\":{\"field\":\"num_years\"},\"y\":{\"field\":\"wall_time\"}},\"id\":\"44291\",\"type\":\"Line\"},{\"attributes\":{},\"id\":\"44269\",\"type\":\"BasicTickFormatter\"},{\"attributes\":{\"editor\":{\"id\":\"44454\"},\"field\":\"wall_time\",\"formatter\":{\"id\":\"44453\"},\"title\":\"wall_time\"},\"id\":\"44455\",\"type\":\"TableColumn\"},{\"attributes\":{\"click_policy\":\"mute\",\"items\":[{\"id\":\"44290\"},{\"id\":\"44312\"},{\"id\":\"44336\"}],\"location\":[0,0],\"title\":\"computation\"},\"id\":\"44289\",\"type\":\"Legend\"},{\"attributes\":{\"data\":{\"catalog\":[\"timeseries\",\"timeseries\",\"timeseries\",\"timeseries\",\"timeseries\",\"timeseries\",\"timeseries\",\"timeseries\",\"timeseries\",\"timeseries\",\"timeseries\",\"timeseries\",\"timeseries\",\"timeseries\",\"timeseries\",\"timeseries\",\"timeseries\",\"timeseries\",\"timeseries\",\"timeseries\",\"timeseries\",\"timeseries\",\"timeseries\",\"timeseries\"],\"computation\":[\"file_access\",\"long_term_average\",\"monthly_average\",\"file_access\",\"long_term_average\",\"monthly_average\",\"file_access\",\"long_term_average\",\"monthly_average\",\"file_access\",\"long_term_average\",\"monthly_average\",\"file_access\",\"long_term_average\",\"monthly_average\",\"file_access\",\"long_term_average\",\"monthly_average\",\"file_access\",\"long_term_average\",\"monthly_average\",\"file_access\",\"long_term_average\",\"monthly_average\"],\"num_years\":{\"__ndarray__\":\"AAAAAAAA8D8AAAAAAADwPwAAAAAAAPA/AAAAAAAAFEAAAAAAAAAUQAAAAAAAABRAAAAAAAAAJEAAAAAAAAAkQAAAAAAAACRAAAAAAAAANEAAAAAAAAA0QAAAAAAAADRAAAAAAAAAPkAAAAAAAAA+QAAAAAAAAD5AAAAAAAAAREAAAAAAAABEQAAAAAAAAERAAAAAAAAASUAAAAAAAABJQAAAAAAAAElAAAAAAAAATkAAAAAAAABOQAAAAAAAAE5A\",\"dtype\":\"float64\",\"order\":\"little\",\"shape\":[24]},\"wall_time\":{\"__ndarray__\":\"AAAAIFg5AUAAAACgoQ8GQAAAAEABzAxAAAAAAPgG1z8AAAAAZ4HxPwAAAAA+cgdAAAAAAAwBzj8AAAAAwjHzPwAAAABgFgdAAAAAAIJzzj8AAABAnp3yPwAAAKDrTARAAAAAADSFzz8AAABALG3+PwAAAOCEJQVAAAAAAJTLuz8AAADA58b3PwAAAKCHwgdAAAAAALhA0D8AAABA3DP6PwAAACCU1ABAAAAAAMT1uj8AAABAoJn3PwAAAODuBANA\",\"dtype\":\"float64\",\"order\":\"little\",\"shape\":[24]}},\"selected\":{\"id\":\"44437\"},\"selection_policy\":{\"id\":\"44477\"}},\"id\":\"44436\",\"type\":\"ColumnDataSource\"},{\"attributes\":{\"margin\":[5,5,5,5],\"name\":\"HSpacer06722\",\"sizing_mode\":\"stretch_width\"},\"id\":\"44632\",\"type\":\"Spacer\"}],\"root_ids\":[\"44222\"]},\"title\":\"Bokeh Application\",\"version\":\"2.3.3\"}};\n",
       "    var render_items = [{\"docid\":\"84ff92cd-c53c-4a16-8753-b3de22c4a900\",\"root_ids\":[\"44222\"],\"roots\":{\"44222\":\"4211ebaf-e14e-4f74-a1a9-d054f9af88f0\"}}];\n",
       "    root.Bokeh.embed.embed_items_notebook(docs_json, render_items);\n",
       "  }\n",
       "  if (root.Bokeh !== undefined && root.Bokeh.Panel !== undefined) {\n",
       "    embed_document(root);\n",
       "  } else {\n",
       "    var attempts = 0;\n",
       "    var timer = setInterval(function(root) {\n",
       "      if (root.Bokeh !== undefined && root.Bokeh.Panel !== undefined) {\n",
       "        clearInterval(timer);\n",
       "        embed_document(root);\n",
       "      } else if (document.readyState == \"complete\") {\n",
       "        attempts++;\n",
       "        if (attempts > 200) {\n",
       "          clearInterval(timer);\n",
       "          console.log(\"Bokeh: ERROR: Unable to run BokehJS code because BokehJS library is missing\");\n",
       "        }\n",
       "      }\n",
       "    }, 25, root)\n",
       "  }\n",
       "})(window);</script>"
      ],
      "text/plain": [
       ":Layout\n",
       "   .NdOverlay.I :NdOverlay   [computation]\n",
       "      :Curve   [num_years]   (wall_time)\n",
       "   .Table.I     :Table   [catalog,computation,num_years,wall_time]"
      ]
     },
     "execution_count": 20,
     "metadata": {
      "application/vnd.holoviews_exec.v0+json": {
       "id": "44222"
      }
     },
     "output_type": "execute_result"
    }
   ],
   "source": [
    "(\n",
    "    df_timeseries.hvplot(\n",
    "        x='num_years',\n",
    "        y='wall_time',\n",
    "        by='computation',\n",
    "        xlabel='Number of Years',\n",
    "        ylabel='Wall Time (s)',\n",
    "        width=550,\n",
    "    )\n",
    "    + df_timeseries.hvplot.table(width=420)\n",
    ")"
   ]
  },
  {
   "cell_type": "markdown",
   "id": "d8fdcec2-1cf9-4ff4-b5f8-ad7434e11ad1",
   "metadata": {},
   "source": [
    "### Intercomparison of History"
   ]
  },
  {
   "cell_type": "code",
   "execution_count": 21,
   "id": "7e336930-ba2f-44ee-9c30-424991fdbc79",
   "metadata": {},
   "outputs": [
    {
     "data": {},
     "metadata": {},
     "output_type": "display_data"
    },
    {
     "data": {
      "application/vnd.holoviews_exec.v0+json": "",
      "text/html": [
       "<div id='44828'>\n",
       "\n",
       "\n",
       "\n",
       "\n",
       "\n",
       "  <div class=\"bk-root\" id=\"1c987827-23eb-468f-bedf-7fdde6ccb449\" data-root-id=\"44828\"></div>\n",
       "</div>\n",
       "<script type=\"application/javascript\">(function(root) {\n",
       "  function embed_document(root) {\n",
       "    var docs_json = {\"3bbd48d7-fccf-4697-a113-f5975de416a5\":{\"defs\":[{\"extends\":null,\"module\":null,\"name\":\"ReactiveHTML1\",\"overrides\":[],\"properties\":[]},{\"extends\":null,\"module\":null,\"name\":\"FlexBox1\",\"overrides\":[],\"properties\":[{\"default\":\"flex-start\",\"kind\":null,\"name\":\"align_content\"},{\"default\":\"flex-start\",\"kind\":null,\"name\":\"align_items\"},{\"default\":\"row\",\"kind\":null,\"name\":\"flex_direction\"},{\"default\":\"wrap\",\"kind\":null,\"name\":\"flex_wrap\"},{\"default\":\"flex-start\",\"kind\":null,\"name\":\"justify_content\"}]},{\"extends\":null,\"module\":null,\"name\":\"TemplateActions1\",\"overrides\":[],\"properties\":[{\"default\":0,\"kind\":null,\"name\":\"open_modal\"},{\"default\":0,\"kind\":null,\"name\":\"close_modal\"}]},{\"extends\":null,\"module\":null,\"name\":\"MaterialTemplateActions1\",\"overrides\":[],\"properties\":[{\"default\":0,\"kind\":null,\"name\":\"open_modal\"},{\"default\":0,\"kind\":null,\"name\":\"close_modal\"}]}],\"roots\":{\"references\":[{\"attributes\":{},\"id\":\"44846\",\"type\":\"LinearScale\"},{\"attributes\":{\"text_color\":\"black\",\"text_font_size\":\"12pt\"},\"id\":\"44840\",\"type\":\"Title\"},{\"attributes\":{\"data\":{\"computation\":[\"long_term_average\",\"long_term_average\",\"long_term_average\",\"long_term_average\",\"long_term_average\",\"long_term_average\",\"long_term_average\",\"long_term_average\"],\"num_years\":{\"__ndarray__\":\"AAAAAAAA8D8AAAAAAAAUQAAAAAAAACRAAAAAAAAANEAAAAAAAAA+QAAAAAAAAERAAAAAAAAASUAAAAAAAABOQA==\",\"dtype\":\"float64\",\"order\":\"little\",\"shape\":[8]},\"wall_time\":{\"__ndarray__\":\"AAAAAPrF7j8AAACAL4cCQAAAAOCQsw5AAAAAcD5vI0AAAAB0utsxQAAAALzuSz9AAAAAiGU+R0AAAABwT+hPQA==\",\"dtype\":\"float64\",\"order\":\"little\",\"shape\":[8]}},\"selected\":{\"id\":\"44897\"},\"selection_policy\":{\"id\":\"44914\"}},\"id\":\"44896\",\"type\":\"ColumnDataSource\"},{\"attributes\":{\"editor\":{\"id\":\"45050\"},\"field\":\"computation\",\"formatter\":{\"id\":\"45049\"},\"title\":\"computation\"},\"id\":\"45051\",\"type\":\"TableColumn\"},{\"attributes\":{},\"id\":\"44844\",\"type\":\"LinearScale\"},{\"attributes\":{\"active_multi\":null,\"tools\":[{\"id\":\"44836\"},{\"id\":\"44856\"},{\"id\":\"44857\"},{\"id\":\"44858\"},{\"id\":\"44859\"},{\"id\":\"44860\"}]},\"id\":\"44862\",\"type\":\"Toolbar\"},{\"attributes\":{\"source\":{\"id\":\"44875\"}},\"id\":\"44882\",\"type\":\"CDSView\"},{\"attributes\":{},\"id\":\"44858\",\"type\":\"WheelZoomTool\"},{\"attributes\":{},\"id\":\"44871\",\"type\":\"AllLabels\"},{\"attributes\":{\"line_color\":\"#e5ae38\",\"line_width\":2,\"x\":{\"field\":\"num_years\"},\"y\":{\"field\":\"wall_time\"}},\"id\":\"44921\",\"type\":\"Line\"},{\"attributes\":{},\"id\":\"44914\",\"type\":\"UnionRenderers\"},{\"attributes\":{},\"id\":\"45043\",\"type\":\"Selection\"},{\"attributes\":{},\"id\":\"44874\",\"type\":\"AllLabels\"},{\"attributes\":{\"children\":[[{\"id\":\"44839\"},0,0],[{\"id\":\"45064\"},0,1]]},\"id\":\"45084\",\"type\":\"GridBox\"},{\"attributes\":{\"line_color\":\"#fc4f30\",\"line_width\":2,\"x\":{\"field\":\"num_years\"},\"y\":{\"field\":\"wall_time\"}},\"id\":\"44917\",\"type\":\"Line\"},{\"attributes\":{\"source\":{\"id\":\"44896\"}},\"id\":\"44903\",\"type\":\"CDSView\"},{\"attributes\":{},\"id\":\"44876\",\"type\":\"Selection\"},{\"attributes\":{},\"id\":\"45083\",\"type\":\"UnionRenderers\"},{\"attributes\":{\"label\":{\"value\":\"monthly_average\"},\"renderers\":[{\"id\":\"44924\"}]},\"id\":\"44940\",\"type\":\"LegendItem\"},{\"attributes\":{},\"id\":\"44853\",\"type\":\"BasicTicker\"},{\"attributes\":{},\"id\":\"44891\",\"type\":\"UnionRenderers\"},{\"attributes\":{\"axis_label\":\"Wall Time (s)\",\"formatter\":{\"id\":\"44873\"},\"major_label_policy\":{\"id\":\"44874\"},\"ticker\":{\"id\":\"44853\"}},\"id\":\"44852\",\"type\":\"LinearAxis\"},{\"attributes\":{\"source\":{\"id\":\"45042\"}},\"id\":\"45066\",\"type\":\"CDSView\"},{\"attributes\":{\"line_alpha\":0.1,\"line_color\":\"#30a2da\",\"line_width\":2,\"x\":{\"field\":\"num_years\"},\"y\":{\"field\":\"wall_time\"}},\"id\":\"44879\",\"type\":\"Line\"},{\"attributes\":{\"editor\":{\"id\":\"45045\"},\"field\":\"catalog\",\"formatter\":{\"id\":\"45044\"},\"title\":\"catalog\"},\"id\":\"45046\",\"type\":\"TableColumn\"},{\"attributes\":{},\"id\":\"45044\",\"type\":\"StringFormatter\"},{\"attributes\":{\"overlay\":{\"id\":\"44861\"}},\"id\":\"44859\",\"type\":\"BoxZoomTool\"},{\"attributes\":{\"line_alpha\":0.2,\"line_color\":\"#fc4f30\",\"line_width\":2,\"x\":{\"field\":\"num_years\"},\"y\":{\"field\":\"wall_time\"}},\"id\":\"44901\",\"type\":\"Line\"},{\"attributes\":{\"editor\":{\"id\":\"45060\"},\"field\":\"wall_time\",\"formatter\":{\"id\":\"45059\"},\"title\":\"wall_time\"},\"id\":\"45061\",\"type\":\"TableColumn\"},{\"attributes\":{\"bottom_units\":\"screen\",\"fill_alpha\":0.5,\"fill_color\":\"lightgrey\",\"left_units\":\"screen\",\"level\":\"overlay\",\"line_alpha\":1.0,\"line_color\":\"black\",\"line_dash\":[4,4],\"line_width\":2,\"right_units\":\"screen\",\"syncable\":false,\"top_units\":\"screen\"},\"id\":\"44861\",\"type\":\"BoxAnnotation\"},{\"attributes\":{\"columns\":[{\"id\":\"45046\"},{\"id\":\"45051\"},{\"id\":\"45056\"},{\"id\":\"45061\"}],\"height\":300,\"reorderable\":false,\"source\":{\"id\":\"45042\"},\"view\":{\"id\":\"45066\"},\"width\":420},\"id\":\"45064\",\"type\":\"DataTable\"},{\"attributes\":{\"end\":70.13640043735504,\"reset_end\":70.13640043735504,\"reset_start\":-5.721313929557801,\"start\":-5.721313929557801,\"tags\":[[[\"wall_time\",\"wall_time\",null]]]},\"id\":\"44835\",\"type\":\"Range1d\"},{\"attributes\":{\"line_color\":\"#30a2da\",\"line_width\":2,\"x\":{\"field\":\"num_years\"},\"y\":{\"field\":\"wall_time\"}},\"id\":\"44878\",\"type\":\"Line\"},{\"attributes\":{},\"id\":\"44849\",\"type\":\"BasicTicker\"},{\"attributes\":{\"toolbar\":{\"id\":\"45085\"},\"toolbar_location\":\"above\"},\"id\":\"45086\",\"type\":\"ToolbarBox\"},{\"attributes\":{\"click_policy\":\"mute\",\"items\":[{\"id\":\"44894\"},{\"id\":\"44916\"},{\"id\":\"44940\"}],\"location\":[0,0],\"title\":\"computation\"},\"id\":\"44893\",\"type\":\"Legend\"},{\"attributes\":{\"data\":{\"computation\":[\"file_access\",\"file_access\",\"file_access\",\"file_access\",\"file_access\",\"file_access\",\"file_access\",\"file_access\"],\"num_years\":{\"__ndarray__\":\"AAAAAAAA8D8AAAAAAAAUQAAAAAAAACRAAAAAAAAANEAAAAAAAAA+QAAAAAAAAERAAAAAAAAASUAAAAAAAABOQA==\",\"dtype\":\"float64\",\"order\":\"little\",\"shape\":[8]},\"wall_time\":{\"__ndarray__\":\"AAAAgIc04z8AAABAU6b6PwAAAMD/IwtAAAAACOHZIUAAAAA00AAwQAAAANx1jj1AAAAAfgCjRUAAAADGjlVMQA==\",\"dtype\":\"float64\",\"order\":\"little\",\"shape\":[8]}},\"selected\":{\"id\":\"44876\"},\"selection_policy\":{\"id\":\"44891\"}},\"id\":\"44875\",\"type\":\"ColumnDataSource\"},{\"attributes\":{\"axis\":{\"id\":\"44852\"},\"dimension\":1,\"grid_line_color\":null,\"ticker\":null},\"id\":\"44855\",\"type\":\"Grid\"},{\"attributes\":{\"data_source\":{\"id\":\"44918\"},\"glyph\":{\"id\":\"44921\"},\"hover_glyph\":null,\"muted_glyph\":{\"id\":\"44923\"},\"nonselection_glyph\":{\"id\":\"44922\"},\"selection_glyph\":{\"id\":\"44941\"},\"view\":{\"id\":\"44925\"}},\"id\":\"44924\",\"type\":\"GlyphRenderer\"},{\"attributes\":{},\"id\":\"44860\",\"type\":\"ResetTool\"},{\"attributes\":{\"axis\":{\"id\":\"44848\"},\"grid_line_color\":null,\"ticker\":null},\"id\":\"44851\",\"type\":\"Grid\"},{\"attributes\":{\"line_color\":\"#30a2da\",\"line_width\":2,\"x\":{\"field\":\"num_years\"},\"y\":{\"field\":\"wall_time\"}},\"id\":\"44895\",\"type\":\"Line\"},{\"attributes\":{},\"id\":\"45049\",\"type\":\"StringFormatter\"},{\"attributes\":{},\"id\":\"44873\",\"type\":\"BasicTickFormatter\"},{\"attributes\":{\"axis_label\":\"Number of Years\",\"formatter\":{\"id\":\"44870\"},\"major_label_policy\":{\"id\":\"44871\"},\"ticker\":{\"id\":\"44849\"}},\"id\":\"44848\",\"type\":\"LinearAxis\"},{\"attributes\":{},\"id\":\"45045\",\"type\":\"StringEditor\"},{\"attributes\":{\"line_alpha\":0.2,\"line_color\":\"#30a2da\",\"line_width\":2,\"x\":{\"field\":\"num_years\"},\"y\":{\"field\":\"wall_time\"}},\"id\":\"44880\",\"type\":\"Line\"},{\"attributes\":{\"label\":{\"value\":\"long_term_average\"},\"renderers\":[{\"id\":\"44902\"}]},\"id\":\"44916\",\"type\":\"LegendItem\"},{\"attributes\":{\"format\":\"0,0.0[00000]\"},\"id\":\"45059\",\"type\":\"NumberFormatter\"},{\"attributes\":{\"line_alpha\":0.1,\"line_color\":\"#e5ae38\",\"line_width\":2,\"x\":{\"field\":\"num_years\"},\"y\":{\"field\":\"wall_time\"}},\"id\":\"44922\",\"type\":\"Line\"},{\"attributes\":{\"data_source\":{\"id\":\"44896\"},\"glyph\":{\"id\":\"44899\"},\"hover_glyph\":null,\"muted_glyph\":{\"id\":\"44901\"},\"nonselection_glyph\":{\"id\":\"44900\"},\"selection_glyph\":{\"id\":\"44917\"},\"view\":{\"id\":\"44903\"}},\"id\":\"44902\",\"type\":\"GlyphRenderer\"},{\"attributes\":{\"data\":{\"computation\":[\"monthly_average\",\"monthly_average\",\"monthly_average\",\"monthly_average\",\"monthly_average\",\"monthly_average\",\"monthly_average\",\"monthly_average\"],\"num_years\":{\"__ndarray__\":\"AAAAAAAA8D8AAAAAAAAUQAAAAAAAACRAAAAAAAAANEAAAAAAAAA+QAAAAAAAAERAAAAAAAAASUAAAAAAAABOQA==\",\"dtype\":\"float64\",\"order\":\"little\",\"shape\":[8]},\"wall_time\":{\"__ndarray__\":\"AAAAgCH46j8AAACgIPoAQAAAAKC2Pw9AAAAAoBW2I0AAAADUbKcxQAAAABQ74z9AAAAAliQlRkAAAACA7wZPQA==\",\"dtype\":\"float64\",\"order\":\"little\",\"shape\":[8]}},\"selected\":{\"id\":\"44919\"},\"selection_policy\":{\"id\":\"44938\"}},\"id\":\"44918\",\"type\":\"ColumnDataSource\"},{\"attributes\":{},\"id\":\"44938\",\"type\":\"UnionRenderers\"},{\"attributes\":{\"data\":{\"catalog\":[\"history\",\"history\",\"history\",\"history\",\"history\",\"history\",\"history\",\"history\",\"history\",\"history\",\"history\",\"history\",\"history\",\"history\",\"history\",\"history\",\"history\",\"history\",\"history\",\"history\",\"history\",\"history\",\"history\",\"history\"],\"computation\":[\"file_access\",\"long_term_average\",\"monthly_average\",\"file_access\",\"long_term_average\",\"monthly_average\",\"file_access\",\"long_term_average\",\"monthly_average\",\"file_access\",\"long_term_average\",\"monthly_average\",\"file_access\",\"long_term_average\",\"monthly_average\",\"file_access\",\"long_term_average\",\"monthly_average\",\"file_access\",\"long_term_average\",\"monthly_average\",\"file_access\",\"long_term_average\",\"monthly_average\"],\"num_years\":{\"__ndarray__\":\"AAAAAAAA8D8AAAAAAADwPwAAAAAAAPA/AAAAAAAAFEAAAAAAAAAUQAAAAAAAABRAAAAAAAAAJEAAAAAAAAAkQAAAAAAAACRAAAAAAAAANEAAAAAAAAA0QAAAAAAAADRAAAAAAAAAPkAAAAAAAAA+QAAAAAAAAD5AAAAAAAAAREAAAAAAAABEQAAAAAAAAERAAAAAAAAASUAAAAAAAABJQAAAAAAAAElAAAAAAAAATkAAAAAAAABOQAAAAAAAAE5A\",\"dtype\":\"float64\",\"order\":\"little\",\"shape\":[24]},\"wall_time\":{\"__ndarray__\":\"AAAAgIc04z8AAAAA+sXuPwAAAIAh+Oo/AAAAQFOm+j8AAACAL4cCQAAAAKAg+gBAAAAAwP8jC0AAAADgkLMOQAAAAKC2Pw9AAAAACOHZIUAAAABwPm8jQAAAAKAVtiNAAAAANNAAMEAAAAB0utsxQAAAANRspzFAAAAA3HWOPUAAAAC87ks/QAAAABQ74z9AAAAAfgCjRUAAAACIZT5HQAAAAJYkJUZAAAAAxo5VTEAAAABwT+hPQAAAAIDvBk9A\",\"dtype\":\"float64\",\"order\":\"little\",\"shape\":[24]}},\"selected\":{\"id\":\"45043\"},\"selection_policy\":{\"id\":\"45083\"}},\"id\":\"45042\",\"type\":\"ColumnDataSource\"},{\"attributes\":{},\"id\":\"45050\",\"type\":\"StringEditor\"},{\"attributes\":{\"data_source\":{\"id\":\"44875\"},\"glyph\":{\"id\":\"44878\"},\"hover_glyph\":null,\"muted_glyph\":{\"id\":\"44880\"},\"nonselection_glyph\":{\"id\":\"44879\"},\"selection_glyph\":{\"id\":\"44895\"},\"view\":{\"id\":\"44882\"}},\"id\":\"44881\",\"type\":\"GlyphRenderer\"},{\"attributes\":{\"end\":60.0,\"reset_end\":60.0,\"reset_start\":1.0,\"start\":1.0,\"tags\":[[[\"num_years\",\"num_years\",null]]]},\"id\":\"44834\",\"type\":\"Range1d\"},{\"attributes\":{},\"id\":\"45060\",\"type\":\"NumberEditor\"},{\"attributes\":{\"line_color\":\"#fc4f30\",\"line_width\":2,\"x\":{\"field\":\"num_years\"},\"y\":{\"field\":\"wall_time\"}},\"id\":\"44899\",\"type\":\"Line\"},{\"attributes\":{},\"id\":\"44857\",\"type\":\"PanTool\"},{\"attributes\":{},\"id\":\"44919\",\"type\":\"Selection\"},{\"attributes\":{\"callback\":null,\"renderers\":[{\"id\":\"44881\"},{\"id\":\"44902\"},{\"id\":\"44924\"}],\"tags\":[\"hv_created\"],\"tooltips\":[[\"computation\",\"@{computation}\"],[\"num_years\",\"@{num_years}\"],[\"wall_time\",\"@{wall_time}\"]]},\"id\":\"44836\",\"type\":\"HoverTool\"},{\"attributes\":{\"format\":\"0,0.0[00000]\"},\"id\":\"45054\",\"type\":\"NumberFormatter\"},{\"attributes\":{\"children\":[{\"id\":\"44829\"},{\"id\":\"45087\"},{\"id\":\"45238\"}],\"margin\":[0,0,0,0],\"name\":\"Row07551\",\"tags\":[\"embedded\"]},\"id\":\"44828\",\"type\":\"Row\"},{\"attributes\":{\"margin\":[5,5,5,5],\"name\":\"HSpacer07555\",\"sizing_mode\":\"stretch_width\"},\"id\":\"44829\",\"type\":\"Spacer\"},{\"attributes\":{},\"id\":\"44870\",\"type\":\"BasicTickFormatter\"},{\"attributes\":{\"toolbars\":[{\"id\":\"44862\"}],\"tools\":[{\"id\":\"44836\"},{\"id\":\"44856\"},{\"id\":\"44857\"},{\"id\":\"44858\"},{\"id\":\"44859\"},{\"id\":\"44860\"}]},\"id\":\"45085\",\"type\":\"ProxyToolbar\"},{\"attributes\":{\"below\":[{\"id\":\"44848\"}],\"center\":[{\"id\":\"44851\"},{\"id\":\"44855\"}],\"height\":300,\"left\":[{\"id\":\"44852\"}],\"margin\":null,\"min_border_bottom\":10,\"min_border_left\":10,\"min_border_right\":10,\"min_border_top\":10,\"renderers\":[{\"id\":\"44881\"},{\"id\":\"44902\"},{\"id\":\"44924\"}],\"right\":[{\"id\":\"44893\"}],\"sizing_mode\":\"fixed\",\"title\":{\"id\":\"44840\"},\"toolbar\":{\"id\":\"44862\"},\"toolbar_location\":null,\"width\":550,\"x_range\":{\"id\":\"44834\"},\"x_scale\":{\"id\":\"44844\"},\"y_range\":{\"id\":\"44835\"},\"y_scale\":{\"id\":\"44846\"}},\"id\":\"44839\",\"subtype\":\"Figure\",\"type\":\"Plot\"},{\"attributes\":{\"margin\":[5,5,5,5],\"name\":\"HSpacer07556\",\"sizing_mode\":\"stretch_width\"},\"id\":\"45238\",\"type\":\"Spacer\"},{\"attributes\":{\"label\":{\"value\":\"file_access\"},\"renderers\":[{\"id\":\"44881\"}]},\"id\":\"44894\",\"type\":\"LegendItem\"},{\"attributes\":{\"source\":{\"id\":\"44918\"}},\"id\":\"44925\",\"type\":\"CDSView\"},{\"attributes\":{\"editor\":{\"id\":\"45055\"},\"field\":\"num_years\",\"formatter\":{\"id\":\"45054\"},\"title\":\"num_years\"},\"id\":\"45056\",\"type\":\"TableColumn\"},{\"attributes\":{\"line_alpha\":0.2,\"line_color\":\"#e5ae38\",\"line_width\":2,\"x\":{\"field\":\"num_years\"},\"y\":{\"field\":\"wall_time\"}},\"id\":\"44923\",\"type\":\"Line\"},{\"attributes\":{\"line_alpha\":0.1,\"line_color\":\"#fc4f30\",\"line_width\":2,\"x\":{\"field\":\"num_years\"},\"y\":{\"field\":\"wall_time\"}},\"id\":\"44900\",\"type\":\"Line\"},{\"attributes\":{},\"id\":\"44856\",\"type\":\"SaveTool\"},{\"attributes\":{\"line_color\":\"#e5ae38\",\"line_width\":2,\"x\":{\"field\":\"num_years\"},\"y\":{\"field\":\"wall_time\"}},\"id\":\"44941\",\"type\":\"Line\"},{\"attributes\":{},\"id\":\"44897\",\"type\":\"Selection\"},{\"attributes\":{},\"id\":\"45055\",\"type\":\"NumberEditor\"},{\"attributes\":{\"children\":[{\"id\":\"45086\"},{\"id\":\"45084\"}]},\"id\":\"45087\",\"type\":\"Column\"}],\"root_ids\":[\"44828\"]},\"title\":\"Bokeh Application\",\"version\":\"2.3.3\"}};\n",
       "    var render_items = [{\"docid\":\"3bbd48d7-fccf-4697-a113-f5975de416a5\",\"root_ids\":[\"44828\"],\"roots\":{\"44828\":\"1c987827-23eb-468f-bedf-7fdde6ccb449\"}}];\n",
       "    root.Bokeh.embed.embed_items_notebook(docs_json, render_items);\n",
       "  }\n",
       "  if (root.Bokeh !== undefined && root.Bokeh.Panel !== undefined) {\n",
       "    embed_document(root);\n",
       "  } else {\n",
       "    var attempts = 0;\n",
       "    var timer = setInterval(function(root) {\n",
       "      if (root.Bokeh !== undefined && root.Bokeh.Panel !== undefined) {\n",
       "        clearInterval(timer);\n",
       "        embed_document(root);\n",
       "      } else if (document.readyState == \"complete\") {\n",
       "        attempts++;\n",
       "        if (attempts > 200) {\n",
       "          clearInterval(timer);\n",
       "          console.log(\"Bokeh: ERROR: Unable to run BokehJS code because BokehJS library is missing\");\n",
       "        }\n",
       "      }\n",
       "    }, 25, root)\n",
       "  }\n",
       "})(window);</script>"
      ],
      "text/plain": [
       ":Layout\n",
       "   .NdOverlay.I :NdOverlay   [computation]\n",
       "      :Curve   [num_years]   (wall_time)\n",
       "   .Table.I     :Table   [catalog,computation,num_years,wall_time]"
      ]
     },
     "execution_count": 21,
     "metadata": {
      "application/vnd.holoviews_exec.v0+json": {
       "id": "44828"
      }
     },
     "output_type": "execute_result"
    }
   ],
   "source": [
    "(\n",
    "    df_history.hvplot(\n",
    "        x='num_years',\n",
    "        y='wall_time',\n",
    "        by='computation',\n",
    "        xlabel='Number of Years',\n",
    "        ylabel='Wall Time (s)',\n",
    "        width=550,\n",
    "    )\n",
    "    + df_history.hvplot.table(width=420)\n",
    ")"
   ]
  },
  {
   "cell_type": "markdown",
   "id": "43a6d8a7-2d0c-4182-9f96-782626a465ac",
   "metadata": {
    "tags": []
   },
   "source": [
    "### Bringing These Two Together"
   ]
  },
  {
   "cell_type": "code",
   "execution_count": 22,
   "id": "ddca05dc-2207-47b1-8e5a-35aa4f5ae6bb",
   "metadata": {},
   "outputs": [],
   "source": [
    "df = pd.concat([df_timeseries, df_history])"
   ]
  },
  {
   "cell_type": "code",
   "execution_count": 23,
   "id": "947c836b-15b6-4187-9d49-1f049eeb6eb7",
   "metadata": {},
   "outputs": [
    {
     "data": {},
     "metadata": {},
     "output_type": "display_data"
    },
    {
     "data": {
      "application/vnd.holoviews_exec.v0+json": "",
      "text/html": [
       "<div id='45608'>\n",
       "\n",
       "\n",
       "\n",
       "\n",
       "\n",
       "  <div class=\"bk-root\" id=\"020e91ae-54d0-41ae-b3e2-d6aacac6c87c\" data-root-id=\"45608\"></div>\n",
       "</div>\n",
       "<script type=\"application/javascript\">(function(root) {\n",
       "  function embed_document(root) {\n",
       "    var docs_json = {\"9a8017a2-411c-49a7-b3ed-f0a05c6b56b6\":{\"defs\":[{\"extends\":null,\"module\":null,\"name\":\"ReactiveHTML1\",\"overrides\":[],\"properties\":[]},{\"extends\":null,\"module\":null,\"name\":\"FlexBox1\",\"overrides\":[],\"properties\":[{\"default\":\"flex-start\",\"kind\":null,\"name\":\"align_content\"},{\"default\":\"flex-start\",\"kind\":null,\"name\":\"align_items\"},{\"default\":\"row\",\"kind\":null,\"name\":\"flex_direction\"},{\"default\":\"wrap\",\"kind\":null,\"name\":\"flex_wrap\"},{\"default\":\"flex-start\",\"kind\":null,\"name\":\"justify_content\"}]},{\"extends\":null,\"module\":null,\"name\":\"TemplateActions1\",\"overrides\":[],\"properties\":[{\"default\":0,\"kind\":null,\"name\":\"open_modal\"},{\"default\":0,\"kind\":null,\"name\":\"close_modal\"}]},{\"extends\":null,\"module\":null,\"name\":\"MaterialTemplateActions1\",\"overrides\":[],\"properties\":[{\"default\":0,\"kind\":null,\"name\":\"open_modal\"},{\"default\":0,\"kind\":null,\"name\":\"close_modal\"}]}],\"roots\":{\"references\":[{\"attributes\":{},\"id\":\"45650\",\"type\":\"AllLabels\"},{\"attributes\":{\"toolbars\":[{\"id\":\"45641\"}],\"tools\":[{\"id\":\"45612\"},{\"id\":\"45635\"},{\"id\":\"45636\"},{\"id\":\"45637\"},{\"id\":\"45638\"},{\"id\":\"45639\"}]},\"id\":\"45994\",\"type\":\"ProxyToolbar\"},{\"attributes\":{\"line_alpha\":0.2,\"line_color\":\"#30a2da\",\"line_width\":2,\"x\":{\"field\":\"num_years\"},\"y\":{\"field\":\"wall_time\"}},\"id\":\"45659\",\"type\":\"Line\"},{\"attributes\":{\"line_color\":\"#17becf\",\"line_width\":2,\"x\":{\"field\":\"num_years\"},\"y\":{\"field\":\"wall_time\"}},\"id\":\"45778\",\"type\":\"Line\"},{\"attributes\":{},\"id\":\"45748\",\"type\":\"Selection\"},{\"attributes\":{\"source\":{\"id\":\"45654\"}},\"id\":\"45661\",\"type\":\"CDSView\"},{\"attributes\":{},\"id\":\"45636\",\"type\":\"PanTool\"},{\"attributes\":{},\"id\":\"45771\",\"type\":\"UnionRenderers\"},{\"attributes\":{\"line_color\":\"#6d904f\",\"line_width\":2,\"x\":{\"field\":\"num_years\"},\"y\":{\"field\":\"wall_time\"}},\"id\":\"45746\",\"type\":\"Line\"},{\"attributes\":{\"end\":70.18588540554046,\"reset_end\":70.18588540554046,\"reset_start\":-6.265648579597474,\"start\":-6.265648579597474,\"tags\":[[[\"wall_time\",\"wall_time\",null]]]},\"id\":\"45611\",\"type\":\"Range1d\"},{\"attributes\":{},\"id\":\"45948\",\"type\":\"StringEditor\"},{\"attributes\":{},\"id\":\"45992\",\"type\":\"UnionRenderers\"},{\"attributes\":{},\"id\":\"45693\",\"type\":\"UnionRenderers\"},{\"attributes\":{\"callback\":null,\"renderers\":[{\"id\":\"45660\"},{\"id\":\"45681\"},{\"id\":\"45703\"},{\"id\":\"45727\"},{\"id\":\"45753\"},{\"id\":\"45781\"}],\"tags\":[\"hv_created\"],\"tooltips\":[[\"catalog\",\"@{catalog}\"],[\"computation\",\"@{computation}\"],[\"num_years\",\"@{num_years}\"],[\"wall_time\",\"@{wall_time}\"]]},\"id\":\"45612\",\"type\":\"HoverTool\"},{\"attributes\":{\"data_source\":{\"id\":\"45675\"},\"glyph\":{\"id\":\"45678\"},\"hover_glyph\":null,\"muted_glyph\":{\"id\":\"45680\"},\"nonselection_glyph\":{\"id\":\"45679\"},\"selection_glyph\":{\"id\":\"45696\"},\"view\":{\"id\":\"45682\"}},\"id\":\"45681\",\"type\":\"GlyphRenderer\"},{\"attributes\":{\"line_alpha\":0.2,\"line_color\":\"#8b8b8b\",\"line_width\":2,\"x\":{\"field\":\"num_years\"},\"y\":{\"field\":\"wall_time\"}},\"id\":\"45752\",\"type\":\"Line\"},{\"attributes\":{\"margin\":[5,5,5,5],\"name\":\"HSpacer08447\",\"sizing_mode\":\"stretch_width\"},\"id\":\"45609\",\"type\":\"Spacer\"},{\"attributes\":{\"active_multi\":null,\"tools\":[{\"id\":\"45612\"},{\"id\":\"45635\"},{\"id\":\"45636\"},{\"id\":\"45637\"},{\"id\":\"45638\"},{\"id\":\"45639\"}]},\"id\":\"45641\",\"type\":\"Toolbar\"},{\"attributes\":{\"line_alpha\":0.1,\"line_color\":\"#30a2da\",\"line_width\":2,\"x\":{\"field\":\"num_years\"},\"y\":{\"field\":\"wall_time\"}},\"id\":\"45658\",\"type\":\"Line\"},{\"attributes\":{\"line_color\":\"#e5ae38\",\"line_width\":2,\"x\":{\"field\":\"num_years\"},\"y\":{\"field\":\"wall_time\"}},\"id\":\"45720\",\"type\":\"Line\"},{\"attributes\":{},\"id\":\"45722\",\"type\":\"Selection\"},{\"attributes\":{\"editor\":{\"id\":\"45953\"},\"field\":\"computation\",\"formatter\":{\"id\":\"45952\"},\"title\":\"computation\"},\"id\":\"45954\",\"type\":\"TableColumn\"},{\"attributes\":{\"data_source\":{\"id\":\"45775\"},\"glyph\":{\"id\":\"45778\"},\"hover_glyph\":null,\"muted_glyph\":{\"id\":\"45780\"},\"nonselection_glyph\":{\"id\":\"45779\"},\"selection_glyph\":{\"id\":\"45804\"},\"view\":{\"id\":\"45782\"}},\"id\":\"45781\",\"type\":\"GlyphRenderer\"},{\"attributes\":{\"axis\":{\"id\":\"45627\"},\"grid_line_color\":null,\"ticker\":null},\"id\":\"45630\",\"type\":\"Grid\"},{\"attributes\":{\"children\":[{\"id\":\"45995\"},{\"id\":\"45993\"}]},\"id\":\"45996\",\"type\":\"Column\"},{\"attributes\":{\"data\":{\"catalog\":[\"timeseries\",\"timeseries\",\"timeseries\",\"timeseries\",\"timeseries\",\"timeseries\",\"timeseries\",\"timeseries\"],\"computation\":[\"long_term_average\",\"long_term_average\",\"long_term_average\",\"long_term_average\",\"long_term_average\",\"long_term_average\",\"long_term_average\",\"long_term_average\"],\"num_years\":{\"__ndarray__\":\"AAAAAAAA8D8AAAAAAAAUQAAAAAAAACRAAAAAAAAANEAAAAAAAAA+QAAAAAAAAERAAAAAAAAASUAAAAAAAABOQA==\",\"dtype\":\"float64\",\"order\":\"little\",\"shape\":[8]},\"wall_time\":{\"__ndarray__\":\"AAAAoKEPBkAAAAAAZ4HxPwAAAADCMfM/AAAAQJ6d8j8AAABALG3+PwAAAMDnxvc/AAAAQNwz+j8AAABAoJn3Pw==\",\"dtype\":\"float64\",\"order\":\"little\",\"shape\":[8]}},\"selected\":{\"id\":\"45748\"},\"selection_policy\":{\"id\":\"45771\"}},\"id\":\"45747\",\"type\":\"ColumnDataSource\"},{\"attributes\":{\"toolbar\":{\"id\":\"45994\"},\"toolbar_location\":\"above\"},\"id\":\"45995\",\"type\":\"ToolbarBox\"},{\"attributes\":{},\"id\":\"45649\",\"type\":\"BasicTickFormatter\"},{\"attributes\":{\"source\":{\"id\":\"45747\"}},\"id\":\"45754\",\"type\":\"CDSView\"},{\"attributes\":{\"data_source\":{\"id\":\"45721\"},\"glyph\":{\"id\":\"45724\"},\"hover_glyph\":null,\"muted_glyph\":{\"id\":\"45726\"},\"nonselection_glyph\":{\"id\":\"45725\"},\"selection_glyph\":{\"id\":\"45746\"},\"view\":{\"id\":\"45728\"}},\"id\":\"45727\",\"type\":\"GlyphRenderer\"},{\"attributes\":{\"line_alpha\":0.2,\"line_color\":\"#6d904f\",\"line_width\":2,\"x\":{\"field\":\"num_years\"},\"y\":{\"field\":\"wall_time\"}},\"id\":\"45726\",\"type\":\"Line\"},{\"attributes\":{\"source\":{\"id\":\"45945\"}},\"id\":\"45969\",\"type\":\"CDSView\"},{\"attributes\":{\"label\":{\"value\":\"timeseries, monthly_average\"},\"renderers\":[{\"id\":\"45781\"}]},\"id\":\"45803\",\"type\":\"LegendItem\"},{\"attributes\":{\"text_color\":\"black\",\"text_font_size\":\"12pt\"},\"id\":\"45619\",\"type\":\"Title\"},{\"attributes\":{\"line_alpha\":0.2,\"line_color\":\"#e5ae38\",\"line_width\":2,\"x\":{\"field\":\"num_years\"},\"y\":{\"field\":\"wall_time\"}},\"id\":\"45702\",\"type\":\"Line\"},{\"attributes\":{\"format\":\"0,0.0[00000]\"},\"id\":\"45957\",\"type\":\"NumberFormatter\"},{\"attributes\":{\"data_source\":{\"id\":\"45697\"},\"glyph\":{\"id\":\"45700\"},\"hover_glyph\":null,\"muted_glyph\":{\"id\":\"45702\"},\"nonselection_glyph\":{\"id\":\"45701\"},\"selection_glyph\":{\"id\":\"45720\"},\"view\":{\"id\":\"45704\"}},\"id\":\"45703\",\"type\":\"GlyphRenderer\"},{\"attributes\":{\"data\":{\"catalog\":[\"history\",\"history\",\"history\",\"history\",\"history\",\"history\",\"history\",\"history\"],\"computation\":[\"monthly_average\",\"monthly_average\",\"monthly_average\",\"monthly_average\",\"monthly_average\",\"monthly_average\",\"monthly_average\",\"monthly_average\"],\"num_years\":{\"__ndarray__\":\"AAAAAAAA8D8AAAAAAAAUQAAAAAAAACRAAAAAAAAANEAAAAAAAAA+QAAAAAAAAERAAAAAAAAASUAAAAAAAABOQA==\",\"dtype\":\"float64\",\"order\":\"little\",\"shape\":[8]},\"wall_time\":{\"__ndarray__\":\"AAAAgCH46j8AAACgIPoAQAAAAKC2Pw9AAAAAoBW2I0AAAADUbKcxQAAAABQ74z9AAAAAliQlRkAAAACA7wZPQA==\",\"dtype\":\"float64\",\"order\":\"little\",\"shape\":[8]}},\"selected\":{\"id\":\"45698\"},\"selection_policy\":{\"id\":\"45717\"}},\"id\":\"45697\",\"type\":\"ColumnDataSource\"},{\"attributes\":{\"line_color\":\"#8b8b8b\",\"line_width\":2,\"x\":{\"field\":\"num_years\"},\"y\":{\"field\":\"wall_time\"}},\"id\":\"45750\",\"type\":\"Line\"},{\"attributes\":{},\"id\":\"45698\",\"type\":\"Selection\"},{\"attributes\":{\"data_source\":{\"id\":\"45654\"},\"glyph\":{\"id\":\"45657\"},\"hover_glyph\":null,\"muted_glyph\":{\"id\":\"45659\"},\"nonselection_glyph\":{\"id\":\"45658\"},\"selection_glyph\":{\"id\":\"45674\"},\"view\":{\"id\":\"45661\"}},\"id\":\"45660\",\"type\":\"GlyphRenderer\"},{\"attributes\":{\"format\":\"0,0.0[00000]\"},\"id\":\"45962\",\"type\":\"NumberFormatter\"},{\"attributes\":{},\"id\":\"45953\",\"type\":\"StringEditor\"},{\"attributes\":{\"line_color\":\"#6d904f\",\"line_width\":2,\"x\":{\"field\":\"num_years\"},\"y\":{\"field\":\"wall_time\"}},\"id\":\"45724\",\"type\":\"Line\"},{\"attributes\":{\"line_alpha\":0.1,\"line_color\":\"#fc4f30\",\"line_width\":2,\"x\":{\"field\":\"num_years\"},\"y\":{\"field\":\"wall_time\"}},\"id\":\"45679\",\"type\":\"Line\"},{\"attributes\":{},\"id\":\"45637\",\"type\":\"WheelZoomTool\"},{\"attributes\":{\"children\":[{\"id\":\"45609\"},{\"id\":\"45996\"},{\"id\":\"46205\"}],\"margin\":[0,0,0,0],\"name\":\"Row08443\",\"tags\":[\"embedded\"]},\"id\":\"45608\",\"type\":\"Row\"},{\"attributes\":{\"line_alpha\":0.2,\"line_color\":\"#17becf\",\"line_width\":2,\"x\":{\"field\":\"num_years\"},\"y\":{\"field\":\"wall_time\"}},\"id\":\"45780\",\"type\":\"Line\"},{\"attributes\":{\"label\":{\"value\":\"timeseries, file_access\"},\"renderers\":[{\"id\":\"45727\"}]},\"id\":\"45745\",\"type\":\"LegendItem\"},{\"attributes\":{\"label\":{\"value\":\"timeseries, long_term_average\"},\"renderers\":[{\"id\":\"45753\"}]},\"id\":\"45773\",\"type\":\"LegendItem\"},{\"attributes\":{\"label\":{\"value\":\"history, long_term_average\"},\"renderers\":[{\"id\":\"45681\"}]},\"id\":\"45695\",\"type\":\"LegendItem\"},{\"attributes\":{},\"id\":\"45963\",\"type\":\"NumberEditor\"},{\"attributes\":{\"line_color\":\"#30a2da\",\"line_width\":2,\"x\":{\"field\":\"num_years\"},\"y\":{\"field\":\"wall_time\"}},\"id\":\"45674\",\"type\":\"Line\"},{\"attributes\":{\"data\":{\"catalog\":[\"timeseries\",\"timeseries\",\"timeseries\",\"timeseries\",\"timeseries\",\"timeseries\",\"timeseries\",\"timeseries\"],\"computation\":[\"file_access\",\"file_access\",\"file_access\",\"file_access\",\"file_access\",\"file_access\",\"file_access\",\"file_access\"],\"num_years\":{\"__ndarray__\":\"AAAAAAAA8D8AAAAAAAAUQAAAAAAAACRAAAAAAAAANEAAAAAAAAA+QAAAAAAAAERAAAAAAAAASUAAAAAAAABOQA==\",\"dtype\":\"float64\",\"order\":\"little\",\"shape\":[8]},\"wall_time\":{\"__ndarray__\":\"AAAAIFg5AUAAAAAA+AbXPwAAAAAMAc4/AAAAAIJzzj8AAAAANIXPPwAAAACUy7s/AAAAALhA0D8AAAAAxPW6Pw==\",\"dtype\":\"float64\",\"order\":\"little\",\"shape\":[8]}},\"selected\":{\"id\":\"45722\"},\"selection_policy\":{\"id\":\"45743\"}},\"id\":\"45721\",\"type\":\"ColumnDataSource\"},{\"attributes\":{},\"id\":\"45628\",\"type\":\"BasicTicker\"},{\"attributes\":{},\"id\":\"45652\",\"type\":\"BasicTickFormatter\"},{\"attributes\":{\"editor\":{\"id\":\"45948\"},\"field\":\"catalog\",\"formatter\":{\"id\":\"45947\"},\"title\":\"catalog\"},\"id\":\"45949\",\"type\":\"TableColumn\"},{\"attributes\":{},\"id\":\"45670\",\"type\":\"UnionRenderers\"},{\"attributes\":{\"data_source\":{\"id\":\"45747\"},\"glyph\":{\"id\":\"45750\"},\"hover_glyph\":null,\"muted_glyph\":{\"id\":\"45752\"},\"nonselection_glyph\":{\"id\":\"45751\"},\"selection_glyph\":{\"id\":\"45774\"},\"view\":{\"id\":\"45754\"}},\"id\":\"45753\",\"type\":\"GlyphRenderer\"},{\"attributes\":{\"children\":[[{\"id\":\"45618\"},0,0],[{\"id\":\"45967\"},0,1]]},\"id\":\"45993\",\"type\":\"GridBox\"},{\"attributes\":{},\"id\":\"45947\",\"type\":\"StringFormatter\"},{\"attributes\":{\"data\":{\"catalog\":[\"timeseries\",\"timeseries\",\"timeseries\",\"timeseries\",\"timeseries\",\"timeseries\",\"timeseries\",\"timeseries\",\"timeseries\",\"timeseries\",\"timeseries\",\"timeseries\",\"timeseries\",\"timeseries\",\"timeseries\",\"timeseries\",\"timeseries\",\"timeseries\",\"timeseries\",\"timeseries\",\"timeseries\",\"timeseries\",\"timeseries\",\"timeseries\",\"history\",\"history\",\"history\",\"history\",\"history\",\"history\",\"history\",\"history\",\"history\",\"history\",\"history\",\"history\",\"history\",\"history\",\"history\",\"history\",\"history\",\"history\",\"history\",\"history\",\"history\",\"history\",\"history\",\"history\"],\"computation\":[\"file_access\",\"long_term_average\",\"monthly_average\",\"file_access\",\"long_term_average\",\"monthly_average\",\"file_access\",\"long_term_average\",\"monthly_average\",\"file_access\",\"long_term_average\",\"monthly_average\",\"file_access\",\"long_term_average\",\"monthly_average\",\"file_access\",\"long_term_average\",\"monthly_average\",\"file_access\",\"long_term_average\",\"monthly_average\",\"file_access\",\"long_term_average\",\"monthly_average\",\"file_access\",\"long_term_average\",\"monthly_average\",\"file_access\",\"long_term_average\",\"monthly_average\",\"file_access\",\"long_term_average\",\"monthly_average\",\"file_access\",\"long_term_average\",\"monthly_average\",\"file_access\",\"long_term_average\",\"monthly_average\",\"file_access\",\"long_term_average\",\"monthly_average\",\"file_access\",\"long_term_average\",\"monthly_average\",\"file_access\",\"long_term_average\",\"monthly_average\"],\"num_years\":{\"__ndarray__\":\"AAAAAAAA8D8AAAAAAADwPwAAAAAAAPA/AAAAAAAAFEAAAAAAAAAUQAAAAAAAABRAAAAAAAAAJEAAAAAAAAAkQAAAAAAAACRAAAAAAAAANEAAAAAAAAA0QAAAAAAAADRAAAAAAAAAPkAAAAAAAAA+QAAAAAAAAD5AAAAAAAAAREAAAAAAAABEQAAAAAAAAERAAAAAAAAASUAAAAAAAABJQAAAAAAAAElAAAAAAAAATkAAAAAAAABOQAAAAAAAAE5AAAAAAAAA8D8AAAAAAADwPwAAAAAAAPA/AAAAAAAAFEAAAAAAAAAUQAAAAAAAABRAAAAAAAAAJEAAAAAAAAAkQAAAAAAAACRAAAAAAAAANEAAAAAAAAA0QAAAAAAAADRAAAAAAAAAPkAAAAAAAAA+QAAAAAAAAD5AAAAAAAAAREAAAAAAAABEQAAAAAAAAERAAAAAAAAASUAAAAAAAABJQAAAAAAAAElAAAAAAAAATkAAAAAAAABOQAAAAAAAAE5A\",\"dtype\":\"float64\",\"order\":\"little\",\"shape\":[48]},\"wall_time\":{\"__ndarray__\":\"AAAAIFg5AUAAAACgoQ8GQAAAAEABzAxAAAAAAPgG1z8AAAAAZ4HxPwAAAAA+cgdAAAAAAAwBzj8AAAAAwjHzPwAAAABgFgdAAAAAAIJzzj8AAABAnp3yPwAAAKDrTARAAAAAADSFzz8AAABALG3+PwAAAOCEJQVAAAAAAJTLuz8AAADA58b3PwAAAKCHwgdAAAAAALhA0D8AAABA3DP6PwAAACCU1ABAAAAAAMT1uj8AAABAoJn3PwAAAODuBANAAAAAgIc04z8AAAAA+sXuPwAAAIAh+Oo/AAAAQFOm+j8AAACAL4cCQAAAAKAg+gBAAAAAwP8jC0AAAADgkLMOQAAAAKC2Pw9AAAAACOHZIUAAAABwPm8jQAAAAKAVtiNAAAAANNAAMEAAAAB0utsxQAAAANRspzFAAAAA3HWOPUAAAAC87ks/QAAAABQ74z9AAAAAfgCjRUAAAACIZT5HQAAAAJYkJUZAAAAAxo5VTEAAAABwT+hPQAAAAIDvBk9A\",\"dtype\":\"float64\",\"order\":\"little\",\"shape\":[48]}},\"selected\":{\"id\":\"45946\"},\"selection_policy\":{\"id\":\"45992\"}},\"id\":\"45945\",\"type\":\"ColumnDataSource\"},{\"attributes\":{},\"id\":\"45743\",\"type\":\"UnionRenderers\"},{\"attributes\":{},\"id\":\"45639\",\"type\":\"ResetTool\"},{\"attributes\":{\"margin\":[5,5,5,5],\"name\":\"HSpacer08448\",\"sizing_mode\":\"stretch_width\"},\"id\":\"46205\",\"type\":\"Spacer\"},{\"attributes\":{\"line_color\":\"#e5ae38\",\"line_width\":2,\"x\":{\"field\":\"num_years\"},\"y\":{\"field\":\"wall_time\"}},\"id\":\"45700\",\"type\":\"Line\"},{\"attributes\":{},\"id\":\"45952\",\"type\":\"StringFormatter\"},{\"attributes\":{\"below\":[{\"id\":\"45627\"}],\"center\":[{\"id\":\"45630\"},{\"id\":\"45634\"}],\"height\":300,\"left\":[{\"id\":\"45631\"}],\"margin\":null,\"min_border_bottom\":10,\"min_border_left\":10,\"min_border_right\":10,\"min_border_top\":10,\"renderers\":[{\"id\":\"45660\"},{\"id\":\"45681\"},{\"id\":\"45703\"},{\"id\":\"45727\"},{\"id\":\"45753\"},{\"id\":\"45781\"}],\"right\":[{\"id\":\"45672\"}],\"sizing_mode\":\"fixed\",\"title\":{\"id\":\"45619\"},\"toolbar\":{\"id\":\"45641\"},\"toolbar_location\":null,\"width\":800,\"x_range\":{\"id\":\"45610\"},\"x_scale\":{\"id\":\"45623\"},\"y_range\":{\"id\":\"45611\"},\"y_scale\":{\"id\":\"45625\"}},\"id\":\"45618\",\"subtype\":\"Figure\",\"type\":\"Plot\"},{\"attributes\":{\"data\":{\"catalog\":[\"history\",\"history\",\"history\",\"history\",\"history\",\"history\",\"history\",\"history\"],\"computation\":[\"file_access\",\"file_access\",\"file_access\",\"file_access\",\"file_access\",\"file_access\",\"file_access\",\"file_access\"],\"num_years\":{\"__ndarray__\":\"AAAAAAAA8D8AAAAAAAAUQAAAAAAAACRAAAAAAAAANEAAAAAAAAA+QAAAAAAAAERAAAAAAAAASUAAAAAAAABOQA==\",\"dtype\":\"float64\",\"order\":\"little\",\"shape\":[8]},\"wall_time\":{\"__ndarray__\":\"AAAAgIc04z8AAABAU6b6PwAAAMD/IwtAAAAACOHZIUAAAAA00AAwQAAAANx1jj1AAAAAfgCjRUAAAADGjlVMQA==\",\"dtype\":\"float64\",\"order\":\"little\",\"shape\":[8]}},\"selected\":{\"id\":\"45655\"},\"selection_policy\":{\"id\":\"45670\"}},\"id\":\"45654\",\"type\":\"ColumnDataSource\"},{\"attributes\":{\"label\":{\"value\":\"history, monthly_average\"},\"renderers\":[{\"id\":\"45703\"}]},\"id\":\"45719\",\"type\":\"LegendItem\"},{\"attributes\":{\"source\":{\"id\":\"45697\"}},\"id\":\"45704\",\"type\":\"CDSView\"},{\"attributes\":{\"axis_label\":\"Wall Time (s)\",\"formatter\":{\"id\":\"45652\"},\"major_label_policy\":{\"id\":\"45653\"},\"ticker\":{\"id\":\"45632\"}},\"id\":\"45631\",\"type\":\"LinearAxis\"},{\"attributes\":{},\"id\":\"45632\",\"type\":\"BasicTicker\"},{\"attributes\":{},\"id\":\"45635\",\"type\":\"SaveTool\"},{\"attributes\":{},\"id\":\"45776\",\"type\":\"Selection\"},{\"attributes\":{\"line_alpha\":0.2,\"line_color\":\"#fc4f30\",\"line_width\":2,\"x\":{\"field\":\"num_years\"},\"y\":{\"field\":\"wall_time\"}},\"id\":\"45680\",\"type\":\"Line\"},{\"attributes\":{},\"id\":\"45717\",\"type\":\"UnionRenderers\"},{\"attributes\":{\"source\":{\"id\":\"45775\"}},\"id\":\"45782\",\"type\":\"CDSView\"},{\"attributes\":{\"axis\":{\"id\":\"45631\"},\"dimension\":1,\"grid_line_color\":null,\"ticker\":null},\"id\":\"45634\",\"type\":\"Grid\"},{\"attributes\":{},\"id\":\"45625\",\"type\":\"LinearScale\"},{\"attributes\":{\"line_color\":\"#fc4f30\",\"line_width\":2,\"x\":{\"field\":\"num_years\"},\"y\":{\"field\":\"wall_time\"}},\"id\":\"45678\",\"type\":\"Line\"},{\"attributes\":{\"label\":{\"value\":\"history, file_access\"},\"renderers\":[{\"id\":\"45660\"}]},\"id\":\"45673\",\"type\":\"LegendItem\"},{\"attributes\":{\"line_color\":\"#30a2da\",\"line_width\":2,\"x\":{\"field\":\"num_years\"},\"y\":{\"field\":\"wall_time\"}},\"id\":\"45657\",\"type\":\"Line\"},{\"attributes\":{\"line_alpha\":0.1,\"line_color\":\"#17becf\",\"line_width\":2,\"x\":{\"field\":\"num_years\"},\"y\":{\"field\":\"wall_time\"}},\"id\":\"45779\",\"type\":\"Line\"},{\"attributes\":{\"click_policy\":\"mute\",\"items\":[{\"id\":\"45673\"},{\"id\":\"45695\"},{\"id\":\"45719\"},{\"id\":\"45745\"},{\"id\":\"45773\"},{\"id\":\"45803\"}],\"location\":[0,0],\"title\":\"catalog, computation\"},\"id\":\"45672\",\"type\":\"Legend\"},{\"attributes\":{\"line_alpha\":0.1,\"line_color\":\"#6d904f\",\"line_width\":2,\"x\":{\"field\":\"num_years\"},\"y\":{\"field\":\"wall_time\"}},\"id\":\"45725\",\"type\":\"Line\"},{\"attributes\":{},\"id\":\"45958\",\"type\":\"NumberEditor\"},{\"attributes\":{},\"id\":\"45946\",\"type\":\"Selection\"},{\"attributes\":{\"line_alpha\":0.1,\"line_color\":\"#e5ae38\",\"line_width\":2,\"x\":{\"field\":\"num_years\"},\"y\":{\"field\":\"wall_time\"}},\"id\":\"45701\",\"type\":\"Line\"},{\"attributes\":{\"axis_label\":\"Number of Years\",\"formatter\":{\"id\":\"45649\"},\"major_label_policy\":{\"id\":\"45650\"},\"ticker\":{\"id\":\"45628\"}},\"id\":\"45627\",\"type\":\"LinearAxis\"},{\"attributes\":{\"source\":{\"id\":\"45675\"}},\"id\":\"45682\",\"type\":\"CDSView\"},{\"attributes\":{},\"id\":\"45801\",\"type\":\"UnionRenderers\"},{\"attributes\":{\"end\":60.0,\"reset_end\":60.0,\"reset_start\":1.0,\"start\":1.0,\"tags\":[[[\"num_years\",\"num_years\",null]]]},\"id\":\"45610\",\"type\":\"Range1d\"},{\"attributes\":{\"line_alpha\":0.1,\"line_color\":\"#8b8b8b\",\"line_width\":2,\"x\":{\"field\":\"num_years\"},\"y\":{\"field\":\"wall_time\"}},\"id\":\"45751\",\"type\":\"Line\"},{\"attributes\":{},\"id\":\"45623\",\"type\":\"LinearScale\"},{\"attributes\":{\"bottom_units\":\"screen\",\"fill_alpha\":0.5,\"fill_color\":\"lightgrey\",\"left_units\":\"screen\",\"level\":\"overlay\",\"line_alpha\":1.0,\"line_color\":\"black\",\"line_dash\":[4,4],\"line_width\":2,\"right_units\":\"screen\",\"syncable\":false,\"top_units\":\"screen\"},\"id\":\"45640\",\"type\":\"BoxAnnotation\"},{\"attributes\":{\"editor\":{\"id\":\"45963\"},\"field\":\"wall_time\",\"formatter\":{\"id\":\"45962\"},\"title\":\"wall_time\"},\"id\":\"45964\",\"type\":\"TableColumn\"},{\"attributes\":{\"data\":{\"catalog\":[\"history\",\"history\",\"history\",\"history\",\"history\",\"history\",\"history\",\"history\"],\"computation\":[\"long_term_average\",\"long_term_average\",\"long_term_average\",\"long_term_average\",\"long_term_average\",\"long_term_average\",\"long_term_average\",\"long_term_average\"],\"num_years\":{\"__ndarray__\":\"AAAAAAAA8D8AAAAAAAAUQAAAAAAAACRAAAAAAAAANEAAAAAAAAA+QAAAAAAAAERAAAAAAAAASUAAAAAAAABOQA==\",\"dtype\":\"float64\",\"order\":\"little\",\"shape\":[8]},\"wall_time\":{\"__ndarray__\":\"AAAAAPrF7j8AAACAL4cCQAAAAOCQsw5AAAAAcD5vI0AAAAB0utsxQAAAALzuSz9AAAAAiGU+R0AAAABwT+hPQA==\",\"dtype\":\"float64\",\"order\":\"little\",\"shape\":[8]}},\"selected\":{\"id\":\"45676\"},\"selection_policy\":{\"id\":\"45693\"}},\"id\":\"45675\",\"type\":\"ColumnDataSource\"},{\"attributes\":{},\"id\":\"45676\",\"type\":\"Selection\"},{\"attributes\":{\"line_color\":\"#fc4f30\",\"line_width\":2,\"x\":{\"field\":\"num_years\"},\"y\":{\"field\":\"wall_time\"}},\"id\":\"45696\",\"type\":\"Line\"},{\"attributes\":{\"columns\":[{\"id\":\"45949\"},{\"id\":\"45954\"},{\"id\":\"45959\"},{\"id\":\"45964\"}],\"height\":300,\"reorderable\":false,\"source\":{\"id\":\"45945\"},\"view\":{\"id\":\"45969\"},\"width\":420},\"id\":\"45967\",\"type\":\"DataTable\"},{\"attributes\":{\"data\":{\"catalog\":[\"timeseries\",\"timeseries\",\"timeseries\",\"timeseries\",\"timeseries\",\"timeseries\",\"timeseries\",\"timeseries\"],\"computation\":[\"monthly_average\",\"monthly_average\",\"monthly_average\",\"monthly_average\",\"monthly_average\",\"monthly_average\",\"monthly_average\",\"monthly_average\"],\"num_years\":{\"__ndarray__\":\"AAAAAAAA8D8AAAAAAAAUQAAAAAAAACRAAAAAAAAANEAAAAAAAAA+QAAAAAAAAERAAAAAAAAASUAAAAAAAABOQA==\",\"dtype\":\"float64\",\"order\":\"little\",\"shape\":[8]},\"wall_time\":{\"__ndarray__\":\"AAAAQAHMDEAAAAAAPnIHQAAAAABgFgdAAAAAoOtMBEAAAADghCUFQAAAAKCHwgdAAAAAIJTUAEAAAADg7gQDQA==\",\"dtype\":\"float64\",\"order\":\"little\",\"shape\":[8]}},\"selected\":{\"id\":\"45776\"},\"selection_policy\":{\"id\":\"45801\"}},\"id\":\"45775\",\"type\":\"ColumnDataSource\"},{\"attributes\":{\"overlay\":{\"id\":\"45640\"}},\"id\":\"45638\",\"type\":\"BoxZoomTool\"},{\"attributes\":{\"line_color\":\"#8b8b8b\",\"line_width\":2,\"x\":{\"field\":\"num_years\"},\"y\":{\"field\":\"wall_time\"}},\"id\":\"45774\",\"type\":\"Line\"},{\"attributes\":{},\"id\":\"45655\",\"type\":\"Selection\"},{\"attributes\":{\"source\":{\"id\":\"45721\"}},\"id\":\"45728\",\"type\":\"CDSView\"},{\"attributes\":{\"line_color\":\"#17becf\",\"line_width\":2,\"x\":{\"field\":\"num_years\"},\"y\":{\"field\":\"wall_time\"}},\"id\":\"45804\",\"type\":\"Line\"},{\"attributes\":{},\"id\":\"45653\",\"type\":\"AllLabels\"},{\"attributes\":{\"editor\":{\"id\":\"45958\"},\"field\":\"num_years\",\"formatter\":{\"id\":\"45957\"},\"title\":\"num_years\"},\"id\":\"45959\",\"type\":\"TableColumn\"}],\"root_ids\":[\"45608\"]},\"title\":\"Bokeh Application\",\"version\":\"2.3.3\"}};\n",
       "    var render_items = [{\"docid\":\"9a8017a2-411c-49a7-b3ed-f0a05c6b56b6\",\"root_ids\":[\"45608\"],\"roots\":{\"45608\":\"020e91ae-54d0-41ae-b3e2-d6aacac6c87c\"}}];\n",
       "    root.Bokeh.embed.embed_items_notebook(docs_json, render_items);\n",
       "  }\n",
       "  if (root.Bokeh !== undefined && root.Bokeh.Panel !== undefined) {\n",
       "    embed_document(root);\n",
       "  } else {\n",
       "    var attempts = 0;\n",
       "    var timer = setInterval(function(root) {\n",
       "      if (root.Bokeh !== undefined && root.Bokeh.Panel !== undefined) {\n",
       "        clearInterval(timer);\n",
       "        embed_document(root);\n",
       "      } else if (document.readyState == \"complete\") {\n",
       "        attempts++;\n",
       "        if (attempts > 200) {\n",
       "          clearInterval(timer);\n",
       "          console.log(\"Bokeh: ERROR: Unable to run BokehJS code because BokehJS library is missing\");\n",
       "        }\n",
       "      }\n",
       "    }, 25, root)\n",
       "  }\n",
       "})(window);</script>"
      ],
      "text/plain": [
       ":Layout\n",
       "   .NdOverlay.I :NdOverlay   [catalog,computation]\n",
       "      :Curve   [num_years]   (wall_time)\n",
       "   .Table.I     :Table   [catalog,computation,num_years,wall_time]"
      ]
     },
     "execution_count": 23,
     "metadata": {
      "application/vnd.holoviews_exec.v0+json": {
       "id": "45608"
      }
     },
     "output_type": "execute_result"
    }
   ],
   "source": [
    "(\n",
    "    df.hvplot(\n",
    "        x='num_years',\n",
    "        y='wall_time',\n",
    "        by=['catalog', 'computation'],\n",
    "        xlabel='Number of Years',\n",
    "        ylabel='Wall Time (s)',\n",
    "        width=800,\n",
    "    )\n",
    "    + df.hvplot.table(width=420)\n",
    ")"
   ]
  },
  {
   "cell_type": "markdown",
   "id": "ea8a03f2-f811-44a9-bd7a-c13175670384",
   "metadata": {},
   "source": [
    "## Conclusions\n",
    "We see something unsuprising here; the performance working with timeseries files is much faster, with the greatest difference being the file access. With the history files, we see that the data read in step takes the longest, with relatively smaller differences in the computation time for the various averages. Once you read in the datasets, performance is similar.\n",
    "\n",
    "One item to note here is that we were able to read in 60 years worth of history files in under a minute, which is impressive! If you are plotting quick comparisons from model output, you may not need to neccessarily convert to timeseries right away; however in the long run, it will save on both space and computational expense."
   ]
  },
  {
   "cell_type": "code",
   "execution_count": null,
   "id": "77d95fc2-670c-4b31-af6a-87cb3a8576a0",
   "metadata": {},
   "outputs": [],
   "source": []
  }
 ],
 "metadata": {
  "author": "Max Grover",
  "date": "2021-09-17",
  "kernelspec": {
   "display_name": "Python [conda env:miniconda3-ecgtools-dev-2]",
   "language": "python",
   "name": "conda-env-miniconda3-ecgtools-dev-2-py"
  },
  "language_info": {
   "codemirror_mode": {
    "name": "ipython",
    "version": 3
   },
   "file_extension": ".py",
   "mimetype": "text/x-python",
   "name": "python",
   "nbconvert_exporter": "python",
   "pygments_lexer": "ipython3",
   "version": "3.9.7"
  },
  "tags": "ecgtools,intake,dask,cesm,benchmark",
  "title": "Benchmarking Performance of History vs. Timeseries Files"
 },
 "nbformat": 4,
 "nbformat_minor": 5
}
