{
 "cells": [
  {
   "cell_type": "markdown",
   "id": "bfd9cb30-4482-4695-ab80-63b2d2536cf2",
   "metadata": {},
   "source": [
    "# Benchmarking Performance of History vs. Timeseries Files with [`ecgtools`](https://ecgtools.readthedocs.io/en/latest/), [`Intake-ESM`](https://intake-esm.readthedocs.io/en/latest/), and [`Dask`](https://dask.org/)\n",
    "\n",
    "In this example, we will walk through \"benchmarking\" performance of reading, apply calculations, and visualizing data from the Community Earth System Model (CESM), using the following packages:\n",
    "* [`ecgtools`](https://ecgtools.readthedocs.io/en/latest/)\n",
    "* [`Intake-ESM`](https://intake-esm.readthedocs.io/en/latest/)\n",
    "* [`Dask`](https://dask.org/)\n",
    "\n",
    "Going into this analysis, we have a ***hypothesis*** that performance should be substantially better when reading from timeseries files, but let's take a look...\n",
    "\n",
    "One thing to note is that during the process of writing this, I continually upped the amount of computational resources requested for the cluster"
   ]
  },
  {
   "cell_type": "markdown",
   "id": "7511948a-7fe1-4bc6-880a-735599ef05b1",
   "metadata": {},
   "source": [
    "## Imports"
   ]
  },
  {
   "cell_type": "markdown",
   "id": "3073144b-bd77-4775-89b1-3ccbb9bebecd",
   "metadata": {},
   "source": [
    "### Installing packages via `conda-forge`\n",
    "\n",
    "As of this week, [`ecgtools`](https://ecgtools.readthedocs.io/en/latest/) is available via `conda-forge`, which is very exciting! You can install the packages used here using the following:\n",
    "\n",
    "```bash\n",
    "conda install -c conda-forge ecgtools ncar-jobqueue distributed intake-esm pandas\n",
    "```\n",
    "\n",
    "We will also install [`hvPlot`](https://hvplot.holoviz.org/index.html#) to help with visualization, installing from the `pyviz` channel!\n",
    "\n",
    "```bash\n",
    "conda install -c pyviz hvplot\n",
    "```"
   ]
  },
  {
   "cell_type": "code",
   "execution_count": 2,
   "id": "66fe2b0c-5d78-4b27-ac77-a1a5de1a056d",
   "metadata": {},
   "outputs": [],
   "source": [
    "import ast\n",
    "import time\n",
    "\n",
    "import hvplot\n",
    "import hvplot.pandas\n",
    "import intake\n",
    "import pandas as pd\n",
    "from dask.distributed import performance_report\n",
    "from distributed import Client\n",
    "from ecgtools import Builder\n",
    "from ecgtools.parsers.cesm import parse_cesm_history, parse_cesm_timeseries\n",
    "from ncar_jobqueue import NCARCluster"
   ]
  },
  {
   "cell_type": "markdown",
   "id": "3ba985ea-8428-4098-b455-71306957963f",
   "metadata": {
    "tags": []
   },
   "source": [
    "## Build the Catalogs\n",
    "\n",
    "Something to keep in mind here is that [`ecgtools`](https://ecgtools.readthedocs.io/en/latest/)'s builder parallelizes across the number of cores you have available; so ideally, for this section of the notebook, you will want to use more than a single core, up to however many you see fit."
   ]
  },
  {
   "cell_type": "markdown",
   "id": "35aa32b1-4edf-4e1b-9940-9e3ef603b092",
   "metadata": {},
   "source": [
    "### Build the History File Catalog"
   ]
  },
  {
   "cell_type": "code",
   "execution_count": 4,
   "id": "1e77b174-e386-41fb-a31a-b10879ba8368",
   "metadata": {},
   "outputs": [],
   "source": [
    "cesm_history_builder = Builder(\n",
    "    \"/glade/campaign/cesm/development/espwg/SMYLE/initial_conditions/SMYLE-FOSI\",\n",
    "    exclude_patterns=[\"*/rest/*\", \"*/logs/*\", \"*/proc/*\"],\n",
    ")"
   ]
  },
  {
   "cell_type": "markdown",
   "id": "f5d2feb8-d4e4-4290-a97b-b0a2492dd2ae",
   "metadata": {},
   "source": [
    "### Build the catalog using the `parse_cesm_history` parser"
   ]
  },
  {
   "cell_type": "code",
   "execution_count": 7,
   "id": "8f8a7301-cf7c-4810-a2c5-21deb3a4fb5d",
   "metadata": {},
   "outputs": [
    {
     "name": "stderr",
     "output_type": "stream",
     "text": [
      "[Parallel(n_jobs=-1)]: Using backend LokyBackend with 40 concurrent workers.\n",
      "[Parallel(n_jobs=-1)]: Done   2 out of   4 | elapsed:    1.2s remaining:    1.2s\n",
      "[Parallel(n_jobs=-1)]: Done   4 out of   4 | elapsed:    1.4s remaining:    0.0s\n",
      "[Parallel(n_jobs=-1)]: Done   4 out of   4 | elapsed:    1.4s finished\n",
      "[Parallel(n_jobs=-1)]: Using backend LokyBackend with 40 concurrent workers.\n",
      "[Parallel(n_jobs=-1)]: Done  82 tasks      | elapsed:    5.1s\n",
      "[Parallel(n_jobs=-1)]: Done 208 tasks      | elapsed:    5.6s\n",
      "[Parallel(n_jobs=-1)]: Done 370 tasks      | elapsed:    6.3s\n",
      "[Parallel(n_jobs=-1)]: Done 568 tasks      | elapsed:    7.1s\n",
      "[Parallel(n_jobs=-1)]: Done 802 tasks      | elapsed:    7.9s\n",
      "[Parallel(n_jobs=-1)]: Done 1072 tasks      | elapsed:    8.9s\n",
      "[Parallel(n_jobs=-1)]: Done 1378 tasks      | elapsed:   10.0s\n",
      "[Parallel(n_jobs=-1)]: Done 1720 tasks      | elapsed:   11.2s\n",
      "[Parallel(n_jobs=-1)]: Done 2098 tasks      | elapsed:   12.5s\n",
      "[Parallel(n_jobs=-1)]: Done 2512 tasks      | elapsed:   14.1s\n",
      "[Parallel(n_jobs=-1)]: Done 2962 tasks      | elapsed:   15.8s\n",
      "[Parallel(n_jobs=-1)]: Done 3448 tasks      | elapsed:   17.7s\n",
      "[Parallel(n_jobs=-1)]: Done 3970 tasks      | elapsed:   19.6s\n",
      "[Parallel(n_jobs=-1)]: Done 4528 tasks      | elapsed:   23.5s\n",
      "[Parallel(n_jobs=-1)]: Done 5122 tasks      | elapsed:   34.1s\n",
      "[Parallel(n_jobs=-1)]: Done 5752 tasks      | elapsed:   51.7s\n",
      "[Parallel(n_jobs=-1)]: Done 6015 out of 6015 | elapsed:   56.9s finished\n"
     ]
    },
    {
     "data": {
      "text/plain": [
       "Builder(root_path=PosixPath('/glade/campaign/cesm/development/espwg/SMYLE/initial_conditions/SMYLE-FOSI'), extension='.nc', depth=0, exclude_patterns=['*/rest/*', '*/logs/*', '*/proc/*'], njobs=-1)"
      ]
     },
     "execution_count": 7,
     "metadata": {},
     "output_type": "execute_result"
    }
   ],
   "source": [
    "cesm_history_builder.build(parse_cesm_history)"
   ]
  },
  {
   "cell_type": "code",
   "execution_count": 8,
   "id": "06e289c0-9896-45d7-a204-929bf4e1ad0f",
   "metadata": {},
   "outputs": [
    {
     "data": {
      "text/html": [
       "<div>\n",
       "<style scoped>\n",
       "    .dataframe tbody tr th:only-of-type {\n",
       "        vertical-align: middle;\n",
       "    }\n",
       "\n",
       "    .dataframe tbody tr th {\n",
       "        vertical-align: top;\n",
       "    }\n",
       "\n",
       "    .dataframe thead th {\n",
       "        text-align: right;\n",
       "    }\n",
       "</style>\n",
       "<table border=\"1\" class=\"dataframe\">\n",
       "  <thead>\n",
       "    <tr style=\"text-align: right;\">\n",
       "      <th></th>\n",
       "      <th>component</th>\n",
       "      <th>stream</th>\n",
       "      <th>date</th>\n",
       "      <th>case</th>\n",
       "      <th>member_id</th>\n",
       "      <th>frequency</th>\n",
       "      <th>variables</th>\n",
       "      <th>path</th>\n",
       "    </tr>\n",
       "  </thead>\n",
       "  <tbody>\n",
       "    <tr>\n",
       "      <th>0</th>\n",
       "      <td>ice</td>\n",
       "      <td>cice.h</td>\n",
       "      <td>0001-01</td>\n",
       "      <td>g.e22.GOMIPECOIAF_JRA-1p4-2018.TL319_g17.SMYLE...</td>\n",
       "      <td>005</td>\n",
       "      <td>month_1</td>\n",
       "      <td>[hi, hs, snowfrac, Tsfc, aice, uvel, vvel, uat...</td>\n",
       "      <td>/glade/campaign/cesm/development/espwg/SMYLE/i...</td>\n",
       "    </tr>\n",
       "    <tr>\n",
       "      <th>1</th>\n",
       "      <td>ice</td>\n",
       "      <td>cice.h</td>\n",
       "      <td>0001-02</td>\n",
       "      <td>g.e22.GOMIPECOIAF_JRA-1p4-2018.TL319_g17.SMYLE...</td>\n",
       "      <td>005</td>\n",
       "      <td>month_1</td>\n",
       "      <td>[hi, hs, snowfrac, Tsfc, aice, uvel, vvel, uat...</td>\n",
       "      <td>/glade/campaign/cesm/development/espwg/SMYLE/i...</td>\n",
       "    </tr>\n",
       "    <tr>\n",
       "      <th>2</th>\n",
       "      <td>ice</td>\n",
       "      <td>cice.h</td>\n",
       "      <td>0001-03</td>\n",
       "      <td>g.e22.GOMIPECOIAF_JRA-1p4-2018.TL319_g17.SMYLE...</td>\n",
       "      <td>005</td>\n",
       "      <td>month_1</td>\n",
       "      <td>[hi, hs, snowfrac, Tsfc, aice, uvel, vvel, uat...</td>\n",
       "      <td>/glade/campaign/cesm/development/espwg/SMYLE/i...</td>\n",
       "    </tr>\n",
       "    <tr>\n",
       "      <th>3</th>\n",
       "      <td>ice</td>\n",
       "      <td>cice.h</td>\n",
       "      <td>0001-04</td>\n",
       "      <td>g.e22.GOMIPECOIAF_JRA-1p4-2018.TL319_g17.SMYLE...</td>\n",
       "      <td>005</td>\n",
       "      <td>month_1</td>\n",
       "      <td>[hi, hs, snowfrac, Tsfc, aice, uvel, vvel, uat...</td>\n",
       "      <td>/glade/campaign/cesm/development/espwg/SMYLE/i...</td>\n",
       "    </tr>\n",
       "    <tr>\n",
       "      <th>4</th>\n",
       "      <td>ice</td>\n",
       "      <td>cice.h</td>\n",
       "      <td>0001-05</td>\n",
       "      <td>g.e22.GOMIPECOIAF_JRA-1p4-2018.TL319_g17.SMYLE...</td>\n",
       "      <td>005</td>\n",
       "      <td>month_1</td>\n",
       "      <td>[hi, hs, snowfrac, Tsfc, aice, uvel, vvel, uat...</td>\n",
       "      <td>/glade/campaign/cesm/development/espwg/SMYLE/i...</td>\n",
       "    </tr>\n",
       "    <tr>\n",
       "      <th>...</th>\n",
       "      <td>...</td>\n",
       "      <td>...</td>\n",
       "      <td>...</td>\n",
       "      <td>...</td>\n",
       "      <td>...</td>\n",
       "      <td>...</td>\n",
       "      <td>...</td>\n",
       "      <td>...</td>\n",
       "    </tr>\n",
       "    <tr>\n",
       "      <th>6010</th>\n",
       "      <td>ocn</td>\n",
       "      <td>pop.h.nday1</td>\n",
       "      <td>0368-08-01</td>\n",
       "      <td>g.e22.GOMIPECOIAF_JRA-1p4-2018.TL319_g17.SMYLE...</td>\n",
       "      <td>005</td>\n",
       "      <td>day_1</td>\n",
       "      <td>[SST, SST2, SSS, HMXL_DR_2, XMXL_2]</td>\n",
       "      <td>/glade/campaign/cesm/development/espwg/SMYLE/i...</td>\n",
       "    </tr>\n",
       "    <tr>\n",
       "      <th>6011</th>\n",
       "      <td>ocn</td>\n",
       "      <td>pop.h.nday1</td>\n",
       "      <td>0368-09-01</td>\n",
       "      <td>g.e22.GOMIPECOIAF_JRA-1p4-2018.TL319_g17.SMYLE...</td>\n",
       "      <td>005</td>\n",
       "      <td>day_1</td>\n",
       "      <td>[SST, SST2, SSS, HMXL_DR_2, XMXL_2]</td>\n",
       "      <td>/glade/campaign/cesm/development/espwg/SMYLE/i...</td>\n",
       "    </tr>\n",
       "    <tr>\n",
       "      <th>6012</th>\n",
       "      <td>ocn</td>\n",
       "      <td>pop.h.nday1</td>\n",
       "      <td>0368-10-01</td>\n",
       "      <td>g.e22.GOMIPECOIAF_JRA-1p4-2018.TL319_g17.SMYLE...</td>\n",
       "      <td>005</td>\n",
       "      <td>day_1</td>\n",
       "      <td>[SST, SST2, SSS, HMXL_DR_2, XMXL_2]</td>\n",
       "      <td>/glade/campaign/cesm/development/espwg/SMYLE/i...</td>\n",
       "    </tr>\n",
       "    <tr>\n",
       "      <th>6013</th>\n",
       "      <td>ocn</td>\n",
       "      <td>pop.h.nday1</td>\n",
       "      <td>0368-11-01</td>\n",
       "      <td>g.e22.GOMIPECOIAF_JRA-1p4-2018.TL319_g17.SMYLE...</td>\n",
       "      <td>005</td>\n",
       "      <td>day_1</td>\n",
       "      <td>[SST, SST2, SSS, HMXL_DR_2, XMXL_2]</td>\n",
       "      <td>/glade/campaign/cesm/development/espwg/SMYLE/i...</td>\n",
       "    </tr>\n",
       "    <tr>\n",
       "      <th>6014</th>\n",
       "      <td>ocn</td>\n",
       "      <td>pop.h.nday1</td>\n",
       "      <td>0368-12-01</td>\n",
       "      <td>g.e22.GOMIPECOIAF_JRA-1p4-2018.TL319_g17.SMYLE...</td>\n",
       "      <td>005</td>\n",
       "      <td>day_1</td>\n",
       "      <td>[SST, SST2, SSS, HMXL_DR_2, XMXL_2]</td>\n",
       "      <td>/glade/campaign/cesm/development/espwg/SMYLE/i...</td>\n",
       "    </tr>\n",
       "  </tbody>\n",
       "</table>\n",
       "<p>6015 rows × 8 columns</p>\n",
       "</div>"
      ],
      "text/plain": [
       "     component       stream        date  \\\n",
       "0          ice       cice.h     0001-01   \n",
       "1          ice       cice.h     0001-02   \n",
       "2          ice       cice.h     0001-03   \n",
       "3          ice       cice.h     0001-04   \n",
       "4          ice       cice.h     0001-05   \n",
       "...        ...          ...         ...   \n",
       "6010       ocn  pop.h.nday1  0368-08-01   \n",
       "6011       ocn  pop.h.nday1  0368-09-01   \n",
       "6012       ocn  pop.h.nday1  0368-10-01   \n",
       "6013       ocn  pop.h.nday1  0368-11-01   \n",
       "6014       ocn  pop.h.nday1  0368-12-01   \n",
       "\n",
       "                                                   case member_id frequency  \\\n",
       "0     g.e22.GOMIPECOIAF_JRA-1p4-2018.TL319_g17.SMYLE...       005   month_1   \n",
       "1     g.e22.GOMIPECOIAF_JRA-1p4-2018.TL319_g17.SMYLE...       005   month_1   \n",
       "2     g.e22.GOMIPECOIAF_JRA-1p4-2018.TL319_g17.SMYLE...       005   month_1   \n",
       "3     g.e22.GOMIPECOIAF_JRA-1p4-2018.TL319_g17.SMYLE...       005   month_1   \n",
       "4     g.e22.GOMIPECOIAF_JRA-1p4-2018.TL319_g17.SMYLE...       005   month_1   \n",
       "...                                                 ...       ...       ...   \n",
       "6010  g.e22.GOMIPECOIAF_JRA-1p4-2018.TL319_g17.SMYLE...       005     day_1   \n",
       "6011  g.e22.GOMIPECOIAF_JRA-1p4-2018.TL319_g17.SMYLE...       005     day_1   \n",
       "6012  g.e22.GOMIPECOIAF_JRA-1p4-2018.TL319_g17.SMYLE...       005     day_1   \n",
       "6013  g.e22.GOMIPECOIAF_JRA-1p4-2018.TL319_g17.SMYLE...       005     day_1   \n",
       "6014  g.e22.GOMIPECOIAF_JRA-1p4-2018.TL319_g17.SMYLE...       005     day_1   \n",
       "\n",
       "                                              variables  \\\n",
       "0     [hi, hs, snowfrac, Tsfc, aice, uvel, vvel, uat...   \n",
       "1     [hi, hs, snowfrac, Tsfc, aice, uvel, vvel, uat...   \n",
       "2     [hi, hs, snowfrac, Tsfc, aice, uvel, vvel, uat...   \n",
       "3     [hi, hs, snowfrac, Tsfc, aice, uvel, vvel, uat...   \n",
       "4     [hi, hs, snowfrac, Tsfc, aice, uvel, vvel, uat...   \n",
       "...                                                 ...   \n",
       "6010                [SST, SST2, SSS, HMXL_DR_2, XMXL_2]   \n",
       "6011                [SST, SST2, SSS, HMXL_DR_2, XMXL_2]   \n",
       "6012                [SST, SST2, SSS, HMXL_DR_2, XMXL_2]   \n",
       "6013                [SST, SST2, SSS, HMXL_DR_2, XMXL_2]   \n",
       "6014                [SST, SST2, SSS, HMXL_DR_2, XMXL_2]   \n",
       "\n",
       "                                                   path  \n",
       "0     /glade/campaign/cesm/development/espwg/SMYLE/i...  \n",
       "1     /glade/campaign/cesm/development/espwg/SMYLE/i...  \n",
       "2     /glade/campaign/cesm/development/espwg/SMYLE/i...  \n",
       "3     /glade/campaign/cesm/development/espwg/SMYLE/i...  \n",
       "4     /glade/campaign/cesm/development/espwg/SMYLE/i...  \n",
       "...                                                 ...  \n",
       "6010  /glade/campaign/cesm/development/espwg/SMYLE/i...  \n",
       "6011  /glade/campaign/cesm/development/espwg/SMYLE/i...  \n",
       "6012  /glade/campaign/cesm/development/espwg/SMYLE/i...  \n",
       "6013  /glade/campaign/cesm/development/espwg/SMYLE/i...  \n",
       "6014  /glade/campaign/cesm/development/espwg/SMYLE/i...  \n",
       "\n",
       "[6015 rows x 8 columns]"
      ]
     },
     "execution_count": 8,
     "metadata": {},
     "output_type": "execute_result"
    }
   ],
   "source": [
    "cesm_history_builder.df"
   ]
  },
  {
   "cell_type": "markdown",
   "id": "39c88e4b-564c-4201-8b45-cc969781c7e0",
   "metadata": {},
   "source": [
    "### Save the catalog locally"
   ]
  },
  {
   "cell_type": "code",
   "execution_count": 9,
   "id": "32327e69-767e-4ea5-949d-a4d670827974",
   "metadata": {},
   "outputs": [
    {
     "name": "stdout",
     "output_type": "stream",
     "text": [
      "Saved catalog location: cesm-hist-smyle-fosi.json and cesm-hist-smyle-fosi.csv\n"
     ]
    }
   ],
   "source": [
    "cesm_history_builder.save(\n",
    "    # File path - could save as .csv (uncompressed csv) or .csv.gz (compressed csv)\n",
    "    \"cesm-hist-smyle-fosi.csv\",\n",
    "    # Column name including filepath\n",
    "    path_column_name='path',\n",
    "    # Column name including variables\n",
    "    variable_column_name='variables',\n",
    "    # Data file format - could be netcdf or zarr (in this case, netcdf)\n",
    "    data_format=\"netcdf\",\n",
    "    # Which attributes to groupby when reading in variables using intake-esm\n",
    "    groupby_attrs=[\"component\", \"stream\", \"case\"],\n",
    "    # Aggregations which are fed into xarray when reading in data using intake\n",
    "    aggregations=[\n",
    "        {\n",
    "            \"type\": \"join_existing\",\n",
    "            \"attribute_name\": \"date\",\n",
    "            \"options\": {\"dim\": \"time\", \"coords\": \"minimal\", \"compat\": \"override\"},\n",
    "        }\n",
    "    ],\n",
    ")"
   ]
  },
  {
   "cell_type": "markdown",
   "id": "71f9d7c7-c3ad-4695-bed5-aaa2c89d6aab",
   "metadata": {},
   "source": [
    "## Build the Timeseries Catalog"
   ]
  },
  {
   "cell_type": "code",
   "execution_count": 10,
   "id": "950de68a-f7a1-4fd2-bb86-c8af10d2d774",
   "metadata": {},
   "outputs": [],
   "source": [
    "cesm_timeseries_builder = Builder(\n",
    "    \"/glade/campaign/cesm/development/espwg/SMYLE/initial_conditions/SMYLE-FOSI\",\n",
    "    exclude_patterns=[\"*/rest/*\", \"*/logs/*\", \"*/hist/*\"],\n",
    ")"
   ]
  },
  {
   "cell_type": "markdown",
   "id": "04b2ce8d-2b5e-444a-8c6c-b346be797df2",
   "metadata": {},
   "source": [
    "### Build the catalog using the `parse_cesm_timeseries` parser"
   ]
  },
  {
   "cell_type": "code",
   "execution_count": 11,
   "id": "a5baa36d-6f73-4998-82cd-d09ba3924a29",
   "metadata": {},
   "outputs": [
    {
     "name": "stderr",
     "output_type": "stream",
     "text": [
      "[Parallel(n_jobs=-1)]: Using backend LokyBackend with 40 concurrent workers.\n",
      "[Parallel(n_jobs=-1)]: Done   2 out of   4 | elapsed:    0.1s remaining:    0.1s\n",
      "[Parallel(n_jobs=-1)]: Done   4 out of   4 | elapsed:    0.3s remaining:    0.0s\n",
      "[Parallel(n_jobs=-1)]: Done   4 out of   4 | elapsed:    0.3s finished\n",
      "[Parallel(n_jobs=-1)]: Using backend LokyBackend with 40 concurrent workers.\n",
      "[Parallel(n_jobs=-1)]: Done  84 tasks      | elapsed:    0.3s\n",
      "[Parallel(n_jobs=-1)]: Done 336 tasks      | elapsed:    1.5s\n",
      "[Parallel(n_jobs=-1)]: Done 545 out of 624 | elapsed:    2.4s remaining:    0.3s\n",
      "[Parallel(n_jobs=-1)]: Done 624 out of 624 | elapsed:    2.6s finished\n",
      "/glade/work/mgrover/git_repos/ecgtools/ecgtools/builder.py:179: UserWarning: Unable to parse 45 assets/files. A list of these assets can be found in `.invalid_assets` attribute.\n",
      "  self.get_directories().get_filelist()._parse(\n"
     ]
    },
    {
     "data": {
      "text/plain": [
       "Builder(root_path=PosixPath('/glade/campaign/cesm/development/espwg/SMYLE/initial_conditions/SMYLE-FOSI'), extension='.nc', depth=0, exclude_patterns=['*/rest/*', '*/logs/*', '*/hist/*'], njobs=-1)"
      ]
     },
     "execution_count": 11,
     "metadata": {},
     "output_type": "execute_result"
    }
   ],
   "source": [
    "cesm_timeseries_builder.build(parse_cesm_timeseries)"
   ]
  },
  {
   "cell_type": "markdown",
   "id": "a9a7b63d-c1fc-446d-9281-50ac3291fd7d",
   "metadata": {},
   "source": [
    "### Save the catalog locally"
   ]
  },
  {
   "cell_type": "code",
   "execution_count": 13,
   "id": "f56e9910-f555-4595-8e05-c47a7aa99122",
   "metadata": {},
   "outputs": [
    {
     "name": "stdout",
     "output_type": "stream",
     "text": [
      "Saved catalog location: cesm-tseries-smyle-fosi.json and cesm-tseries-smyle-fosi.csv\n"
     ]
    },
    {
     "name": "stderr",
     "output_type": "stream",
     "text": [
      "/glade/scratch/mgrover/ipykernel_129934/2723049127.py:1: UserWarning: Unable to parse 45 assets/files. A list of these assets can be found in invalid_assets_cesm-tseries-smyle-fosi.csv.\n",
      "  cesm_timeseries_builder.save(\n"
     ]
    }
   ],
   "source": [
    "cesm_timeseries_builder.save(\n",
    "    # File path - could save as .csv (uncompressed csv) or .csv.gz (compressed csv)\n",
    "    \"cesm-tseries-smyle-fosi.csv\",\n",
    "    # Column name including filepath\n",
    "    path_column_name='path',\n",
    "    # Column name including variables\n",
    "    variable_column_name='variable',\n",
    "    # Data file format - could be netcdf or zarr (in this case, netcdf)\n",
    "    data_format=\"netcdf\",\n",
    "    # Which attributes to groupby when reading in variables using intake-esm\n",
    "    groupby_attrs=[\"component\", \"stream\", \"case\"],\n",
    "    # Aggregations which are fed into xarray when reading in data using intake\n",
    "    aggregations=[\n",
    "        {\"type\": \"union\", \"attribute_name\": \"variable\"},\n",
    "        {\n",
    "            \"type\": \"join_existing\",\n",
    "            \"attribute_name\": \"time_range\",\n",
    "            \"options\": {\"dim\": \"time\", \"coords\": \"minimal\", \"compat\": \"override\"},\n",
    "        },\n",
    "    ],\n",
    ")"
   ]
  },
  {
   "cell_type": "markdown",
   "id": "58b746dd-1092-4650-84a2-6b53721003b7",
   "metadata": {},
   "source": [
    "## Spin up a Dask Cluster"
   ]
  },
  {
   "cell_type": "code",
   "execution_count": 3,
   "id": "9b1885cf-f8a6-4f05-8303-eb35fdccaf46",
   "metadata": {},
   "outputs": [
    {
     "data": {
      "application/vnd.jupyter.widget-view+json": {
       "model_id": "a88598bc787641c0af3e3cc620282dc7",
       "version_major": 2,
       "version_minor": 0
      },
      "text/plain": [
       "Tab(children=(HTML(value='<div class=\"jp-RenderedHTMLCommon jp-RenderedHTML jp-mod-trusted jp-OutputArea-outpu…"
      ]
     },
     "metadata": {},
     "output_type": "display_data"
    }
   ],
   "source": [
    "cluster = NCARCluster(memory='25 GB', cores=1, walltime='06:00:00')\n",
    "cluster.scale(23)\n",
    "client = Client(cluster)\n",
    "cluster"
   ]
  },
  {
   "cell_type": "markdown",
   "id": "a273823d-87ec-4e07-badd-a35d420c7080",
   "metadata": {},
   "source": [
    "## Read the Catalogs Using Intake-ESM\n",
    "Here, we read the catalogs we just created in the previous section! Remember, there are numerous variables in a single file (row) for the history files, so we use `ast` to help parse those rows!"
   ]
  },
  {
   "cell_type": "code",
   "execution_count": 4,
   "id": "b7372206-6ae3-4c46-8790-380f069c9fdb",
   "metadata": {},
   "outputs": [
    {
     "data": {
      "text/html": [
       "<p><strong>None catalog with 5 dataset(s) from 6015 asset(s)</strong>:</p> <div>\n",
       "<style scoped>\n",
       "    .dataframe tbody tr th:only-of-type {\n",
       "        vertical-align: middle;\n",
       "    }\n",
       "\n",
       "    .dataframe tbody tr th {\n",
       "        vertical-align: top;\n",
       "    }\n",
       "\n",
       "    .dataframe thead th {\n",
       "        text-align: right;\n",
       "    }\n",
       "</style>\n",
       "<table border=\"1\" class=\"dataframe\">\n",
       "  <thead>\n",
       "    <tr style=\"text-align: right;\">\n",
       "      <th></th>\n",
       "      <th>unique</th>\n",
       "    </tr>\n",
       "  </thead>\n",
       "  <tbody>\n",
       "    <tr>\n",
       "      <th>component</th>\n",
       "      <td>2</td>\n",
       "    </tr>\n",
       "    <tr>\n",
       "      <th>stream</th>\n",
       "      <td>5</td>\n",
       "    </tr>\n",
       "    <tr>\n",
       "      <th>date</th>\n",
       "      <td>5235</td>\n",
       "    </tr>\n",
       "    <tr>\n",
       "      <th>case</th>\n",
       "      <td>1</td>\n",
       "    </tr>\n",
       "    <tr>\n",
       "      <th>member_id</th>\n",
       "      <td>1</td>\n",
       "    </tr>\n",
       "    <tr>\n",
       "      <th>frequency</th>\n",
       "      <td>3</td>\n",
       "    </tr>\n",
       "    <tr>\n",
       "      <th>variables</th>\n",
       "      <td>620</td>\n",
       "    </tr>\n",
       "    <tr>\n",
       "      <th>path</th>\n",
       "      <td>6015</td>\n",
       "    </tr>\n",
       "  </tbody>\n",
       "</table>\n",
       "</div>"
      ],
      "text/plain": [
       "<IPython.core.display.HTML object>"
      ]
     },
     "metadata": {},
     "output_type": "display_data"
    }
   ],
   "source": [
    "history_catalog = intake.open_esm_datastore(\n",
    "    'cesm-hist-smyle-fosi.json',\n",
    "    csv_kwargs={\"converters\": {\"variables\": ast.literal_eval}},\n",
    "    sep=\"/\",\n",
    ")\n",
    "history_catalog"
   ]
  },
  {
   "cell_type": "markdown",
   "id": "71e70916-639b-448f-87da-81978aee6c20",
   "metadata": {},
   "source": [
    "The timeseries file does not require any additional arguments 👌"
   ]
  },
  {
   "cell_type": "code",
   "execution_count": 5,
   "id": "f2d33dc2-6b10-42c7-b5f0-37c9b7857937",
   "metadata": {},
   "outputs": [
    {
     "data": {
      "text/html": [
       "<p><strong>None catalog with 4 dataset(s) from 579 asset(s)</strong>:</p> <div>\n",
       "<style scoped>\n",
       "    .dataframe tbody tr th:only-of-type {\n",
       "        vertical-align: middle;\n",
       "    }\n",
       "\n",
       "    .dataframe tbody tr th {\n",
       "        vertical-align: top;\n",
       "    }\n",
       "\n",
       "    .dataframe thead th {\n",
       "        text-align: right;\n",
       "    }\n",
       "</style>\n",
       "<table border=\"1\" class=\"dataframe\">\n",
       "  <thead>\n",
       "    <tr style=\"text-align: right;\">\n",
       "      <th></th>\n",
       "      <th>unique</th>\n",
       "    </tr>\n",
       "  </thead>\n",
       "  <tbody>\n",
       "    <tr>\n",
       "      <th>component</th>\n",
       "      <td>2</td>\n",
       "    </tr>\n",
       "    <tr>\n",
       "      <th>stream</th>\n",
       "      <td>4</td>\n",
       "    </tr>\n",
       "    <tr>\n",
       "      <th>case</th>\n",
       "      <td>1</td>\n",
       "    </tr>\n",
       "    <tr>\n",
       "      <th>member_id</th>\n",
       "      <td>1</td>\n",
       "    </tr>\n",
       "    <tr>\n",
       "      <th>variable</th>\n",
       "      <td>579</td>\n",
       "    </tr>\n",
       "    <tr>\n",
       "      <th>start_time</th>\n",
       "      <td>3</td>\n",
       "    </tr>\n",
       "    <tr>\n",
       "      <th>end_time</th>\n",
       "      <td>3</td>\n",
       "    </tr>\n",
       "    <tr>\n",
       "      <th>time_range</th>\n",
       "      <td>3</td>\n",
       "    </tr>\n",
       "    <tr>\n",
       "      <th>long_name</th>\n",
       "      <td>570</td>\n",
       "    </tr>\n",
       "    <tr>\n",
       "      <th>units</th>\n",
       "      <td>67</td>\n",
       "    </tr>\n",
       "    <tr>\n",
       "      <th>vertical_levels</th>\n",
       "      <td>1</td>\n",
       "    </tr>\n",
       "    <tr>\n",
       "      <th>frequency</th>\n",
       "      <td>3</td>\n",
       "    </tr>\n",
       "    <tr>\n",
       "      <th>path</th>\n",
       "      <td>579</td>\n",
       "    </tr>\n",
       "  </tbody>\n",
       "</table>\n",
       "</div>"
      ],
      "text/plain": [
       "<IPython.core.display.HTML object>"
      ]
     },
     "metadata": {},
     "output_type": "display_data"
    }
   ],
   "source": [
    "timeseries_catalog = intake.open_esm_datastore('cesm-tseries-smyle-fosi.json')\n",
    "timeseries_catalog"
   ]
  },
  {
   "cell_type": "markdown",
   "id": "9c3bddbc-aed0-41f6-9cad-8d02c23ff49e",
   "metadata": {},
   "source": [
    "### Search for Just Monthly Ocean Output\n",
    "We are only interested in monthly (`frequency='month_1'`) ocean (`component='ocn'`) output in this case"
   ]
  },
  {
   "cell_type": "code",
   "execution_count": 7,
   "id": "672bcfde-fcff-46c1-b2b6-0bd4f552d11e",
   "metadata": {},
   "outputs": [
    {
     "data": {
      "text/html": [
       "<p><strong>None catalog with 1 dataset(s) from 410 asset(s)</strong>:</p> <div>\n",
       "<style scoped>\n",
       "    .dataframe tbody tr th:only-of-type {\n",
       "        vertical-align: middle;\n",
       "    }\n",
       "\n",
       "    .dataframe tbody tr th {\n",
       "        vertical-align: top;\n",
       "    }\n",
       "\n",
       "    .dataframe thead th {\n",
       "        text-align: right;\n",
       "    }\n",
       "</style>\n",
       "<table border=\"1\" class=\"dataframe\">\n",
       "  <thead>\n",
       "    <tr style=\"text-align: right;\">\n",
       "      <th></th>\n",
       "      <th>unique</th>\n",
       "    </tr>\n",
       "  </thead>\n",
       "  <tbody>\n",
       "    <tr>\n",
       "      <th>component</th>\n",
       "      <td>1</td>\n",
       "    </tr>\n",
       "    <tr>\n",
       "      <th>stream</th>\n",
       "      <td>1</td>\n",
       "    </tr>\n",
       "    <tr>\n",
       "      <th>case</th>\n",
       "      <td>1</td>\n",
       "    </tr>\n",
       "    <tr>\n",
       "      <th>member_id</th>\n",
       "      <td>1</td>\n",
       "    </tr>\n",
       "    <tr>\n",
       "      <th>variable</th>\n",
       "      <td>410</td>\n",
       "    </tr>\n",
       "    <tr>\n",
       "      <th>start_time</th>\n",
       "      <td>1</td>\n",
       "    </tr>\n",
       "    <tr>\n",
       "      <th>end_time</th>\n",
       "      <td>1</td>\n",
       "    </tr>\n",
       "    <tr>\n",
       "      <th>time_range</th>\n",
       "      <td>1</td>\n",
       "    </tr>\n",
       "    <tr>\n",
       "      <th>long_name</th>\n",
       "      <td>409</td>\n",
       "    </tr>\n",
       "    <tr>\n",
       "      <th>units</th>\n",
       "      <td>55</td>\n",
       "    </tr>\n",
       "    <tr>\n",
       "      <th>vertical_levels</th>\n",
       "      <td>1</td>\n",
       "    </tr>\n",
       "    <tr>\n",
       "      <th>frequency</th>\n",
       "      <td>1</td>\n",
       "    </tr>\n",
       "    <tr>\n",
       "      <th>path</th>\n",
       "      <td>410</td>\n",
       "    </tr>\n",
       "  </tbody>\n",
       "</table>\n",
       "</div>"
      ],
      "text/plain": [
       "<IPython.core.display.HTML object>"
      ]
     },
     "metadata": {},
     "output_type": "display_data"
    }
   ],
   "source": [
    "monthly_ocean_timeseries = timeseries_catalog.search(component='ocn', frequency='month_1')\n",
    "monthly_ocean_timeseries"
   ]
  },
  {
   "cell_type": "code",
   "execution_count": 8,
   "id": "fa00b71d-f3c2-4310-8ddc-6f382fabf437",
   "metadata": {},
   "outputs": [
    {
     "data": {
      "text/html": [
       "<p><strong>None catalog with 1 dataset(s) from 756 asset(s)</strong>:</p> <div>\n",
       "<style scoped>\n",
       "    .dataframe tbody tr th:only-of-type {\n",
       "        vertical-align: middle;\n",
       "    }\n",
       "\n",
       "    .dataframe tbody tr th {\n",
       "        vertical-align: top;\n",
       "    }\n",
       "\n",
       "    .dataframe thead th {\n",
       "        text-align: right;\n",
       "    }\n",
       "</style>\n",
       "<table border=\"1\" class=\"dataframe\">\n",
       "  <thead>\n",
       "    <tr style=\"text-align: right;\">\n",
       "      <th></th>\n",
       "      <th>unique</th>\n",
       "    </tr>\n",
       "  </thead>\n",
       "  <tbody>\n",
       "    <tr>\n",
       "      <th>component</th>\n",
       "      <td>1</td>\n",
       "    </tr>\n",
       "    <tr>\n",
       "      <th>stream</th>\n",
       "      <td>1</td>\n",
       "    </tr>\n",
       "    <tr>\n",
       "      <th>date</th>\n",
       "      <td>756</td>\n",
       "    </tr>\n",
       "    <tr>\n",
       "      <th>case</th>\n",
       "      <td>1</td>\n",
       "    </tr>\n",
       "    <tr>\n",
       "      <th>member_id</th>\n",
       "      <td>1</td>\n",
       "    </tr>\n",
       "    <tr>\n",
       "      <th>frequency</th>\n",
       "      <td>1</td>\n",
       "    </tr>\n",
       "    <tr>\n",
       "      <th>variables</th>\n",
       "      <td>446</td>\n",
       "    </tr>\n",
       "    <tr>\n",
       "      <th>path</th>\n",
       "      <td>756</td>\n",
       "    </tr>\n",
       "  </tbody>\n",
       "</table>\n",
       "</div>"
      ],
      "text/plain": [
       "<IPython.core.display.HTML object>"
      ]
     },
     "metadata": {},
     "output_type": "display_data"
    }
   ],
   "source": [
    "monthly_ocean_history = history_catalog.search(component='ocn', frequency='month_1')\n",
    "monthly_ocean_history"
   ]
  },
  {
   "cell_type": "markdown",
   "id": "0d96f08a-9684-4c23-8685-8887b334f833",
   "metadata": {
    "tags": []
   },
   "source": [
    "## Test File Access Speeds\n",
    "Here, we test the time it takes to read in the following time ranges:\n",
    "* 1 year\n",
    "* 5 years\n",
    "* 10 years\n",
    "* 20 years\n",
    "* 40 years\n",
    "* 60 years\n",
    "\n",
    "A useful tool we will use here is the [Dask Performance Report](https://docs.dask.org/en/latest/diagnostics-distributed.html) which enables the user to output their Dask dashboard, so they can share it with others. This provides a means of going back to a computation on your cluster to investigate which tasks, workers, etc."
   ]
  },
  {
   "cell_type": "markdown",
   "id": "9e71663f-bb82-4dae-80ae-748acc0cfe77",
   "metadata": {},
   "source": [
    "### Test out the Timeseries Files"
   ]
  },
  {
   "cell_type": "code",
   "execution_count": 9,
   "id": "48939477-652d-429d-adcb-fe99090c0096",
   "metadata": {},
   "outputs": [],
   "source": [
    "def test_timeseries_file(\n",
    "    num_years, chunk_strategy='time', long_term_average=False, monthly_average=False\n",
    "):\n",
    "    start = time.time()\n",
    "    chunk_dict = {'time': {'time': 240}, 'spatial': {'nlon': 160, 'nlat': 192}}\n",
    "    dsets = monthly_ocean_timeseries.search(variable='FG_CO2').to_dataset_dict(\n",
    "        'FG_CO2',\n",
    "        cdf_kwargs={'use_cftime': True, 'chunks': chunk_dict[chunk_strategy]},\n",
    "        progressbar=False,\n",
    "    )\n",
    "    keys = list(dsets.keys())\n",
    "    ds = dsets[keys[0]]\n",
    "\n",
    "    if long_term_average:\n",
    "        ds.mean(dim='time').compute()\n",
    "\n",
    "    if monthly_average:\n",
    "        ds.groupby('time.month').mean(dim='time').compute()\n",
    "\n",
    "    end = time.time()\n",
    "    return end - start"
   ]
  },
  {
   "cell_type": "markdown",
   "id": "8b8d42c5-764c-4d6f-a638-0af0526c78b4",
   "metadata": {},
   "source": [
    "### Apply the Computation with Timeseries\n",
    "It can be accessed using [this link](timeseries-computation.html)!"
   ]
  },
  {
   "cell_type": "code",
   "execution_count": 10,
   "id": "165d7054-47de-4848-8615-6f966fb02689",
   "metadata": {},
   "outputs": [
    {
     "name": "stdout",
     "output_type": "stream",
     "text": [
      "Starting year 1\n",
      "Starting year 5\n",
      "Starting year 10\n",
      "Starting year 20\n",
      "Starting year 30\n",
      "Starting year 40\n",
      "Starting year 50\n",
      "Starting year 60\n"
     ]
    }
   ],
   "source": [
    "years = [1, 5, 10, 20, 30, 40, 50, 60]\n",
    "\n",
    "df = pd.DataFrame()\n",
    "\n",
    "with performance_report(filename=\"timeseries-computation.html\"):\n",
    "    for year in years:\n",
    "        print(f'Starting year {year}')\n",
    "        # Compute without computation\n",
    "        wall_time = test_timeseries_file(year)\n",
    "        df = df.append(\n",
    "            {\n",
    "                'catalog': 'timeseries',\n",
    "                'computation': 'file_access',\n",
    "                'num_years': year,\n",
    "                'wall_time': wall_time,\n",
    "            },\n",
    "            ignore_index=True,\n",
    "        )\n",
    "\n",
    "        # Compute with long-term mean computation\n",
    "        wall_time = test_timeseries_file(year, long_term_average=True)\n",
    "        df = df.append(\n",
    "            {\n",
    "                'catalog': 'timeseries',\n",
    "                'computation': 'long_term_average',\n",
    "                'num_years': year,\n",
    "                'wall_time': wall_time,\n",
    "            },\n",
    "            ignore_index=True,\n",
    "        )\n",
    "\n",
    "        # Compute with long-term mean computation\n",
    "        wall_time = test_timeseries_file(year, monthly_average=True)\n",
    "        df = df.append(\n",
    "            {\n",
    "                'catalog': 'timeseries',\n",
    "                'computation': 'monthly_average',\n",
    "                'num_years': year,\n",
    "                'wall_time': wall_time,\n",
    "            },\n",
    "            ignore_index=True,\n",
    "        )\n",
    "df_timeseries = df"
   ]
  },
  {
   "cell_type": "code",
   "execution_count": 11,
   "id": "4648edae-6339-4176-a96b-31cd4aab0de9",
   "metadata": {},
   "outputs": [
    {
     "data": {},
     "metadata": {},
     "output_type": "display_data"
    },
    {
     "data": {
      "application/vnd.holoviews_exec.v0+json": "",
      "text/html": [
       "<div id='4730'>\n",
       "\n",
       "\n",
       "\n",
       "\n",
       "\n",
       "  <div class=\"bk-root\" id=\"ea8bd943-a250-47b7-bb31-19ecab667e7e\" data-root-id=\"4730\"></div>\n",
       "</div>\n",
       "<script type=\"application/javascript\">(function(root) {\n",
       "  function embed_document(root) {\n",
       "    var docs_json = {\"e874d4e4-61a0-4daf-991b-e5e2b6943034\":{\"defs\":[{\"extends\":null,\"module\":null,\"name\":\"ReactiveHTML1\",\"overrides\":[],\"properties\":[]},{\"extends\":null,\"module\":null,\"name\":\"FlexBox1\",\"overrides\":[],\"properties\":[{\"default\":\"flex-start\",\"kind\":null,\"name\":\"align_content\"},{\"default\":\"flex-start\",\"kind\":null,\"name\":\"align_items\"},{\"default\":\"row\",\"kind\":null,\"name\":\"flex_direction\"},{\"default\":\"wrap\",\"kind\":null,\"name\":\"flex_wrap\"},{\"default\":\"flex-start\",\"kind\":null,\"name\":\"justify_content\"}]},{\"extends\":null,\"module\":null,\"name\":\"TemplateActions1\",\"overrides\":[],\"properties\":[{\"default\":0,\"kind\":null,\"name\":\"open_modal\"},{\"default\":0,\"kind\":null,\"name\":\"close_modal\"}]},{\"extends\":null,\"module\":null,\"name\":\"MaterialTemplateActions1\",\"overrides\":[],\"properties\":[{\"default\":0,\"kind\":null,\"name\":\"open_modal\"},{\"default\":0,\"kind\":null,\"name\":\"close_modal\"}]}],\"roots\":{\"references\":[{\"attributes\":{\"below\":[{\"id\":\"4836\"}],\"center\":[{\"id\":\"4839\"},{\"id\":\"4843\"}],\"height\":300,\"left\":[{\"id\":\"4840\"}],\"margin\":null,\"min_border_bottom\":10,\"min_border_left\":10,\"min_border_right\":10,\"min_border_top\":10,\"renderers\":[{\"id\":\"4863\"}],\"sizing_mode\":\"fixed\",\"title\":{\"id\":\"4828\"},\"toolbar\":{\"id\":\"4850\"},\"toolbar_location\":null,\"width\":400,\"x_range\":{\"id\":\"4732\"},\"x_scale\":{\"id\":\"4832\"},\"y_range\":{\"id\":\"4733\"},\"y_scale\":{\"id\":\"4834\"}},\"id\":\"4827\",\"subtype\":\"Figure\",\"type\":\"Plot\"},{\"attributes\":{},\"id\":\"4749\",\"type\":\"BasicTicker\"},{\"attributes\":{},\"id\":\"4802\",\"type\":\"ResetTool\"},{\"attributes\":{\"axis_label\":\"Time (s)\",\"formatter\":{\"id\":\"4870\"},\"major_label_policy\":{\"id\":\"4871\"},\"ticker\":{\"id\":\"4841\"}},\"id\":\"4840\",\"type\":\"LinearAxis\"},{\"attributes\":{\"data\":{\"num_years\":{\"__ndarray__\":\"AAAAAAAA8D8AAAAAAAAUQAAAAAAAACRAAAAAAAAANEAAAAAAAAA+QAAAAAAAAERAAAAAAAAASUAAAAAAAABOQA==\",\"dtype\":\"float64\",\"order\":\"little\",\"shape\":[8]},\"wall_time\":{\"__ndarray__\":\"AAAAQAHMDEAAAAAAPnIHQAAAAABgFgdAAAAAoOtMBEAAAADghCUFQAAAAKCHwgdAAAAAIJTUAEAAAADg7gQDQA==\",\"dtype\":\"float64\",\"order\":\"little\",\"shape\":[8]}},\"selected\":{\"id\":\"4858\"},\"selection_policy\":{\"id\":\"4902\"}},\"id\":\"4857\",\"type\":\"ColumnDataSource\"},{\"attributes\":{\"end\":3.9490416765213014,\"reset_end\":3.9490416765213014,\"reset_start\":-0.2441173315048218,\"start\":-0.2441173315048218,\"tags\":[[[\"wall_time\",\"wall_time\",null]]]},\"id\":\"4733\",\"type\":\"Range1d\"},{\"attributes\":{\"line_color\":\"#30a2da\",\"line_width\":2,\"x\":{\"field\":\"num_years\"},\"y\":{\"field\":\"wall_time\"}},\"id\":\"4773\",\"type\":\"Line\"},{\"attributes\":{\"axis\":{\"id\":\"4794\"},\"dimension\":1,\"grid_line_color\":null,\"ticker\":null},\"id\":\"4797\",\"type\":\"Grid\"},{\"attributes\":{},\"id\":\"4766\",\"type\":\"Selection\"},{\"attributes\":{\"margin\":[5,5,5,5],\"name\":\"HSpacer01791\",\"sizing_mode\":\"stretch_width\"},\"id\":\"5185\",\"type\":\"Spacer\"},{\"attributes\":{},\"id\":\"4844\",\"type\":\"SaveTool\"},{\"attributes\":{\"overlay\":{\"id\":\"4757\"}},\"id\":\"4755\",\"type\":\"BoxZoomTool\"},{\"attributes\":{},\"id\":\"4778\",\"type\":\"BasicTickFormatter\"},{\"attributes\":{\"axis\":{\"id\":\"4744\"},\"grid_line_color\":null,\"ticker\":null},\"id\":\"4747\",\"type\":\"Grid\"},{\"attributes\":{\"margin\":[5,5,5,5],\"name\":\"HSpacer01790\",\"sizing_mode\":\"stretch_width\"},\"id\":\"4731\",\"type\":\"Spacer\"},{\"attributes\":{\"bottom_units\":\"screen\",\"fill_alpha\":0.5,\"fill_color\":\"lightgrey\",\"left_units\":\"screen\",\"level\":\"overlay\",\"line_alpha\":1.0,\"line_color\":\"black\",\"line_dash\":[4,4],\"line_width\":2,\"right_units\":\"screen\",\"syncable\":false,\"top_units\":\"screen\"},\"id\":\"4757\",\"type\":\"BoxAnnotation\"},{\"attributes\":{\"line_color\":\"#30a2da\",\"line_width\":2,\"x\":{\"field\":\"num_years\"},\"y\":{\"field\":\"wall_time\"}},\"id\":\"4768\",\"type\":\"Line\"},{\"attributes\":{},\"id\":\"4822\",\"type\":\"AllLabels\"},{\"attributes\":{\"bottom_units\":\"screen\",\"fill_alpha\":0.5,\"fill_color\":\"lightgrey\",\"left_units\":\"screen\",\"level\":\"overlay\",\"line_alpha\":1.0,\"line_color\":\"black\",\"line_dash\":[4,4],\"line_width\":2,\"right_units\":\"screen\",\"syncable\":false,\"top_units\":\"screen\"},\"id\":\"4849\",\"type\":\"BoxAnnotation\"},{\"attributes\":{\"data\":{\"num_years\":{\"__ndarray__\":\"AAAAAAAA8D8AAAAAAAAUQAAAAAAAACRAAAAAAAAANEAAAAAAAAA+QAAAAAAAAERAAAAAAAAASUAAAAAAAABOQA==\",\"dtype\":\"float64\",\"order\":\"little\",\"shape\":[8]},\"wall_time\":{\"__ndarray__\":\"AAAAIFg5AUAAAAAA+AbXPwAAAAAMAc4/AAAAAIJzzj8AAAAANIXPPwAAAACUy7s/AAAAALhA0D8AAAAAxPW6Pw==\",\"dtype\":\"float64\",\"order\":\"little\",\"shape\":[8]}},\"selected\":{\"id\":\"4766\"},\"selection_policy\":{\"id\":\"4880\"}},\"id\":\"4765\",\"type\":\"ColumnDataSource\"},{\"attributes\":{\"below\":[{\"id\":\"4744\"}],\"center\":[{\"id\":\"4747\"},{\"id\":\"4751\"}],\"height\":300,\"left\":[{\"id\":\"4748\"}],\"margin\":null,\"min_border_bottom\":10,\"min_border_left\":10,\"min_border_right\":10,\"min_border_top\":10,\"renderers\":[{\"id\":\"4771\"}],\"sizing_mode\":\"fixed\",\"title\":{\"id\":\"4736\"},\"toolbar\":{\"id\":\"4758\"},\"toolbar_location\":null,\"width\":400,\"x_range\":{\"id\":\"4732\"},\"x_scale\":{\"id\":\"4740\"},\"y_range\":{\"id\":\"4733\"},\"y_scale\":{\"id\":\"4742\"}},\"id\":\"4735\",\"subtype\":\"Figure\",\"type\":\"Plot\"},{\"attributes\":{},\"id\":\"4832\",\"type\":\"LinearScale\"},{\"attributes\":{},\"id\":\"4848\",\"type\":\"ResetTool\"},{\"attributes\":{},\"id\":\"4868\",\"type\":\"AllLabels\"},{\"attributes\":{},\"id\":\"4845\",\"type\":\"PanTool\"},{\"attributes\":{},\"id\":\"4740\",\"type\":\"LinearScale\"},{\"attributes\":{},\"id\":\"4788\",\"type\":\"LinearScale\"},{\"attributes\":{\"axis_label\":\"num_years\",\"formatter\":{\"id\":\"4775\"},\"major_label_policy\":{\"id\":\"4776\"},\"ticker\":{\"id\":\"4745\"}},\"id\":\"4744\",\"type\":\"LinearAxis\"},{\"attributes\":{},\"id\":\"4841\",\"type\":\"BasicTicker\"},{\"attributes\":{},\"id\":\"4742\",\"type\":\"LinearScale\"},{\"attributes\":{\"children\":[[{\"id\":\"4735\"},0,0],[{\"id\":\"4781\"},0,1],[{\"id\":\"4827\"},0,2]]},\"id\":\"4905\",\"type\":\"GridBox\"},{\"attributes\":{\"axis_label\":\"num_years\",\"formatter\":{\"id\":\"4821\"},\"major_label_policy\":{\"id\":\"4822\"},\"ticker\":{\"id\":\"4791\"}},\"id\":\"4790\",\"type\":\"LinearAxis\"},{\"attributes\":{},\"id\":\"4871\",\"type\":\"AllLabels\"},{\"attributes\":{},\"id\":\"4837\",\"type\":\"BasicTicker\"},{\"attributes\":{},\"id\":\"4779\",\"type\":\"AllLabels\"},{\"attributes\":{\"overlay\":{\"id\":\"4849\"}},\"id\":\"4847\",\"type\":\"BoxZoomTool\"},{\"attributes\":{},\"id\":\"4858\",\"type\":\"Selection\"},{\"attributes\":{\"data_source\":{\"id\":\"4765\"},\"glyph\":{\"id\":\"4768\"},\"hover_glyph\":null,\"muted_glyph\":{\"id\":\"4770\"},\"nonselection_glyph\":{\"id\":\"4769\"},\"selection_glyph\":{\"id\":\"4773\"},\"view\":{\"id\":\"4772\"}},\"id\":\"4771\",\"type\":\"GlyphRenderer\"},{\"attributes\":{\"active_multi\":null,\"tools\":[{\"id\":\"4826\"},{\"id\":\"4844\"},{\"id\":\"4845\"},{\"id\":\"4846\"},{\"id\":\"4847\"},{\"id\":\"4848\"}]},\"id\":\"4850\",\"type\":\"Toolbar\"},{\"attributes\":{\"data_source\":{\"id\":\"4811\"},\"glyph\":{\"id\":\"4814\"},\"hover_glyph\":null,\"muted_glyph\":{\"id\":\"4816\"},\"nonselection_glyph\":{\"id\":\"4815\"},\"selection_glyph\":{\"id\":\"4819\"},\"view\":{\"id\":\"4818\"}},\"id\":\"4817\",\"type\":\"GlyphRenderer\"},{\"attributes\":{\"active_multi\":null,\"tools\":[{\"id\":\"4734\"},{\"id\":\"4752\"},{\"id\":\"4753\"},{\"id\":\"4754\"},{\"id\":\"4755\"},{\"id\":\"4756\"}]},\"id\":\"4758\",\"type\":\"Toolbar\"},{\"attributes\":{},\"id\":\"4786\",\"type\":\"LinearScale\"},{\"attributes\":{},\"id\":\"4825\",\"type\":\"AllLabels\"},{\"attributes\":{},\"id\":\"4754\",\"type\":\"WheelZoomTool\"},{\"attributes\":{\"line_color\":\"#30a2da\",\"line_width\":2,\"x\":{\"field\":\"num_years\"},\"y\":{\"field\":\"wall_time\"}},\"id\":\"4860\",\"type\":\"Line\"},{\"attributes\":{\"text\":\"Monthly climatology\",\"text_color\":\"black\",\"text_font_size\":\"12pt\"},\"id\":\"4828\",\"type\":\"Title\"},{\"attributes\":{\"axis\":{\"id\":\"4840\"},\"dimension\":1,\"grid_line_color\":null,\"ticker\":null},\"id\":\"4843\",\"type\":\"Grid\"},{\"attributes\":{},\"id\":\"4745\",\"type\":\"BasicTicker\"},{\"attributes\":{\"bottom_units\":\"screen\",\"fill_alpha\":0.5,\"fill_color\":\"lightgrey\",\"left_units\":\"screen\",\"level\":\"overlay\",\"line_alpha\":1.0,\"line_color\":\"black\",\"line_dash\":[4,4],\"line_width\":2,\"right_units\":\"screen\",\"syncable\":false,\"top_units\":\"screen\"},\"id\":\"4803\",\"type\":\"BoxAnnotation\"},{\"attributes\":{\"line_color\":\"#30a2da\",\"line_width\":2,\"x\":{\"field\":\"num_years\"},\"y\":{\"field\":\"wall_time\"}},\"id\":\"4814\",\"type\":\"Line\"},{\"attributes\":{\"end\":60.0,\"reset_end\":60.0,\"reset_start\":1.0,\"start\":1.0,\"tags\":[[[\"num_years\",\"num_years\",null]]]},\"id\":\"4732\",\"type\":\"Range1d\"},{\"attributes\":{},\"id\":\"4834\",\"type\":\"LinearScale\"},{\"attributes\":{},\"id\":\"4791\",\"type\":\"BasicTicker\"},{\"attributes\":{\"axis_label\":\"Time (s)\",\"formatter\":{\"id\":\"4778\"},\"major_label_policy\":{\"id\":\"4779\"},\"ticker\":{\"id\":\"4749\"}},\"id\":\"4748\",\"type\":\"LinearAxis\"},{\"attributes\":{\"text\":\"Long term mean\",\"text_color\":\"black\",\"text_font_size\":\"12pt\"},\"id\":\"4782\",\"type\":\"Title\"},{\"attributes\":{\"axis_label\":\"num_years\",\"formatter\":{\"id\":\"4867\"},\"major_label_policy\":{\"id\":\"4868\"},\"ticker\":{\"id\":\"4837\"}},\"id\":\"4836\",\"type\":\"LinearAxis\"},{\"attributes\":{\"axis\":{\"id\":\"4790\"},\"grid_line_color\":null,\"ticker\":null},\"id\":\"4793\",\"type\":\"Grid\"},{\"attributes\":{\"axis_label\":\"Time (s)\",\"formatter\":{\"id\":\"4824\"},\"major_label_policy\":{\"id\":\"4825\"},\"ticker\":{\"id\":\"4795\"}},\"id\":\"4794\",\"type\":\"LinearAxis\"},{\"attributes\":{},\"id\":\"4870\",\"type\":\"BasicTickFormatter\"},{\"attributes\":{},\"id\":\"4775\",\"type\":\"BasicTickFormatter\"},{\"attributes\":{},\"id\":\"4821\",\"type\":\"BasicTickFormatter\"},{\"attributes\":{},\"id\":\"4800\",\"type\":\"WheelZoomTool\"},{\"attributes\":{},\"id\":\"4846\",\"type\":\"WheelZoomTool\"},{\"attributes\":{},\"id\":\"4798\",\"type\":\"SaveTool\"},{\"attributes\":{},\"id\":\"4902\",\"type\":\"UnionRenderers\"},{\"attributes\":{\"children\":[{\"id\":\"4907\"},{\"id\":\"4905\"}]},\"id\":\"4908\",\"type\":\"Column\"},{\"attributes\":{},\"id\":\"4753\",\"type\":\"PanTool\"},{\"attributes\":{},\"id\":\"4867\",\"type\":\"BasicTickFormatter\"},{\"attributes\":{\"axis\":{\"id\":\"4748\"},\"dimension\":1,\"grid_line_color\":null,\"ticker\":null},\"id\":\"4751\",\"type\":\"Grid\"},{\"attributes\":{\"callback\":null,\"renderers\":[{\"id\":\"4817\"}],\"tags\":[\"hv_created\"],\"tooltips\":[[\"num_years\",\"@{num_years}\"],[\"wall_time\",\"@{wall_time}\"]]},\"id\":\"4780\",\"type\":\"HoverTool\"},{\"attributes\":{\"line_color\":\"#30a2da\",\"line_width\":2,\"x\":{\"field\":\"num_years\"},\"y\":{\"field\":\"wall_time\"}},\"id\":\"4865\",\"type\":\"Line\"},{\"attributes\":{\"active_multi\":null,\"tools\":[{\"id\":\"4780\"},{\"id\":\"4798\"},{\"id\":\"4799\"},{\"id\":\"4800\"},{\"id\":\"4801\"},{\"id\":\"4802\"}]},\"id\":\"4804\",\"type\":\"Toolbar\"},{\"attributes\":{},\"id\":\"4756\",\"type\":\"ResetTool\"},{\"attributes\":{\"axis\":{\"id\":\"4836\"},\"grid_line_color\":null,\"ticker\":null},\"id\":\"4839\",\"type\":\"Grid\"},{\"attributes\":{\"line_alpha\":0.2,\"line_color\":\"#30a2da\",\"line_width\":2,\"x\":{\"field\":\"num_years\"},\"y\":{\"field\":\"wall_time\"}},\"id\":\"4862\",\"type\":\"Line\"},{\"attributes\":{},\"id\":\"4891\",\"type\":\"UnionRenderers\"},{\"attributes\":{\"callback\":null,\"renderers\":[{\"id\":\"4863\"}],\"tags\":[\"hv_created\"],\"tooltips\":[[\"num_years\",\"@{num_years}\"],[\"wall_time\",\"@{wall_time}\"]]},\"id\":\"4826\",\"type\":\"HoverTool\"},{\"attributes\":{\"line_alpha\":0.2,\"line_color\":\"#30a2da\",\"line_width\":2,\"x\":{\"field\":\"num_years\"},\"y\":{\"field\":\"wall_time\"}},\"id\":\"4770\",\"type\":\"Line\"},{\"attributes\":{\"data\":{\"num_years\":{\"__ndarray__\":\"AAAAAAAA8D8AAAAAAAAUQAAAAAAAACRAAAAAAAAANEAAAAAAAAA+QAAAAAAAAERAAAAAAAAASUAAAAAAAABOQA==\",\"dtype\":\"float64\",\"order\":\"little\",\"shape\":[8]},\"wall_time\":{\"__ndarray__\":\"AAAAoKEPBkAAAAAAZ4HxPwAAAADCMfM/AAAAQJ6d8j8AAABALG3+PwAAAMDnxvc/AAAAQNwz+j8AAABAoJn3Pw==\",\"dtype\":\"float64\",\"order\":\"little\",\"shape\":[8]}},\"selected\":{\"id\":\"4812\"},\"selection_policy\":{\"id\":\"4891\"}},\"id\":\"4811\",\"type\":\"ColumnDataSource\"},{\"attributes\":{\"line_alpha\":0.1,\"line_color\":\"#30a2da\",\"line_width\":2,\"x\":{\"field\":\"num_years\"},\"y\":{\"field\":\"wall_time\"}},\"id\":\"4861\",\"type\":\"Line\"},{\"attributes\":{\"source\":{\"id\":\"4857\"}},\"id\":\"4864\",\"type\":\"CDSView\"},{\"attributes\":{\"data_source\":{\"id\":\"4857\"},\"glyph\":{\"id\":\"4860\"},\"hover_glyph\":null,\"muted_glyph\":{\"id\":\"4862\"},\"nonselection_glyph\":{\"id\":\"4861\"},\"selection_glyph\":{\"id\":\"4865\"},\"view\":{\"id\":\"4864\"}},\"id\":\"4863\",\"type\":\"GlyphRenderer\"},{\"attributes\":{\"source\":{\"id\":\"4811\"}},\"id\":\"4818\",\"type\":\"CDSView\"},{\"attributes\":{},\"id\":\"4812\",\"type\":\"Selection\"},{\"attributes\":{},\"id\":\"4824\",\"type\":\"BasicTickFormatter\"},{\"attributes\":{\"callback\":null,\"renderers\":[{\"id\":\"4771\"}],\"tags\":[\"hv_created\"],\"tooltips\":[[\"num_years\",\"@{num_years}\"],[\"wall_time\",\"@{wall_time}\"]]},\"id\":\"4734\",\"type\":\"HoverTool\"},{\"attributes\":{\"line_color\":\"#30a2da\",\"line_width\":2,\"x\":{\"field\":\"num_years\"},\"y\":{\"field\":\"wall_time\"}},\"id\":\"4819\",\"type\":\"Line\"},{\"attributes\":{},\"id\":\"4776\",\"type\":\"AllLabels\"},{\"attributes\":{\"overlay\":{\"id\":\"4803\"}},\"id\":\"4801\",\"type\":\"BoxZoomTool\"},{\"attributes\":{},\"id\":\"4752\",\"type\":\"SaveTool\"},{\"attributes\":{},\"id\":\"4880\",\"type\":\"UnionRenderers\"},{\"attributes\":{\"children\":[{\"id\":\"4731\"},{\"id\":\"4908\"},{\"id\":\"5185\"}],\"margin\":[0,0,0,0],\"name\":\"Row01786\",\"tags\":[\"embedded\"]},\"id\":\"4730\",\"type\":\"Row\"},{\"attributes\":{\"below\":[{\"id\":\"4790\"}],\"center\":[{\"id\":\"4793\"},{\"id\":\"4797\"}],\"height\":300,\"left\":[{\"id\":\"4794\"}],\"margin\":null,\"min_border_bottom\":10,\"min_border_left\":10,\"min_border_right\":10,\"min_border_top\":10,\"renderers\":[{\"id\":\"4817\"}],\"sizing_mode\":\"fixed\",\"title\":{\"id\":\"4782\"},\"toolbar\":{\"id\":\"4804\"},\"toolbar_location\":null,\"width\":400,\"x_range\":{\"id\":\"4732\"},\"x_scale\":{\"id\":\"4786\"},\"y_range\":{\"id\":\"4733\"},\"y_scale\":{\"id\":\"4788\"}},\"id\":\"4781\",\"subtype\":\"Figure\",\"type\":\"Plot\"},{\"attributes\":{\"text\":\"No computation\",\"text_color\":\"black\",\"text_font_size\":\"12pt\"},\"id\":\"4736\",\"type\":\"Title\"},{\"attributes\":{\"line_alpha\":0.1,\"line_color\":\"#30a2da\",\"line_width\":2,\"x\":{\"field\":\"num_years\"},\"y\":{\"field\":\"wall_time\"}},\"id\":\"4815\",\"type\":\"Line\"},{\"attributes\":{\"line_alpha\":0.1,\"line_color\":\"#30a2da\",\"line_width\":2,\"x\":{\"field\":\"num_years\"},\"y\":{\"field\":\"wall_time\"}},\"id\":\"4769\",\"type\":\"Line\"},{\"attributes\":{\"toolbar\":{\"id\":\"4906\"},\"toolbar_location\":\"above\"},\"id\":\"4907\",\"type\":\"ToolbarBox\"},{\"attributes\":{\"source\":{\"id\":\"4765\"}},\"id\":\"4772\",\"type\":\"CDSView\"},{\"attributes\":{\"line_alpha\":0.2,\"line_color\":\"#30a2da\",\"line_width\":2,\"x\":{\"field\":\"num_years\"},\"y\":{\"field\":\"wall_time\"}},\"id\":\"4816\",\"type\":\"Line\"},{\"attributes\":{},\"id\":\"4795\",\"type\":\"BasicTicker\"},{\"attributes\":{},\"id\":\"4799\",\"type\":\"PanTool\"},{\"attributes\":{\"toolbars\":[{\"id\":\"4758\"},{\"id\":\"4804\"},{\"id\":\"4850\"}],\"tools\":[{\"id\":\"4734\"},{\"id\":\"4752\"},{\"id\":\"4753\"},{\"id\":\"4754\"},{\"id\":\"4755\"},{\"id\":\"4756\"},{\"id\":\"4780\"},{\"id\":\"4798\"},{\"id\":\"4799\"},{\"id\":\"4800\"},{\"id\":\"4801\"},{\"id\":\"4802\"},{\"id\":\"4826\"},{\"id\":\"4844\"},{\"id\":\"4845\"},{\"id\":\"4846\"},{\"id\":\"4847\"},{\"id\":\"4848\"}]},\"id\":\"4906\",\"type\":\"ProxyToolbar\"}],\"root_ids\":[\"4730\"]},\"title\":\"Bokeh Application\",\"version\":\"2.3.3\"}};\n",
       "    var render_items = [{\"docid\":\"e874d4e4-61a0-4daf-991b-e5e2b6943034\",\"root_ids\":[\"4730\"],\"roots\":{\"4730\":\"ea8bd943-a250-47b7-bb31-19ecab667e7e\"}}];\n",
       "    root.Bokeh.embed.embed_items_notebook(docs_json, render_items);\n",
       "  }\n",
       "  if (root.Bokeh !== undefined && root.Bokeh.Panel !== undefined) {\n",
       "    embed_document(root);\n",
       "  } else {\n",
       "    var attempts = 0;\n",
       "    var timer = setInterval(function(root) {\n",
       "      if (root.Bokeh !== undefined && root.Bokeh.Panel !== undefined) {\n",
       "        clearInterval(timer);\n",
       "        embed_document(root);\n",
       "      } else if (document.readyState == \"complete\") {\n",
       "        attempts++;\n",
       "        if (attempts > 200) {\n",
       "          clearInterval(timer);\n",
       "          console.log(\"Bokeh: ERROR: Unable to run BokehJS code because BokehJS library is missing\");\n",
       "        }\n",
       "      }\n",
       "    }, 25, root)\n",
       "  }\n",
       "})(window);</script>"
      ],
      "text/plain": [
       ":Layout\n",
       "   .Curve.No_computation      :Curve   [num_years]   (wall_time)\n",
       "   .Curve.Long_term_mean      :Curve   [num_years]   (wall_time)\n",
       "   .Curve.Monthly_climatology :Curve   [num_years]   (wall_time)"
      ]
     },
     "execution_count": 11,
     "metadata": {
      "application/vnd.holoviews_exec.v0+json": {
       "id": "4730"
      }
     },
     "output_type": "execute_result"
    }
   ],
   "source": [
    "file_read_in = df.loc[df.computation == 'file_access'].hvplot(\n",
    "    x='num_years', y='wall_time', ylabel='Time (s)', width=400, label='No computation'\n",
    ")\n",
    "long_term_mean = df.loc[df.computation == 'long_term_average'].hvplot(\n",
    "    x='num_years', y='wall_time', ylabel='Time (s)', width=400, label='Long term mean'\n",
    ")\n",
    "monthly_average = df.loc[df.computation == 'monthly_average'].hvplot(\n",
    "    x='num_years', y='wall_time', ylabel='Time (s)', width=400, label='Monthly climatology'\n",
    ")\n",
    "\n",
    "file_read_in + long_term_mean + monthly_average"
   ]
  },
  {
   "cell_type": "markdown",
   "id": "a4aa0f5d-6523-4fd7-840d-9980a69fd03e",
   "metadata": {},
   "source": [
    "### Test out the History Files\n",
    "Next, we investigate the time it takes to read the datasets, compute a temporal average over the entire time period, and compute a monthly climatology using CESM history file output"
   ]
  },
  {
   "cell_type": "code",
   "execution_count": 12,
   "id": "80276260-c696-445b-82e2-f244d69a45fc",
   "metadata": {},
   "outputs": [],
   "source": [
    "def test_history_file(\n",
    "    num_years, chunk_strategy='time', long_term_average=False, monthly_average=False\n",
    "):\n",
    "    start = time.time()\n",
    "    chunk_dict = {'time': {'time': 240}, 'spatial': {'nlon': 160, 'nlat': 192}}\n",
    "    dsets = monthly_ocean_history.search(\n",
    "        date=monthly_ocean_history.df.date[: num_years * 12], variables='FG_CO2'\n",
    "    ).to_dataset_dict(\n",
    "        'FG_CO2',\n",
    "        cdf_kwargs={'use_cftime': True, 'chunks': chunk_dict[chunk_strategy]},\n",
    "        progressbar=False,\n",
    "    )\n",
    "    keys = list(dsets.keys())\n",
    "    ds = dsets[keys[0]]\n",
    "\n",
    "    if long_term_average:\n",
    "        ds.mean(dim='time').compute()\n",
    "\n",
    "    if monthly_average:\n",
    "        ds.groupby('time.month').mean(dim='time').compute()\n",
    "\n",
    "    end = time.time()\n",
    "    return end - start"
   ]
  },
  {
   "cell_type": "markdown",
   "id": "c4f6f3a3-9e1b-4a68-84e7-861931648ea1",
   "metadata": {},
   "source": [
    "### Apply the Computation with History Files\n",
    "It can be accessed using [this link](history-computation.html)!"
   ]
  },
  {
   "cell_type": "code",
   "execution_count": null,
   "id": "f432855c-9674-4820-9072-357ac49232d7",
   "metadata": {},
   "outputs": [
    {
     "name": "stdout",
     "output_type": "stream",
     "text": [
      "Starting year 1\n",
      "Starting year 5\n",
      "Starting year 10\n",
      "Starting year 20\n",
      "Starting year 30\n",
      "Starting year 40\n",
      "Starting year 50\n",
      "Starting year 60\n"
     ]
    }
   ],
   "source": [
    "df = pd.DataFrame()\n",
    "with performance_report(filename=\"history-computation.html\"):\n",
    "    for year in years:\n",
    "        print(f'Starting year {year}')\n",
    "\n",
    "        # Compute without computation\n",
    "        wall_time = test_history_file(year)\n",
    "        df = df.append(\n",
    "            {\n",
    "                'catalog': 'history',\n",
    "                'computation': 'file_access',\n",
    "                'num_years': year,\n",
    "                'wall_time': wall_time,\n",
    "            },\n",
    "            ignore_index=True,\n",
    "        )\n",
    "\n",
    "        # Compute with long-term mean computation\n",
    "        wall_time = test_history_file(year, long_term_average=True)\n",
    "        df = df.append(\n",
    "            {\n",
    "                'catalog': 'history',\n",
    "                'computation': 'long_term_average',\n",
    "                'num_years': year,\n",
    "                'wall_time': wall_time,\n",
    "            },\n",
    "            ignore_index=True,\n",
    "        )\n",
    "\n",
    "        # Compute with monthly climatology\n",
    "        wall_time = test_history_file(year, monthly_average=True)\n",
    "        df = df.append(\n",
    "            {\n",
    "                'catalog': 'history',\n",
    "                'computation': 'monthly_average',\n",
    "                'num_years': year,\n",
    "                'wall_time': wall_time,\n",
    "            },\n",
    "            ignore_index=True,\n",
    "        )\n",
    "\n",
    "df_history = df"
   ]
  },
  {
   "cell_type": "markdown",
   "id": "895ba0f2-22d5-44ab-a78d-8720150b8432",
   "metadata": {},
   "source": [
    "### Plot a Comparison of Wall time for Different Computations"
   ]
  },
  {
   "cell_type": "code",
   "execution_count": null,
   "id": "47bfecca-a462-46a2-a67b-c62a1c3119cb",
   "metadata": {},
   "outputs": [],
   "source": [
    "file_read_in = df.loc[df.computation == 'file_access'].hvplot(\n",
    "    x='num_years', y='wall_time', ylabel='Time (s)', width=400, label='No computation'\n",
    ")\n",
    "long_term_mean = df.loc[df.computation == 'long_term_average'].hvplot(\n",
    "    x='num_years', y='wall_time', ylabel='Time (s)', width=400, label='Long term mean'\n",
    ")\n",
    "monthly_average = df.loc[df.computation == 'monthly_average'].hvplot(\n",
    "    x='num_years', y='wall_time', yabel='Time (s)', width=400, label='Monthly climatology'\n",
    ")\n",
    "\n",
    "file_read_in + long_term_mean + monthly_average"
   ]
  },
  {
   "cell_type": "markdown",
   "id": "e9899b86-d462-47d7-af51-b62699f1d36c",
   "metadata": {
    "tags": []
   },
   "source": [
    "## Visualize the Comparisons\n",
    "Using additional options in [`hvPlot`](https://hvplot.holoviz.org/), we can investigate these comparisons further!"
   ]
  },
  {
   "cell_type": "markdown",
   "id": "6f9bc159-49cf-4a7f-8506-cc1f5f24e1bb",
   "metadata": {},
   "source": [
    "### Intercomparison of Timeseries"
   ]
  },
  {
   "cell_type": "code",
   "execution_count": null,
   "id": "2ce73db1-0f23-4b11-aa89-00b855de9622",
   "metadata": {},
   "outputs": [],
   "source": [
    "(\n",
    "    df_timeseries.hvplot(\n",
    "        x='num_years',\n",
    "        y='wall_time',\n",
    "        by='computation',\n",
    "        xlabel='Number of Years',\n",
    "        ylabel='Wall Time (s)',\n",
    "        width=550,\n",
    "    )\n",
    "    + df_timeseries.hvplot.table(width=420)\n",
    ")"
   ]
  },
  {
   "cell_type": "markdown",
   "id": "d8fdcec2-1cf9-4ff4-b5f8-ad7434e11ad1",
   "metadata": {},
   "source": [
    "### Intercomparison of History"
   ]
  },
  {
   "cell_type": "code",
   "execution_count": null,
   "id": "7e336930-ba2f-44ee-9c30-424991fdbc79",
   "metadata": {},
   "outputs": [],
   "source": [
    "(\n",
    "    df_history.hvplot(\n",
    "        x='num_years',\n",
    "        y='wall_time',\n",
    "        by='computation',\n",
    "        xlabel='Number of Years',\n",
    "        ylabel='Wall Time (s)',\n",
    "        width=550,\n",
    "    )\n",
    "    + df_history.hvplot.table(width=420)\n",
    ")"
   ]
  },
  {
   "cell_type": "markdown",
   "id": "43a6d8a7-2d0c-4182-9f96-782626a465ac",
   "metadata": {
    "tags": []
   },
   "source": [
    "### Bringing These Two Together"
   ]
  },
  {
   "cell_type": "code",
   "execution_count": null,
   "id": "ddca05dc-2207-47b1-8e5a-35aa4f5ae6bb",
   "metadata": {},
   "outputs": [],
   "source": [
    "df = pd.concat([df_timeseries, df_history])"
   ]
  },
  {
   "cell_type": "code",
   "execution_count": null,
   "id": "947c836b-15b6-4187-9d49-1f049eeb6eb7",
   "metadata": {},
   "outputs": [],
   "source": [
    "(\n",
    "    df.hvplot(\n",
    "        x='num_years',\n",
    "        y='wall_time',\n",
    "        by=['catalog', 'computation'],\n",
    "        xlabel='Number of Years',\n",
    "        ylabel='Wall Time (s)',\n",
    "        width=800,\n",
    "    )\n",
    "    + df.hvplot.table(width=420)\n",
    ")"
   ]
  },
  {
   "cell_type": "markdown",
   "id": "ea8a03f2-f811-44a9-bd7a-c13175670384",
   "metadata": {},
   "source": [
    "## Conclusions\n",
    "We see something unsuprising here; the performance working with timeseries files is much faster, with the greatest difference being the file access. With the history files, we see that the data read in step takes the longest, with relatively smaller differences in the computation time for the various averages. Once you read in the datasets, performance is similar.\n",
    "\n",
    "One item to note here is that we were able to read in 60 years worth of history files in under a minute, which is impressive! If you are plotting quick comparisons from model output, you may not need to neccessarily convert to timeseries right away; however in the long run, it will save on both space and computational expense."
   ]
  },
  {
   "cell_type": "code",
   "execution_count": null,
   "id": "77d95fc2-670c-4b31-af6a-87cb3a8576a0",
   "metadata": {},
   "outputs": [],
   "source": []
  }
 ],
 "metadata": {
  "author": "Max Grover",
  "date": "2021-09-17",
  "kernelspec": {
   "display_name": "Python [conda env:miniconda3-ecgtools-dev-2]",
   "language": "python",
   "name": "conda-env-miniconda3-ecgtools-dev-2-py"
  },
  "language_info": {
   "codemirror_mode": {
    "name": "ipython",
    "version": 3
   },
   "file_extension": ".py",
   "mimetype": "text/x-python",
   "name": "python",
   "nbconvert_exporter": "python",
   "pygments_lexer": "ipython3",
   "version": "3.9.7"
  },
  "tags": "ecgtools,intake,dask,cesm,benchmark",
  "title": "Benchmarking Performance of History vs. Timeseries Files"
 },
 "nbformat": 4,
 "nbformat_minor": 5
}
