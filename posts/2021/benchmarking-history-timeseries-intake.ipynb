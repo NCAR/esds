{
 "cells": [
  {
   "cell_type": "markdown",
   "id": "bfd9cb30-4482-4695-ab80-63b2d2536cf2",
   "metadata": {},
   "source": [
    "# Benchmarking Performance of History vs. Timeseries Files with [`ecgtools`](https://ecgtools.readthedocs.io/en/latest/), [`Intake-ESM`](https://intake-esm.readthedocs.io/en/latest/), and [`Dask`](https://dask.org/)\n",
    "\n",
    "In this example, we will walk through \"benchmarking\" performance of reading, apply calculations, and visualizing data from the Community Earth System Model (CESM), using the following packages:\n",
    "* [`ecgtools`](https://ecgtools.readthedocs.io/en/latest/)\n",
    "* [`Intake-ESM`](https://intake-esm.readthedocs.io/en/latest/)\n",
    "* [`Dask`](https://dask.org/)\n",
    "\n",
    "Going into this analysis, we have a ***hypothesis*** that performance should be substantially better when reading from timeseries files, but let's take a look...\n",
    "\n",
    "One thing to note is that during the process of writing this, I continually upped the amount of computational resources requested for the cluster"
   ]
  },
  {
   "cell_type": "markdown",
   "id": "7511948a-7fe1-4bc6-880a-735599ef05b1",
   "metadata": {},
   "source": [
    "## Imports"
   ]
  },
  {
   "cell_type": "markdown",
   "id": "3073144b-bd77-4775-89b1-3ccbb9bebecd",
   "metadata": {},
   "source": [
    "### Installing packages via `conda-forge`\n",
    "\n",
    "As of this week, [`ecgtools`](https://ecgtools.readthedocs.io/en/latest/) is available via `conda-forge`, which is very exciting! You can install the packages used here using the following:\n",
    "\n",
    "```bash\n",
    "conda install -c conda-forge ecgtools ncar-jobqueue distributed intake-esm\n",
    "```\n",
    "\n",
    "The rest of the libraries included below relate to visualization!"
   ]
  },
  {
   "cell_type": "code",
   "execution_count": 3,
   "id": "66fe2b0c-5d78-4b27-ac77-a1a5de1a056d",
   "metadata": {},
   "outputs": [],
   "source": [
    "import ast\n",
    "import time\n",
    "\n",
    "import hvplot\n",
    "import hvplot.pandas\n",
    "import intake\n",
    "import pandas as pd\n",
    "from dask.distributed import performance_report\n",
    "from dask_jobqueue import PBSCluster\n",
    "from distributed import Client\n",
    "from ecgtools import Builder\n",
    "from ecgtools.parsers.cesm import parse_cesm_history, parse_cesm_timeseries\n",
    "from ncar_jobqueue import NCARCluster"
   ]
  },
  {
   "cell_type": "markdown",
   "id": "3ba985ea-8428-4098-b455-71306957963f",
   "metadata": {
    "tags": []
   },
   "source": [
    "## Build the Catalogs\n",
    "\n",
    "Something to keep in mind here is that [`ecgtools`](https://ecgtools.readthedocs.io/en/latest/)'s builder parallelizes across the number of cores you have available; so ideally, for this section of the notebook, you will want to use more than a single core, up to however many you see fit."
   ]
  },
  {
   "cell_type": "markdown",
   "id": "35aa32b1-4edf-4e1b-9940-9e3ef603b092",
   "metadata": {},
   "source": [
    "### Build the History File Catalog"
   ]
  },
  {
   "cell_type": "code",
   "execution_count": 4,
   "id": "1e77b174-e386-41fb-a31a-b10879ba8368",
   "metadata": {},
   "outputs": [],
   "source": [
    "cesm_history_builder = Builder(\n",
    "    \"/glade/campaign/cesm/development/espwg/SMYLE/initial_conditions/SMYLE-FOSI\",\n",
    "    exclude_patterns=[\"*/rest/*\", \"*/logs/*\", \"*/proc/*\"],\n",
    ")"
   ]
  },
  {
   "cell_type": "markdown",
   "id": "f5d2feb8-d4e4-4290-a97b-b0a2492dd2ae",
   "metadata": {},
   "source": [
    "### Build the catalog using the `parse_cesm_history` parser"
   ]
  },
  {
   "cell_type": "code",
   "execution_count": 7,
   "id": "8f8a7301-cf7c-4810-a2c5-21deb3a4fb5d",
   "metadata": {},
   "outputs": [
    {
     "name": "stderr",
     "output_type": "stream",
     "text": [
      "[Parallel(n_jobs=-1)]: Using backend LokyBackend with 40 concurrent workers.\n",
      "[Parallel(n_jobs=-1)]: Done   2 out of   4 | elapsed:    1.2s remaining:    1.2s\n",
      "[Parallel(n_jobs=-1)]: Done   4 out of   4 | elapsed:    1.4s remaining:    0.0s\n",
      "[Parallel(n_jobs=-1)]: Done   4 out of   4 | elapsed:    1.4s finished\n",
      "[Parallel(n_jobs=-1)]: Using backend LokyBackend with 40 concurrent workers.\n",
      "[Parallel(n_jobs=-1)]: Done  82 tasks      | elapsed:    5.1s\n",
      "[Parallel(n_jobs=-1)]: Done 208 tasks      | elapsed:    5.6s\n",
      "[Parallel(n_jobs=-1)]: Done 370 tasks      | elapsed:    6.3s\n",
      "[Parallel(n_jobs=-1)]: Done 568 tasks      | elapsed:    7.1s\n",
      "[Parallel(n_jobs=-1)]: Done 802 tasks      | elapsed:    7.9s\n",
      "[Parallel(n_jobs=-1)]: Done 1072 tasks      | elapsed:    8.9s\n",
      "[Parallel(n_jobs=-1)]: Done 1378 tasks      | elapsed:   10.0s\n",
      "[Parallel(n_jobs=-1)]: Done 1720 tasks      | elapsed:   11.2s\n",
      "[Parallel(n_jobs=-1)]: Done 2098 tasks      | elapsed:   12.5s\n",
      "[Parallel(n_jobs=-1)]: Done 2512 tasks      | elapsed:   14.1s\n",
      "[Parallel(n_jobs=-1)]: Done 2962 tasks      | elapsed:   15.8s\n",
      "[Parallel(n_jobs=-1)]: Done 3448 tasks      | elapsed:   17.7s\n",
      "[Parallel(n_jobs=-1)]: Done 3970 tasks      | elapsed:   19.6s\n",
      "[Parallel(n_jobs=-1)]: Done 4528 tasks      | elapsed:   23.5s\n",
      "[Parallel(n_jobs=-1)]: Done 5122 tasks      | elapsed:   34.1s\n",
      "[Parallel(n_jobs=-1)]: Done 5752 tasks      | elapsed:   51.7s\n",
      "[Parallel(n_jobs=-1)]: Done 6015 out of 6015 | elapsed:   56.9s finished\n"
     ]
    },
    {
     "data": {
      "text/plain": [
       "Builder(root_path=PosixPath('/glade/campaign/cesm/development/espwg/SMYLE/initial_conditions/SMYLE-FOSI'), extension='.nc', depth=0, exclude_patterns=['*/rest/*', '*/logs/*', '*/proc/*'], njobs=-1)"
      ]
     },
     "execution_count": 7,
     "metadata": {},
     "output_type": "execute_result"
    }
   ],
   "source": [
    "cesm_history_builder.build(parse_cesm_history)"
   ]
  },
  {
   "cell_type": "code",
   "execution_count": 8,
   "id": "06e289c0-9896-45d7-a204-929bf4e1ad0f",
   "metadata": {},
   "outputs": [
    {
     "data": {
      "text/html": [
       "<div>\n",
       "<style scoped>\n",
       "    .dataframe tbody tr th:only-of-type {\n",
       "        vertical-align: middle;\n",
       "    }\n",
       "\n",
       "    .dataframe tbody tr th {\n",
       "        vertical-align: top;\n",
       "    }\n",
       "\n",
       "    .dataframe thead th {\n",
       "        text-align: right;\n",
       "    }\n",
       "</style>\n",
       "<table border=\"1\" class=\"dataframe\">\n",
       "  <thead>\n",
       "    <tr style=\"text-align: right;\">\n",
       "      <th></th>\n",
       "      <th>component</th>\n",
       "      <th>stream</th>\n",
       "      <th>date</th>\n",
       "      <th>case</th>\n",
       "      <th>member_id</th>\n",
       "      <th>frequency</th>\n",
       "      <th>variables</th>\n",
       "      <th>path</th>\n",
       "    </tr>\n",
       "  </thead>\n",
       "  <tbody>\n",
       "    <tr>\n",
       "      <th>0</th>\n",
       "      <td>ice</td>\n",
       "      <td>cice.h</td>\n",
       "      <td>0001-01</td>\n",
       "      <td>g.e22.GOMIPECOIAF_JRA-1p4-2018.TL319_g17.SMYLE...</td>\n",
       "      <td>005</td>\n",
       "      <td>month_1</td>\n",
       "      <td>[hi, hs, snowfrac, Tsfc, aice, uvel, vvel, uat...</td>\n",
       "      <td>/glade/campaign/cesm/development/espwg/SMYLE/i...</td>\n",
       "    </tr>\n",
       "    <tr>\n",
       "      <th>1</th>\n",
       "      <td>ice</td>\n",
       "      <td>cice.h</td>\n",
       "      <td>0001-02</td>\n",
       "      <td>g.e22.GOMIPECOIAF_JRA-1p4-2018.TL319_g17.SMYLE...</td>\n",
       "      <td>005</td>\n",
       "      <td>month_1</td>\n",
       "      <td>[hi, hs, snowfrac, Tsfc, aice, uvel, vvel, uat...</td>\n",
       "      <td>/glade/campaign/cesm/development/espwg/SMYLE/i...</td>\n",
       "    </tr>\n",
       "    <tr>\n",
       "      <th>2</th>\n",
       "      <td>ice</td>\n",
       "      <td>cice.h</td>\n",
       "      <td>0001-03</td>\n",
       "      <td>g.e22.GOMIPECOIAF_JRA-1p4-2018.TL319_g17.SMYLE...</td>\n",
       "      <td>005</td>\n",
       "      <td>month_1</td>\n",
       "      <td>[hi, hs, snowfrac, Tsfc, aice, uvel, vvel, uat...</td>\n",
       "      <td>/glade/campaign/cesm/development/espwg/SMYLE/i...</td>\n",
       "    </tr>\n",
       "    <tr>\n",
       "      <th>3</th>\n",
       "      <td>ice</td>\n",
       "      <td>cice.h</td>\n",
       "      <td>0001-04</td>\n",
       "      <td>g.e22.GOMIPECOIAF_JRA-1p4-2018.TL319_g17.SMYLE...</td>\n",
       "      <td>005</td>\n",
       "      <td>month_1</td>\n",
       "      <td>[hi, hs, snowfrac, Tsfc, aice, uvel, vvel, uat...</td>\n",
       "      <td>/glade/campaign/cesm/development/espwg/SMYLE/i...</td>\n",
       "    </tr>\n",
       "    <tr>\n",
       "      <th>4</th>\n",
       "      <td>ice</td>\n",
       "      <td>cice.h</td>\n",
       "      <td>0001-05</td>\n",
       "      <td>g.e22.GOMIPECOIAF_JRA-1p4-2018.TL319_g17.SMYLE...</td>\n",
       "      <td>005</td>\n",
       "      <td>month_1</td>\n",
       "      <td>[hi, hs, snowfrac, Tsfc, aice, uvel, vvel, uat...</td>\n",
       "      <td>/glade/campaign/cesm/development/espwg/SMYLE/i...</td>\n",
       "    </tr>\n",
       "    <tr>\n",
       "      <th>...</th>\n",
       "      <td>...</td>\n",
       "      <td>...</td>\n",
       "      <td>...</td>\n",
       "      <td>...</td>\n",
       "      <td>...</td>\n",
       "      <td>...</td>\n",
       "      <td>...</td>\n",
       "      <td>...</td>\n",
       "    </tr>\n",
       "    <tr>\n",
       "      <th>6010</th>\n",
       "      <td>ocn</td>\n",
       "      <td>pop.h.nday1</td>\n",
       "      <td>0368-08-01</td>\n",
       "      <td>g.e22.GOMIPECOIAF_JRA-1p4-2018.TL319_g17.SMYLE...</td>\n",
       "      <td>005</td>\n",
       "      <td>day_1</td>\n",
       "      <td>[SST, SST2, SSS, HMXL_DR_2, XMXL_2]</td>\n",
       "      <td>/glade/campaign/cesm/development/espwg/SMYLE/i...</td>\n",
       "    </tr>\n",
       "    <tr>\n",
       "      <th>6011</th>\n",
       "      <td>ocn</td>\n",
       "      <td>pop.h.nday1</td>\n",
       "      <td>0368-09-01</td>\n",
       "      <td>g.e22.GOMIPECOIAF_JRA-1p4-2018.TL319_g17.SMYLE...</td>\n",
       "      <td>005</td>\n",
       "      <td>day_1</td>\n",
       "      <td>[SST, SST2, SSS, HMXL_DR_2, XMXL_2]</td>\n",
       "      <td>/glade/campaign/cesm/development/espwg/SMYLE/i...</td>\n",
       "    </tr>\n",
       "    <tr>\n",
       "      <th>6012</th>\n",
       "      <td>ocn</td>\n",
       "      <td>pop.h.nday1</td>\n",
       "      <td>0368-10-01</td>\n",
       "      <td>g.e22.GOMIPECOIAF_JRA-1p4-2018.TL319_g17.SMYLE...</td>\n",
       "      <td>005</td>\n",
       "      <td>day_1</td>\n",
       "      <td>[SST, SST2, SSS, HMXL_DR_2, XMXL_2]</td>\n",
       "      <td>/glade/campaign/cesm/development/espwg/SMYLE/i...</td>\n",
       "    </tr>\n",
       "    <tr>\n",
       "      <th>6013</th>\n",
       "      <td>ocn</td>\n",
       "      <td>pop.h.nday1</td>\n",
       "      <td>0368-11-01</td>\n",
       "      <td>g.e22.GOMIPECOIAF_JRA-1p4-2018.TL319_g17.SMYLE...</td>\n",
       "      <td>005</td>\n",
       "      <td>day_1</td>\n",
       "      <td>[SST, SST2, SSS, HMXL_DR_2, XMXL_2]</td>\n",
       "      <td>/glade/campaign/cesm/development/espwg/SMYLE/i...</td>\n",
       "    </tr>\n",
       "    <tr>\n",
       "      <th>6014</th>\n",
       "      <td>ocn</td>\n",
       "      <td>pop.h.nday1</td>\n",
       "      <td>0368-12-01</td>\n",
       "      <td>g.e22.GOMIPECOIAF_JRA-1p4-2018.TL319_g17.SMYLE...</td>\n",
       "      <td>005</td>\n",
       "      <td>day_1</td>\n",
       "      <td>[SST, SST2, SSS, HMXL_DR_2, XMXL_2]</td>\n",
       "      <td>/glade/campaign/cesm/development/espwg/SMYLE/i...</td>\n",
       "    </tr>\n",
       "  </tbody>\n",
       "</table>\n",
       "<p>6015 rows × 8 columns</p>\n",
       "</div>"
      ],
      "text/plain": [
       "     component       stream        date  \\\n",
       "0          ice       cice.h     0001-01   \n",
       "1          ice       cice.h     0001-02   \n",
       "2          ice       cice.h     0001-03   \n",
       "3          ice       cice.h     0001-04   \n",
       "4          ice       cice.h     0001-05   \n",
       "...        ...          ...         ...   \n",
       "6010       ocn  pop.h.nday1  0368-08-01   \n",
       "6011       ocn  pop.h.nday1  0368-09-01   \n",
       "6012       ocn  pop.h.nday1  0368-10-01   \n",
       "6013       ocn  pop.h.nday1  0368-11-01   \n",
       "6014       ocn  pop.h.nday1  0368-12-01   \n",
       "\n",
       "                                                   case member_id frequency  \\\n",
       "0     g.e22.GOMIPECOIAF_JRA-1p4-2018.TL319_g17.SMYLE...       005   month_1   \n",
       "1     g.e22.GOMIPECOIAF_JRA-1p4-2018.TL319_g17.SMYLE...       005   month_1   \n",
       "2     g.e22.GOMIPECOIAF_JRA-1p4-2018.TL319_g17.SMYLE...       005   month_1   \n",
       "3     g.e22.GOMIPECOIAF_JRA-1p4-2018.TL319_g17.SMYLE...       005   month_1   \n",
       "4     g.e22.GOMIPECOIAF_JRA-1p4-2018.TL319_g17.SMYLE...       005   month_1   \n",
       "...                                                 ...       ...       ...   \n",
       "6010  g.e22.GOMIPECOIAF_JRA-1p4-2018.TL319_g17.SMYLE...       005     day_1   \n",
       "6011  g.e22.GOMIPECOIAF_JRA-1p4-2018.TL319_g17.SMYLE...       005     day_1   \n",
       "6012  g.e22.GOMIPECOIAF_JRA-1p4-2018.TL319_g17.SMYLE...       005     day_1   \n",
       "6013  g.e22.GOMIPECOIAF_JRA-1p4-2018.TL319_g17.SMYLE...       005     day_1   \n",
       "6014  g.e22.GOMIPECOIAF_JRA-1p4-2018.TL319_g17.SMYLE...       005     day_1   \n",
       "\n",
       "                                              variables  \\\n",
       "0     [hi, hs, snowfrac, Tsfc, aice, uvel, vvel, uat...   \n",
       "1     [hi, hs, snowfrac, Tsfc, aice, uvel, vvel, uat...   \n",
       "2     [hi, hs, snowfrac, Tsfc, aice, uvel, vvel, uat...   \n",
       "3     [hi, hs, snowfrac, Tsfc, aice, uvel, vvel, uat...   \n",
       "4     [hi, hs, snowfrac, Tsfc, aice, uvel, vvel, uat...   \n",
       "...                                                 ...   \n",
       "6010                [SST, SST2, SSS, HMXL_DR_2, XMXL_2]   \n",
       "6011                [SST, SST2, SSS, HMXL_DR_2, XMXL_2]   \n",
       "6012                [SST, SST2, SSS, HMXL_DR_2, XMXL_2]   \n",
       "6013                [SST, SST2, SSS, HMXL_DR_2, XMXL_2]   \n",
       "6014                [SST, SST2, SSS, HMXL_DR_2, XMXL_2]   \n",
       "\n",
       "                                                   path  \n",
       "0     /glade/campaign/cesm/development/espwg/SMYLE/i...  \n",
       "1     /glade/campaign/cesm/development/espwg/SMYLE/i...  \n",
       "2     /glade/campaign/cesm/development/espwg/SMYLE/i...  \n",
       "3     /glade/campaign/cesm/development/espwg/SMYLE/i...  \n",
       "4     /glade/campaign/cesm/development/espwg/SMYLE/i...  \n",
       "...                                                 ...  \n",
       "6010  /glade/campaign/cesm/development/espwg/SMYLE/i...  \n",
       "6011  /glade/campaign/cesm/development/espwg/SMYLE/i...  \n",
       "6012  /glade/campaign/cesm/development/espwg/SMYLE/i...  \n",
       "6013  /glade/campaign/cesm/development/espwg/SMYLE/i...  \n",
       "6014  /glade/campaign/cesm/development/espwg/SMYLE/i...  \n",
       "\n",
       "[6015 rows x 8 columns]"
      ]
     },
     "execution_count": 8,
     "metadata": {},
     "output_type": "execute_result"
    }
   ],
   "source": [
    "cesm_history_builder.df"
   ]
  },
  {
   "cell_type": "markdown",
   "id": "39c88e4b-564c-4201-8b45-cc969781c7e0",
   "metadata": {},
   "source": [
    "### Save the catalog locally"
   ]
  },
  {
   "cell_type": "code",
   "execution_count": 9,
   "id": "32327e69-767e-4ea5-949d-a4d670827974",
   "metadata": {},
   "outputs": [
    {
     "name": "stdout",
     "output_type": "stream",
     "text": [
      "Saved catalog location: cesm-hist-smyle-fosi.json and cesm-hist-smyle-fosi.csv\n"
     ]
    }
   ],
   "source": [
    "cesm_history_builder.save(\n",
    "    # File path - could save as .csv (uncompressed csv) or .csv.gz (compressed csv)\n",
    "    \"cesm-hist-smyle-fosi.csv\",\n",
    "    # Column name including filepath\n",
    "    path_column_name='path',\n",
    "    # Column name including variables\n",
    "    variable_column_name='variables',\n",
    "    # Data file format - could be netcdf or zarr (in this case, netcdf)\n",
    "    data_format=\"netcdf\",\n",
    "    # Which attributes to groupby when reading in variables using intake-esm\n",
    "    groupby_attrs=[\"component\", \"stream\", \"case\"],\n",
    "    # Aggregations which are fed into xarray when reading in data using intake\n",
    "    aggregations=[\n",
    "        {\n",
    "            \"type\": \"join_existing\",\n",
    "            \"attribute_name\": \"date\",\n",
    "            \"options\": {\"dim\": \"time\", \"coords\": \"minimal\", \"compat\": \"override\"},\n",
    "        }\n",
    "    ],\n",
    ")"
   ]
  },
  {
   "cell_type": "markdown",
   "id": "71f9d7c7-c3ad-4695-bed5-aaa2c89d6aab",
   "metadata": {},
   "source": [
    "## Build the Timeseries Catalog"
   ]
  },
  {
   "cell_type": "code",
   "execution_count": 10,
   "id": "950de68a-f7a1-4fd2-bb86-c8af10d2d774",
   "metadata": {},
   "outputs": [],
   "source": [
    "cesm_timeseries_builder = Builder(\n",
    "    \"/glade/campaign/cesm/development/espwg/SMYLE/initial_conditions/SMYLE-FOSI\",\n",
    "    exclude_patterns=[\"*/rest/*\", \"*/logs/*\", \"*/hist/*\"],\n",
    ")"
   ]
  },
  {
   "cell_type": "markdown",
   "id": "04b2ce8d-2b5e-444a-8c6c-b346be797df2",
   "metadata": {},
   "source": [
    "### Build the catalog using the `parse_cesm_timeseries` parser"
   ]
  },
  {
   "cell_type": "code",
   "execution_count": 11,
   "id": "a5baa36d-6f73-4998-82cd-d09ba3924a29",
   "metadata": {},
   "outputs": [
    {
     "name": "stderr",
     "output_type": "stream",
     "text": [
      "[Parallel(n_jobs=-1)]: Using backend LokyBackend with 40 concurrent workers.\n",
      "[Parallel(n_jobs=-1)]: Done   2 out of   4 | elapsed:    0.1s remaining:    0.1s\n",
      "[Parallel(n_jobs=-1)]: Done   4 out of   4 | elapsed:    0.3s remaining:    0.0s\n",
      "[Parallel(n_jobs=-1)]: Done   4 out of   4 | elapsed:    0.3s finished\n",
      "[Parallel(n_jobs=-1)]: Using backend LokyBackend with 40 concurrent workers.\n",
      "[Parallel(n_jobs=-1)]: Done  84 tasks      | elapsed:    0.3s\n",
      "[Parallel(n_jobs=-1)]: Done 336 tasks      | elapsed:    1.5s\n",
      "[Parallel(n_jobs=-1)]: Done 545 out of 624 | elapsed:    2.4s remaining:    0.3s\n",
      "[Parallel(n_jobs=-1)]: Done 624 out of 624 | elapsed:    2.6s finished\n",
      "/glade/work/mgrover/git_repos/ecgtools/ecgtools/builder.py:179: UserWarning: Unable to parse 45 assets/files. A list of these assets can be found in `.invalid_assets` attribute.\n",
      "  self.get_directories().get_filelist()._parse(\n"
     ]
    },
    {
     "data": {
      "text/plain": [
       "Builder(root_path=PosixPath('/glade/campaign/cesm/development/espwg/SMYLE/initial_conditions/SMYLE-FOSI'), extension='.nc', depth=0, exclude_patterns=['*/rest/*', '*/logs/*', '*/hist/*'], njobs=-1)"
      ]
     },
     "execution_count": 11,
     "metadata": {},
     "output_type": "execute_result"
    }
   ],
   "source": [
    "cesm_timeseries_builder.build(parse_cesm_timeseries)"
   ]
  },
  {
   "cell_type": "markdown",
   "id": "a9a7b63d-c1fc-446d-9281-50ac3291fd7d",
   "metadata": {},
   "source": [
    "### Save the catalog locally"
   ]
  },
  {
   "cell_type": "code",
   "execution_count": 13,
   "id": "f56e9910-f555-4595-8e05-c47a7aa99122",
   "metadata": {},
   "outputs": [
    {
     "name": "stdout",
     "output_type": "stream",
     "text": [
      "Saved catalog location: cesm-tseries-smyle-fosi.json and cesm-tseries-smyle-fosi.csv\n"
     ]
    },
    {
     "name": "stderr",
     "output_type": "stream",
     "text": [
      "/glade/scratch/mgrover/ipykernel_129934/2723049127.py:1: UserWarning: Unable to parse 45 assets/files. A list of these assets can be found in invalid_assets_cesm-tseries-smyle-fosi.csv.\n",
      "  cesm_timeseries_builder.save(\n"
     ]
    }
   ],
   "source": [
    "cesm_timeseries_builder.save(\n",
    "    # File path - could save as .csv (uncompressed csv) or .csv.gz (compressed csv)\n",
    "    \"cesm-tseries-smyle-fosi.csv\",\n",
    "    # Column name including filepath\n",
    "    path_column_name='path',\n",
    "    # Column name including variables\n",
    "    variable_column_name='variable',\n",
    "    # Data file format - could be netcdf or zarr (in this case, netcdf)\n",
    "    data_format=\"netcdf\",\n",
    "    # Which attributes to groupby when reading in variables using intake-esm\n",
    "    groupby_attrs=[\"component\", \"stream\", \"case\"],\n",
    "    # Aggregations which are fed into xarray when reading in data using intake\n",
    "    aggregations=[\n",
    "        {\"type\": \"union\", \"attribute_name\": \"variable\"},\n",
    "        {\n",
    "            \"type\": \"join_existing\",\n",
    "            \"attribute_name\": \"time_range\",\n",
    "            \"options\": {\"dim\": \"time\", \"coords\": \"minimal\", \"compat\": \"override\"},\n",
    "        },\n",
    "    ],\n",
    ")"
   ]
  },
  {
   "cell_type": "markdown",
   "id": "58b746dd-1092-4650-84a2-6b53721003b7",
   "metadata": {},
   "source": [
    "## Spin up a Dask Cluster"
   ]
  },
  {
   "cell_type": "code",
   "execution_count": 14,
   "id": "9b1885cf-f8a6-4f05-8303-eb35fdccaf46",
   "metadata": {},
   "outputs": [
    {
     "name": "stderr",
     "output_type": "stream",
     "text": [
      "/glade/work/mgrover/miniconda3/envs/ecgtools-dev/lib/python3.9/site-packages/distributed/node.py:160: UserWarning: Port 8787 is already in use.\n",
      "Perhaps you already have a cluster running?\n",
      "Hosting the HTTP server on port 36112 instead\n",
      "  warnings.warn(\n"
     ]
    },
    {
     "data": {
      "application/vnd.jupyter.widget-view+json": {
       "model_id": "592fe92287a24422b82eff161696bb59",
       "version_major": 2,
       "version_minor": 0
      },
      "text/plain": [
       "Tab(children=(HTML(value='<div class=\"jp-RenderedHTMLCommon jp-RenderedHTML jp-mod-trusted jp-OutputArea-outpu…"
      ]
     },
     "metadata": {},
     "output_type": "display_data"
    }
   ],
   "source": [
    "cluster = NCARCluster(memory='25 GB', cores=1, walltime='06:00:00')\n",
    "cluster.scale(23)\n",
    "client = Client(cluster)\n",
    "cluster"
   ]
  },
  {
   "cell_type": "markdown",
   "id": "a273823d-87ec-4e07-badd-a35d420c7080",
   "metadata": {},
   "source": [
    "## Read the Catalogs Using Intake-ESM\n",
    "Here, we read the catalogs we just created in the previous section! Remember, there are numerous variables in a single file (row) for the history files, so we use `ast` to help parse those rows!"
   ]
  },
  {
   "cell_type": "code",
   "execution_count": 6,
   "id": "b7372206-6ae3-4c46-8790-380f069c9fdb",
   "metadata": {},
   "outputs": [
    {
     "data": {
      "text/html": [
       "<p><strong>None catalog with 5 dataset(s) from 6015 asset(s)</strong>:</p> <div>\n",
       "<style scoped>\n",
       "    .dataframe tbody tr th:only-of-type {\n",
       "        vertical-align: middle;\n",
       "    }\n",
       "\n",
       "    .dataframe tbody tr th {\n",
       "        vertical-align: top;\n",
       "    }\n",
       "\n",
       "    .dataframe thead th {\n",
       "        text-align: right;\n",
       "    }\n",
       "</style>\n",
       "<table border=\"1\" class=\"dataframe\">\n",
       "  <thead>\n",
       "    <tr style=\"text-align: right;\">\n",
       "      <th></th>\n",
       "      <th>unique</th>\n",
       "    </tr>\n",
       "  </thead>\n",
       "  <tbody>\n",
       "    <tr>\n",
       "      <th>component</th>\n",
       "      <td>2</td>\n",
       "    </tr>\n",
       "    <tr>\n",
       "      <th>stream</th>\n",
       "      <td>5</td>\n",
       "    </tr>\n",
       "    <tr>\n",
       "      <th>date</th>\n",
       "      <td>5235</td>\n",
       "    </tr>\n",
       "    <tr>\n",
       "      <th>case</th>\n",
       "      <td>1</td>\n",
       "    </tr>\n",
       "    <tr>\n",
       "      <th>member_id</th>\n",
       "      <td>1</td>\n",
       "    </tr>\n",
       "    <tr>\n",
       "      <th>frequency</th>\n",
       "      <td>3</td>\n",
       "    </tr>\n",
       "    <tr>\n",
       "      <th>variables</th>\n",
       "      <td>620</td>\n",
       "    </tr>\n",
       "    <tr>\n",
       "      <th>path</th>\n",
       "      <td>6015</td>\n",
       "    </tr>\n",
       "  </tbody>\n",
       "</table>\n",
       "</div>"
      ],
      "text/plain": [
       "<IPython.core.display.HTML object>"
      ]
     },
     "metadata": {},
     "output_type": "display_data"
    }
   ],
   "source": [
    "history_catalog = intake.open_esm_datastore(\n",
    "    'cesm-hist-smyle-fosi.json',\n",
    "    csv_kwargs={\"converters\": {\"variables\": ast.literal_eval}},\n",
    "    sep=\"/\",\n",
    ")\n",
    "history_catalog"
   ]
  },
  {
   "cell_type": "markdown",
   "id": "71e70916-639b-448f-87da-81978aee6c20",
   "metadata": {},
   "source": [
    "The timeseries file does not require any additional arguments 👌"
   ]
  },
  {
   "cell_type": "code",
   "execution_count": 7,
   "id": "f2d33dc2-6b10-42c7-b5f0-37c9b7857937",
   "metadata": {},
   "outputs": [
    {
     "data": {
      "text/html": [
       "<p><strong>None catalog with 4 dataset(s) from 579 asset(s)</strong>:</p> <div>\n",
       "<style scoped>\n",
       "    .dataframe tbody tr th:only-of-type {\n",
       "        vertical-align: middle;\n",
       "    }\n",
       "\n",
       "    .dataframe tbody tr th {\n",
       "        vertical-align: top;\n",
       "    }\n",
       "\n",
       "    .dataframe thead th {\n",
       "        text-align: right;\n",
       "    }\n",
       "</style>\n",
       "<table border=\"1\" class=\"dataframe\">\n",
       "  <thead>\n",
       "    <tr style=\"text-align: right;\">\n",
       "      <th></th>\n",
       "      <th>unique</th>\n",
       "    </tr>\n",
       "  </thead>\n",
       "  <tbody>\n",
       "    <tr>\n",
       "      <th>component</th>\n",
       "      <td>2</td>\n",
       "    </tr>\n",
       "    <tr>\n",
       "      <th>stream</th>\n",
       "      <td>4</td>\n",
       "    </tr>\n",
       "    <tr>\n",
       "      <th>case</th>\n",
       "      <td>1</td>\n",
       "    </tr>\n",
       "    <tr>\n",
       "      <th>member_id</th>\n",
       "      <td>1</td>\n",
       "    </tr>\n",
       "    <tr>\n",
       "      <th>variable</th>\n",
       "      <td>579</td>\n",
       "    </tr>\n",
       "    <tr>\n",
       "      <th>start_time</th>\n",
       "      <td>3</td>\n",
       "    </tr>\n",
       "    <tr>\n",
       "      <th>end_time</th>\n",
       "      <td>3</td>\n",
       "    </tr>\n",
       "    <tr>\n",
       "      <th>time_range</th>\n",
       "      <td>3</td>\n",
       "    </tr>\n",
       "    <tr>\n",
       "      <th>long_name</th>\n",
       "      <td>570</td>\n",
       "    </tr>\n",
       "    <tr>\n",
       "      <th>units</th>\n",
       "      <td>67</td>\n",
       "    </tr>\n",
       "    <tr>\n",
       "      <th>vertical_levels</th>\n",
       "      <td>1</td>\n",
       "    </tr>\n",
       "    <tr>\n",
       "      <th>frequency</th>\n",
       "      <td>3</td>\n",
       "    </tr>\n",
       "    <tr>\n",
       "      <th>path</th>\n",
       "      <td>579</td>\n",
       "    </tr>\n",
       "  </tbody>\n",
       "</table>\n",
       "</div>"
      ],
      "text/plain": [
       "<IPython.core.display.HTML object>"
      ]
     },
     "metadata": {},
     "output_type": "display_data"
    }
   ],
   "source": [
    "timeseries_catalog = intake.open_esm_datastore('cesm-tseries-smyle-fosi.json')\n",
    "timeseries_catalog"
   ]
  },
  {
   "cell_type": "markdown",
   "id": "9c3bddbc-aed0-41f6-9cad-8d02c23ff49e",
   "metadata": {},
   "source": [
    "### Search for Just Monthly Ocean Output\n",
    "We are only interested in monthly (`frequency='month_1'`) ocean (`component='ocn'`) output in this case"
   ]
  },
  {
   "cell_type": "code",
   "execution_count": 9,
   "id": "672bcfde-fcff-46c1-b2b6-0bd4f552d11e",
   "metadata": {},
   "outputs": [
    {
     "data": {
      "text/html": [
       "<p><strong>None catalog with 1 dataset(s) from 410 asset(s)</strong>:</p> <div>\n",
       "<style scoped>\n",
       "    .dataframe tbody tr th:only-of-type {\n",
       "        vertical-align: middle;\n",
       "    }\n",
       "\n",
       "    .dataframe tbody tr th {\n",
       "        vertical-align: top;\n",
       "    }\n",
       "\n",
       "    .dataframe thead th {\n",
       "        text-align: right;\n",
       "    }\n",
       "</style>\n",
       "<table border=\"1\" class=\"dataframe\">\n",
       "  <thead>\n",
       "    <tr style=\"text-align: right;\">\n",
       "      <th></th>\n",
       "      <th>unique</th>\n",
       "    </tr>\n",
       "  </thead>\n",
       "  <tbody>\n",
       "    <tr>\n",
       "      <th>component</th>\n",
       "      <td>1</td>\n",
       "    </tr>\n",
       "    <tr>\n",
       "      <th>stream</th>\n",
       "      <td>1</td>\n",
       "    </tr>\n",
       "    <tr>\n",
       "      <th>case</th>\n",
       "      <td>1</td>\n",
       "    </tr>\n",
       "    <tr>\n",
       "      <th>member_id</th>\n",
       "      <td>1</td>\n",
       "    </tr>\n",
       "    <tr>\n",
       "      <th>variable</th>\n",
       "      <td>410</td>\n",
       "    </tr>\n",
       "    <tr>\n",
       "      <th>start_time</th>\n",
       "      <td>1</td>\n",
       "    </tr>\n",
       "    <tr>\n",
       "      <th>end_time</th>\n",
       "      <td>1</td>\n",
       "    </tr>\n",
       "    <tr>\n",
       "      <th>time_range</th>\n",
       "      <td>1</td>\n",
       "    </tr>\n",
       "    <tr>\n",
       "      <th>long_name</th>\n",
       "      <td>409</td>\n",
       "    </tr>\n",
       "    <tr>\n",
       "      <th>units</th>\n",
       "      <td>55</td>\n",
       "    </tr>\n",
       "    <tr>\n",
       "      <th>vertical_levels</th>\n",
       "      <td>1</td>\n",
       "    </tr>\n",
       "    <tr>\n",
       "      <th>frequency</th>\n",
       "      <td>1</td>\n",
       "    </tr>\n",
       "    <tr>\n",
       "      <th>path</th>\n",
       "      <td>410</td>\n",
       "    </tr>\n",
       "  </tbody>\n",
       "</table>\n",
       "</div>"
      ],
      "text/plain": [
       "<IPython.core.display.HTML object>"
      ]
     },
     "metadata": {},
     "output_type": "display_data"
    }
   ],
   "source": [
    "monthly_ocean_timeseries = timeseries_catalog.search(component='ocn', frequency='month_1')\n",
    "monthly_ocean_timeseries"
   ]
  },
  {
   "cell_type": "code",
   "execution_count": 10,
   "id": "fa00b71d-f3c2-4310-8ddc-6f382fabf437",
   "metadata": {},
   "outputs": [
    {
     "data": {
      "text/html": [
       "<p><strong>None catalog with 1 dataset(s) from 756 asset(s)</strong>:</p> <div>\n",
       "<style scoped>\n",
       "    .dataframe tbody tr th:only-of-type {\n",
       "        vertical-align: middle;\n",
       "    }\n",
       "\n",
       "    .dataframe tbody tr th {\n",
       "        vertical-align: top;\n",
       "    }\n",
       "\n",
       "    .dataframe thead th {\n",
       "        text-align: right;\n",
       "    }\n",
       "</style>\n",
       "<table border=\"1\" class=\"dataframe\">\n",
       "  <thead>\n",
       "    <tr style=\"text-align: right;\">\n",
       "      <th></th>\n",
       "      <th>unique</th>\n",
       "    </tr>\n",
       "  </thead>\n",
       "  <tbody>\n",
       "    <tr>\n",
       "      <th>component</th>\n",
       "      <td>1</td>\n",
       "    </tr>\n",
       "    <tr>\n",
       "      <th>stream</th>\n",
       "      <td>1</td>\n",
       "    </tr>\n",
       "    <tr>\n",
       "      <th>date</th>\n",
       "      <td>756</td>\n",
       "    </tr>\n",
       "    <tr>\n",
       "      <th>case</th>\n",
       "      <td>1</td>\n",
       "    </tr>\n",
       "    <tr>\n",
       "      <th>member_id</th>\n",
       "      <td>1</td>\n",
       "    </tr>\n",
       "    <tr>\n",
       "      <th>frequency</th>\n",
       "      <td>1</td>\n",
       "    </tr>\n",
       "    <tr>\n",
       "      <th>variables</th>\n",
       "      <td>446</td>\n",
       "    </tr>\n",
       "    <tr>\n",
       "      <th>path</th>\n",
       "      <td>756</td>\n",
       "    </tr>\n",
       "  </tbody>\n",
       "</table>\n",
       "</div>"
      ],
      "text/plain": [
       "<IPython.core.display.HTML object>"
      ]
     },
     "metadata": {},
     "output_type": "display_data"
    }
   ],
   "source": [
    "monthly_ocean_history = history_catalog.search(component='ocn', frequency='month_1')\n",
    "monthly_ocean_history"
   ]
  },
  {
   "cell_type": "markdown",
   "id": "0d96f08a-9684-4c23-8685-8887b334f833",
   "metadata": {
    "tags": []
   },
   "source": [
    "## Test File Access Speeds\n",
    "Here, we test the time it takes to read in the following time ranges:\n",
    "* 1 year\n",
    "* 5 years\n",
    "* 10 years\n",
    "* 20 years\n",
    "* 40 years\n",
    "* 60 years\n",
    "\n",
    "A useful tool we will use here is the [Dask Performance Report](https://docs.dask.org/en/latest/diagnostics-distributed.html) which enables the user to output their Dask dashboard, so they can share it with others. This provides a means of going back to a computation on your cluster to investigate which tasks, workers, etc."
   ]
  },
  {
   "cell_type": "markdown",
   "id": "9e71663f-bb82-4dae-80ae-748acc0cfe77",
   "metadata": {},
   "source": [
    "### Test out the Timeseries Files"
   ]
  },
  {
   "cell_type": "code",
   "execution_count": 11,
   "id": "48939477-652d-429d-adcb-fe99090c0096",
   "metadata": {},
   "outputs": [],
   "source": [
    "def test_timeseries_file(\n",
    "    num_years, chunk_strategy='time', long_term_average=False, monthly_average=False\n",
    "):\n",
    "    start = time.time()\n",
    "    chunk_dict = {'time': {'time': 240}, 'spatial': {'nlon': 160, 'nlat': 192}}\n",
    "    dsets = monthly_ocean_timeseries.search(variable='FG_CO2').to_dataset_dict(\n",
    "        'FG_CO2',\n",
    "        cdf_kwargs={'use_cftime': True, 'chunks': chunk_dict[chunk_strategy]},\n",
    "        progressbar=False,\n",
    "    )\n",
    "    keys = list(dsets.keys())\n",
    "    ds = dsets[keys[0]]\n",
    "\n",
    "    if long_term_average:\n",
    "        ds.mean(dim='time').compute()\n",
    "\n",
    "    if monthly_average:\n",
    "        ds.groupby('time.month').mean(dim='time').compute()\n",
    "\n",
    "    end = time.time()\n",
    "    return end - start"
   ]
  },
  {
   "cell_type": "markdown",
   "id": "8b8d42c5-764c-4d6f-a638-0af0526c78b4",
   "metadata": {},
   "source": [
    "### Apply the Computation with Timeseries\n",
    "It can be accessed using [this link](timeseries-computation.html)!"
   ]
  },
  {
   "cell_type": "code",
   "execution_count": 12,
   "id": "165d7054-47de-4848-8615-6f966fb02689",
   "metadata": {},
   "outputs": [
    {
     "name": "stdout",
     "output_type": "stream",
     "text": [
      "Starting year 1\n",
      "Starting year 5\n",
      "Starting year 10\n",
      "Starting year 20\n",
      "Starting year 30\n",
      "Starting year 40\n",
      "Starting year 50\n",
      "Starting year 60\n"
     ]
    }
   ],
   "source": [
    "years = [1, 5, 10, 20, 30, 40, 50, 60]\n",
    "\n",
    "df = pd.DataFrame()\n",
    "\n",
    "with performance_report(filename=\"timeseries-computation.html\"):\n",
    "    for year in years:\n",
    "        print(f'Starting year {year}')\n",
    "        # Compute without computation\n",
    "        wall_time = test_timeseries_file(year)\n",
    "        df = df.append(\n",
    "            {\n",
    "                'catalog': 'timeseries',\n",
    "                'computation': 'file_access',\n",
    "                'num_years': year,\n",
    "                'wall_time': wall_time,\n",
    "            },\n",
    "            ignore_index=True,\n",
    "        )\n",
    "\n",
    "        # Compute with long-term mean computation\n",
    "        wall_time = test_timeseries_file(year, long_term_average=True)\n",
    "        df = df.append(\n",
    "            {\n",
    "                'catalog': 'timeseries',\n",
    "                'computation': 'long_term_average',\n",
    "                'num_years': year,\n",
    "                'wall_time': wall_time,\n",
    "            },\n",
    "            ignore_index=True,\n",
    "        )\n",
    "\n",
    "        # Compute with long-term mean computation\n",
    "        wall_time = test_timeseries_file(year, monthly_average=True)\n",
    "        df = df.append(\n",
    "            {\n",
    "                'catalog': 'timeseries',\n",
    "                'computation': 'monthly_average',\n",
    "                'num_years': year,\n",
    "                'wall_time': wall_time,\n",
    "            },\n",
    "            ignore_index=True,\n",
    "        )\n",
    "df_timeseries = df"
   ]
  },
  {
   "cell_type": "code",
   "execution_count": 13,
   "id": "4648edae-6339-4176-a96b-31cd4aab0de9",
   "metadata": {},
   "outputs": [
    {
     "data": {},
     "metadata": {},
     "output_type": "display_data"
    },
    {
     "data": {
      "application/vnd.holoviews_exec.v0+json": "",
      "text/html": [
       "<div id='5197'>\n",
       "\n",
       "\n",
       "\n",
       "\n",
       "\n",
       "  <div class=\"bk-root\" id=\"dfb3c420-86d9-4ace-86d6-2f82d416d3a1\" data-root-id=\"5197\"></div>\n",
       "</div>\n",
       "<script type=\"application/javascript\">(function(root) {\n",
       "  function embed_document(root) {\n",
       "    var docs_json = {\"64d119d8-f6c0-4825-8373-fe5c24bb7ba0\":{\"defs\":[{\"extends\":null,\"module\":null,\"name\":\"ReactiveHTML1\",\"overrides\":[],\"properties\":[]},{\"extends\":null,\"module\":null,\"name\":\"FlexBox1\",\"overrides\":[],\"properties\":[{\"default\":\"flex-start\",\"kind\":null,\"name\":\"align_content\"},{\"default\":\"flex-start\",\"kind\":null,\"name\":\"align_items\"},{\"default\":\"row\",\"kind\":null,\"name\":\"flex_direction\"},{\"default\":\"wrap\",\"kind\":null,\"name\":\"flex_wrap\"},{\"default\":\"flex-start\",\"kind\":null,\"name\":\"justify_content\"}]},{\"extends\":null,\"module\":null,\"name\":\"TemplateActions1\",\"overrides\":[],\"properties\":[{\"default\":0,\"kind\":null,\"name\":\"open_modal\"},{\"default\":0,\"kind\":null,\"name\":\"close_modal\"}]},{\"extends\":null,\"module\":null,\"name\":\"MaterialTemplateActions1\",\"overrides\":[],\"properties\":[{\"default\":0,\"kind\":null,\"name\":\"open_modal\"},{\"default\":0,\"kind\":null,\"name\":\"close_modal\"}]}],\"roots\":{\"references\":[{\"attributes\":{},\"id\":\"5221\",\"type\":\"WheelZoomTool\"},{\"attributes\":{},\"id\":\"5209\",\"type\":\"LinearScale\"},{\"attributes\":{},\"id\":\"5207\",\"type\":\"LinearScale\"},{\"attributes\":{},\"id\":\"5288\",\"type\":\"AllLabels\"},{\"attributes\":{},\"id\":\"5334\",\"type\":\"AllLabels\"},{\"attributes\":{},\"id\":\"5223\",\"type\":\"ResetTool\"},{\"attributes\":{},\"id\":\"5301\",\"type\":\"LinearScale\"},{\"attributes\":{},\"id\":\"5347\",\"type\":\"UnionRenderers\"},{\"attributes\":{},\"id\":\"5266\",\"type\":\"PanTool\"},{\"attributes\":{\"axis_label\":\"num_years\",\"formatter\":{\"id\":\"5333\"},\"major_label_policy\":{\"id\":\"5334\"},\"ticker\":{\"id\":\"5304\"}},\"id\":\"5303\",\"type\":\"LinearAxis\"},{\"attributes\":{},\"id\":\"5216\",\"type\":\"BasicTicker\"},{\"attributes\":{},\"id\":\"5262\",\"type\":\"BasicTicker\"},{\"attributes\":{\"below\":[{\"id\":\"5257\"}],\"center\":[{\"id\":\"5260\"},{\"id\":\"5264\"}],\"height\":300,\"left\":[{\"id\":\"5261\"}],\"margin\":null,\"min_border_bottom\":10,\"min_border_left\":10,\"min_border_right\":10,\"min_border_top\":10,\"renderers\":[{\"id\":\"5284\"}],\"sizing_mode\":\"fixed\",\"title\":{\"id\":\"5249\"},\"toolbar\":{\"id\":\"5271\"},\"toolbar_location\":null,\"width\":400,\"x_range\":{\"id\":\"5199\"},\"x_scale\":{\"id\":\"5253\"},\"y_range\":{\"id\":\"5200\"},\"y_scale\":{\"id\":\"5255\"}},\"id\":\"5248\",\"subtype\":\"Figure\",\"type\":\"Plot\"},{\"attributes\":{\"text\":\"No computation\",\"text_color\":\"black\",\"text_font_size\":\"12pt\"},\"id\":\"5203\",\"type\":\"Title\"},{\"attributes\":{\"source\":{\"id\":\"5278\"}},\"id\":\"5285\",\"type\":\"CDSView\"},{\"attributes\":{\"margin\":[5,5,5,5],\"name\":\"HSpacer01791\",\"sizing_mode\":\"stretch_width\"},\"id\":\"5646\",\"type\":\"Spacer\"},{\"attributes\":{},\"id\":\"5315\",\"type\":\"ResetTool\"},{\"attributes\":{\"overlay\":{\"id\":\"5316\"}},\"id\":\"5314\",\"type\":\"BoxZoomTool\"},{\"attributes\":{\"children\":[{\"id\":\"5374\"},{\"id\":\"5372\"}]},\"id\":\"5375\",\"type\":\"Column\"},{\"attributes\":{},\"id\":\"5299\",\"type\":\"LinearScale\"},{\"attributes\":{},\"id\":\"5333\",\"type\":\"BasicTickFormatter\"},{\"attributes\":{},\"id\":\"5255\",\"type\":\"LinearScale\"},{\"attributes\":{\"text\":\"Long term mean\",\"text_color\":\"black\",\"text_font_size\":\"12pt\"},\"id\":\"5249\",\"type\":\"Title\"},{\"attributes\":{\"source\":{\"id\":\"5324\"}},\"id\":\"5331\",\"type\":\"CDSView\"},{\"attributes\":{},\"id\":\"5233\",\"type\":\"Selection\"},{\"attributes\":{},\"id\":\"5358\",\"type\":\"UnionRenderers\"},{\"attributes\":{\"data\":{\"num_years\":{\"__ndarray__\":\"AAAAAAAA8D8AAAAAAAAUQAAAAAAAACRAAAAAAAAANEAAAAAAAAA+QAAAAAAAAERAAAAAAAAASUAAAAAAAABOQA==\",\"dtype\":\"float64\",\"order\":\"little\",\"shape\":[8]},\"wall_time\":{\"__ndarray__\":\"AAAAoBysDEAAAACApl3wPwAAAAB/me4/AAAAQLtB+j8AAACAQsD3PwAAAMBIJfA/AAAAgPGG8D8AAAAArnPwPw==\",\"dtype\":\"float64\",\"order\":\"little\",\"shape\":[8]}},\"selected\":{\"id\":\"5279\"},\"selection_policy\":{\"id\":\"5358\"}},\"id\":\"5278\",\"type\":\"ColumnDataSource\"},{\"attributes\":{},\"id\":\"5308\",\"type\":\"BasicTicker\"},{\"attributes\":{\"line_color\":\"#30a2da\",\"line_width\":2,\"x\":{\"field\":\"num_years\"},\"y\":{\"field\":\"wall_time\"}},\"id\":\"5281\",\"type\":\"Line\"},{\"attributes\":{\"children\":[[{\"id\":\"5202\"},0,0],[{\"id\":\"5248\"},0,1],[{\"id\":\"5294\"},0,2]]},\"id\":\"5372\",\"type\":\"GridBox\"},{\"attributes\":{\"axis\":{\"id\":\"5261\"},\"dimension\":1,\"grid_line_color\":null,\"ticker\":null},\"id\":\"5264\",\"type\":\"Grid\"},{\"attributes\":{\"line_color\":\"#30a2da\",\"line_width\":2,\"x\":{\"field\":\"num_years\"},\"y\":{\"field\":\"wall_time\"}},\"id\":\"5240\",\"type\":\"Line\"},{\"attributes\":{},\"id\":\"5253\",\"type\":\"LinearScale\"},{\"attributes\":{\"active_multi\":null,\"tools\":[{\"id\":\"5247\"},{\"id\":\"5265\"},{\"id\":\"5266\"},{\"id\":\"5267\"},{\"id\":\"5268\"},{\"id\":\"5269\"}]},\"id\":\"5271\",\"type\":\"Toolbar\"},{\"attributes\":{},\"id\":\"5291\",\"type\":\"AllLabels\"},{\"attributes\":{},\"id\":\"5312\",\"type\":\"PanTool\"},{\"attributes\":{\"data_source\":{\"id\":\"5278\"},\"glyph\":{\"id\":\"5281\"},\"hover_glyph\":null,\"muted_glyph\":{\"id\":\"5283\"},\"nonselection_glyph\":{\"id\":\"5282\"},\"selection_glyph\":{\"id\":\"5286\"},\"view\":{\"id\":\"5285\"}},\"id\":\"5284\",\"type\":\"GlyphRenderer\"},{\"attributes\":{\"toolbars\":[{\"id\":\"5225\"},{\"id\":\"5271\"},{\"id\":\"5317\"}],\"tools\":[{\"id\":\"5201\"},{\"id\":\"5219\"},{\"id\":\"5220\"},{\"id\":\"5221\"},{\"id\":\"5222\"},{\"id\":\"5223\"},{\"id\":\"5247\"},{\"id\":\"5265\"},{\"id\":\"5266\"},{\"id\":\"5267\"},{\"id\":\"5268\"},{\"id\":\"5269\"},{\"id\":\"5293\"},{\"id\":\"5311\"},{\"id\":\"5312\"},{\"id\":\"5313\"},{\"id\":\"5314\"},{\"id\":\"5315\"}]},\"id\":\"5373\",\"type\":\"ProxyToolbar\"},{\"attributes\":{\"overlay\":{\"id\":\"5224\"}},\"id\":\"5222\",\"type\":\"BoxZoomTool\"},{\"attributes\":{\"axis_label\":\"Time (s)\",\"formatter\":{\"id\":\"5290\"},\"major_label_policy\":{\"id\":\"5291\"},\"ticker\":{\"id\":\"5262\"}},\"id\":\"5261\",\"type\":\"LinearAxis\"},{\"attributes\":{\"line_color\":\"#30a2da\",\"line_width\":2,\"x\":{\"field\":\"num_years\"},\"y\":{\"field\":\"wall_time\"}},\"id\":\"5327\",\"type\":\"Line\"},{\"attributes\":{\"end\":6.273863363265991,\"reset_end\":6.273863363265991,\"reset_start\":-0.46298222541809086,\"start\":-0.46298222541809086,\"tags\":[[[\"wall_time\",\"wall_time\",null]]]},\"id\":\"5200\",\"type\":\"Range1d\"},{\"attributes\":{\"axis\":{\"id\":\"5303\"},\"grid_line_color\":null,\"ticker\":null},\"id\":\"5306\",\"type\":\"Grid\"},{\"attributes\":{\"line_color\":\"#30a2da\",\"line_width\":2,\"x\":{\"field\":\"num_years\"},\"y\":{\"field\":\"wall_time\"}},\"id\":\"5286\",\"type\":\"Line\"},{\"attributes\":{},\"id\":\"5279\",\"type\":\"Selection\"},{\"attributes\":{},\"id\":\"5219\",\"type\":\"SaveTool\"},{\"attributes\":{\"line_color\":\"#30a2da\",\"line_width\":2,\"x\":{\"field\":\"num_years\"},\"y\":{\"field\":\"wall_time\"}},\"id\":\"5235\",\"type\":\"Line\"},{\"attributes\":{\"end\":60.0,\"reset_end\":60.0,\"reset_start\":1.0,\"start\":1.0,\"tags\":[[[\"num_years\",\"num_years\",null]]]},\"id\":\"5199\",\"type\":\"Range1d\"},{\"attributes\":{},\"id\":\"5369\",\"type\":\"UnionRenderers\"},{\"attributes\":{\"source\":{\"id\":\"5232\"}},\"id\":\"5239\",\"type\":\"CDSView\"},{\"attributes\":{},\"id\":\"5269\",\"type\":\"ResetTool\"},{\"attributes\":{\"data_source\":{\"id\":\"5324\"},\"glyph\":{\"id\":\"5327\"},\"hover_glyph\":null,\"muted_glyph\":{\"id\":\"5329\"},\"nonselection_glyph\":{\"id\":\"5328\"},\"selection_glyph\":{\"id\":\"5332\"},\"view\":{\"id\":\"5331\"}},\"id\":\"5330\",\"type\":\"GlyphRenderer\"},{\"attributes\":{\"below\":[{\"id\":\"5211\"}],\"center\":[{\"id\":\"5214\"},{\"id\":\"5218\"}],\"height\":300,\"left\":[{\"id\":\"5215\"}],\"margin\":null,\"min_border_bottom\":10,\"min_border_left\":10,\"min_border_right\":10,\"min_border_top\":10,\"renderers\":[{\"id\":\"5238\"}],\"sizing_mode\":\"fixed\",\"title\":{\"id\":\"5203\"},\"toolbar\":{\"id\":\"5225\"},\"toolbar_location\":null,\"width\":400,\"x_range\":{\"id\":\"5199\"},\"x_scale\":{\"id\":\"5207\"},\"y_range\":{\"id\":\"5200\"},\"y_scale\":{\"id\":\"5209\"}},\"id\":\"5202\",\"subtype\":\"Figure\",\"type\":\"Plot\"},{\"attributes\":{},\"id\":\"5244\",\"type\":\"BasicTickFormatter\"},{\"attributes\":{\"data\":{\"num_years\":{\"__ndarray__\":\"AAAAAAAA8D8AAAAAAAAUQAAAAAAAACRAAAAAAAAANEAAAAAAAAA+QAAAAAAAAERAAAAAAAAASUAAAAAAAABOQA==\",\"dtype\":\"float64\",\"order\":\"little\",\"shape\":[8]},\"wall_time\":{\"__ndarray__\":\"AAAAoCkUBkAAAAAAt88GQAAAAODURAJAAAAAoCYXAEAAAACgxoUDQAAAAMAEZAVAAAAAwDXbAkAAAABAykAFQA==\",\"dtype\":\"float64\",\"order\":\"little\",\"shape\":[8]}},\"selected\":{\"id\":\"5325\"},\"selection_policy\":{\"id\":\"5369\"}},\"id\":\"5324\",\"type\":\"ColumnDataSource\"},{\"attributes\":{\"bottom_units\":\"screen\",\"fill_alpha\":0.5,\"fill_color\":\"lightgrey\",\"left_units\":\"screen\",\"level\":\"overlay\",\"line_alpha\":1.0,\"line_color\":\"black\",\"line_dash\":[4,4],\"line_width\":2,\"right_units\":\"screen\",\"syncable\":false,\"top_units\":\"screen\"},\"id\":\"5224\",\"type\":\"BoxAnnotation\"},{\"attributes\":{\"data\":{\"num_years\":{\"__ndarray__\":\"AAAAAAAA8D8AAAAAAAAUQAAAAAAAACRAAAAAAAAANEAAAAAAAAA+QAAAAAAAAERAAAAAAAAASUAAAAAAAABOQA==\",\"dtype\":\"float64\",\"order\":\"little\",\"shape\":[8]},\"wall_time\":{\"__ndarray__\":\"AAAAAI/ZFkAAAAAAVHvPPwAAAABsWs4/AAAAAEaJzz8AAAAAyCTQPwAAAAAoMrk/AAAAAHxFvD8AAAAAAJK5Pw==\",\"dtype\":\"float64\",\"order\":\"little\",\"shape\":[8]}},\"selected\":{\"id\":\"5233\"},\"selection_policy\":{\"id\":\"5347\"}},\"id\":\"5232\",\"type\":\"ColumnDataSource\"},{\"attributes\":{},\"id\":\"5325\",\"type\":\"Selection\"},{\"attributes\":{\"below\":[{\"id\":\"5303\"}],\"center\":[{\"id\":\"5306\"},{\"id\":\"5310\"}],\"height\":300,\"left\":[{\"id\":\"5307\"}],\"margin\":null,\"min_border_bottom\":10,\"min_border_left\":10,\"min_border_right\":10,\"min_border_top\":10,\"renderers\":[{\"id\":\"5330\"}],\"sizing_mode\":\"fixed\",\"title\":{\"id\":\"5295\"},\"toolbar\":{\"id\":\"5317\"},\"toolbar_location\":null,\"width\":400,\"x_range\":{\"id\":\"5199\"},\"x_scale\":{\"id\":\"5299\"},\"y_range\":{\"id\":\"5200\"},\"y_scale\":{\"id\":\"5301\"}},\"id\":\"5294\",\"subtype\":\"Figure\",\"type\":\"Plot\"},{\"attributes\":{\"axis\":{\"id\":\"5211\"},\"grid_line_color\":null,\"ticker\":null},\"id\":\"5214\",\"type\":\"Grid\"},{\"attributes\":{},\"id\":\"5336\",\"type\":\"BasicTickFormatter\"},{\"attributes\":{\"margin\":[5,5,5,5],\"name\":\"HSpacer01790\",\"sizing_mode\":\"stretch_width\"},\"id\":\"5198\",\"type\":\"Spacer\"},{\"attributes\":{\"children\":[{\"id\":\"5198\"},{\"id\":\"5375\"},{\"id\":\"5646\"}],\"margin\":[0,0,0,0],\"name\":\"Row01786\",\"tags\":[\"embedded\"]},\"id\":\"5197\",\"type\":\"Row\"},{\"attributes\":{\"axis_label\":\"Time (s)\",\"formatter\":{\"id\":\"5244\"},\"major_label_policy\":{\"id\":\"5245\"},\"ticker\":{\"id\":\"5216\"}},\"id\":\"5215\",\"type\":\"LinearAxis\"},{\"attributes\":{},\"id\":\"5313\",\"type\":\"WheelZoomTool\"},{\"attributes\":{\"line_alpha\":0.2,\"line_color\":\"#30a2da\",\"line_width\":2,\"x\":{\"field\":\"num_years\"},\"y\":{\"field\":\"wall_time\"}},\"id\":\"5329\",\"type\":\"Line\"},{\"attributes\":{\"axis\":{\"id\":\"5215\"},\"dimension\":1,\"grid_line_color\":null,\"ticker\":null},\"id\":\"5218\",\"type\":\"Grid\"},{\"attributes\":{},\"id\":\"5258\",\"type\":\"BasicTicker\"},{\"attributes\":{\"active_multi\":null,\"tools\":[{\"id\":\"5201\"},{\"id\":\"5219\"},{\"id\":\"5220\"},{\"id\":\"5221\"},{\"id\":\"5222\"},{\"id\":\"5223\"}]},\"id\":\"5225\",\"type\":\"Toolbar\"},{\"attributes\":{},\"id\":\"5245\",\"type\":\"AllLabels\"},{\"attributes\":{},\"id\":\"5220\",\"type\":\"PanTool\"},{\"attributes\":{\"toolbar\":{\"id\":\"5373\"},\"toolbar_location\":\"above\"},\"id\":\"5374\",\"type\":\"ToolbarBox\"},{\"attributes\":{\"line_alpha\":0.2,\"line_color\":\"#30a2da\",\"line_width\":2,\"x\":{\"field\":\"num_years\"},\"y\":{\"field\":\"wall_time\"}},\"id\":\"5237\",\"type\":\"Line\"},{\"attributes\":{\"overlay\":{\"id\":\"5270\"}},\"id\":\"5268\",\"type\":\"BoxZoomTool\"},{\"attributes\":{\"text\":\"Monthly climatology\",\"text_color\":\"black\",\"text_font_size\":\"12pt\"},\"id\":\"5295\",\"type\":\"Title\"},{\"attributes\":{\"axis_label\":\"num_years\",\"formatter\":{\"id\":\"5241\"},\"major_label_policy\":{\"id\":\"5242\"},\"ticker\":{\"id\":\"5212\"}},\"id\":\"5211\",\"type\":\"LinearAxis\"},{\"attributes\":{\"axis_label\":\"num_years\",\"formatter\":{\"id\":\"5287\"},\"major_label_policy\":{\"id\":\"5288\"},\"ticker\":{\"id\":\"5258\"}},\"id\":\"5257\",\"type\":\"LinearAxis\"},{\"attributes\":{\"line_alpha\":0.1,\"line_color\":\"#30a2da\",\"line_width\":2,\"x\":{\"field\":\"num_years\"},\"y\":{\"field\":\"wall_time\"}},\"id\":\"5236\",\"type\":\"Line\"},{\"attributes\":{\"callback\":null,\"renderers\":[{\"id\":\"5238\"}],\"tags\":[\"hv_created\"],\"tooltips\":[[\"num_years\",\"@{num_years}\"],[\"wall_time\",\"@{wall_time}\"]]},\"id\":\"5201\",\"type\":\"HoverTool\"},{\"attributes\":{\"callback\":null,\"renderers\":[{\"id\":\"5330\"}],\"tags\":[\"hv_created\"],\"tooltips\":[[\"num_years\",\"@{num_years}\"],[\"wall_time\",\"@{wall_time}\"]]},\"id\":\"5293\",\"type\":\"HoverTool\"},{\"attributes\":{},\"id\":\"5212\",\"type\":\"BasicTicker\"},{\"attributes\":{},\"id\":\"5290\",\"type\":\"BasicTickFormatter\"},{\"attributes\":{\"active_multi\":null,\"tools\":[{\"id\":\"5293\"},{\"id\":\"5311\"},{\"id\":\"5312\"},{\"id\":\"5313\"},{\"id\":\"5314\"},{\"id\":\"5315\"}]},\"id\":\"5317\",\"type\":\"Toolbar\"},{\"attributes\":{},\"id\":\"5241\",\"type\":\"BasicTickFormatter\"},{\"attributes\":{\"line_alpha\":0.2,\"line_color\":\"#30a2da\",\"line_width\":2,\"x\":{\"field\":\"num_years\"},\"y\":{\"field\":\"wall_time\"}},\"id\":\"5283\",\"type\":\"Line\"},{\"attributes\":{\"bottom_units\":\"screen\",\"fill_alpha\":0.5,\"fill_color\":\"lightgrey\",\"left_units\":\"screen\",\"level\":\"overlay\",\"line_alpha\":1.0,\"line_color\":\"black\",\"line_dash\":[4,4],\"line_width\":2,\"right_units\":\"screen\",\"syncable\":false,\"top_units\":\"screen\"},\"id\":\"5316\",\"type\":\"BoxAnnotation\"},{\"attributes\":{\"data_source\":{\"id\":\"5232\"},\"glyph\":{\"id\":\"5235\"},\"hover_glyph\":null,\"muted_glyph\":{\"id\":\"5237\"},\"nonselection_glyph\":{\"id\":\"5236\"},\"selection_glyph\":{\"id\":\"5240\"},\"view\":{\"id\":\"5239\"}},\"id\":\"5238\",\"type\":\"GlyphRenderer\"},{\"attributes\":{\"callback\":null,\"renderers\":[{\"id\":\"5284\"}],\"tags\":[\"hv_created\"],\"tooltips\":[[\"num_years\",\"@{num_years}\"],[\"wall_time\",\"@{wall_time}\"]]},\"id\":\"5247\",\"type\":\"HoverTool\"},{\"attributes\":{},\"id\":\"5287\",\"type\":\"BasicTickFormatter\"},{\"attributes\":{},\"id\":\"5304\",\"type\":\"BasicTicker\"},{\"attributes\":{\"axis\":{\"id\":\"5257\"},\"grid_line_color\":null,\"ticker\":null},\"id\":\"5260\",\"type\":\"Grid\"},{\"attributes\":{\"axis\":{\"id\":\"5307\"},\"dimension\":1,\"grid_line_color\":null,\"ticker\":null},\"id\":\"5310\",\"type\":\"Grid\"},{\"attributes\":{},\"id\":\"5311\",\"type\":\"SaveTool\"},{\"attributes\":{\"line_alpha\":0.1,\"line_color\":\"#30a2da\",\"line_width\":2,\"x\":{\"field\":\"num_years\"},\"y\":{\"field\":\"wall_time\"}},\"id\":\"5328\",\"type\":\"Line\"},{\"attributes\":{},\"id\":\"5265\",\"type\":\"SaveTool\"},{\"attributes\":{},\"id\":\"5242\",\"type\":\"AllLabels\"},{\"attributes\":{\"axis_label\":\"Time (s)\",\"formatter\":{\"id\":\"5336\"},\"major_label_policy\":{\"id\":\"5337\"},\"ticker\":{\"id\":\"5308\"}},\"id\":\"5307\",\"type\":\"LinearAxis\"},{\"attributes\":{\"bottom_units\":\"screen\",\"fill_alpha\":0.5,\"fill_color\":\"lightgrey\",\"left_units\":\"screen\",\"level\":\"overlay\",\"line_alpha\":1.0,\"line_color\":\"black\",\"line_dash\":[4,4],\"line_width\":2,\"right_units\":\"screen\",\"syncable\":false,\"top_units\":\"screen\"},\"id\":\"5270\",\"type\":\"BoxAnnotation\"},{\"attributes\":{\"line_color\":\"#30a2da\",\"line_width\":2,\"x\":{\"field\":\"num_years\"},\"y\":{\"field\":\"wall_time\"}},\"id\":\"5332\",\"type\":\"Line\"},{\"attributes\":{},\"id\":\"5267\",\"type\":\"WheelZoomTool\"},{\"attributes\":{\"line_alpha\":0.1,\"line_color\":\"#30a2da\",\"line_width\":2,\"x\":{\"field\":\"num_years\"},\"y\":{\"field\":\"wall_time\"}},\"id\":\"5282\",\"type\":\"Line\"},{\"attributes\":{},\"id\":\"5337\",\"type\":\"AllLabels\"}],\"root_ids\":[\"5197\"]},\"title\":\"Bokeh Application\",\"version\":\"2.3.3\"}};\n",
       "    var render_items = [{\"docid\":\"64d119d8-f6c0-4825-8373-fe5c24bb7ba0\",\"root_ids\":[\"5197\"],\"roots\":{\"5197\":\"dfb3c420-86d9-4ace-86d6-2f82d416d3a1\"}}];\n",
       "    root.Bokeh.embed.embed_items_notebook(docs_json, render_items);\n",
       "  }\n",
       "  if (root.Bokeh !== undefined && root.Bokeh.Panel !== undefined) {\n",
       "    embed_document(root);\n",
       "  } else {\n",
       "    var attempts = 0;\n",
       "    var timer = setInterval(function(root) {\n",
       "      if (root.Bokeh !== undefined && root.Bokeh.Panel !== undefined) {\n",
       "        clearInterval(timer);\n",
       "        embed_document(root);\n",
       "      } else if (document.readyState == \"complete\") {\n",
       "        attempts++;\n",
       "        if (attempts > 200) {\n",
       "          clearInterval(timer);\n",
       "          console.log(\"Bokeh: ERROR: Unable to run BokehJS code because BokehJS library is missing\");\n",
       "        }\n",
       "      }\n",
       "    }, 25, root)\n",
       "  }\n",
       "})(window);</script>"
      ],
      "text/plain": [
       ":Layout\n",
       "   .Curve.No_computation      :Curve   [num_years]   (wall_time)\n",
       "   .Curve.Long_term_mean      :Curve   [num_years]   (wall_time)\n",
       "   .Curve.Monthly_climatology :Curve   [num_years]   (wall_time)"
      ]
     },
     "execution_count": 13,
     "metadata": {
      "application/vnd.holoviews_exec.v0+json": {
       "id": "5197"
      }
     },
     "output_type": "execute_result"
    }
   ],
   "source": [
    "file_read_in = df.loc[df.computation == 'file_access'].hvplot(\n",
    "    x='num_years', y='wall_time', ylabel='Time (s)', width=400, label='No computation'\n",
    ")\n",
    "long_term_mean = df.loc[df.computation == 'long_term_average'].hvplot(\n",
    "    x='num_years', y='wall_time', ylabel='Time (s)', width=400, label='Long term mean'\n",
    ")\n",
    "monthly_average = df.loc[df.computation == 'monthly_average'].hvplot(\n",
    "    x='num_years', y='wall_time', ylabel='Time (s)', width=400, label='Monthly climatology'\n",
    ")\n",
    "\n",
    "file_read_in + long_term_mean + monthly_average"
   ]
  },
  {
   "cell_type": "markdown",
   "id": "a4aa0f5d-6523-4fd7-840d-9980a69fd03e",
   "metadata": {},
   "source": [
    "### Test out the History Files\n",
    "Next, we investigate the time it takes to read the datasets, compute a temporal average over the entire time period, and compute a monthly climatology using CESM history file output"
   ]
  },
  {
   "cell_type": "code",
   "execution_count": 14,
   "id": "80276260-c696-445b-82e2-f244d69a45fc",
   "metadata": {},
   "outputs": [],
   "source": [
    "def test_history_file(\n",
    "    num_years, chunk_strategy='time', long_term_average=False, monthly_average=False\n",
    "):\n",
    "    start = time.time()\n",
    "    chunk_dict = {'time': {'time': 240}, 'spatial': {'nlon': 160, 'nlat': 192}}\n",
    "    dsets = monthly_ocean_history.search(\n",
    "        date=monthly_ocean_history.df.date[: num_years * 12], variables='FG_CO2'\n",
    "    ).to_dataset_dict(\n",
    "        'FG_CO2',\n",
    "        cdf_kwargs={'use_cftime': True, 'chunks': chunk_dict[chunk_strategy]},\n",
    "        progressbar=False,\n",
    "    )\n",
    "    keys = list(dsets.keys())\n",
    "    ds = dsets[keys[0]]\n",
    "\n",
    "    if long_term_average:\n",
    "        ds.mean(dim='time').compute()\n",
    "\n",
    "    if monthly_average:\n",
    "        ds.groupby('time.month').mean(dim='time').compute()\n",
    "\n",
    "    end = time.time()\n",
    "    return end - start"
   ]
  },
  {
   "cell_type": "markdown",
   "id": "c4f6f3a3-9e1b-4a68-84e7-861931648ea1",
   "metadata": {},
   "source": [
    "### Apply the Computation with History Files\n",
    "It can be accessed using [this link](history-computation.html)!"
   ]
  },
  {
   "cell_type": "code",
   "execution_count": 15,
   "id": "f432855c-9674-4820-9072-357ac49232d7",
   "metadata": {},
   "outputs": [
    {
     "name": "stdout",
     "output_type": "stream",
     "text": [
      "Starting year 1\n",
      "Starting year 5\n",
      "Starting year 10\n",
      "Starting year 20\n",
      "Starting year 30\n",
      "Starting year 40\n",
      "Starting year 50\n",
      "Starting year 60\n"
     ]
    }
   ],
   "source": [
    "df = pd.DataFrame()\n",
    "with performance_report(filename=\"history-computation.html\"):\n",
    "    for year in years:\n",
    "        print(f'Starting year {year}')\n",
    "\n",
    "        # Compute without computation\n",
    "        wall_time = test_history_file(year)\n",
    "        df = df.append(\n",
    "            {\n",
    "                'catalog': 'history',\n",
    "                'computation': 'file_access',\n",
    "                'num_years': year,\n",
    "                'wall_time': wall_time,\n",
    "            },\n",
    "            ignore_index=True,\n",
    "        )\n",
    "\n",
    "        # Compute with long-term mean computation\n",
    "        wall_time = test_history_file(year, long_term_average=True)\n",
    "        df = df.append(\n",
    "            {\n",
    "                'catalog': 'history',\n",
    "                'computation': 'long_term_average',\n",
    "                'num_years': year,\n",
    "                'wall_time': wall_time,\n",
    "            },\n",
    "            ignore_index=True,\n",
    "        )\n",
    "\n",
    "        # Compute with monthly climatology\n",
    "        wall_time = test_history_file(year, monthly_average=True)\n",
    "        df = df.append(\n",
    "            {\n",
    "                'catalog': 'history',\n",
    "                'computation': 'monthly_average',\n",
    "                'num_years': year,\n",
    "                'wall_time': wall_time,\n",
    "            },\n",
    "            ignore_index=True,\n",
    "        )\n",
    "\n",
    "df_history = df"
   ]
  },
  {
   "cell_type": "markdown",
   "id": "895ba0f2-22d5-44ab-a78d-8720150b8432",
   "metadata": {},
   "source": [
    "### Plot a Comparison of Wall time for Different Computations"
   ]
  },
  {
   "cell_type": "code",
   "execution_count": 16,
   "id": "47bfecca-a462-46a2-a67b-c62a1c3119cb",
   "metadata": {},
   "outputs": [
    {
     "name": "stderr",
     "output_type": "stream",
     "text": [
      "WARNING:param.main: yabel option not found for line plot; similar options include: ['ylabel', 'xlabel', 'clabel']\n"
     ]
    },
    {
     "data": {},
     "metadata": {},
     "output_type": "display_data"
    },
    {
     "data": {
      "application/vnd.holoviews_exec.v0+json": "",
      "text/html": [
       "<div id='43353'>\n",
       "\n",
       "\n",
       "\n",
       "\n",
       "\n",
       "  <div class=\"bk-root\" id=\"b6827fad-0183-4e86-a5c5-443bcd9e813c\" data-root-id=\"43353\"></div>\n",
       "</div>\n",
       "<script type=\"application/javascript\">(function(root) {\n",
       "  function embed_document(root) {\n",
       "    var docs_json = {\"5eafa063-9709-4412-81f7-71781a1fc21c\":{\"defs\":[{\"extends\":null,\"module\":null,\"name\":\"ReactiveHTML1\",\"overrides\":[],\"properties\":[]},{\"extends\":null,\"module\":null,\"name\":\"FlexBox1\",\"overrides\":[],\"properties\":[{\"default\":\"flex-start\",\"kind\":null,\"name\":\"align_content\"},{\"default\":\"flex-start\",\"kind\":null,\"name\":\"align_items\"},{\"default\":\"row\",\"kind\":null,\"name\":\"flex_direction\"},{\"default\":\"wrap\",\"kind\":null,\"name\":\"flex_wrap\"},{\"default\":\"flex-start\",\"kind\":null,\"name\":\"justify_content\"}]},{\"extends\":null,\"module\":null,\"name\":\"TemplateActions1\",\"overrides\":[],\"properties\":[{\"default\":0,\"kind\":null,\"name\":\"open_modal\"},{\"default\":0,\"kind\":null,\"name\":\"close_modal\"}]},{\"extends\":null,\"module\":null,\"name\":\"MaterialTemplateActions1\",\"overrides\":[],\"properties\":[{\"default\":0,\"kind\":null,\"name\":\"open_modal\"},{\"default\":0,\"kind\":null,\"name\":\"close_modal\"}]}],\"roots\":{\"references\":[{\"attributes\":{},\"id\":\"43424\",\"type\":\"WheelZoomTool\"},{\"attributes\":{},\"id\":\"43364\",\"type\":\"LinearScale\"},{\"attributes\":{},\"id\":\"43461\",\"type\":\"BasicTicker\"},{\"attributes\":{\"line_alpha\":0.2,\"line_color\":\"#30a2da\",\"line_width\":2,\"x\":{\"field\":\"num_years\"},\"y\":{\"field\":\"wall_time\"}},\"id\":\"43440\",\"type\":\"Line\"},{\"attributes\":{},\"id\":\"43470\",\"type\":\"WheelZoomTool\"},{\"attributes\":{},\"id\":\"43422\",\"type\":\"SaveTool\"},{\"attributes\":{\"data_source\":{\"id\":\"43389\"},\"glyph\":{\"id\":\"43392\"},\"hover_glyph\":null,\"muted_glyph\":{\"id\":\"43394\"},\"nonselection_glyph\":{\"id\":\"43393\"},\"selection_glyph\":{\"id\":\"43397\"},\"view\":{\"id\":\"43396\"}},\"id\":\"43395\",\"type\":\"GlyphRenderer\"},{\"attributes\":{},\"id\":\"43504\",\"type\":\"UnionRenderers\"},{\"attributes\":{\"below\":[{\"id\":\"43368\"}],\"center\":[{\"id\":\"43371\"},{\"id\":\"43375\"}],\"height\":300,\"left\":[{\"id\":\"43372\"}],\"margin\":null,\"min_border_bottom\":10,\"min_border_left\":10,\"min_border_right\":10,\"min_border_top\":10,\"renderers\":[{\"id\":\"43395\"}],\"sizing_mode\":\"fixed\",\"title\":{\"id\":\"43360\"},\"toolbar\":{\"id\":\"43382\"},\"toolbar_location\":null,\"width\":400,\"x_range\":{\"id\":\"43356\"},\"x_scale\":{\"id\":\"43364\"},\"y_range\":{\"id\":\"43357\"},\"y_scale\":{\"id\":\"43366\"}},\"id\":\"43359\",\"subtype\":\"Figure\",\"type\":\"Plot\"},{\"attributes\":{\"bottom_units\":\"screen\",\"fill_alpha\":0.5,\"fill_color\":\"lightgrey\",\"left_units\":\"screen\",\"level\":\"overlay\",\"line_alpha\":1.0,\"line_color\":\"black\",\"line_dash\":[4,4],\"line_width\":2,\"right_units\":\"screen\",\"syncable\":false,\"top_units\":\"screen\"},\"id\":\"43381\",\"type\":\"BoxAnnotation\"},{\"attributes\":{\"toolbar\":{\"id\":\"43530\"},\"toolbar_location\":\"above\"},\"id\":\"43531\",\"type\":\"ToolbarBox\"},{\"attributes\":{},\"id\":\"43472\",\"type\":\"ResetTool\"},{\"attributes\":{},\"id\":\"43401\",\"type\":\"BasicTickFormatter\"},{\"attributes\":{\"margin\":[5,5,5,5],\"name\":\"HSpacer02434\",\"sizing_mode\":\"stretch_width\"},\"id\":\"43354\",\"type\":\"Spacer\"},{\"attributes\":{\"bottom_units\":\"screen\",\"fill_alpha\":0.5,\"fill_color\":\"lightgrey\",\"left_units\":\"screen\",\"level\":\"overlay\",\"line_alpha\":1.0,\"line_color\":\"black\",\"line_dash\":[4,4],\"line_width\":2,\"right_units\":\"screen\",\"syncable\":false,\"top_units\":\"screen\"},\"id\":\"43473\",\"type\":\"BoxAnnotation\"},{\"attributes\":{},\"id\":\"43398\",\"type\":\"BasicTickFormatter\"},{\"attributes\":{\"source\":{\"id\":\"43481\"}},\"id\":\"43488\",\"type\":\"CDSView\"},{\"attributes\":{\"axis\":{\"id\":\"43372\"},\"dimension\":1,\"grid_line_color\":null,\"ticker\":null},\"id\":\"43375\",\"type\":\"Grid\"},{\"attributes\":{},\"id\":\"43426\",\"type\":\"ResetTool\"},{\"attributes\":{\"axis_label\":\"wall_time\",\"formatter\":{\"id\":\"43493\"},\"major_label_policy\":{\"id\":\"43494\"},\"ticker\":{\"id\":\"43465\"}},\"id\":\"43464\",\"type\":\"LinearAxis\"},{\"attributes\":{\"line_color\":\"#30a2da\",\"line_width\":2,\"x\":{\"field\":\"num_years\"},\"y\":{\"field\":\"wall_time\"}},\"id\":\"43438\",\"type\":\"Line\"},{\"attributes\":{\"line_alpha\":0.1,\"line_color\":\"#30a2da\",\"line_width\":2,\"x\":{\"field\":\"num_years\"},\"y\":{\"field\":\"wall_time\"}},\"id\":\"43439\",\"type\":\"Line\"},{\"attributes\":{\"axis\":{\"id\":\"43460\"},\"grid_line_color\":null,\"ticker\":null},\"id\":\"43463\",\"type\":\"Grid\"},{\"attributes\":{},\"id\":\"43390\",\"type\":\"Selection\"},{\"attributes\":{\"data_source\":{\"id\":\"43481\"},\"glyph\":{\"id\":\"43484\"},\"hover_glyph\":null,\"muted_glyph\":{\"id\":\"43486\"},\"nonselection_glyph\":{\"id\":\"43485\"},\"selection_glyph\":{\"id\":\"43489\"},\"view\":{\"id\":\"43488\"}},\"id\":\"43487\",\"type\":\"GlyphRenderer\"},{\"attributes\":{},\"id\":\"43445\",\"type\":\"AllLabels\"},{\"attributes\":{\"line_alpha\":0.1,\"line_color\":\"#30a2da\",\"line_width\":2,\"x\":{\"field\":\"num_years\"},\"y\":{\"field\":\"wall_time\"}},\"id\":\"43485\",\"type\":\"Line\"},{\"attributes\":{\"end\":73.9417123556137,\"reset_end\":73.9417123556137,\"reset_start\":-6.033154225349427,\"start\":-6.033154225349427,\"tags\":[[[\"wall_time\",\"wall_time\",null]]]},\"id\":\"43357\",\"type\":\"Range1d\"},{\"attributes\":{\"overlay\":{\"id\":\"43427\"}},\"id\":\"43425\",\"type\":\"BoxZoomTool\"},{\"attributes\":{\"active_multi\":null,\"tools\":[{\"id\":\"43358\"},{\"id\":\"43376\"},{\"id\":\"43377\"},{\"id\":\"43378\"},{\"id\":\"43379\"},{\"id\":\"43380\"}]},\"id\":\"43382\",\"type\":\"Toolbar\"},{\"attributes\":{},\"id\":\"43458\",\"type\":\"LinearScale\"},{\"attributes\":{\"line_alpha\":0.2,\"line_color\":\"#30a2da\",\"line_width\":2,\"x\":{\"field\":\"num_years\"},\"y\":{\"field\":\"wall_time\"}},\"id\":\"43394\",\"type\":\"Line\"},{\"attributes\":{\"callback\":null,\"renderers\":[{\"id\":\"43441\"}],\"tags\":[\"hv_created\"],\"tooltips\":[[\"num_years\",\"@{num_years}\"],[\"wall_time\",\"@{wall_time}\"]]},\"id\":\"43404\",\"type\":\"HoverTool\"},{\"attributes\":{\"line_color\":\"#30a2da\",\"line_width\":2,\"x\":{\"field\":\"num_years\"},\"y\":{\"field\":\"wall_time\"}},\"id\":\"43484\",\"type\":\"Line\"},{\"attributes\":{\"text\":\"Monthly climatology\",\"text_color\":\"black\",\"text_font_size\":\"12pt\"},\"id\":\"43452\",\"type\":\"Title\"},{\"attributes\":{\"line_alpha\":0.2,\"line_color\":\"#30a2da\",\"line_width\":2,\"x\":{\"field\":\"num_years\"},\"y\":{\"field\":\"wall_time\"}},\"id\":\"43486\",\"type\":\"Line\"},{\"attributes\":{\"line_color\":\"#30a2da\",\"line_width\":2,\"x\":{\"field\":\"num_years\"},\"y\":{\"field\":\"wall_time\"}},\"id\":\"43443\",\"type\":\"Line\"},{\"attributes\":{\"axis\":{\"id\":\"43368\"},\"grid_line_color\":null,\"ticker\":null},\"id\":\"43371\",\"type\":\"Grid\"},{\"attributes\":{\"callback\":null,\"renderers\":[{\"id\":\"43487\"}],\"tags\":[\"hv_created\"],\"tooltips\":[[\"num_years\",\"@{num_years}\"],[\"wall_time\",\"@{wall_time}\"]]},\"id\":\"43450\",\"type\":\"HoverTool\"},{\"attributes\":{\"axis_label\":\"num_years\",\"formatter\":{\"id\":\"43490\"},\"major_label_policy\":{\"id\":\"43491\"},\"ticker\":{\"id\":\"43461\"}},\"id\":\"43460\",\"type\":\"LinearAxis\"},{\"attributes\":{\"line_alpha\":0.1,\"line_color\":\"#30a2da\",\"line_width\":2,\"x\":{\"field\":\"num_years\"},\"y\":{\"field\":\"wall_time\"}},\"id\":\"43393\",\"type\":\"Line\"},{\"attributes\":{\"margin\":[5,5,5,5],\"name\":\"HSpacer02435\",\"sizing_mode\":\"stretch_width\"},\"id\":\"43803\",\"type\":\"Spacer\"},{\"attributes\":{\"data\":{\"num_years\":{\"__ndarray__\":\"AAAAAAAA8D8AAAAAAAAUQAAAAAAAACRAAAAAAAAANEAAAAAAAAA+QAAAAAAAAERAAAAAAAAASUAAAAAAAABOQA==\",\"dtype\":\"float64\",\"order\":\"little\",\"shape\":[8]},\"wall_time\":{\"__ndarray__\":\"AAAAwAhD9j8AAABAjxX5PwAAACChiwpAAAAAoL2MIkAAAAB8LMswQAAAAGApIT1AAAAAijoYRUAAAACUZPdLQA==\",\"dtype\":\"float64\",\"order\":\"little\",\"shape\":[8]}},\"selected\":{\"id\":\"43390\"},\"selection_policy\":{\"id\":\"43504\"}},\"id\":\"43389\",\"type\":\"ColumnDataSource\"},{\"attributes\":{},\"id\":\"43410\",\"type\":\"LinearScale\"},{\"attributes\":{\"data_source\":{\"id\":\"43435\"},\"glyph\":{\"id\":\"43438\"},\"hover_glyph\":null,\"muted_glyph\":{\"id\":\"43440\"},\"nonselection_glyph\":{\"id\":\"43439\"},\"selection_glyph\":{\"id\":\"43443\"},\"view\":{\"id\":\"43442\"}},\"id\":\"43441\",\"type\":\"GlyphRenderer\"},{\"attributes\":{},\"id\":\"43444\",\"type\":\"BasicTickFormatter\"},{\"attributes\":{\"data\":{\"num_years\":{\"__ndarray__\":\"AAAAAAAA8D8AAAAAAAAUQAAAAAAAACRAAAAAAAAANEAAAAAAAAA+QAAAAAAAAERAAAAAAAAASUAAAAAAAABOQA==\",\"dtype\":\"float64\",\"order\":\"little\",\"shape\":[8]},\"wall_time\":{\"__ndarray__\":\"AAAAgJM05D8AAAAgZM4AQAAAAKDSGRBAAAAASCWzJEAAAABUe7kxQAAAALig6T5AAAAAgh1ARkAAAAD4cmJNQA==\",\"dtype\":\"float64\",\"order\":\"little\",\"shape\":[8]}},\"selected\":{\"id\":\"43482\"},\"selection_policy\":{\"id\":\"43526\"}},\"id\":\"43481\",\"type\":\"ColumnDataSource\"},{\"attributes\":{},\"id\":\"43465\",\"type\":\"BasicTicker\"},{\"attributes\":{},\"id\":\"43456\",\"type\":\"LinearScale\"},{\"attributes\":{\"line_color\":\"#30a2da\",\"line_width\":2,\"x\":{\"field\":\"num_years\"},\"y\":{\"field\":\"wall_time\"}},\"id\":\"43392\",\"type\":\"Line\"},{\"attributes\":{},\"id\":\"43494\",\"type\":\"AllLabels\"},{\"attributes\":{},\"id\":\"43369\",\"type\":\"BasicTicker\"},{\"attributes\":{},\"id\":\"43419\",\"type\":\"BasicTicker\"},{\"attributes\":{\"axis\":{\"id\":\"43418\"},\"dimension\":1,\"grid_line_color\":null,\"ticker\":null},\"id\":\"43421\",\"type\":\"Grid\"},{\"attributes\":{},\"id\":\"43491\",\"type\":\"AllLabels\"},{\"attributes\":{},\"id\":\"43526\",\"type\":\"UnionRenderers\"},{\"attributes\":{\"active_multi\":null,\"tools\":[{\"id\":\"43450\"},{\"id\":\"43468\"},{\"id\":\"43469\"},{\"id\":\"43470\"},{\"id\":\"43471\"},{\"id\":\"43472\"}]},\"id\":\"43474\",\"type\":\"Toolbar\"},{\"attributes\":{},\"id\":\"43412\",\"type\":\"LinearScale\"},{\"attributes\":{},\"id\":\"43399\",\"type\":\"AllLabels\"},{\"attributes\":{},\"id\":\"43448\",\"type\":\"AllLabels\"},{\"attributes\":{\"text\":\"No computation\",\"text_color\":\"black\",\"text_font_size\":\"12pt\"},\"id\":\"43360\",\"type\":\"Title\"},{\"attributes\":{\"callback\":null,\"renderers\":[{\"id\":\"43395\"}],\"tags\":[\"hv_created\"],\"tooltips\":[[\"num_years\",\"@{num_years}\"],[\"wall_time\",\"@{wall_time}\"]]},\"id\":\"43358\",\"type\":\"HoverTool\"},{\"attributes\":{},\"id\":\"43377\",\"type\":\"PanTool\"},{\"attributes\":{},\"id\":\"43490\",\"type\":\"BasicTickFormatter\"},{\"attributes\":{},\"id\":\"43468\",\"type\":\"SaveTool\"},{\"attributes\":{},\"id\":\"43402\",\"type\":\"AllLabels\"},{\"attributes\":{\"below\":[{\"id\":\"43460\"}],\"center\":[{\"id\":\"43463\"},{\"id\":\"43467\"}],\"height\":300,\"left\":[{\"id\":\"43464\"}],\"margin\":null,\"min_border_bottom\":10,\"min_border_left\":10,\"min_border_right\":10,\"min_border_top\":10,\"renderers\":[{\"id\":\"43487\"}],\"sizing_mode\":\"fixed\",\"title\":{\"id\":\"43452\"},\"toolbar\":{\"id\":\"43474\"},\"toolbar_location\":null,\"width\":400,\"x_range\":{\"id\":\"43356\"},\"x_scale\":{\"id\":\"43456\"},\"y_range\":{\"id\":\"43357\"},\"y_scale\":{\"id\":\"43458\"}},\"id\":\"43451\",\"subtype\":\"Figure\",\"type\":\"Plot\"},{\"attributes\":{\"overlay\":{\"id\":\"43381\"}},\"id\":\"43379\",\"type\":\"BoxZoomTool\"},{\"attributes\":{\"line_color\":\"#30a2da\",\"line_width\":2,\"x\":{\"field\":\"num_years\"},\"y\":{\"field\":\"wall_time\"}},\"id\":\"43489\",\"type\":\"Line\"},{\"attributes\":{\"source\":{\"id\":\"43389\"}},\"id\":\"43396\",\"type\":\"CDSView\"},{\"attributes\":{},\"id\":\"43415\",\"type\":\"BasicTicker\"},{\"attributes\":{},\"id\":\"43423\",\"type\":\"PanTool\"},{\"attributes\":{\"below\":[{\"id\":\"43414\"}],\"center\":[{\"id\":\"43417\"},{\"id\":\"43421\"}],\"height\":300,\"left\":[{\"id\":\"43418\"}],\"margin\":null,\"min_border_bottom\":10,\"min_border_left\":10,\"min_border_right\":10,\"min_border_top\":10,\"renderers\":[{\"id\":\"43441\"}],\"sizing_mode\":\"fixed\",\"title\":{\"id\":\"43406\"},\"toolbar\":{\"id\":\"43428\"},\"toolbar_location\":null,\"width\":400,\"x_range\":{\"id\":\"43356\"},\"x_scale\":{\"id\":\"43410\"},\"y_range\":{\"id\":\"43357\"},\"y_scale\":{\"id\":\"43412\"}},\"id\":\"43405\",\"subtype\":\"Figure\",\"type\":\"Plot\"},{\"attributes\":{},\"id\":\"43436\",\"type\":\"Selection\"},{\"attributes\":{\"axis\":{\"id\":\"43464\"},\"dimension\":1,\"grid_line_color\":null,\"ticker\":null},\"id\":\"43467\",\"type\":\"Grid\"},{\"attributes\":{\"axis\":{\"id\":\"43414\"},\"grid_line_color\":null,\"ticker\":null},\"id\":\"43417\",\"type\":\"Grid\"},{\"attributes\":{},\"id\":\"43482\",\"type\":\"Selection\"},{\"attributes\":{},\"id\":\"43378\",\"type\":\"WheelZoomTool\"},{\"attributes\":{\"source\":{\"id\":\"43435\"}},\"id\":\"43442\",\"type\":\"CDSView\"},{\"attributes\":{},\"id\":\"43469\",\"type\":\"PanTool\"},{\"attributes\":{\"children\":[{\"id\":\"43354\"},{\"id\":\"43532\"},{\"id\":\"43803\"}],\"margin\":[0,0,0,0],\"name\":\"Row02430\",\"tags\":[\"embedded\"]},\"id\":\"43353\",\"type\":\"Row\"},{\"attributes\":{\"bottom_units\":\"screen\",\"fill_alpha\":0.5,\"fill_color\":\"lightgrey\",\"left_units\":\"screen\",\"level\":\"overlay\",\"line_alpha\":1.0,\"line_color\":\"black\",\"line_dash\":[4,4],\"line_width\":2,\"right_units\":\"screen\",\"syncable\":false,\"top_units\":\"screen\"},\"id\":\"43427\",\"type\":\"BoxAnnotation\"},{\"attributes\":{\"toolbars\":[{\"id\":\"43382\"},{\"id\":\"43428\"},{\"id\":\"43474\"}],\"tools\":[{\"id\":\"43358\"},{\"id\":\"43376\"},{\"id\":\"43377\"},{\"id\":\"43378\"},{\"id\":\"43379\"},{\"id\":\"43380\"},{\"id\":\"43404\"},{\"id\":\"43422\"},{\"id\":\"43423\"},{\"id\":\"43424\"},{\"id\":\"43425\"},{\"id\":\"43426\"},{\"id\":\"43450\"},{\"id\":\"43468\"},{\"id\":\"43469\"},{\"id\":\"43470\"},{\"id\":\"43471\"},{\"id\":\"43472\"}]},\"id\":\"43530\",\"type\":\"ProxyToolbar\"},{\"attributes\":{\"overlay\":{\"id\":\"43473\"}},\"id\":\"43471\",\"type\":\"BoxZoomTool\"},{\"attributes\":{\"end\":60.0,\"reset_end\":60.0,\"reset_start\":1.0,\"start\":1.0,\"tags\":[[[\"num_years\",\"num_years\",null]]]},\"id\":\"43356\",\"type\":\"Range1d\"},{\"attributes\":{\"line_color\":\"#30a2da\",\"line_width\":2,\"x\":{\"field\":\"num_years\"},\"y\":{\"field\":\"wall_time\"}},\"id\":\"43397\",\"type\":\"Line\"},{\"attributes\":{\"data\":{\"num_years\":{\"__ndarray__\":\"AAAAAAAA8D8AAAAAAAAUQAAAAAAAACRAAAAAAAAANEAAAAAAAAA+QAAAAAAAAERAAAAAAAAASUAAAAAAAABOQA==\",\"dtype\":\"float64\",\"order\":\"little\",\"shape\":[8]},\"wall_time\":{\"__ndarray__\":\"AAAAgDWF5j8AAADgYkADQAAAAHAlHhBAAAAAYNeCJEAAAAAsnfYxQAAAAAx/vT9AAAAA4O6ZR0AAAACqvNFQQA==\",\"dtype\":\"float64\",\"order\":\"little\",\"shape\":[8]}},\"selected\":{\"id\":\"43436\"},\"selection_policy\":{\"id\":\"43515\"}},\"id\":\"43435\",\"type\":\"ColumnDataSource\"},{\"attributes\":{},\"id\":\"43515\",\"type\":\"UnionRenderers\"},{\"attributes\":{},\"id\":\"43366\",\"type\":\"LinearScale\"},{\"attributes\":{\"children\":[{\"id\":\"43531\"},{\"id\":\"43529\"}]},\"id\":\"43532\",\"type\":\"Column\"},{\"attributes\":{\"axis_label\":\"num_years\",\"formatter\":{\"id\":\"43444\"},\"major_label_policy\":{\"id\":\"43445\"},\"ticker\":{\"id\":\"43415\"}},\"id\":\"43414\",\"type\":\"LinearAxis\"},{\"attributes\":{},\"id\":\"43493\",\"type\":\"BasicTickFormatter\"},{\"attributes\":{\"children\":[[{\"id\":\"43359\"},0,0],[{\"id\":\"43405\"},0,1],[{\"id\":\"43451\"},0,2]]},\"id\":\"43529\",\"type\":\"GridBox\"},{\"attributes\":{\"axis_label\":\"num_years\",\"formatter\":{\"id\":\"43398\"},\"major_label_policy\":{\"id\":\"43399\"},\"ticker\":{\"id\":\"43369\"}},\"id\":\"43368\",\"type\":\"LinearAxis\"},{\"attributes\":{\"axis_label\":\"Time (s)\",\"formatter\":{\"id\":\"43401\"},\"major_label_policy\":{\"id\":\"43402\"},\"ticker\":{\"id\":\"43373\"}},\"id\":\"43372\",\"type\":\"LinearAxis\"},{\"attributes\":{},\"id\":\"43380\",\"type\":\"ResetTool\"},{\"attributes\":{\"active_multi\":null,\"tools\":[{\"id\":\"43404\"},{\"id\":\"43422\"},{\"id\":\"43423\"},{\"id\":\"43424\"},{\"id\":\"43425\"},{\"id\":\"43426\"}]},\"id\":\"43428\",\"type\":\"Toolbar\"},{\"attributes\":{},\"id\":\"43373\",\"type\":\"BasicTicker\"},{\"attributes\":{\"axis_label\":\"Time (s)\",\"formatter\":{\"id\":\"43447\"},\"major_label_policy\":{\"id\":\"43448\"},\"ticker\":{\"id\":\"43419\"}},\"id\":\"43418\",\"type\":\"LinearAxis\"},{\"attributes\":{\"text\":\"Long term mean\",\"text_color\":\"black\",\"text_font_size\":\"12pt\"},\"id\":\"43406\",\"type\":\"Title\"},{\"attributes\":{},\"id\":\"43447\",\"type\":\"BasicTickFormatter\"},{\"attributes\":{},\"id\":\"43376\",\"type\":\"SaveTool\"}],\"root_ids\":[\"43353\"]},\"title\":\"Bokeh Application\",\"version\":\"2.3.3\"}};\n",
       "    var render_items = [{\"docid\":\"5eafa063-9709-4412-81f7-71781a1fc21c\",\"root_ids\":[\"43353\"],\"roots\":{\"43353\":\"b6827fad-0183-4e86-a5c5-443bcd9e813c\"}}];\n",
       "    root.Bokeh.embed.embed_items_notebook(docs_json, render_items);\n",
       "  }\n",
       "  if (root.Bokeh !== undefined && root.Bokeh.Panel !== undefined) {\n",
       "    embed_document(root);\n",
       "  } else {\n",
       "    var attempts = 0;\n",
       "    var timer = setInterval(function(root) {\n",
       "      if (root.Bokeh !== undefined && root.Bokeh.Panel !== undefined) {\n",
       "        clearInterval(timer);\n",
       "        embed_document(root);\n",
       "      } else if (document.readyState == \"complete\") {\n",
       "        attempts++;\n",
       "        if (attempts > 200) {\n",
       "          clearInterval(timer);\n",
       "          console.log(\"Bokeh: ERROR: Unable to run BokehJS code because BokehJS library is missing\");\n",
       "        }\n",
       "      }\n",
       "    }, 25, root)\n",
       "  }\n",
       "})(window);</script>"
      ],
      "text/plain": [
       ":Layout\n",
       "   .Curve.No_computation      :Curve   [num_years]   (wall_time)\n",
       "   .Curve.Long_term_mean      :Curve   [num_years]   (wall_time)\n",
       "   .Curve.Monthly_climatology :Curve   [num_years]   (wall_time)"
      ]
     },
     "execution_count": 16,
     "metadata": {
      "application/vnd.holoviews_exec.v0+json": {
       "id": "43353"
      }
     },
     "output_type": "execute_result"
    }
   ],
   "source": [
    "file_read_in = df.loc[df.computation == 'file_access'].hvplot(\n",
    "    x='num_years', y='wall_time', ylabel='Time (s)', width=400, label='No computation'\n",
    ")\n",
    "long_term_mean = df.loc[df.computation == 'long_term_average'].hvplot(\n",
    "    x='num_years', y='wall_time', ylabel='Time (s)', width=400, label='Long term mean'\n",
    ")\n",
    "monthly_average = df.loc[df.computation == 'monthly_average'].hvplot(\n",
    "    x='num_years', y='wall_time', yabel='Time (s)', width=400, label='Monthly climatology'\n",
    ")\n",
    "\n",
    "file_read_in + long_term_mean + monthly_average"
   ]
  },
  {
   "cell_type": "markdown",
   "id": "e9899b86-d462-47d7-af51-b62699f1d36c",
   "metadata": {
    "tags": []
   },
   "source": [
    "## Visualize the Comparisons\n",
    "Using additional options in [`hvPlot`](https://hvplot.holoviz.org/), we can investigate these comparisons further!"
   ]
  },
  {
   "cell_type": "markdown",
   "id": "6f9bc159-49cf-4a7f-8506-cc1f5f24e1bb",
   "metadata": {},
   "source": [
    "### Intercomparison of Timeseries"
   ]
  },
  {
   "cell_type": "code",
   "execution_count": 18,
   "id": "2ce73db1-0f23-4b11-aa89-00b855de9622",
   "metadata": {},
   "outputs": [
    {
     "data": {},
     "metadata": {},
     "output_type": "display_data"
    },
    {
     "data": {
      "application/vnd.holoviews_exec.v0+json": "",
      "text/html": [
       "<div id='44498'>\n",
       "\n",
       "\n",
       "\n",
       "\n",
       "\n",
       "  <div class=\"bk-root\" id=\"5c1d3ea0-ae55-465d-beda-dbabc164fe75\" data-root-id=\"44498\"></div>\n",
       "</div>\n",
       "<script type=\"application/javascript\">(function(root) {\n",
       "  function embed_document(root) {\n",
       "    var docs_json = {\"1890b852-02cf-4cd6-893d-87b7fa191af9\":{\"defs\":[{\"extends\":null,\"module\":null,\"name\":\"ReactiveHTML1\",\"overrides\":[],\"properties\":[]},{\"extends\":null,\"module\":null,\"name\":\"FlexBox1\",\"overrides\":[],\"properties\":[{\"default\":\"flex-start\",\"kind\":null,\"name\":\"align_content\"},{\"default\":\"flex-start\",\"kind\":null,\"name\":\"align_items\"},{\"default\":\"row\",\"kind\":null,\"name\":\"flex_direction\"},{\"default\":\"wrap\",\"kind\":null,\"name\":\"flex_wrap\"},{\"default\":\"flex-start\",\"kind\":null,\"name\":\"justify_content\"}]},{\"extends\":null,\"module\":null,\"name\":\"TemplateActions1\",\"overrides\":[],\"properties\":[{\"default\":0,\"kind\":null,\"name\":\"open_modal\"},{\"default\":0,\"kind\":null,\"name\":\"close_modal\"}]},{\"extends\":null,\"module\":null,\"name\":\"MaterialTemplateActions1\",\"overrides\":[],\"properties\":[{\"default\":0,\"kind\":null,\"name\":\"open_modal\"},{\"default\":0,\"kind\":null,\"name\":\"close_modal\"}]}],\"roots\":{\"references\":[{\"attributes\":{\"label\":{\"value\":\"long_term_average\"},\"renderers\":[{\"id\":\"44568\"}]},\"id\":\"44582\",\"type\":\"LegendItem\"},{\"attributes\":{\"line_color\":\"#fc4f30\",\"line_width\":2,\"x\":{\"field\":\"num_years\"},\"y\":{\"field\":\"wall_time\"}},\"id\":\"44565\",\"type\":\"Line\"},{\"attributes\":{\"line_color\":\"#30a2da\",\"line_width\":2,\"x\":{\"field\":\"num_years\"},\"y\":{\"field\":\"wall_time\"}},\"id\":\"44544\",\"type\":\"Line\"},{\"attributes\":{\"bottom_units\":\"screen\",\"fill_alpha\":0.5,\"fill_color\":\"lightgrey\",\"left_units\":\"screen\",\"level\":\"overlay\",\"line_alpha\":1.0,\"line_color\":\"black\",\"line_dash\":[4,4],\"line_width\":2,\"right_units\":\"screen\",\"syncable\":false,\"top_units\":\"screen\"},\"id\":\"44527\",\"type\":\"BoxAnnotation\"},{\"attributes\":{\"line_alpha\":0.1,\"line_color\":\"#30a2da\",\"line_width\":2,\"x\":{\"field\":\"num_years\"},\"y\":{\"field\":\"wall_time\"}},\"id\":\"44545\",\"type\":\"Line\"},{\"attributes\":{\"line_alpha\":0.2,\"line_color\":\"#30a2da\",\"line_width\":2,\"x\":{\"field\":\"num_years\"},\"y\":{\"field\":\"wall_time\"}},\"id\":\"44546\",\"type\":\"Line\"},{\"attributes\":{},\"id\":\"44535\",\"type\":\"BasicTickFormatter\"},{\"attributes\":{\"line_alpha\":0.2,\"line_color\":\"#fc4f30\",\"line_width\":2,\"x\":{\"field\":\"num_years\"},\"y\":{\"field\":\"wall_time\"}},\"id\":\"44567\",\"type\":\"Line\"},{\"attributes\":{\"format\":\"0,0.0[00000]\"},\"id\":\"44725\",\"type\":\"NumberFormatter\"},{\"attributes\":{},\"id\":\"44709\",\"type\":\"Selection\"},{\"attributes\":{\"axis\":{\"id\":\"44514\"},\"grid_line_color\":null,\"ticker\":null},\"id\":\"44517\",\"type\":\"Grid\"},{\"attributes\":{\"line_color\":\"#30a2da\",\"line_width\":2,\"x\":{\"field\":\"num_years\"},\"y\":{\"field\":\"wall_time\"}},\"id\":\"44561\",\"type\":\"Line\"},{\"attributes\":{\"source\":{\"id\":\"44562\"}},\"id\":\"44569\",\"type\":\"CDSView\"},{\"attributes\":{\"source\":{\"id\":\"44708\"}},\"id\":\"44732\",\"type\":\"CDSView\"},{\"attributes\":{\"data\":{\"computation\":[\"long_term_average\",\"long_term_average\",\"long_term_average\",\"long_term_average\",\"long_term_average\",\"long_term_average\",\"long_term_average\",\"long_term_average\"],\"num_years\":{\"__ndarray__\":\"AAAAAAAA8D8AAAAAAAAUQAAAAAAAACRAAAAAAAAANEAAAAAAAAA+QAAAAAAAAERAAAAAAAAASUAAAAAAAABOQA==\",\"dtype\":\"float64\",\"order\":\"little\",\"shape\":[8]},\"wall_time\":{\"__ndarray__\":\"AAAAoBysDEAAAACApl3wPwAAAAB/me4/AAAAQLtB+j8AAACAQsD3PwAAAMBIJfA/AAAAgPGG8D8AAAAArnPwPw==\",\"dtype\":\"float64\",\"order\":\"little\",\"shape\":[8]}},\"selected\":{\"id\":\"44563\"},\"selection_policy\":{\"id\":\"44580\"}},\"id\":\"44562\",\"type\":\"ColumnDataSource\"},{\"attributes\":{\"editor\":{\"id\":\"44726\"},\"field\":\"wall_time\",\"formatter\":{\"id\":\"44725\"},\"title\":\"wall_time\"},\"id\":\"44727\",\"type\":\"TableColumn\"},{\"attributes\":{\"text_color\":\"black\",\"text_font_size\":\"12pt\"},\"id\":\"44506\",\"type\":\"Title\"},{\"attributes\":{\"editor\":{\"id\":\"44716\"},\"field\":\"computation\",\"formatter\":{\"id\":\"44715\"},\"title\":\"computation\"},\"id\":\"44717\",\"type\":\"TableColumn\"},{\"attributes\":{\"line_color\":\"#e5ae38\",\"line_width\":2,\"x\":{\"field\":\"num_years\"},\"y\":{\"field\":\"wall_time\"}},\"id\":\"44587\",\"type\":\"Line\"},{\"attributes\":{\"label\":{\"value\":\"file_access\"},\"renderers\":[{\"id\":\"44547\"}]},\"id\":\"44560\",\"type\":\"LegendItem\"},{\"attributes\":{\"margin\":[5,5,5,5],\"name\":\"HSpacer03035\",\"sizing_mode\":\"stretch_width\"},\"id\":\"44899\",\"type\":\"Spacer\"},{\"attributes\":{},\"id\":\"44536\",\"type\":\"AllLabels\"},{\"attributes\":{\"data\":{\"computation\":[\"file_access\",\"file_access\",\"file_access\",\"file_access\",\"file_access\",\"file_access\",\"file_access\",\"file_access\"],\"num_years\":{\"__ndarray__\":\"AAAAAAAA8D8AAAAAAAAUQAAAAAAAACRAAAAAAAAANEAAAAAAAAA+QAAAAAAAAERAAAAAAAAASUAAAAAAAABOQA==\",\"dtype\":\"float64\",\"order\":\"little\",\"shape\":[8]},\"wall_time\":{\"__ndarray__\":\"AAAAAI/ZFkAAAAAAVHvPPwAAAABsWs4/AAAAAEaJzz8AAAAAyCTQPwAAAAAoMrk/AAAAAHxFvD8AAAAAAJK5Pw==\",\"dtype\":\"float64\",\"order\":\"little\",\"shape\":[8]}},\"selected\":{\"id\":\"44542\"},\"selection_policy\":{\"id\":\"44557\"}},\"id\":\"44541\",\"type\":\"ColumnDataSource\"},{\"attributes\":{},\"id\":\"44523\",\"type\":\"PanTool\"},{\"attributes\":{},\"id\":\"44726\",\"type\":\"NumberEditor\"},{\"attributes\":{\"editor\":{\"id\":\"44721\"},\"field\":\"num_years\",\"formatter\":{\"id\":\"44720\"},\"title\":\"num_years\"},\"id\":\"44722\",\"type\":\"TableColumn\"},{\"attributes\":{\"data_source\":{\"id\":\"44584\"},\"glyph\":{\"id\":\"44587\"},\"hover_glyph\":null,\"muted_glyph\":{\"id\":\"44589\"},\"nonselection_glyph\":{\"id\":\"44588\"},\"selection_glyph\":{\"id\":\"44607\"},\"view\":{\"id\":\"44591\"}},\"id\":\"44590\",\"type\":\"GlyphRenderer\"},{\"attributes\":{},\"id\":\"44515\",\"type\":\"BasicTicker\"},{\"attributes\":{},\"id\":\"44715\",\"type\":\"StringFormatter\"},{\"attributes\":{},\"id\":\"44604\",\"type\":\"UnionRenderers\"},{\"attributes\":{\"line_color\":\"#fc4f30\",\"line_width\":2,\"x\":{\"field\":\"num_years\"},\"y\":{\"field\":\"wall_time\"}},\"id\":\"44583\",\"type\":\"Line\"},{\"attributes\":{\"children\":[{\"id\":\"44752\"},{\"id\":\"44750\"}]},\"id\":\"44753\",\"type\":\"Column\"},{\"attributes\":{},\"id\":\"44721\",\"type\":\"NumberEditor\"},{\"attributes\":{},\"id\":\"44711\",\"type\":\"StringEditor\"},{\"attributes\":{\"click_policy\":\"mute\",\"items\":[{\"id\":\"44560\"},{\"id\":\"44582\"},{\"id\":\"44606\"}],\"location\":[0,0],\"title\":\"computation\"},\"id\":\"44559\",\"type\":\"Legend\"},{\"attributes\":{\"end\":6.273863363265991,\"reset_end\":6.273863363265991,\"reset_start\":-0.46298222541809086,\"start\":-0.46298222541809086,\"tags\":[[[\"wall_time\",\"wall_time\",null]]]},\"id\":\"44501\",\"type\":\"Range1d\"},{\"attributes\":{\"line_alpha\":0.2,\"line_color\":\"#e5ae38\",\"line_width\":2,\"x\":{\"field\":\"num_years\"},\"y\":{\"field\":\"wall_time\"}},\"id\":\"44589\",\"type\":\"Line\"},{\"attributes\":{\"line_color\":\"#e5ae38\",\"line_width\":2,\"x\":{\"field\":\"num_years\"},\"y\":{\"field\":\"wall_time\"}},\"id\":\"44607\",\"type\":\"Line\"},{\"attributes\":{},\"id\":\"44748\",\"type\":\"UnionRenderers\"},{\"attributes\":{},\"id\":\"44716\",\"type\":\"StringEditor\"},{\"attributes\":{\"callback\":null,\"renderers\":[{\"id\":\"44547\"},{\"id\":\"44568\"},{\"id\":\"44590\"}],\"tags\":[\"hv_created\"],\"tooltips\":[[\"computation\",\"@{computation}\"],[\"num_years\",\"@{num_years}\"],[\"wall_time\",\"@{wall_time}\"]]},\"id\":\"44502\",\"type\":\"HoverTool\"},{\"attributes\":{\"label\":{\"value\":\"monthly_average\"},\"renderers\":[{\"id\":\"44590\"}]},\"id\":\"44606\",\"type\":\"LegendItem\"},{\"attributes\":{},\"id\":\"44710\",\"type\":\"StringFormatter\"},{\"attributes\":{},\"id\":\"44557\",\"type\":\"UnionRenderers\"},{\"attributes\":{\"line_alpha\":0.1,\"line_color\":\"#fc4f30\",\"line_width\":2,\"x\":{\"field\":\"num_years\"},\"y\":{\"field\":\"wall_time\"}},\"id\":\"44566\",\"type\":\"Line\"},{\"attributes\":{},\"id\":\"44510\",\"type\":\"LinearScale\"},{\"attributes\":{},\"id\":\"44585\",\"type\":\"Selection\"},{\"attributes\":{},\"id\":\"44542\",\"type\":\"Selection\"},{\"attributes\":{\"axis_label\":\"Number of Years\",\"formatter\":{\"id\":\"44535\"},\"major_label_policy\":{\"id\":\"44536\"},\"ticker\":{\"id\":\"44515\"}},\"id\":\"44514\",\"type\":\"LinearAxis\"},{\"attributes\":{},\"id\":\"44524\",\"type\":\"WheelZoomTool\"},{\"attributes\":{\"source\":{\"id\":\"44541\"}},\"id\":\"44548\",\"type\":\"CDSView\"},{\"attributes\":{\"below\":[{\"id\":\"44514\"}],\"center\":[{\"id\":\"44517\"},{\"id\":\"44521\"}],\"height\":300,\"left\":[{\"id\":\"44518\"}],\"margin\":null,\"min_border_bottom\":10,\"min_border_left\":10,\"min_border_right\":10,\"min_border_top\":10,\"renderers\":[{\"id\":\"44547\"},{\"id\":\"44568\"},{\"id\":\"44590\"}],\"right\":[{\"id\":\"44559\"}],\"sizing_mode\":\"fixed\",\"title\":{\"id\":\"44506\"},\"toolbar\":{\"id\":\"44528\"},\"toolbar_location\":null,\"width\":550,\"x_range\":{\"id\":\"44500\"},\"x_scale\":{\"id\":\"44510\"},\"y_range\":{\"id\":\"44501\"},\"y_scale\":{\"id\":\"44512\"}},\"id\":\"44505\",\"subtype\":\"Figure\",\"type\":\"Plot\"},{\"attributes\":{\"editor\":{\"id\":\"44711\"},\"field\":\"catalog\",\"formatter\":{\"id\":\"44710\"},\"title\":\"catalog\"},\"id\":\"44712\",\"type\":\"TableColumn\"},{\"attributes\":{\"data_source\":{\"id\":\"44562\"},\"glyph\":{\"id\":\"44565\"},\"hover_glyph\":null,\"muted_glyph\":{\"id\":\"44567\"},\"nonselection_glyph\":{\"id\":\"44566\"},\"selection_glyph\":{\"id\":\"44583\"},\"view\":{\"id\":\"44569\"}},\"id\":\"44568\",\"type\":\"GlyphRenderer\"},{\"attributes\":{},\"id\":\"44522\",\"type\":\"SaveTool\"},{\"attributes\":{\"columns\":[{\"id\":\"44712\"},{\"id\":\"44717\"},{\"id\":\"44722\"},{\"id\":\"44727\"}],\"height\":300,\"reorderable\":false,\"source\":{\"id\":\"44708\"},\"view\":{\"id\":\"44732\"},\"width\":420},\"id\":\"44730\",\"type\":\"DataTable\"},{\"attributes\":{\"overlay\":{\"id\":\"44527\"}},\"id\":\"44525\",\"type\":\"BoxZoomTool\"},{\"attributes\":{\"margin\":[5,5,5,5],\"name\":\"HSpacer03034\",\"sizing_mode\":\"stretch_width\"},\"id\":\"44499\",\"type\":\"Spacer\"},{\"attributes\":{\"data_source\":{\"id\":\"44541\"},\"glyph\":{\"id\":\"44544\"},\"hover_glyph\":null,\"muted_glyph\":{\"id\":\"44546\"},\"nonselection_glyph\":{\"id\":\"44545\"},\"selection_glyph\":{\"id\":\"44561\"},\"view\":{\"id\":\"44548\"}},\"id\":\"44547\",\"type\":\"GlyphRenderer\"},{\"attributes\":{},\"id\":\"44563\",\"type\":\"Selection\"},{\"attributes\":{},\"id\":\"44519\",\"type\":\"BasicTicker\"},{\"attributes\":{\"axis\":{\"id\":\"44518\"},\"dimension\":1,\"grid_line_color\":null,\"ticker\":null},\"id\":\"44521\",\"type\":\"Grid\"},{\"attributes\":{\"data\":{\"computation\":[\"monthly_average\",\"monthly_average\",\"monthly_average\",\"monthly_average\",\"monthly_average\",\"monthly_average\",\"monthly_average\",\"monthly_average\"],\"num_years\":{\"__ndarray__\":\"AAAAAAAA8D8AAAAAAAAUQAAAAAAAACRAAAAAAAAANEAAAAAAAAA+QAAAAAAAAERAAAAAAAAASUAAAAAAAABOQA==\",\"dtype\":\"float64\",\"order\":\"little\",\"shape\":[8]},\"wall_time\":{\"__ndarray__\":\"AAAAoCkUBkAAAAAAt88GQAAAAODURAJAAAAAoCYXAEAAAACgxoUDQAAAAMAEZAVAAAAAwDXbAkAAAABAykAFQA==\",\"dtype\":\"float64\",\"order\":\"little\",\"shape\":[8]}},\"selected\":{\"id\":\"44585\"},\"selection_policy\":{\"id\":\"44604\"}},\"id\":\"44584\",\"type\":\"ColumnDataSource\"},{\"attributes\":{},\"id\":\"44526\",\"type\":\"ResetTool\"},{\"attributes\":{\"toolbars\":[{\"id\":\"44528\"}],\"tools\":[{\"id\":\"44502\"},{\"id\":\"44522\"},{\"id\":\"44523\"},{\"id\":\"44524\"},{\"id\":\"44525\"},{\"id\":\"44526\"}]},\"id\":\"44751\",\"type\":\"ProxyToolbar\"},{\"attributes\":{\"axis_label\":\"Wall Time (s)\",\"formatter\":{\"id\":\"44538\"},\"major_label_policy\":{\"id\":\"44539\"},\"ticker\":{\"id\":\"44519\"}},\"id\":\"44518\",\"type\":\"LinearAxis\"},{\"attributes\":{\"data\":{\"catalog\":[\"timeseries\",\"timeseries\",\"timeseries\",\"timeseries\",\"timeseries\",\"timeseries\",\"timeseries\",\"timeseries\",\"timeseries\",\"timeseries\",\"timeseries\",\"timeseries\",\"timeseries\",\"timeseries\",\"timeseries\",\"timeseries\",\"timeseries\",\"timeseries\",\"timeseries\",\"timeseries\",\"timeseries\",\"timeseries\",\"timeseries\",\"timeseries\"],\"computation\":[\"file_access\",\"long_term_average\",\"monthly_average\",\"file_access\",\"long_term_average\",\"monthly_average\",\"file_access\",\"long_term_average\",\"monthly_average\",\"file_access\",\"long_term_average\",\"monthly_average\",\"file_access\",\"long_term_average\",\"monthly_average\",\"file_access\",\"long_term_average\",\"monthly_average\",\"file_access\",\"long_term_average\",\"monthly_average\",\"file_access\",\"long_term_average\",\"monthly_average\"],\"num_years\":{\"__ndarray__\":\"AAAAAAAA8D8AAAAAAADwPwAAAAAAAPA/AAAAAAAAFEAAAAAAAAAUQAAAAAAAABRAAAAAAAAAJEAAAAAAAAAkQAAAAAAAACRAAAAAAAAANEAAAAAAAAA0QAAAAAAAADRAAAAAAAAAPkAAAAAAAAA+QAAAAAAAAD5AAAAAAAAAREAAAAAAAABEQAAAAAAAAERAAAAAAAAASUAAAAAAAABJQAAAAAAAAElAAAAAAAAATkAAAAAAAABOQAAAAAAAAE5A\",\"dtype\":\"float64\",\"order\":\"little\",\"shape\":[24]},\"wall_time\":{\"__ndarray__\":\"AAAAAI/ZFkAAAACgHKwMQAAAAKApFAZAAAAAAFR7zz8AAACApl3wPwAAAAC3zwZAAAAAAGxazj8AAAAAf5nuPwAAAODURAJAAAAAAEaJzz8AAABAu0H6PwAAAKAmFwBAAAAAAMgk0D8AAACAQsD3PwAAAKDGhQNAAAAAACgyuT8AAADASCXwPwAAAMAEZAVAAAAAAHxFvD8AAACA8YbwPwAAAMA12wJAAAAAAACSuT8AAAAArnPwPwAAAEDKQAVA\",\"dtype\":\"float64\",\"order\":\"little\",\"shape\":[24]}},\"selected\":{\"id\":\"44709\"},\"selection_policy\":{\"id\":\"44748\"}},\"id\":\"44708\",\"type\":\"ColumnDataSource\"},{\"attributes\":{},\"id\":\"44580\",\"type\":\"UnionRenderers\"},{\"attributes\":{\"children\":[{\"id\":\"44499\"},{\"id\":\"44753\"},{\"id\":\"44899\"}],\"margin\":[0,0,0,0],\"name\":\"Row03030\",\"tags\":[\"embedded\"]},\"id\":\"44498\",\"type\":\"Row\"},{\"attributes\":{\"end\":60.0,\"reset_end\":60.0,\"reset_start\":1.0,\"start\":1.0,\"tags\":[[[\"num_years\",\"num_years\",null]]]},\"id\":\"44500\",\"type\":\"Range1d\"},{\"attributes\":{\"children\":[[{\"id\":\"44505\"},0,0],[{\"id\":\"44730\"},0,1]]},\"id\":\"44750\",\"type\":\"GridBox\"},{\"attributes\":{\"active_multi\":null,\"tools\":[{\"id\":\"44502\"},{\"id\":\"44522\"},{\"id\":\"44523\"},{\"id\":\"44524\"},{\"id\":\"44525\"},{\"id\":\"44526\"}]},\"id\":\"44528\",\"type\":\"Toolbar\"},{\"attributes\":{},\"id\":\"44512\",\"type\":\"LinearScale\"},{\"attributes\":{\"source\":{\"id\":\"44584\"}},\"id\":\"44591\",\"type\":\"CDSView\"},{\"attributes\":{\"toolbar\":{\"id\":\"44751\"},\"toolbar_location\":\"above\"},\"id\":\"44752\",\"type\":\"ToolbarBox\"},{\"attributes\":{},\"id\":\"44538\",\"type\":\"BasicTickFormatter\"},{\"attributes\":{\"line_alpha\":0.1,\"line_color\":\"#e5ae38\",\"line_width\":2,\"x\":{\"field\":\"num_years\"},\"y\":{\"field\":\"wall_time\"}},\"id\":\"44588\",\"type\":\"Line\"},{\"attributes\":{},\"id\":\"44539\",\"type\":\"AllLabels\"},{\"attributes\":{\"format\":\"0,0.0[00000]\"},\"id\":\"44720\",\"type\":\"NumberFormatter\"}],\"root_ids\":[\"44498\"]},\"title\":\"Bokeh Application\",\"version\":\"2.3.3\"}};\n",
       "    var render_items = [{\"docid\":\"1890b852-02cf-4cd6-893d-87b7fa191af9\",\"root_ids\":[\"44498\"],\"roots\":{\"44498\":\"5c1d3ea0-ae55-465d-beda-dbabc164fe75\"}}];\n",
       "    root.Bokeh.embed.embed_items_notebook(docs_json, render_items);\n",
       "  }\n",
       "  if (root.Bokeh !== undefined && root.Bokeh.Panel !== undefined) {\n",
       "    embed_document(root);\n",
       "  } else {\n",
       "    var attempts = 0;\n",
       "    var timer = setInterval(function(root) {\n",
       "      if (root.Bokeh !== undefined && root.Bokeh.Panel !== undefined) {\n",
       "        clearInterval(timer);\n",
       "        embed_document(root);\n",
       "      } else if (document.readyState == \"complete\") {\n",
       "        attempts++;\n",
       "        if (attempts > 200) {\n",
       "          clearInterval(timer);\n",
       "          console.log(\"Bokeh: ERROR: Unable to run BokehJS code because BokehJS library is missing\");\n",
       "        }\n",
       "      }\n",
       "    }, 25, root)\n",
       "  }\n",
       "})(window);</script>"
      ],
      "text/plain": [
       ":Layout\n",
       "   .NdOverlay.I :NdOverlay   [computation]\n",
       "      :Curve   [num_years]   (wall_time)\n",
       "   .Table.I     :Table   [catalog,computation,num_years,wall_time]"
      ]
     },
     "execution_count": 18,
     "metadata": {
      "application/vnd.holoviews_exec.v0+json": {
       "id": "44498"
      }
     },
     "output_type": "execute_result"
    }
   ],
   "source": [
    "(\n",
    "    df_timeseries.hvplot(\n",
    "        x='num_years',\n",
    "        y='wall_time',\n",
    "        by='computation',\n",
    "        xlabel='Number of Years',\n",
    "        ylabel='Wall Time (s)',\n",
    "        width=550,\n",
    "    )\n",
    "    + df_timeseries.hvplot.table(width=420)\n",
    ")"
   ]
  },
  {
   "cell_type": "markdown",
   "id": "d8fdcec2-1cf9-4ff4-b5f8-ad7434e11ad1",
   "metadata": {},
   "source": [
    "### Intercomparison of History"
   ]
  },
  {
   "cell_type": "code",
   "execution_count": 19,
   "id": "7e336930-ba2f-44ee-9c30-424991fdbc79",
   "metadata": {},
   "outputs": [
    {
     "data": {},
     "metadata": {},
     "output_type": "display_data"
    },
    {
     "data": {
      "application/vnd.holoviews_exec.v0+json": "",
      "text/html": [
       "<div id='45128'>\n",
       "\n",
       "\n",
       "\n",
       "\n",
       "\n",
       "  <div class=\"bk-root\" id=\"8ce92938-5f7b-485f-9d81-6b5060f17dfc\" data-root-id=\"45128\"></div>\n",
       "</div>\n",
       "<script type=\"application/javascript\">(function(root) {\n",
       "  function embed_document(root) {\n",
       "    var docs_json = {\"defd8c4c-1b29-40bf-b35f-37d4ec9ee4b6\":{\"defs\":[{\"extends\":null,\"module\":null,\"name\":\"ReactiveHTML1\",\"overrides\":[],\"properties\":[]},{\"extends\":null,\"module\":null,\"name\":\"FlexBox1\",\"overrides\":[],\"properties\":[{\"default\":\"flex-start\",\"kind\":null,\"name\":\"align_content\"},{\"default\":\"flex-start\",\"kind\":null,\"name\":\"align_items\"},{\"default\":\"row\",\"kind\":null,\"name\":\"flex_direction\"},{\"default\":\"wrap\",\"kind\":null,\"name\":\"flex_wrap\"},{\"default\":\"flex-start\",\"kind\":null,\"name\":\"justify_content\"}]},{\"extends\":null,\"module\":null,\"name\":\"TemplateActions1\",\"overrides\":[],\"properties\":[{\"default\":0,\"kind\":null,\"name\":\"open_modal\"},{\"default\":0,\"kind\":null,\"name\":\"close_modal\"}]},{\"extends\":null,\"module\":null,\"name\":\"MaterialTemplateActions1\",\"overrides\":[],\"properties\":[{\"default\":0,\"kind\":null,\"name\":\"open_modal\"},{\"default\":0,\"kind\":null,\"name\":\"close_modal\"}]}],\"roots\":{\"references\":[{\"attributes\":{\"click_policy\":\"mute\",\"items\":[{\"id\":\"45190\"},{\"id\":\"45212\"},{\"id\":\"45236\"}],\"location\":[0,0],\"title\":\"computation\"},\"id\":\"45189\",\"type\":\"Legend\"},{\"attributes\":{},\"id\":\"45149\",\"type\":\"BasicTicker\"},{\"attributes\":{\"margin\":[5,5,5,5],\"name\":\"HSpacer03868\",\"sizing_mode\":\"stretch_width\"},\"id\":\"45129\",\"type\":\"Spacer\"},{\"attributes\":{\"active_multi\":null,\"tools\":[{\"id\":\"45132\"},{\"id\":\"45152\"},{\"id\":\"45153\"},{\"id\":\"45154\"},{\"id\":\"45155\"},{\"id\":\"45156\"}]},\"id\":\"45158\",\"type\":\"Toolbar\"},{\"attributes\":{\"label\":{\"value\":\"file_access\"},\"renderers\":[{\"id\":\"45177\"}]},\"id\":\"45190\",\"type\":\"LegendItem\"},{\"attributes\":{\"format\":\"0,0.0[00000]\"},\"id\":\"45353\",\"type\":\"NumberFormatter\"},{\"attributes\":{\"data\":{\"computation\":[\"file_access\",\"file_access\",\"file_access\",\"file_access\",\"file_access\",\"file_access\",\"file_access\",\"file_access\"],\"num_years\":{\"__ndarray__\":\"AAAAAAAA8D8AAAAAAAAUQAAAAAAAACRAAAAAAAAANEAAAAAAAAA+QAAAAAAAAERAAAAAAAAASUAAAAAAAABOQA==\",\"dtype\":\"float64\",\"order\":\"little\",\"shape\":[8]},\"wall_time\":{\"__ndarray__\":\"AAAAwAhD9j8AAABAjxX5PwAAACChiwpAAAAAoL2MIkAAAAB8LMswQAAAAGApIT1AAAAAijoYRUAAAACUZPdLQA==\",\"dtype\":\"float64\",\"order\":\"little\",\"shape\":[8]}},\"selected\":{\"id\":\"45172\"},\"selection_policy\":{\"id\":\"45187\"}},\"id\":\"45171\",\"type\":\"ColumnDataSource\"},{\"attributes\":{},\"id\":\"45142\",\"type\":\"LinearScale\"},{\"attributes\":{\"end\":60.0,\"reset_end\":60.0,\"reset_start\":1.0,\"start\":1.0,\"tags\":[[[\"num_years\",\"num_years\",null]]]},\"id\":\"45130\",\"type\":\"Range1d\"},{\"attributes\":{},\"id\":\"45169\",\"type\":\"AllLabels\"},{\"attributes\":{},\"id\":\"45354\",\"type\":\"NumberEditor\"},{\"attributes\":{\"children\":[{\"id\":\"45380\"},{\"id\":\"45378\"}]},\"id\":\"45381\",\"type\":\"Column\"},{\"attributes\":{},\"id\":\"45210\",\"type\":\"UnionRenderers\"},{\"attributes\":{},\"id\":\"45152\",\"type\":\"SaveTool\"},{\"attributes\":{\"line_alpha\":0.2,\"line_color\":\"#30a2da\",\"line_width\":2,\"x\":{\"field\":\"num_years\"},\"y\":{\"field\":\"wall_time\"}},\"id\":\"45176\",\"type\":\"Line\"},{\"attributes\":{\"axis\":{\"id\":\"45144\"},\"grid_line_color\":null,\"ticker\":null},\"id\":\"45147\",\"type\":\"Grid\"},{\"attributes\":{\"line_color\":\"#fc4f30\",\"line_width\":2,\"x\":{\"field\":\"num_years\"},\"y\":{\"field\":\"wall_time\"}},\"id\":\"45213\",\"type\":\"Line\"},{\"attributes\":{\"data_source\":{\"id\":\"45171\"},\"glyph\":{\"id\":\"45174\"},\"hover_glyph\":null,\"muted_glyph\":{\"id\":\"45176\"},\"nonselection_glyph\":{\"id\":\"45175\"},\"selection_glyph\":{\"id\":\"45191\"},\"view\":{\"id\":\"45178\"}},\"id\":\"45177\",\"type\":\"GlyphRenderer\"},{\"attributes\":{\"callback\":null,\"renderers\":[{\"id\":\"45177\"},{\"id\":\"45198\"},{\"id\":\"45220\"}],\"tags\":[\"hv_created\"],\"tooltips\":[[\"computation\",\"@{computation}\"],[\"num_years\",\"@{num_years}\"],[\"wall_time\",\"@{wall_time}\"]]},\"id\":\"45132\",\"type\":\"HoverTool\"},{\"attributes\":{\"line_alpha\":0.2,\"line_color\":\"#fc4f30\",\"line_width\":2,\"x\":{\"field\":\"num_years\"},\"y\":{\"field\":\"wall_time\"}},\"id\":\"45197\",\"type\":\"Line\"},{\"attributes\":{},\"id\":\"45338\",\"type\":\"StringFormatter\"},{\"attributes\":{},\"id\":\"45339\",\"type\":\"StringEditor\"},{\"attributes\":{},\"id\":\"45153\",\"type\":\"PanTool\"},{\"attributes\":{\"bottom_units\":\"screen\",\"fill_alpha\":0.5,\"fill_color\":\"lightgrey\",\"left_units\":\"screen\",\"level\":\"overlay\",\"line_alpha\":1.0,\"line_color\":\"black\",\"line_dash\":[4,4],\"line_width\":2,\"right_units\":\"screen\",\"syncable\":false,\"top_units\":\"screen\"},\"id\":\"45157\",\"type\":\"BoxAnnotation\"},{\"attributes\":{\"label\":{\"value\":\"long_term_average\"},\"renderers\":[{\"id\":\"45198\"}]},\"id\":\"45212\",\"type\":\"LegendItem\"},{\"attributes\":{\"axis_label\":\"Wall Time (s)\",\"formatter\":{\"id\":\"45168\"},\"major_label_policy\":{\"id\":\"45169\"},\"ticker\":{\"id\":\"45149\"}},\"id\":\"45148\",\"type\":\"LinearAxis\"},{\"attributes\":{\"data_source\":{\"id\":\"45214\"},\"glyph\":{\"id\":\"45217\"},\"hover_glyph\":null,\"muted_glyph\":{\"id\":\"45219\"},\"nonselection_glyph\":{\"id\":\"45218\"},\"selection_glyph\":{\"id\":\"45237\"},\"view\":{\"id\":\"45221\"}},\"id\":\"45220\",\"type\":\"GlyphRenderer\"},{\"attributes\":{\"editor\":{\"id\":\"45344\"},\"field\":\"computation\",\"formatter\":{\"id\":\"45343\"},\"title\":\"computation\"},\"id\":\"45345\",\"type\":\"TableColumn\"},{\"attributes\":{},\"id\":\"45215\",\"type\":\"Selection\"},{\"attributes\":{},\"id\":\"45140\",\"type\":\"LinearScale\"},{\"attributes\":{\"line_color\":\"#e5ae38\",\"line_width\":2,\"x\":{\"field\":\"num_years\"},\"y\":{\"field\":\"wall_time\"}},\"id\":\"45217\",\"type\":\"Line\"},{\"attributes\":{\"toolbar\":{\"id\":\"45379\"},\"toolbar_location\":\"above\"},\"id\":\"45380\",\"type\":\"ToolbarBox\"},{\"attributes\":{\"columns\":[{\"id\":\"45340\"},{\"id\":\"45345\"},{\"id\":\"45350\"},{\"id\":\"45355\"}],\"height\":300,\"reorderable\":false,\"source\":{\"id\":\"45336\"},\"view\":{\"id\":\"45360\"},\"width\":420},\"id\":\"45358\",\"type\":\"DataTable\"},{\"attributes\":{\"toolbars\":[{\"id\":\"45158\"}],\"tools\":[{\"id\":\"45132\"},{\"id\":\"45152\"},{\"id\":\"45153\"},{\"id\":\"45154\"},{\"id\":\"45155\"},{\"id\":\"45156\"}]},\"id\":\"45379\",\"type\":\"ProxyToolbar\"},{\"attributes\":{},\"id\":\"45349\",\"type\":\"NumberEditor\"},{\"attributes\":{},\"id\":\"45165\",\"type\":\"BasicTickFormatter\"},{\"attributes\":{},\"id\":\"45344\",\"type\":\"StringEditor\"},{\"attributes\":{},\"id\":\"45187\",\"type\":\"UnionRenderers\"},{\"attributes\":{\"end\":73.9417123556137,\"reset_end\":73.9417123556137,\"reset_start\":-6.033154225349427,\"start\":-6.033154225349427,\"tags\":[[[\"wall_time\",\"wall_time\",null]]]},\"id\":\"45131\",\"type\":\"Range1d\"},{\"attributes\":{},\"id\":\"45337\",\"type\":\"Selection\"},{\"attributes\":{},\"id\":\"45343\",\"type\":\"StringFormatter\"},{\"attributes\":{\"line_alpha\":0.1,\"line_color\":\"#30a2da\",\"line_width\":2,\"x\":{\"field\":\"num_years\"},\"y\":{\"field\":\"wall_time\"}},\"id\":\"45175\",\"type\":\"Line\"},{\"attributes\":{\"label\":{\"value\":\"monthly_average\"},\"renderers\":[{\"id\":\"45220\"}]},\"id\":\"45236\",\"type\":\"LegendItem\"},{\"attributes\":{},\"id\":\"45193\",\"type\":\"Selection\"},{\"attributes\":{\"data\":{\"computation\":[\"long_term_average\",\"long_term_average\",\"long_term_average\",\"long_term_average\",\"long_term_average\",\"long_term_average\",\"long_term_average\",\"long_term_average\"],\"num_years\":{\"__ndarray__\":\"AAAAAAAA8D8AAAAAAAAUQAAAAAAAACRAAAAAAAAANEAAAAAAAAA+QAAAAAAAAERAAAAAAAAASUAAAAAAAABOQA==\",\"dtype\":\"float64\",\"order\":\"little\",\"shape\":[8]},\"wall_time\":{\"__ndarray__\":\"AAAAgDWF5j8AAADgYkADQAAAAHAlHhBAAAAAYNeCJEAAAAAsnfYxQAAAAAx/vT9AAAAA4O6ZR0AAAACqvNFQQA==\",\"dtype\":\"float64\",\"order\":\"little\",\"shape\":[8]}},\"selected\":{\"id\":\"45193\"},\"selection_policy\":{\"id\":\"45210\"}},\"id\":\"45192\",\"type\":\"ColumnDataSource\"},{\"attributes\":{\"source\":{\"id\":\"45214\"}},\"id\":\"45221\",\"type\":\"CDSView\"},{\"attributes\":{\"line_color\":\"#e5ae38\",\"line_width\":2,\"x\":{\"field\":\"num_years\"},\"y\":{\"field\":\"wall_time\"}},\"id\":\"45237\",\"type\":\"Line\"},{\"attributes\":{\"axis\":{\"id\":\"45148\"},\"dimension\":1,\"grid_line_color\":null,\"ticker\":null},\"id\":\"45151\",\"type\":\"Grid\"},{\"attributes\":{\"source\":{\"id\":\"45336\"}},\"id\":\"45360\",\"type\":\"CDSView\"},{\"attributes\":{\"line_alpha\":0.1,\"line_color\":\"#fc4f30\",\"line_width\":2,\"x\":{\"field\":\"num_years\"},\"y\":{\"field\":\"wall_time\"}},\"id\":\"45196\",\"type\":\"Line\"},{\"attributes\":{\"line_alpha\":0.2,\"line_color\":\"#e5ae38\",\"line_width\":2,\"x\":{\"field\":\"num_years\"},\"y\":{\"field\":\"wall_time\"}},\"id\":\"45219\",\"type\":\"Line\"},{\"attributes\":{\"editor\":{\"id\":\"45339\"},\"field\":\"catalog\",\"formatter\":{\"id\":\"45338\"},\"title\":\"catalog\"},\"id\":\"45340\",\"type\":\"TableColumn\"},{\"attributes\":{\"line_color\":\"#fc4f30\",\"line_width\":2,\"x\":{\"field\":\"num_years\"},\"y\":{\"field\":\"wall_time\"}},\"id\":\"45195\",\"type\":\"Line\"},{\"attributes\":{\"source\":{\"id\":\"45171\"}},\"id\":\"45178\",\"type\":\"CDSView\"},{\"attributes\":{},\"id\":\"45234\",\"type\":\"UnionRenderers\"},{\"attributes\":{},\"id\":\"45168\",\"type\":\"BasicTickFormatter\"},{\"attributes\":{\"text_color\":\"black\",\"text_font_size\":\"12pt\"},\"id\":\"45136\",\"type\":\"Title\"},{\"attributes\":{\"editor\":{\"id\":\"45349\"},\"field\":\"num_years\",\"formatter\":{\"id\":\"45348\"},\"title\":\"num_years\"},\"id\":\"45350\",\"type\":\"TableColumn\"},{\"attributes\":{\"below\":[{\"id\":\"45144\"}],\"center\":[{\"id\":\"45147\"},{\"id\":\"45151\"}],\"height\":300,\"left\":[{\"id\":\"45148\"}],\"margin\":null,\"min_border_bottom\":10,\"min_border_left\":10,\"min_border_right\":10,\"min_border_top\":10,\"renderers\":[{\"id\":\"45177\"},{\"id\":\"45198\"},{\"id\":\"45220\"}],\"right\":[{\"id\":\"45189\"}],\"sizing_mode\":\"fixed\",\"title\":{\"id\":\"45136\"},\"toolbar\":{\"id\":\"45158\"},\"toolbar_location\":null,\"width\":550,\"x_range\":{\"id\":\"45130\"},\"x_scale\":{\"id\":\"45140\"},\"y_range\":{\"id\":\"45131\"},\"y_scale\":{\"id\":\"45142\"}},\"id\":\"45135\",\"subtype\":\"Figure\",\"type\":\"Plot\"},{\"attributes\":{\"line_alpha\":0.1,\"line_color\":\"#e5ae38\",\"line_width\":2,\"x\":{\"field\":\"num_years\"},\"y\":{\"field\":\"wall_time\"}},\"id\":\"45218\",\"type\":\"Line\"},{\"attributes\":{},\"id\":\"45376\",\"type\":\"UnionRenderers\"},{\"attributes\":{\"line_color\":\"#30a2da\",\"line_width\":2,\"x\":{\"field\":\"num_years\"},\"y\":{\"field\":\"wall_time\"}},\"id\":\"45174\",\"type\":\"Line\"},{\"attributes\":{\"axis_label\":\"Number of Years\",\"formatter\":{\"id\":\"45165\"},\"major_label_policy\":{\"id\":\"45166\"},\"ticker\":{\"id\":\"45145\"}},\"id\":\"45144\",\"type\":\"LinearAxis\"},{\"attributes\":{\"format\":\"0,0.0[00000]\"},\"id\":\"45348\",\"type\":\"NumberFormatter\"},{\"attributes\":{},\"id\":\"45154\",\"type\":\"WheelZoomTool\"},{\"attributes\":{\"data\":{\"catalog\":[\"history\",\"history\",\"history\",\"history\",\"history\",\"history\",\"history\",\"history\",\"history\",\"history\",\"history\",\"history\",\"history\",\"history\",\"history\",\"history\",\"history\",\"history\",\"history\",\"history\",\"history\",\"history\",\"history\",\"history\"],\"computation\":[\"file_access\",\"long_term_average\",\"monthly_average\",\"file_access\",\"long_term_average\",\"monthly_average\",\"file_access\",\"long_term_average\",\"monthly_average\",\"file_access\",\"long_term_average\",\"monthly_average\",\"file_access\",\"long_term_average\",\"monthly_average\",\"file_access\",\"long_term_average\",\"monthly_average\",\"file_access\",\"long_term_average\",\"monthly_average\",\"file_access\",\"long_term_average\",\"monthly_average\"],\"num_years\":{\"__ndarray__\":\"AAAAAAAA8D8AAAAAAADwPwAAAAAAAPA/AAAAAAAAFEAAAAAAAAAUQAAAAAAAABRAAAAAAAAAJEAAAAAAAAAkQAAAAAAAACRAAAAAAAAANEAAAAAAAAA0QAAAAAAAADRAAAAAAAAAPkAAAAAAAAA+QAAAAAAAAD5AAAAAAAAAREAAAAAAAABEQAAAAAAAAERAAAAAAAAASUAAAAAAAABJQAAAAAAAAElAAAAAAAAATkAAAAAAAABOQAAAAAAAAE5A\",\"dtype\":\"float64\",\"order\":\"little\",\"shape\":[24]},\"wall_time\":{\"__ndarray__\":\"AAAAwAhD9j8AAACANYXmPwAAAICTNOQ/AAAAQI8V+T8AAADgYkADQAAAACBkzgBAAAAAIKGLCkAAAABwJR4QQAAAAKDSGRBAAAAAoL2MIkAAAABg14IkQAAAAEglsyRAAAAAfCzLMEAAAAAsnfYxQAAAAFR7uTFAAAAAYCkhPUAAAAAMf70/QAAAALig6T5AAAAAijoYRUAAAADg7plHQAAAAIIdQEZAAAAAlGT3S0AAAACqvNFQQAAAAPhyYk1A\",\"dtype\":\"float64\",\"order\":\"little\",\"shape\":[24]}},\"selected\":{\"id\":\"45337\"},\"selection_policy\":{\"id\":\"45376\"}},\"id\":\"45336\",\"type\":\"ColumnDataSource\"},{\"attributes\":{\"children\":[{\"id\":\"45129\"},{\"id\":\"45381\"},{\"id\":\"45529\"}],\"margin\":[0,0,0,0],\"name\":\"Row03864\",\"tags\":[\"embedded\"]},\"id\":\"45128\",\"type\":\"Row\"},{\"attributes\":{\"source\":{\"id\":\"45192\"}},\"id\":\"45199\",\"type\":\"CDSView\"},{\"attributes\":{},\"id\":\"45172\",\"type\":\"Selection\"},{\"attributes\":{},\"id\":\"45145\",\"type\":\"BasicTicker\"},{\"attributes\":{\"margin\":[5,5,5,5],\"name\":\"HSpacer03869\",\"sizing_mode\":\"stretch_width\"},\"id\":\"45529\",\"type\":\"Spacer\"},{\"attributes\":{},\"id\":\"45166\",\"type\":\"AllLabels\"},{\"attributes\":{\"children\":[[{\"id\":\"45135\"},0,0],[{\"id\":\"45358\"},0,1]]},\"id\":\"45378\",\"type\":\"GridBox\"},{\"attributes\":{\"line_color\":\"#30a2da\",\"line_width\":2,\"x\":{\"field\":\"num_years\"},\"y\":{\"field\":\"wall_time\"}},\"id\":\"45191\",\"type\":\"Line\"},{\"attributes\":{\"editor\":{\"id\":\"45354\"},\"field\":\"wall_time\",\"formatter\":{\"id\":\"45353\"},\"title\":\"wall_time\"},\"id\":\"45355\",\"type\":\"TableColumn\"},{\"attributes\":{\"data\":{\"computation\":[\"monthly_average\",\"monthly_average\",\"monthly_average\",\"monthly_average\",\"monthly_average\",\"monthly_average\",\"monthly_average\",\"monthly_average\"],\"num_years\":{\"__ndarray__\":\"AAAAAAAA8D8AAAAAAAAUQAAAAAAAACRAAAAAAAAANEAAAAAAAAA+QAAAAAAAAERAAAAAAAAASUAAAAAAAABOQA==\",\"dtype\":\"float64\",\"order\":\"little\",\"shape\":[8]},\"wall_time\":{\"__ndarray__\":\"AAAAgJM05D8AAAAgZM4AQAAAAKDSGRBAAAAASCWzJEAAAABUe7kxQAAAALig6T5AAAAAgh1ARkAAAAD4cmJNQA==\",\"dtype\":\"float64\",\"order\":\"little\",\"shape\":[8]}},\"selected\":{\"id\":\"45215\"},\"selection_policy\":{\"id\":\"45234\"}},\"id\":\"45214\",\"type\":\"ColumnDataSource\"},{\"attributes\":{\"data_source\":{\"id\":\"45192\"},\"glyph\":{\"id\":\"45195\"},\"hover_glyph\":null,\"muted_glyph\":{\"id\":\"45197\"},\"nonselection_glyph\":{\"id\":\"45196\"},\"selection_glyph\":{\"id\":\"45213\"},\"view\":{\"id\":\"45199\"}},\"id\":\"45198\",\"type\":\"GlyphRenderer\"},{\"attributes\":{\"overlay\":{\"id\":\"45157\"}},\"id\":\"45155\",\"type\":\"BoxZoomTool\"},{\"attributes\":{},\"id\":\"45156\",\"type\":\"ResetTool\"}],\"root_ids\":[\"45128\"]},\"title\":\"Bokeh Application\",\"version\":\"2.3.3\"}};\n",
       "    var render_items = [{\"docid\":\"defd8c4c-1b29-40bf-b35f-37d4ec9ee4b6\",\"root_ids\":[\"45128\"],\"roots\":{\"45128\":\"8ce92938-5f7b-485f-9d81-6b5060f17dfc\"}}];\n",
       "    root.Bokeh.embed.embed_items_notebook(docs_json, render_items);\n",
       "  }\n",
       "  if (root.Bokeh !== undefined && root.Bokeh.Panel !== undefined) {\n",
       "    embed_document(root);\n",
       "  } else {\n",
       "    var attempts = 0;\n",
       "    var timer = setInterval(function(root) {\n",
       "      if (root.Bokeh !== undefined && root.Bokeh.Panel !== undefined) {\n",
       "        clearInterval(timer);\n",
       "        embed_document(root);\n",
       "      } else if (document.readyState == \"complete\") {\n",
       "        attempts++;\n",
       "        if (attempts > 200) {\n",
       "          clearInterval(timer);\n",
       "          console.log(\"Bokeh: ERROR: Unable to run BokehJS code because BokehJS library is missing\");\n",
       "        }\n",
       "      }\n",
       "    }, 25, root)\n",
       "  }\n",
       "})(window);</script>"
      ],
      "text/plain": [
       ":Layout\n",
       "   .NdOverlay.I :NdOverlay   [computation]\n",
       "      :Curve   [num_years]   (wall_time)\n",
       "   .Table.I     :Table   [catalog,computation,num_years,wall_time]"
      ]
     },
     "execution_count": 19,
     "metadata": {
      "application/vnd.holoviews_exec.v0+json": {
       "id": "45128"
      }
     },
     "output_type": "execute_result"
    }
   ],
   "source": [
    "(\n",
    "    df_history.hvplot(\n",
    "        x='num_years',\n",
    "        y='wall_time',\n",
    "        by='computation',\n",
    "        xlabel='Number of Years',\n",
    "        ylabel='Wall Time (s)',\n",
    "        width=550,\n",
    "    )\n",
    "    + df_history.hvplot.table(width=420)\n",
    ")"
   ]
  },
  {
   "cell_type": "markdown",
   "id": "43a6d8a7-2d0c-4182-9f96-782626a465ac",
   "metadata": {
    "tags": []
   },
   "source": [
    "### Bringing These Two Together"
   ]
  },
  {
   "cell_type": "code",
   "execution_count": 20,
   "id": "ddca05dc-2207-47b1-8e5a-35aa4f5ae6bb",
   "metadata": {},
   "outputs": [],
   "source": [
    "df = pd.concat([df_timeseries, df_history])"
   ]
  },
  {
   "cell_type": "code",
   "execution_count": 21,
   "id": "947c836b-15b6-4187-9d49-1f049eeb6eb7",
   "metadata": {},
   "outputs": [
    {
     "data": {},
     "metadata": {},
     "output_type": "display_data"
    },
    {
     "data": {
      "application/vnd.holoviews_exec.v0+json": "",
      "text/html": [
       "<div id='50924'>\n",
       "\n",
       "\n",
       "\n",
       "\n",
       "\n",
       "  <div class=\"bk-root\" id=\"c1075588-8b99-4159-a825-823aff728492\" data-root-id=\"50924\"></div>\n",
       "</div>\n",
       "<script type=\"application/javascript\">(function(root) {\n",
       "  function embed_document(root) {\n",
       "    var docs_json = {\"c1de248d-c2a2-4b51-85c0-9f42a39bda44\":{\"defs\":[{\"extends\":null,\"module\":null,\"name\":\"ReactiveHTML1\",\"overrides\":[],\"properties\":[]},{\"extends\":null,\"module\":null,\"name\":\"FlexBox1\",\"overrides\":[],\"properties\":[{\"default\":\"flex-start\",\"kind\":null,\"name\":\"align_content\"},{\"default\":\"flex-start\",\"kind\":null,\"name\":\"align_items\"},{\"default\":\"row\",\"kind\":null,\"name\":\"flex_direction\"},{\"default\":\"wrap\",\"kind\":null,\"name\":\"flex_wrap\"},{\"default\":\"flex-start\",\"kind\":null,\"name\":\"justify_content\"}]},{\"extends\":null,\"module\":null,\"name\":\"TemplateActions1\",\"overrides\":[],\"properties\":[{\"default\":0,\"kind\":null,\"name\":\"open_modal\"},{\"default\":0,\"kind\":null,\"name\":\"close_modal\"}]},{\"extends\":null,\"module\":null,\"name\":\"MaterialTemplateActions1\",\"overrides\":[],\"properties\":[{\"default\":0,\"kind\":null,\"name\":\"open_modal\"},{\"default\":0,\"kind\":null,\"name\":\"close_modal\"}]}],\"roots\":{\"references\":[{\"attributes\":{},\"id\":\"50939\",\"type\":\"LinearScale\"},{\"attributes\":{\"line_color\":\"#e5ae38\",\"line_width\":2,\"x\":{\"field\":\"num_years\"},\"y\":{\"field\":\"wall_time\"}},\"id\":\"51036\",\"type\":\"Line\"},{\"attributes\":{},\"id\":\"51059\",\"type\":\"UnionRenderers\"},{\"attributes\":{\"line_alpha\":0.1,\"line_color\":\"#e5ae38\",\"line_width\":2,\"x\":{\"field\":\"num_years\"},\"y\":{\"field\":\"wall_time\"}},\"id\":\"51017\",\"type\":\"Line\"},{\"attributes\":{\"line_alpha\":0.1,\"line_color\":\"#30a2da\",\"line_width\":2,\"x\":{\"field\":\"num_years\"},\"y\":{\"field\":\"wall_time\"}},\"id\":\"50974\",\"type\":\"Line\"},{\"attributes\":{},\"id\":\"50951\",\"type\":\"SaveTool\"},{\"attributes\":{\"data\":{\"catalog\":[\"timeseries\",\"timeseries\",\"timeseries\",\"timeseries\",\"timeseries\",\"timeseries\",\"timeseries\",\"timeseries\"],\"computation\":[\"file_access\",\"file_access\",\"file_access\",\"file_access\",\"file_access\",\"file_access\",\"file_access\",\"file_access\"],\"num_years\":{\"__ndarray__\":\"AAAAAAAA8D8AAAAAAAAUQAAAAAAAACRAAAAAAAAANEAAAAAAAAA+QAAAAAAAAERAAAAAAAAASUAAAAAAAABOQA==\",\"dtype\":\"float64\",\"order\":\"little\",\"shape\":[8]},\"wall_time\":{\"__ndarray__\":\"AAAAAI/ZFkAAAAAAVHvPPwAAAABsWs4/AAAAAEaJzz8AAAAAyCTQPwAAAAAoMrk/AAAAAHxFvD8AAAAAAJK5Pw==\",\"dtype\":\"float64\",\"order\":\"little\",\"shape\":[8]}},\"selected\":{\"id\":\"51038\"},\"selection_policy\":{\"id\":\"51059\"}},\"id\":\"51037\",\"type\":\"ColumnDataSource\"},{\"attributes\":{},\"id\":\"50952\",\"type\":\"PanTool\"},{\"attributes\":{},\"id\":\"51033\",\"type\":\"UnionRenderers\"},{\"attributes\":{\"line_color\":\"#e5ae38\",\"line_width\":2,\"x\":{\"field\":\"num_years\"},\"y\":{\"field\":\"wall_time\"}},\"id\":\"51016\",\"type\":\"Line\"},{\"attributes\":{\"callback\":null,\"renderers\":[{\"id\":\"50976\"},{\"id\":\"50997\"},{\"id\":\"51019\"},{\"id\":\"51043\"},{\"id\":\"51069\"},{\"id\":\"51097\"}],\"tags\":[\"hv_created\"],\"tooltips\":[[\"catalog\",\"@{catalog}\"],[\"computation\",\"@{computation}\"],[\"num_years\",\"@{num_years}\"],[\"wall_time\",\"@{wall_time}\"]]},\"id\":\"50928\",\"type\":\"HoverTool\"},{\"attributes\":{\"text_color\":\"black\",\"text_font_size\":\"12pt\"},\"id\":\"50935\",\"type\":\"Title\"},{\"attributes\":{},\"id\":\"51307\",\"type\":\"UnionRenderers\"},{\"attributes\":{},\"id\":\"51263\",\"type\":\"StringFormatter\"},{\"attributes\":{\"click_policy\":\"mute\",\"items\":[{\"id\":\"50989\"},{\"id\":\"51011\"},{\"id\":\"51035\"},{\"id\":\"51061\"},{\"id\":\"51089\"},{\"id\":\"51119\"}],\"location\":[0,0],\"title\":\"catalog, computation\"},\"id\":\"50988\",\"type\":\"Legend\"},{\"attributes\":{\"line_alpha\":0.2,\"line_color\":\"#e5ae38\",\"line_width\":2,\"x\":{\"field\":\"num_years\"},\"y\":{\"field\":\"wall_time\"}},\"id\":\"51018\",\"type\":\"Line\"},{\"attributes\":{},\"id\":\"50967\",\"type\":\"BasicTickFormatter\"},{\"attributes\":{},\"id\":\"50964\",\"type\":\"BasicTickFormatter\"},{\"attributes\":{\"children\":[{\"id\":\"51311\"},{\"id\":\"51309\"}]},\"id\":\"51312\",\"type\":\"Column\"},{\"attributes\":{},\"id\":\"51274\",\"type\":\"NumberEditor\"},{\"attributes\":{\"line_alpha\":0.2,\"line_color\":\"#30a2da\",\"line_width\":2,\"x\":{\"field\":\"num_years\"},\"y\":{\"field\":\"wall_time\"}},\"id\":\"50975\",\"type\":\"Line\"},{\"attributes\":{\"source\":{\"id\":\"50991\"}},\"id\":\"50998\",\"type\":\"CDSView\"},{\"attributes\":{\"label\":{\"value\":\"timeseries, long_term_average\"},\"renderers\":[{\"id\":\"51069\"}]},\"id\":\"51089\",\"type\":\"LegendItem\"},{\"attributes\":{\"data_source\":{\"id\":\"50991\"},\"glyph\":{\"id\":\"50994\"},\"hover_glyph\":null,\"muted_glyph\":{\"id\":\"50996\"},\"nonselection_glyph\":{\"id\":\"50995\"},\"selection_glyph\":{\"id\":\"51012\"},\"view\":{\"id\":\"50998\"}},\"id\":\"50997\",\"type\":\"GlyphRenderer\"},{\"attributes\":{\"line_color\":\"#17becf\",\"line_width\":2,\"x\":{\"field\":\"num_years\"},\"y\":{\"field\":\"wall_time\"}},\"id\":\"51094\",\"type\":\"Line\"},{\"attributes\":{},\"id\":\"50971\",\"type\":\"Selection\"},{\"attributes\":{\"editor\":{\"id\":\"51279\"},\"field\":\"wall_time\",\"formatter\":{\"id\":\"51278\"},\"title\":\"wall_time\"},\"id\":\"51280\",\"type\":\"TableColumn\"},{\"attributes\":{\"data\":{\"catalog\":[\"history\",\"history\",\"history\",\"history\",\"history\",\"history\",\"history\",\"history\"],\"computation\":[\"long_term_average\",\"long_term_average\",\"long_term_average\",\"long_term_average\",\"long_term_average\",\"long_term_average\",\"long_term_average\",\"long_term_average\"],\"num_years\":{\"__ndarray__\":\"AAAAAAAA8D8AAAAAAAAUQAAAAAAAACRAAAAAAAAANEAAAAAAAAA+QAAAAAAAAERAAAAAAAAASUAAAAAAAABOQA==\",\"dtype\":\"float64\",\"order\":\"little\",\"shape\":[8]},\"wall_time\":{\"__ndarray__\":\"AAAAgDWF5j8AAADgYkADQAAAAHAlHhBAAAAAYNeCJEAAAAAsnfYxQAAAAAx/vT9AAAAA4O6ZR0AAAACqvNFQQA==\",\"dtype\":\"float64\",\"order\":\"little\",\"shape\":[8]}},\"selected\":{\"id\":\"50992\"},\"selection_policy\":{\"id\":\"51009\"}},\"id\":\"50991\",\"type\":\"ColumnDataSource\"},{\"attributes\":{\"source\":{\"id\":\"51091\"}},\"id\":\"51098\",\"type\":\"CDSView\"},{\"attributes\":{\"overlay\":{\"id\":\"50956\"}},\"id\":\"50954\",\"type\":\"BoxZoomTool\"},{\"attributes\":{\"data\":{\"catalog\":[\"timeseries\",\"timeseries\",\"timeseries\",\"timeseries\",\"timeseries\",\"timeseries\",\"timeseries\",\"timeseries\"],\"computation\":[\"monthly_average\",\"monthly_average\",\"monthly_average\",\"monthly_average\",\"monthly_average\",\"monthly_average\",\"monthly_average\",\"monthly_average\"],\"num_years\":{\"__ndarray__\":\"AAAAAAAA8D8AAAAAAAAUQAAAAAAAACRAAAAAAAAANEAAAAAAAAA+QAAAAAAAAERAAAAAAAAASUAAAAAAAABOQA==\",\"dtype\":\"float64\",\"order\":\"little\",\"shape\":[8]},\"wall_time\":{\"__ndarray__\":\"AAAAoCkUBkAAAAAAt88GQAAAAODURAJAAAAAoCYXAEAAAACgxoUDQAAAAMAEZAVAAAAAwDXbAkAAAABAykAFQA==\",\"dtype\":\"float64\",\"order\":\"little\",\"shape\":[8]}},\"selected\":{\"id\":\"51092\"},\"selection_policy\":{\"id\":\"51117\"}},\"id\":\"51091\",\"type\":\"ColumnDataSource\"},{\"attributes\":{\"children\":[[{\"id\":\"50934\"},0,0],[{\"id\":\"51283\"},0,1]]},\"id\":\"51309\",\"type\":\"GridBox\"},{\"attributes\":{\"label\":{\"value\":\"history, monthly_average\"},\"renderers\":[{\"id\":\"51019\"}]},\"id\":\"51035\",\"type\":\"LegendItem\"},{\"attributes\":{},\"id\":\"50992\",\"type\":\"Selection\"},{\"attributes\":{\"end\":60.0,\"reset_end\":60.0,\"reset_start\":1.0,\"start\":1.0,\"tags\":[[[\"num_years\",\"num_years\",null]]]},\"id\":\"50926\",\"type\":\"Range1d\"},{\"attributes\":{},\"id\":\"51092\",\"type\":\"Selection\"},{\"attributes\":{\"line_alpha\":0.2,\"line_color\":\"#8b8b8b\",\"line_width\":2,\"x\":{\"field\":\"num_years\"},\"y\":{\"field\":\"wall_time\"}},\"id\":\"51068\",\"type\":\"Line\"},{\"attributes\":{\"data_source\":{\"id\":\"50970\"},\"glyph\":{\"id\":\"50973\"},\"hover_glyph\":null,\"muted_glyph\":{\"id\":\"50975\"},\"nonselection_glyph\":{\"id\":\"50974\"},\"selection_glyph\":{\"id\":\"50990\"},\"view\":{\"id\":\"50977\"}},\"id\":\"50976\",\"type\":\"GlyphRenderer\"},{\"attributes\":{\"axis\":{\"id\":\"50943\"},\"grid_line_color\":null,\"ticker\":null},\"id\":\"50946\",\"type\":\"Grid\"},{\"attributes\":{\"line_alpha\":0.2,\"line_color\":\"#fc4f30\",\"line_width\":2,\"x\":{\"field\":\"num_years\"},\"y\":{\"field\":\"wall_time\"}},\"id\":\"50996\",\"type\":\"Line\"},{\"attributes\":{\"children\":[{\"id\":\"50925\"},{\"id\":\"51312\"},{\"id\":\"51511\"}],\"margin\":[0,0,0,0],\"name\":\"Row04756\",\"tags\":[\"embedded\"]},\"id\":\"50924\",\"type\":\"Row\"},{\"attributes\":{\"label\":{\"value\":\"timeseries, file_access\"},\"renderers\":[{\"id\":\"51043\"}]},\"id\":\"51061\",\"type\":\"LegendItem\"},{\"attributes\":{\"editor\":{\"id\":\"51269\"},\"field\":\"computation\",\"formatter\":{\"id\":\"51268\"},\"title\":\"computation\"},\"id\":\"51270\",\"type\":\"TableColumn\"},{\"attributes\":{\"line_color\":\"#8b8b8b\",\"line_width\":2,\"x\":{\"field\":\"num_years\"},\"y\":{\"field\":\"wall_time\"}},\"id\":\"51066\",\"type\":\"Line\"},{\"attributes\":{},\"id\":\"50941\",\"type\":\"LinearScale\"},{\"attributes\":{\"line_alpha\":0.1,\"line_color\":\"#fc4f30\",\"line_width\":2,\"x\":{\"field\":\"num_years\"},\"y\":{\"field\":\"wall_time\"}},\"id\":\"50995\",\"type\":\"Line\"},{\"attributes\":{\"label\":{\"value\":\"timeseries, monthly_average\"},\"renderers\":[{\"id\":\"51097\"}]},\"id\":\"51119\",\"type\":\"LegendItem\"},{\"attributes\":{\"line_color\":\"#30a2da\",\"line_width\":2,\"x\":{\"field\":\"num_years\"},\"y\":{\"field\":\"wall_time\"}},\"id\":\"50973\",\"type\":\"Line\"},{\"attributes\":{},\"id\":\"51064\",\"type\":\"Selection\"},{\"attributes\":{},\"id\":\"50965\",\"type\":\"AllLabels\"},{\"attributes\":{},\"id\":\"50986\",\"type\":\"UnionRenderers\"},{\"attributes\":{\"data_source\":{\"id\":\"51013\"},\"glyph\":{\"id\":\"51016\"},\"hover_glyph\":null,\"muted_glyph\":{\"id\":\"51018\"},\"nonselection_glyph\":{\"id\":\"51017\"},\"selection_glyph\":{\"id\":\"51036\"},\"view\":{\"id\":\"51020\"}},\"id\":\"51019\",\"type\":\"GlyphRenderer\"},{\"attributes\":{},\"id\":\"51117\",\"type\":\"UnionRenderers\"},{\"attributes\":{\"label\":{\"value\":\"history, file_access\"},\"renderers\":[{\"id\":\"50976\"}]},\"id\":\"50989\",\"type\":\"LegendItem\"},{\"attributes\":{},\"id\":\"50955\",\"type\":\"ResetTool\"},{\"attributes\":{\"data\":{\"catalog\":[\"history\",\"history\",\"history\",\"history\",\"history\",\"history\",\"history\",\"history\"],\"computation\":[\"file_access\",\"file_access\",\"file_access\",\"file_access\",\"file_access\",\"file_access\",\"file_access\",\"file_access\"],\"num_years\":{\"__ndarray__\":\"AAAAAAAA8D8AAAAAAAAUQAAAAAAAACRAAAAAAAAANEAAAAAAAAA+QAAAAAAAAERAAAAAAAAASUAAAAAAAABOQA==\",\"dtype\":\"float64\",\"order\":\"little\",\"shape\":[8]},\"wall_time\":{\"__ndarray__\":\"AAAAwAhD9j8AAABAjxX5PwAAACChiwpAAAAAoL2MIkAAAAB8LMswQAAAAGApIT1AAAAAijoYRUAAAACUZPdLQA==\",\"dtype\":\"float64\",\"order\":\"little\",\"shape\":[8]}},\"selected\":{\"id\":\"50971\"},\"selection_policy\":{\"id\":\"50986\"}},\"id\":\"50970\",\"type\":\"ColumnDataSource\"},{\"attributes\":{\"line_color\":\"#17becf\",\"line_width\":2,\"x\":{\"field\":\"num_years\"},\"y\":{\"field\":\"wall_time\"}},\"id\":\"51120\",\"type\":\"Line\"},{\"attributes\":{},\"id\":\"51009\",\"type\":\"UnionRenderers\"},{\"attributes\":{},\"id\":\"51038\",\"type\":\"Selection\"},{\"attributes\":{\"end\":73.9950119972229,\"reset_end\":73.9950119972229,\"reset_start\":-6.619450283050537,\"start\":-6.619450283050537,\"tags\":[[[\"wall_time\",\"wall_time\",null]]]},\"id\":\"50927\",\"type\":\"Range1d\"},{\"attributes\":{\"line_color\":\"#fc4f30\",\"line_width\":2,\"x\":{\"field\":\"num_years\"},\"y\":{\"field\":\"wall_time\"}},\"id\":\"50994\",\"type\":\"Line\"},{\"attributes\":{},\"id\":\"50968\",\"type\":\"AllLabels\"},{\"attributes\":{},\"id\":\"50953\",\"type\":\"WheelZoomTool\"},{\"attributes\":{\"data_source\":{\"id\":\"51091\"},\"glyph\":{\"id\":\"51094\"},\"hover_glyph\":null,\"muted_glyph\":{\"id\":\"51096\"},\"nonselection_glyph\":{\"id\":\"51095\"},\"selection_glyph\":{\"id\":\"51120\"},\"view\":{\"id\":\"51098\"}},\"id\":\"51097\",\"type\":\"GlyphRenderer\"},{\"attributes\":{\"active_multi\":null,\"tools\":[{\"id\":\"50928\"},{\"id\":\"50951\"},{\"id\":\"50952\"},{\"id\":\"50953\"},{\"id\":\"50954\"},{\"id\":\"50955\"}]},\"id\":\"50957\",\"type\":\"Toolbar\"},{\"attributes\":{\"axis_label\":\"Number of Years\",\"formatter\":{\"id\":\"50964\"},\"major_label_policy\":{\"id\":\"50965\"},\"ticker\":{\"id\":\"50944\"}},\"id\":\"50943\",\"type\":\"LinearAxis\"},{\"attributes\":{\"axis\":{\"id\":\"50947\"},\"dimension\":1,\"grid_line_color\":null,\"ticker\":null},\"id\":\"50950\",\"type\":\"Grid\"},{\"attributes\":{},\"id\":\"51262\",\"type\":\"Selection\"},{\"attributes\":{\"margin\":[5,5,5,5],\"name\":\"HSpacer04760\",\"sizing_mode\":\"stretch_width\"},\"id\":\"50925\",\"type\":\"Spacer\"},{\"attributes\":{\"data\":{\"catalog\":[\"history\",\"history\",\"history\",\"history\",\"history\",\"history\",\"history\",\"history\"],\"computation\":[\"monthly_average\",\"monthly_average\",\"monthly_average\",\"monthly_average\",\"monthly_average\",\"monthly_average\",\"monthly_average\",\"monthly_average\"],\"num_years\":{\"__ndarray__\":\"AAAAAAAA8D8AAAAAAAAUQAAAAAAAACRAAAAAAAAANEAAAAAAAAA+QAAAAAAAAERAAAAAAAAASUAAAAAAAABOQA==\",\"dtype\":\"float64\",\"order\":\"little\",\"shape\":[8]},\"wall_time\":{\"__ndarray__\":\"AAAAgJM05D8AAAAgZM4AQAAAAKDSGRBAAAAASCWzJEAAAABUe7kxQAAAALig6T5AAAAAgh1ARkAAAAD4cmJNQA==\",\"dtype\":\"float64\",\"order\":\"little\",\"shape\":[8]}},\"selected\":{\"id\":\"51014\"},\"selection_policy\":{\"id\":\"51033\"}},\"id\":\"51013\",\"type\":\"ColumnDataSource\"},{\"attributes\":{},\"id\":\"51014\",\"type\":\"Selection\"},{\"attributes\":{\"line_alpha\":0.1,\"line_color\":\"#8b8b8b\",\"line_width\":2,\"x\":{\"field\":\"num_years\"},\"y\":{\"field\":\"wall_time\"}},\"id\":\"51067\",\"type\":\"Line\"},{\"attributes\":{\"line_alpha\":0.2,\"line_color\":\"#17becf\",\"line_width\":2,\"x\":{\"field\":\"num_years\"},\"y\":{\"field\":\"wall_time\"}},\"id\":\"51096\",\"type\":\"Line\"},{\"attributes\":{\"format\":\"0,0.0[00000]\"},\"id\":\"51273\",\"type\":\"NumberFormatter\"},{\"attributes\":{\"below\":[{\"id\":\"50943\"}],\"center\":[{\"id\":\"50946\"},{\"id\":\"50950\"}],\"height\":300,\"left\":[{\"id\":\"50947\"}],\"margin\":null,\"min_border_bottom\":10,\"min_border_left\":10,\"min_border_right\":10,\"min_border_top\":10,\"renderers\":[{\"id\":\"50976\"},{\"id\":\"50997\"},{\"id\":\"51019\"},{\"id\":\"51043\"},{\"id\":\"51069\"},{\"id\":\"51097\"}],\"right\":[{\"id\":\"50988\"}],\"sizing_mode\":\"fixed\",\"title\":{\"id\":\"50935\"},\"toolbar\":{\"id\":\"50957\"},\"toolbar_location\":null,\"width\":800,\"x_range\":{\"id\":\"50926\"},\"x_scale\":{\"id\":\"50939\"},\"y_range\":{\"id\":\"50927\"},\"y_scale\":{\"id\":\"50941\"}},\"id\":\"50934\",\"subtype\":\"Figure\",\"type\":\"Plot\"},{\"attributes\":{},\"id\":\"51279\",\"type\":\"NumberEditor\"},{\"attributes\":{\"line_color\":\"#8b8b8b\",\"line_width\":2,\"x\":{\"field\":\"num_years\"},\"y\":{\"field\":\"wall_time\"}},\"id\":\"51090\",\"type\":\"Line\"},{\"attributes\":{\"source\":{\"id\":\"51261\"}},\"id\":\"51285\",\"type\":\"CDSView\"},{\"attributes\":{\"axis_label\":\"Wall Time (s)\",\"formatter\":{\"id\":\"50967\"},\"major_label_policy\":{\"id\":\"50968\"},\"ticker\":{\"id\":\"50948\"}},\"id\":\"50947\",\"type\":\"LinearAxis\"},{\"attributes\":{\"data_source\":{\"id\":\"51037\"},\"glyph\":{\"id\":\"51040\"},\"hover_glyph\":null,\"muted_glyph\":{\"id\":\"51042\"},\"nonselection_glyph\":{\"id\":\"51041\"},\"selection_glyph\":{\"id\":\"51062\"},\"view\":{\"id\":\"51044\"}},\"id\":\"51043\",\"type\":\"GlyphRenderer\"},{\"attributes\":{\"format\":\"0,0.0[00000]\"},\"id\":\"51278\",\"type\":\"NumberFormatter\"},{\"attributes\":{\"source\":{\"id\":\"51037\"}},\"id\":\"51044\",\"type\":\"CDSView\"},{\"attributes\":{},\"id\":\"51087\",\"type\":\"UnionRenderers\"},{\"attributes\":{\"columns\":[{\"id\":\"51265\"},{\"id\":\"51270\"},{\"id\":\"51275\"},{\"id\":\"51280\"}],\"height\":300,\"reorderable\":false,\"source\":{\"id\":\"51261\"},\"view\":{\"id\":\"51285\"},\"width\":420},\"id\":\"51283\",\"type\":\"DataTable\"},{\"attributes\":{\"data_source\":{\"id\":\"51063\"},\"glyph\":{\"id\":\"51066\"},\"hover_glyph\":null,\"muted_glyph\":{\"id\":\"51068\"},\"nonselection_glyph\":{\"id\":\"51067\"},\"selection_glyph\":{\"id\":\"51090\"},\"view\":{\"id\":\"51070\"}},\"id\":\"51069\",\"type\":\"GlyphRenderer\"},{\"attributes\":{\"editor\":{\"id\":\"51264\"},\"field\":\"catalog\",\"formatter\":{\"id\":\"51263\"},\"title\":\"catalog\"},\"id\":\"51265\",\"type\":\"TableColumn\"},{\"attributes\":{\"line_alpha\":0.1,\"line_color\":\"#6d904f\",\"line_width\":2,\"x\":{\"field\":\"num_years\"},\"y\":{\"field\":\"wall_time\"}},\"id\":\"51041\",\"type\":\"Line\"},{\"attributes\":{\"line_color\":\"#fc4f30\",\"line_width\":2,\"x\":{\"field\":\"num_years\"},\"y\":{\"field\":\"wall_time\"}},\"id\":\"51012\",\"type\":\"Line\"},{\"attributes\":{\"data\":{\"catalog\":[\"timeseries\",\"timeseries\",\"timeseries\",\"timeseries\",\"timeseries\",\"timeseries\",\"timeseries\",\"timeseries\"],\"computation\":[\"long_term_average\",\"long_term_average\",\"long_term_average\",\"long_term_average\",\"long_term_average\",\"long_term_average\",\"long_term_average\",\"long_term_average\"],\"num_years\":{\"__ndarray__\":\"AAAAAAAA8D8AAAAAAAAUQAAAAAAAACRAAAAAAAAANEAAAAAAAAA+QAAAAAAAAERAAAAAAAAASUAAAAAAAABOQA==\",\"dtype\":\"float64\",\"order\":\"little\",\"shape\":[8]},\"wall_time\":{\"__ndarray__\":\"AAAAoBysDEAAAACApl3wPwAAAAB/me4/AAAAQLtB+j8AAACAQsD3PwAAAMBIJfA/AAAAgPGG8D8AAAAArnPwPw==\",\"dtype\":\"float64\",\"order\":\"little\",\"shape\":[8]}},\"selected\":{\"id\":\"51064\"},\"selection_policy\":{\"id\":\"51087\"}},\"id\":\"51063\",\"type\":\"ColumnDataSource\"},{\"attributes\":{\"source\":{\"id\":\"51013\"}},\"id\":\"51020\",\"type\":\"CDSView\"},{\"attributes\":{},\"id\":\"50944\",\"type\":\"BasicTicker\"},{\"attributes\":{\"toolbars\":[{\"id\":\"50957\"}],\"tools\":[{\"id\":\"50928\"},{\"id\":\"50951\"},{\"id\":\"50952\"},{\"id\":\"50953\"},{\"id\":\"50954\"},{\"id\":\"50955\"}]},\"id\":\"51310\",\"type\":\"ProxyToolbar\"},{\"attributes\":{\"line_color\":\"#6d904f\",\"line_width\":2,\"x\":{\"field\":\"num_years\"},\"y\":{\"field\":\"wall_time\"}},\"id\":\"51062\",\"type\":\"Line\"},{\"attributes\":{\"label\":{\"value\":\"history, long_term_average\"},\"renderers\":[{\"id\":\"50997\"}]},\"id\":\"51011\",\"type\":\"LegendItem\"},{\"attributes\":{\"toolbar\":{\"id\":\"51310\"},\"toolbar_location\":\"above\"},\"id\":\"51311\",\"type\":\"ToolbarBox\"},{\"attributes\":{\"line_color\":\"#30a2da\",\"line_width\":2,\"x\":{\"field\":\"num_years\"},\"y\":{\"field\":\"wall_time\"}},\"id\":\"50990\",\"type\":\"Line\"},{\"attributes\":{\"line_alpha\":0.2,\"line_color\":\"#6d904f\",\"line_width\":2,\"x\":{\"field\":\"num_years\"},\"y\":{\"field\":\"wall_time\"}},\"id\":\"51042\",\"type\":\"Line\"},{\"attributes\":{\"line_alpha\":0.1,\"line_color\":\"#17becf\",\"line_width\":2,\"x\":{\"field\":\"num_years\"},\"y\":{\"field\":\"wall_time\"}},\"id\":\"51095\",\"type\":\"Line\"},{\"attributes\":{},\"id\":\"51264\",\"type\":\"StringEditor\"},{\"attributes\":{\"source\":{\"id\":\"50970\"}},\"id\":\"50977\",\"type\":\"CDSView\"},{\"attributes\":{\"margin\":[5,5,5,5],\"name\":\"HSpacer04761\",\"sizing_mode\":\"stretch_width\"},\"id\":\"51511\",\"type\":\"Spacer\"},{\"attributes\":{},\"id\":\"51268\",\"type\":\"StringFormatter\"},{\"attributes\":{},\"id\":\"50948\",\"type\":\"BasicTicker\"},{\"attributes\":{\"source\":{\"id\":\"51063\"}},\"id\":\"51070\",\"type\":\"CDSView\"},{\"attributes\":{\"editor\":{\"id\":\"51274\"},\"field\":\"num_years\",\"formatter\":{\"id\":\"51273\"},\"title\":\"num_years\"},\"id\":\"51275\",\"type\":\"TableColumn\"},{\"attributes\":{\"line_color\":\"#6d904f\",\"line_width\":2,\"x\":{\"field\":\"num_years\"},\"y\":{\"field\":\"wall_time\"}},\"id\":\"51040\",\"type\":\"Line\"},{\"attributes\":{\"bottom_units\":\"screen\",\"fill_alpha\":0.5,\"fill_color\":\"lightgrey\",\"left_units\":\"screen\",\"level\":\"overlay\",\"line_alpha\":1.0,\"line_color\":\"black\",\"line_dash\":[4,4],\"line_width\":2,\"right_units\":\"screen\",\"syncable\":false,\"top_units\":\"screen\"},\"id\":\"50956\",\"type\":\"BoxAnnotation\"},{\"attributes\":{},\"id\":\"51269\",\"type\":\"StringEditor\"},{\"attributes\":{\"data\":{\"catalog\":[\"timeseries\",\"timeseries\",\"timeseries\",\"timeseries\",\"timeseries\",\"timeseries\",\"timeseries\",\"timeseries\",\"timeseries\",\"timeseries\",\"timeseries\",\"timeseries\",\"timeseries\",\"timeseries\",\"timeseries\",\"timeseries\",\"timeseries\",\"timeseries\",\"timeseries\",\"timeseries\",\"timeseries\",\"timeseries\",\"timeseries\",\"timeseries\",\"history\",\"history\",\"history\",\"history\",\"history\",\"history\",\"history\",\"history\",\"history\",\"history\",\"history\",\"history\",\"history\",\"history\",\"history\",\"history\",\"history\",\"history\",\"history\",\"history\",\"history\",\"history\",\"history\",\"history\"],\"computation\":[\"file_access\",\"long_term_average\",\"monthly_average\",\"file_access\",\"long_term_average\",\"monthly_average\",\"file_access\",\"long_term_average\",\"monthly_average\",\"file_access\",\"long_term_average\",\"monthly_average\",\"file_access\",\"long_term_average\",\"monthly_average\",\"file_access\",\"long_term_average\",\"monthly_average\",\"file_access\",\"long_term_average\",\"monthly_average\",\"file_access\",\"long_term_average\",\"monthly_average\",\"file_access\",\"long_term_average\",\"monthly_average\",\"file_access\",\"long_term_average\",\"monthly_average\",\"file_access\",\"long_term_average\",\"monthly_average\",\"file_access\",\"long_term_average\",\"monthly_average\",\"file_access\",\"long_term_average\",\"monthly_average\",\"file_access\",\"long_term_average\",\"monthly_average\",\"file_access\",\"long_term_average\",\"monthly_average\",\"file_access\",\"long_term_average\",\"monthly_average\"],\"num_years\":{\"__ndarray__\":\"AAAAAAAA8D8AAAAAAADwPwAAAAAAAPA/AAAAAAAAFEAAAAAAAAAUQAAAAAAAABRAAAAAAAAAJEAAAAAAAAAkQAAAAAAAACRAAAAAAAAANEAAAAAAAAA0QAAAAAAAADRAAAAAAAAAPkAAAAAAAAA+QAAAAAAAAD5AAAAAAAAAREAAAAAAAABEQAAAAAAAAERAAAAAAAAASUAAAAAAAABJQAAAAAAAAElAAAAAAAAATkAAAAAAAABOQAAAAAAAAE5AAAAAAAAA8D8AAAAAAADwPwAAAAAAAPA/AAAAAAAAFEAAAAAAAAAUQAAAAAAAABRAAAAAAAAAJEAAAAAAAAAkQAAAAAAAACRAAAAAAAAANEAAAAAAAAA0QAAAAAAAADRAAAAAAAAAPkAAAAAAAAA+QAAAAAAAAD5AAAAAAAAAREAAAAAAAABEQAAAAAAAAERAAAAAAAAASUAAAAAAAABJQAAAAAAAAElAAAAAAAAATkAAAAAAAABOQAAAAAAAAE5A\",\"dtype\":\"float64\",\"order\":\"little\",\"shape\":[48]},\"wall_time\":{\"__ndarray__\":\"AAAAAI/ZFkAAAACgHKwMQAAAAKApFAZAAAAAAFR7zz8AAACApl3wPwAAAAC3zwZAAAAAAGxazj8AAAAAf5nuPwAAAODURAJAAAAAAEaJzz8AAABAu0H6PwAAAKAmFwBAAAAAAMgk0D8AAACAQsD3PwAAAKDGhQNAAAAAACgyuT8AAADASCXwPwAAAMAEZAVAAAAAAHxFvD8AAACA8YbwPwAAAMA12wJAAAAAAACSuT8AAAAArnPwPwAAAEDKQAVAAAAAwAhD9j8AAACANYXmPwAAAICTNOQ/AAAAQI8V+T8AAADgYkADQAAAACBkzgBAAAAAIKGLCkAAAABwJR4QQAAAAKDSGRBAAAAAoL2MIkAAAABg14IkQAAAAEglsyRAAAAAfCzLMEAAAAAsnfYxQAAAAFR7uTFAAAAAYCkhPUAAAAAMf70/QAAAALig6T5AAAAAijoYRUAAAADg7plHQAAAAIIdQEZAAAAAlGT3S0AAAACqvNFQQAAAAPhyYk1A\",\"dtype\":\"float64\",\"order\":\"little\",\"shape\":[48]}},\"selected\":{\"id\":\"51262\"},\"selection_policy\":{\"id\":\"51307\"}},\"id\":\"51261\",\"type\":\"ColumnDataSource\"}],\"root_ids\":[\"50924\"]},\"title\":\"Bokeh Application\",\"version\":\"2.3.3\"}};\n",
       "    var render_items = [{\"docid\":\"c1de248d-c2a2-4b51-85c0-9f42a39bda44\",\"root_ids\":[\"50924\"],\"roots\":{\"50924\":\"c1075588-8b99-4159-a825-823aff728492\"}}];\n",
       "    root.Bokeh.embed.embed_items_notebook(docs_json, render_items);\n",
       "  }\n",
       "  if (root.Bokeh !== undefined && root.Bokeh.Panel !== undefined) {\n",
       "    embed_document(root);\n",
       "  } else {\n",
       "    var attempts = 0;\n",
       "    var timer = setInterval(function(root) {\n",
       "      if (root.Bokeh !== undefined && root.Bokeh.Panel !== undefined) {\n",
       "        clearInterval(timer);\n",
       "        embed_document(root);\n",
       "      } else if (document.readyState == \"complete\") {\n",
       "        attempts++;\n",
       "        if (attempts > 200) {\n",
       "          clearInterval(timer);\n",
       "          console.log(\"Bokeh: ERROR: Unable to run BokehJS code because BokehJS library is missing\");\n",
       "        }\n",
       "      }\n",
       "    }, 25, root)\n",
       "  }\n",
       "})(window);</script>"
      ],
      "text/plain": [
       ":Layout\n",
       "   .NdOverlay.I :NdOverlay   [catalog,computation]\n",
       "      :Curve   [num_years]   (wall_time)\n",
       "   .Table.I     :Table   [catalog,computation,num_years,wall_time]"
      ]
     },
     "execution_count": 21,
     "metadata": {
      "application/vnd.holoviews_exec.v0+json": {
       "id": "50924"
      }
     },
     "output_type": "execute_result"
    }
   ],
   "source": [
    "(\n",
    "    df.hvplot(\n",
    "        x='num_years',\n",
    "        y='wall_time',\n",
    "        by=['catalog', 'computation'],\n",
    "        xlabel='Number of Years',\n",
    "        ylabel='Wall Time (s)',\n",
    "        width=800,\n",
    "    )\n",
    "    + df.hvplot.table(width=420)\n",
    ")"
   ]
  },
  {
   "cell_type": "markdown",
   "id": "ea8a03f2-f811-44a9-bd7a-c13175670384",
   "metadata": {},
   "source": [
    "## Conclusions\n",
    "We see something unsuprising here; the performance working with timeseries files is much faster, with the greatest difference being the file access. With the history files, we see that the data read in step takes the longest, with relatively smaller differences in the computation time for the various averages. Once you read in the datasets, performance is similar.\n",
    "\n",
    "One item to note here is that we were able to read in 60 years worth of history files in under a minute, which is impressive! If you are plotting quick comparisons from model output, you may not need to neccessarily convert to timeseries right away; however in the long run, it will save on both space and computational expense."
   ]
  },
  {
   "cell_type": "code",
   "execution_count": null,
   "id": "77d95fc2-670c-4b31-af6a-87cb3a8576a0",
   "metadata": {},
   "outputs": [],
   "source": []
  }
 ],
 "metadata": {
  "author": "Max Grover",
  "date": "2021-09-17",
  "kernelspec": {
   "display_name": "Python [conda env:miniconda3-ecgtools-dev-2]",
   "language": "python",
   "name": "conda-env-miniconda3-ecgtools-dev-2-py"
  },
  "language_info": {
   "codemirror_mode": {
    "name": "ipython",
    "version": 3
   },
   "file_extension": ".py",
   "mimetype": "text/x-python",
   "name": "python",
   "nbconvert_exporter": "python",
   "pygments_lexer": "ipython3",
   "version": "3.9.7"
  },
  "tags": "ecgtools,intake,dask,cesm,benchmark",
  "title": "Benchmarking Performance of History vs. Timeseries Files"
 },
 "nbformat": 4,
 "nbformat_minor": 5
}
