{
 "cells": [
  {
   "cell_type": "markdown",
   "id": "bfd9cb30-4482-4695-ab80-63b2d2536cf2",
   "metadata": {},
   "source": [
    "# Benchmarking Performance of History vs. Timeseries Files with [`ecgtools`](https://ecgtools.readthedocs.io/en/latest/), [`Intake-ESM`](https://intake-esm.readthedocs.io/en/latest/), and [`Dask`](https://dask.org/)\n",
    "\n",
    "In this example, we will walk through \"benchmarking\" performance of reading, apply calculations, and visualizing data from the Community Earth System Model (CESM), using the following packages:\n",
    "* [`ecgtools`](https://ecgtools.readthedocs.io/en/latest/)\n",
    "* [`Intake-ESM`](https://intake-esm.readthedocs.io/en/latest/)\n",
    "* [`Dask`](https://dask.org/)\n",
    "\n",
    "Going into this analysis, we have a ***hypothesis*** that performance should be substantially better when reading from timeseries files, but let's take a look...\n",
    "\n",
    "One thing to note is that during the process of writing this, I continually upped the amount of computational resources requested for the cluster"
   ]
  },
  {
   "cell_type": "markdown",
   "id": "7511948a-7fe1-4bc6-880a-735599ef05b1",
   "metadata": {},
   "source": [
    "## Imports"
   ]
  },
  {
   "cell_type": "markdown",
   "id": "3073144b-bd77-4775-89b1-3ccbb9bebecd",
   "metadata": {},
   "source": [
    "### Installing packages via `conda-forge`\n",
    "\n",
    "As of this week, [`ecgtools`](https://ecgtools.readthedocs.io/en/latest/) is available via `conda-forge`, which is very exciting! You can install the packages used here using the following:\n",
    "\n",
    "```bash\n",
    "conda install -c conda-forge ecgtools ncar-jobqueue distributed intake-esm\n",
    "```"
   ]
  },
  {
   "cell_type": "code",
   "execution_count": 2,
   "id": "66fe2b0c-5d78-4b27-ac77-a1a5de1a056d",
   "metadata": {},
   "outputs": [],
   "source": [
    "import ast\n",
    "import time\n",
    "\n",
    "import hvplot\n",
    "import hvplot.pandas\n",
    "import intake\n",
    "import pandas as pd\n",
    "from dask.distributed import performance_report\n",
    "from distributed import Client\n",
    "from ecgtools import Builder\n",
    "from ecgtools.parsers.cesm import parse_cesm_history, parse_cesm_timeseries\n",
    "from ncar_jobqueue import NCARCluster"
   ]
  },
  {
   "cell_type": "markdown",
   "id": "3ba985ea-8428-4098-b455-71306957963f",
   "metadata": {
    "tags": []
   },
   "source": [
    "## Build the Catalogs\n",
    "\n",
    "Something to keep in mind here is that [`ecgtools`](https://ecgtools.readthedocs.io/en/latest/)'s builder parallelizes across the number of cores you have available; so ideally, for this section of the notebook, you will want to use more than a single core, up to however many you see fit.\n",
    "\n",
    "In this case, I am using a 40 cores"
   ]
  },
  {
   "cell_type": "markdown",
   "id": "35aa32b1-4edf-4e1b-9940-9e3ef603b092",
   "metadata": {},
   "source": [
    "### Build the History File Catalog"
   ]
  },
  {
   "cell_type": "code",
   "execution_count": 3,
   "id": "1e77b174-e386-41fb-a31a-b10879ba8368",
   "metadata": {},
   "outputs": [],
   "source": [
    "cesm_history_builder = Builder(\n",
    "    \"/glade/campaign/cesm/development/espwg/SMYLE/initial_conditions/SMYLE-FOSI\",\n",
    "    exclude_patterns=[\"*/rest/*\", \"*/logs/*\", \"*/proc/*\"],\n",
    ")"
   ]
  },
  {
   "cell_type": "code",
   "execution_count": 4,
   "id": "8f8a7301-cf7c-4810-a2c5-21deb3a4fb5d",
   "metadata": {},
   "outputs": [
    {
     "name": "stderr",
     "output_type": "stream",
     "text": [
      "[Parallel(n_jobs=-1)]: Using backend LokyBackend with 40 concurrent workers.\n",
      "[Parallel(n_jobs=-1)]: Done   2 out of   4 | elapsed:    0.5s remaining:    0.5s\n",
      "[Parallel(n_jobs=-1)]: Done   4 out of   4 | elapsed:    0.7s remaining:    0.0s\n",
      "[Parallel(n_jobs=-1)]: Done   4 out of   4 | elapsed:    0.7s finished\n",
      "[Parallel(n_jobs=-1)]: Using backend LokyBackend with 40 concurrent workers.\n",
      "[Parallel(n_jobs=-1)]: Done  82 tasks      | elapsed:    3.3s\n",
      "[Parallel(n_jobs=-1)]: Done 208 tasks      | elapsed:    3.9s\n",
      "[Parallel(n_jobs=-1)]: Done 370 tasks      | elapsed:    4.5s\n",
      "[Parallel(n_jobs=-1)]: Done 568 tasks      | elapsed:    5.2s\n",
      "[Parallel(n_jobs=-1)]: Done 802 tasks      | elapsed:    6.2s\n",
      "[Parallel(n_jobs=-1)]: Done 1072 tasks      | elapsed:    7.4s\n",
      "[Parallel(n_jobs=-1)]: Done 1378 tasks      | elapsed:    8.7s\n",
      "[Parallel(n_jobs=-1)]: Done 1720 tasks      | elapsed:   10.2s\n",
      "[Parallel(n_jobs=-1)]: Done 2098 tasks      | elapsed:   11.6s\n",
      "[Parallel(n_jobs=-1)]: Done 2512 tasks      | elapsed:   13.1s\n",
      "[Parallel(n_jobs=-1)]: Done 3364 tasks      | elapsed:   16.4s\n",
      "[Parallel(n_jobs=-1)]: Done 4336 tasks      | elapsed:   20.2s\n",
      "[Parallel(n_jobs=-1)]: Done 5050 tasks      | elapsed:   32.2s\n",
      "[Parallel(n_jobs=-1)]: Done 5608 tasks      | elapsed:   47.7s\n",
      "[Parallel(n_jobs=-1)]: Done 6015 out of 6015 | elapsed:   58.6s finished\n"
     ]
    },
    {
     "data": {
      "text/plain": [
       "Builder(root_path=PosixPath('/glade/campaign/cesm/development/espwg/SMYLE/initial_conditions/SMYLE-FOSI'), extension='.nc', depth=0, exclude_patterns=['*/rest/*', '*/logs/*', '*/proc/*'], njobs=-1)"
      ]
     },
     "execution_count": 4,
     "metadata": {},
     "output_type": "execute_result"
    }
   ],
   "source": [
    "cesm_history_builder.build(parse_cesm_history)"
   ]
  },
  {
   "cell_type": "code",
   "execution_count": 5,
   "id": "06e289c0-9896-45d7-a204-929bf4e1ad0f",
   "metadata": {},
   "outputs": [
    {
     "data": {
      "text/html": [
       "<div>\n",
       "<style scoped>\n",
       "    .dataframe tbody tr th:only-of-type {\n",
       "        vertical-align: middle;\n",
       "    }\n",
       "\n",
       "    .dataframe tbody tr th {\n",
       "        vertical-align: top;\n",
       "    }\n",
       "\n",
       "    .dataframe thead th {\n",
       "        text-align: right;\n",
       "    }\n",
       "</style>\n",
       "<table border=\"1\" class=\"dataframe\">\n",
       "  <thead>\n",
       "    <tr style=\"text-align: right;\">\n",
       "      <th></th>\n",
       "      <th>component</th>\n",
       "      <th>stream</th>\n",
       "      <th>date</th>\n",
       "      <th>case</th>\n",
       "      <th>member_id</th>\n",
       "      <th>frequency</th>\n",
       "      <th>variables</th>\n",
       "      <th>path</th>\n",
       "    </tr>\n",
       "  </thead>\n",
       "  <tbody>\n",
       "    <tr>\n",
       "      <th>0</th>\n",
       "      <td>ice</td>\n",
       "      <td>cice.h</td>\n",
       "      <td>0001-01</td>\n",
       "      <td>g.e22.GOMIPECOIAF_JRA-1p4-2018.TL319_g17.SMYLE...</td>\n",
       "      <td>005</td>\n",
       "      <td>month_1</td>\n",
       "      <td>[hi, hs, snowfrac, Tsfc, aice, uvel, vvel, uat...</td>\n",
       "      <td>/glade/campaign/cesm/development/espwg/SMYLE/i...</td>\n",
       "    </tr>\n",
       "    <tr>\n",
       "      <th>1</th>\n",
       "      <td>ice</td>\n",
       "      <td>cice.h</td>\n",
       "      <td>0001-02</td>\n",
       "      <td>g.e22.GOMIPECOIAF_JRA-1p4-2018.TL319_g17.SMYLE...</td>\n",
       "      <td>005</td>\n",
       "      <td>month_1</td>\n",
       "      <td>[hi, hs, snowfrac, Tsfc, aice, uvel, vvel, uat...</td>\n",
       "      <td>/glade/campaign/cesm/development/espwg/SMYLE/i...</td>\n",
       "    </tr>\n",
       "    <tr>\n",
       "      <th>2</th>\n",
       "      <td>ice</td>\n",
       "      <td>cice.h</td>\n",
       "      <td>0001-03</td>\n",
       "      <td>g.e22.GOMIPECOIAF_JRA-1p4-2018.TL319_g17.SMYLE...</td>\n",
       "      <td>005</td>\n",
       "      <td>month_1</td>\n",
       "      <td>[hi, hs, snowfrac, Tsfc, aice, uvel, vvel, uat...</td>\n",
       "      <td>/glade/campaign/cesm/development/espwg/SMYLE/i...</td>\n",
       "    </tr>\n",
       "    <tr>\n",
       "      <th>3</th>\n",
       "      <td>ice</td>\n",
       "      <td>cice.h</td>\n",
       "      <td>0001-04</td>\n",
       "      <td>g.e22.GOMIPECOIAF_JRA-1p4-2018.TL319_g17.SMYLE...</td>\n",
       "      <td>005</td>\n",
       "      <td>month_1</td>\n",
       "      <td>[hi, hs, snowfrac, Tsfc, aice, uvel, vvel, uat...</td>\n",
       "      <td>/glade/campaign/cesm/development/espwg/SMYLE/i...</td>\n",
       "    </tr>\n",
       "    <tr>\n",
       "      <th>4</th>\n",
       "      <td>ice</td>\n",
       "      <td>cice.h</td>\n",
       "      <td>0001-05</td>\n",
       "      <td>g.e22.GOMIPECOIAF_JRA-1p4-2018.TL319_g17.SMYLE...</td>\n",
       "      <td>005</td>\n",
       "      <td>month_1</td>\n",
       "      <td>[hi, hs, snowfrac, Tsfc, aice, uvel, vvel, uat...</td>\n",
       "      <td>/glade/campaign/cesm/development/espwg/SMYLE/i...</td>\n",
       "    </tr>\n",
       "    <tr>\n",
       "      <th>...</th>\n",
       "      <td>...</td>\n",
       "      <td>...</td>\n",
       "      <td>...</td>\n",
       "      <td>...</td>\n",
       "      <td>...</td>\n",
       "      <td>...</td>\n",
       "      <td>...</td>\n",
       "      <td>...</td>\n",
       "    </tr>\n",
       "    <tr>\n",
       "      <th>6010</th>\n",
       "      <td>ocn</td>\n",
       "      <td>pop.h.nday1</td>\n",
       "      <td>0368-08-01</td>\n",
       "      <td>g.e22.GOMIPECOIAF_JRA-1p4-2018.TL319_g17.SMYLE...</td>\n",
       "      <td>005</td>\n",
       "      <td>day_1</td>\n",
       "      <td>[SST, SST2, SSS, HMXL_DR_2, XMXL_2]</td>\n",
       "      <td>/glade/campaign/cesm/development/espwg/SMYLE/i...</td>\n",
       "    </tr>\n",
       "    <tr>\n",
       "      <th>6011</th>\n",
       "      <td>ocn</td>\n",
       "      <td>pop.h.nday1</td>\n",
       "      <td>0368-09-01</td>\n",
       "      <td>g.e22.GOMIPECOIAF_JRA-1p4-2018.TL319_g17.SMYLE...</td>\n",
       "      <td>005</td>\n",
       "      <td>day_1</td>\n",
       "      <td>[SST, SST2, SSS, HMXL_DR_2, XMXL_2]</td>\n",
       "      <td>/glade/campaign/cesm/development/espwg/SMYLE/i...</td>\n",
       "    </tr>\n",
       "    <tr>\n",
       "      <th>6012</th>\n",
       "      <td>ocn</td>\n",
       "      <td>pop.h.nday1</td>\n",
       "      <td>0368-10-01</td>\n",
       "      <td>g.e22.GOMIPECOIAF_JRA-1p4-2018.TL319_g17.SMYLE...</td>\n",
       "      <td>005</td>\n",
       "      <td>day_1</td>\n",
       "      <td>[SST, SST2, SSS, HMXL_DR_2, XMXL_2]</td>\n",
       "      <td>/glade/campaign/cesm/development/espwg/SMYLE/i...</td>\n",
       "    </tr>\n",
       "    <tr>\n",
       "      <th>6013</th>\n",
       "      <td>ocn</td>\n",
       "      <td>pop.h.nday1</td>\n",
       "      <td>0368-11-01</td>\n",
       "      <td>g.e22.GOMIPECOIAF_JRA-1p4-2018.TL319_g17.SMYLE...</td>\n",
       "      <td>005</td>\n",
       "      <td>day_1</td>\n",
       "      <td>[SST, SST2, SSS, HMXL_DR_2, XMXL_2]</td>\n",
       "      <td>/glade/campaign/cesm/development/espwg/SMYLE/i...</td>\n",
       "    </tr>\n",
       "    <tr>\n",
       "      <th>6014</th>\n",
       "      <td>ocn</td>\n",
       "      <td>pop.h.nday1</td>\n",
       "      <td>0368-12-01</td>\n",
       "      <td>g.e22.GOMIPECOIAF_JRA-1p4-2018.TL319_g17.SMYLE...</td>\n",
       "      <td>005</td>\n",
       "      <td>day_1</td>\n",
       "      <td>[SST, SST2, SSS, HMXL_DR_2, XMXL_2]</td>\n",
       "      <td>/glade/campaign/cesm/development/espwg/SMYLE/i...</td>\n",
       "    </tr>\n",
       "  </tbody>\n",
       "</table>\n",
       "<p>6015 rows × 8 columns</p>\n",
       "</div>"
      ],
      "text/plain": [
       "     component       stream        date  \\\n",
       "0          ice       cice.h     0001-01   \n",
       "1          ice       cice.h     0001-02   \n",
       "2          ice       cice.h     0001-03   \n",
       "3          ice       cice.h     0001-04   \n",
       "4          ice       cice.h     0001-05   \n",
       "...        ...          ...         ...   \n",
       "6010       ocn  pop.h.nday1  0368-08-01   \n",
       "6011       ocn  pop.h.nday1  0368-09-01   \n",
       "6012       ocn  pop.h.nday1  0368-10-01   \n",
       "6013       ocn  pop.h.nday1  0368-11-01   \n",
       "6014       ocn  pop.h.nday1  0368-12-01   \n",
       "\n",
       "                                                   case member_id frequency  \\\n",
       "0     g.e22.GOMIPECOIAF_JRA-1p4-2018.TL319_g17.SMYLE...       005   month_1   \n",
       "1     g.e22.GOMIPECOIAF_JRA-1p4-2018.TL319_g17.SMYLE...       005   month_1   \n",
       "2     g.e22.GOMIPECOIAF_JRA-1p4-2018.TL319_g17.SMYLE...       005   month_1   \n",
       "3     g.e22.GOMIPECOIAF_JRA-1p4-2018.TL319_g17.SMYLE...       005   month_1   \n",
       "4     g.e22.GOMIPECOIAF_JRA-1p4-2018.TL319_g17.SMYLE...       005   month_1   \n",
       "...                                                 ...       ...       ...   \n",
       "6010  g.e22.GOMIPECOIAF_JRA-1p4-2018.TL319_g17.SMYLE...       005     day_1   \n",
       "6011  g.e22.GOMIPECOIAF_JRA-1p4-2018.TL319_g17.SMYLE...       005     day_1   \n",
       "6012  g.e22.GOMIPECOIAF_JRA-1p4-2018.TL319_g17.SMYLE...       005     day_1   \n",
       "6013  g.e22.GOMIPECOIAF_JRA-1p4-2018.TL319_g17.SMYLE...       005     day_1   \n",
       "6014  g.e22.GOMIPECOIAF_JRA-1p4-2018.TL319_g17.SMYLE...       005     day_1   \n",
       "\n",
       "                                              variables  \\\n",
       "0     [hi, hs, snowfrac, Tsfc, aice, uvel, vvel, uat...   \n",
       "1     [hi, hs, snowfrac, Tsfc, aice, uvel, vvel, uat...   \n",
       "2     [hi, hs, snowfrac, Tsfc, aice, uvel, vvel, uat...   \n",
       "3     [hi, hs, snowfrac, Tsfc, aice, uvel, vvel, uat...   \n",
       "4     [hi, hs, snowfrac, Tsfc, aice, uvel, vvel, uat...   \n",
       "...                                                 ...   \n",
       "6010                [SST, SST2, SSS, HMXL_DR_2, XMXL_2]   \n",
       "6011                [SST, SST2, SSS, HMXL_DR_2, XMXL_2]   \n",
       "6012                [SST, SST2, SSS, HMXL_DR_2, XMXL_2]   \n",
       "6013                [SST, SST2, SSS, HMXL_DR_2, XMXL_2]   \n",
       "6014                [SST, SST2, SSS, HMXL_DR_2, XMXL_2]   \n",
       "\n",
       "                                                   path  \n",
       "0     /glade/campaign/cesm/development/espwg/SMYLE/i...  \n",
       "1     /glade/campaign/cesm/development/espwg/SMYLE/i...  \n",
       "2     /glade/campaign/cesm/development/espwg/SMYLE/i...  \n",
       "3     /glade/campaign/cesm/development/espwg/SMYLE/i...  \n",
       "4     /glade/campaign/cesm/development/espwg/SMYLE/i...  \n",
       "...                                                 ...  \n",
       "6010  /glade/campaign/cesm/development/espwg/SMYLE/i...  \n",
       "6011  /glade/campaign/cesm/development/espwg/SMYLE/i...  \n",
       "6012  /glade/campaign/cesm/development/espwg/SMYLE/i...  \n",
       "6013  /glade/campaign/cesm/development/espwg/SMYLE/i...  \n",
       "6014  /glade/campaign/cesm/development/espwg/SMYLE/i...  \n",
       "\n",
       "[6015 rows x 8 columns]"
      ]
     },
     "execution_count": 5,
     "metadata": {},
     "output_type": "execute_result"
    }
   ],
   "source": [
    "cesm_history_builder.df"
   ]
  },
  {
   "cell_type": "code",
   "execution_count": 6,
   "id": "32327e69-767e-4ea5-949d-a4d670827974",
   "metadata": {},
   "outputs": [
    {
     "name": "stdout",
     "output_type": "stream",
     "text": [
      "Saved catalog location: cesm-hist-smyle-fosi.json and cesm-hist-smyle-fosi.csv\n"
     ]
    }
   ],
   "source": [
    "cesm_history_builder.save(\n",
    "    # File path - could save as .csv (uncompressed csv) or .csv.gz (compressed csv)\n",
    "    \"cesm-hist-smyle-fosi.csv\",\n",
    "    # Column name including filepath\n",
    "    path_column_name='path',\n",
    "    # Column name including variables\n",
    "    variable_column_name='variables',\n",
    "    # Data file format - could be netcdf or zarr (in this case, netcdf)\n",
    "    data_format=\"netcdf\",\n",
    "    # Which attributes to groupby when reading in variables using intake-esm\n",
    "    groupby_attrs=[\"component\", \"stream\", \"case\"],\n",
    "    # Aggregations which are fed into xarray when reading in data using intake\n",
    "    aggregations=[\n",
    "        {\n",
    "            \"type\": \"join_existing\",\n",
    "            \"attribute_name\": \"date\",\n",
    "            \"options\": {\"dim\": \"time\", \"coords\": \"minimal\", \"compat\": \"override\"},\n",
    "        }\n",
    "    ],\n",
    ")"
   ]
  },
  {
   "cell_type": "markdown",
   "id": "71f9d7c7-c3ad-4695-bed5-aaa2c89d6aab",
   "metadata": {},
   "source": [
    "## Build the Timeseries Catalog"
   ]
  },
  {
   "cell_type": "code",
   "execution_count": 7,
   "id": "950de68a-f7a1-4fd2-bb86-c8af10d2d774",
   "metadata": {},
   "outputs": [],
   "source": [
    "cesm_timeseries_builder = Builder(\n",
    "    \"/glade/campaign/cesm/development/espwg/SMYLE/initial_conditions/SMYLE-FOSI\",\n",
    "    exclude_patterns=[\"*/rest/*\", \"*/logs/*\", \"*/hist/*\"],\n",
    ")"
   ]
  },
  {
   "cell_type": "code",
   "execution_count": 8,
   "id": "a5baa36d-6f73-4998-82cd-d09ba3924a29",
   "metadata": {},
   "outputs": [
    {
     "name": "stderr",
     "output_type": "stream",
     "text": [
      "[Parallel(n_jobs=-1)]: Using backend LokyBackend with 40 concurrent workers.\n",
      "[Parallel(n_jobs=-1)]: Done   2 out of   4 | elapsed:    0.1s remaining:    0.1s\n",
      "[Parallel(n_jobs=-1)]: Done   4 out of   4 | elapsed:    0.2s remaining:    0.0s\n",
      "[Parallel(n_jobs=-1)]: Done   4 out of   4 | elapsed:    0.2s finished\n",
      "[Parallel(n_jobs=-1)]: Using backend LokyBackend with 40 concurrent workers.\n",
      "[Parallel(n_jobs=-1)]: Done  84 tasks      | elapsed:    0.3s\n",
      "[Parallel(n_jobs=-1)]: Done 336 tasks      | elapsed:    1.4s\n",
      "[Parallel(n_jobs=-1)]: Done 545 out of 624 | elapsed:    2.3s remaining:    0.3s\n",
      "[Parallel(n_jobs=-1)]: Done 624 out of 624 | elapsed:    2.6s finished\n",
      "/glade/work/mgrover/git_repos/ecgtools/ecgtools/builder.py:179: UserWarning: Unable to parse 45 assets/files. A list of these assets can be found in `.invalid_assets` attribute.\n",
      "  self.get_directories().get_filelist()._parse(\n"
     ]
    },
    {
     "data": {
      "text/plain": [
       "Builder(root_path=PosixPath('/glade/campaign/cesm/development/espwg/SMYLE/initial_conditions/SMYLE-FOSI'), extension='.nc', depth=0, exclude_patterns=['*/rest/*', '*/logs/*', '*/hist/*'], njobs=-1)"
      ]
     },
     "execution_count": 8,
     "metadata": {},
     "output_type": "execute_result"
    }
   ],
   "source": [
    "cesm_timeseries_builder.build(parse_cesm_timeseries)"
   ]
  },
  {
   "cell_type": "code",
   "execution_count": 9,
   "id": "6e3fae7d-5393-48ec-b7de-c0121ef1b546",
   "metadata": {},
   "outputs": [
    {
     "data": {
      "text/plain": [
       "PosixPath('/glade/campaign/cesm/development/espwg/SMYLE/initial_conditions/SMYLE-FOSI/ice/proc/climo/g.e21.GOMIPECOIAF_JRA.TL319_g17.CMIP6-omip2.001/g.e21.GOMIPECOIAF_JRA.TL319_g17.CMIP6-omip2.001.347-366/g.e21.GOMIPECOIAF_JRA.TL319_g17.CMIP6-omip2.001.cice.h.0347-0366._01_climo.nc')"
      ]
     },
     "execution_count": 9,
     "metadata": {},
     "output_type": "execute_result"
    }
   ],
   "source": [
    "cesm_timeseries_builder.invalid_assets.INVALID_ASSET.values[0]"
   ]
  },
  {
   "cell_type": "code",
   "execution_count": 10,
   "id": "f56e9910-f555-4595-8e05-c47a7aa99122",
   "metadata": {},
   "outputs": [
    {
     "name": "stdout",
     "output_type": "stream",
     "text": [
      "Saved catalog location: cesm-tseries-smyle-fosi.json and cesm-tseries-smyle-fosi.csv\n"
     ]
    },
    {
     "name": "stderr",
     "output_type": "stream",
     "text": [
      "/glade/scratch/mgrover/ipykernel_74245/3154266015.py:1: UserWarning: Unable to parse 45 assets/files. A list of these assets can be found in invalid_assets_cesm-tseries-smyle-fosi.csv.\n",
      "  cesm_timeseries_builder.save(\n"
     ]
    }
   ],
   "source": [
    "cesm_timeseries_builder.save(\n",
    "    # File path - could save as .csv (uncompressed csv) or .csv.gz (compressed csv)\n",
    "    \"cesm-tseries-smyle-fosi.csv\",\n",
    "    # Column name including filepath\n",
    "    path_column_name='path',\n",
    "    # Column name including variables\n",
    "    variable_column_name='variable',\n",
    "    # Data file format - could be netcdf or zarr (in this case, netcdf)\n",
    "    data_format=\"netcdf\",\n",
    "    # Which attributes to groupby when reading in variables using intake-esm\n",
    "    groupby_attrs=[\"component\", \"stream\", \"case\"],\n",
    "    # Aggregations which are fed into xarray when reading in data using intake\n",
    "    aggregations=[\n",
    "        {\"type\": \"union\", \"attribute_name\": \"variable\"},\n",
    "        {\n",
    "            \"type\": \"join_existing\",\n",
    "            \"attribute_name\": \"time_range\",\n",
    "            \"options\": {\"dim\": \"time\", \"coords\": \"minimal\", \"compat\": \"override\"},\n",
    "        },\n",
    "    ],\n",
    ")"
   ]
  },
  {
   "cell_type": "markdown",
   "id": "58b746dd-1092-4650-84a2-6b53721003b7",
   "metadata": {},
   "source": [
    "## Spin up a Dask Cluster"
   ]
  },
  {
   "cell_type": "code",
   "execution_count": 3,
   "id": "9b1885cf-f8a6-4f05-8303-eb35fdccaf46",
   "metadata": {},
   "outputs": [
    {
     "data": {
      "application/vnd.jupyter.widget-view+json": {
       "model_id": "0e6ed487df764adc8759d28c24e579d4",
       "version_major": 2,
       "version_minor": 0
      },
      "text/plain": [
       "Tab(children=(HTML(value='<div class=\"jp-RenderedHTMLCommon jp-RenderedHTML jp-mod-trusted jp-OutputArea-outpu…"
      ]
     },
     "metadata": {},
     "output_type": "display_data"
    }
   ],
   "source": [
    "cluster = NCARCluster(memory='25 GB', walltime='06:00:00')\n",
    "cluster.scale(30)\n",
    "client = Client(cluster)\n",
    "cluster"
   ]
  },
  {
   "cell_type": "markdown",
   "id": "a273823d-87ec-4e07-badd-a35d420c7080",
   "metadata": {},
   "source": [
    "## Read the Catalogs Using Intake-ESM"
   ]
  },
  {
   "cell_type": "code",
   "execution_count": 4,
   "id": "b7372206-6ae3-4c46-8790-380f069c9fdb",
   "metadata": {},
   "outputs": [
    {
     "data": {
      "text/html": [
       "<p><strong>None catalog with 5 dataset(s) from 6015 asset(s)</strong>:</p> <div>\n",
       "<style scoped>\n",
       "    .dataframe tbody tr th:only-of-type {\n",
       "        vertical-align: middle;\n",
       "    }\n",
       "\n",
       "    .dataframe tbody tr th {\n",
       "        vertical-align: top;\n",
       "    }\n",
       "\n",
       "    .dataframe thead th {\n",
       "        text-align: right;\n",
       "    }\n",
       "</style>\n",
       "<table border=\"1\" class=\"dataframe\">\n",
       "  <thead>\n",
       "    <tr style=\"text-align: right;\">\n",
       "      <th></th>\n",
       "      <th>unique</th>\n",
       "    </tr>\n",
       "  </thead>\n",
       "  <tbody>\n",
       "    <tr>\n",
       "      <th>component</th>\n",
       "      <td>2</td>\n",
       "    </tr>\n",
       "    <tr>\n",
       "      <th>stream</th>\n",
       "      <td>5</td>\n",
       "    </tr>\n",
       "    <tr>\n",
       "      <th>date</th>\n",
       "      <td>5235</td>\n",
       "    </tr>\n",
       "    <tr>\n",
       "      <th>case</th>\n",
       "      <td>1</td>\n",
       "    </tr>\n",
       "    <tr>\n",
       "      <th>member_id</th>\n",
       "      <td>1</td>\n",
       "    </tr>\n",
       "    <tr>\n",
       "      <th>frequency</th>\n",
       "      <td>3</td>\n",
       "    </tr>\n",
       "    <tr>\n",
       "      <th>variables</th>\n",
       "      <td>620</td>\n",
       "    </tr>\n",
       "    <tr>\n",
       "      <th>path</th>\n",
       "      <td>6015</td>\n",
       "    </tr>\n",
       "  </tbody>\n",
       "</table>\n",
       "</div>"
      ],
      "text/plain": [
       "<IPython.core.display.HTML object>"
      ]
     },
     "metadata": {},
     "output_type": "display_data"
    }
   ],
   "source": [
    "history_catalog = intake.open_esm_datastore(\n",
    "    'cesm-hist-smyle-fosi.json',\n",
    "    csv_kwargs={\"converters\": {\"variables\": ast.literal_eval}},\n",
    "    sep=\"/\",\n",
    ")\n",
    "history_catalog"
   ]
  },
  {
   "cell_type": "code",
   "execution_count": 5,
   "id": "f2d33dc2-6b10-42c7-b5f0-37c9b7857937",
   "metadata": {},
   "outputs": [
    {
     "data": {
      "text/html": [
       "<p><strong>None catalog with 4 dataset(s) from 579 asset(s)</strong>:</p> <div>\n",
       "<style scoped>\n",
       "    .dataframe tbody tr th:only-of-type {\n",
       "        vertical-align: middle;\n",
       "    }\n",
       "\n",
       "    .dataframe tbody tr th {\n",
       "        vertical-align: top;\n",
       "    }\n",
       "\n",
       "    .dataframe thead th {\n",
       "        text-align: right;\n",
       "    }\n",
       "</style>\n",
       "<table border=\"1\" class=\"dataframe\">\n",
       "  <thead>\n",
       "    <tr style=\"text-align: right;\">\n",
       "      <th></th>\n",
       "      <th>unique</th>\n",
       "    </tr>\n",
       "  </thead>\n",
       "  <tbody>\n",
       "    <tr>\n",
       "      <th>component</th>\n",
       "      <td>2</td>\n",
       "    </tr>\n",
       "    <tr>\n",
       "      <th>stream</th>\n",
       "      <td>4</td>\n",
       "    </tr>\n",
       "    <tr>\n",
       "      <th>case</th>\n",
       "      <td>1</td>\n",
       "    </tr>\n",
       "    <tr>\n",
       "      <th>member_id</th>\n",
       "      <td>1</td>\n",
       "    </tr>\n",
       "    <tr>\n",
       "      <th>variable</th>\n",
       "      <td>579</td>\n",
       "    </tr>\n",
       "    <tr>\n",
       "      <th>start_time</th>\n",
       "      <td>3</td>\n",
       "    </tr>\n",
       "    <tr>\n",
       "      <th>end_time</th>\n",
       "      <td>3</td>\n",
       "    </tr>\n",
       "    <tr>\n",
       "      <th>time_range</th>\n",
       "      <td>3</td>\n",
       "    </tr>\n",
       "    <tr>\n",
       "      <th>long_name</th>\n",
       "      <td>570</td>\n",
       "    </tr>\n",
       "    <tr>\n",
       "      <th>units</th>\n",
       "      <td>67</td>\n",
       "    </tr>\n",
       "    <tr>\n",
       "      <th>vertical_levels</th>\n",
       "      <td>1</td>\n",
       "    </tr>\n",
       "    <tr>\n",
       "      <th>frequency</th>\n",
       "      <td>3</td>\n",
       "    </tr>\n",
       "    <tr>\n",
       "      <th>path</th>\n",
       "      <td>579</td>\n",
       "    </tr>\n",
       "  </tbody>\n",
       "</table>\n",
       "</div>"
      ],
      "text/plain": [
       "<IPython.core.display.HTML object>"
      ]
     },
     "metadata": {},
     "output_type": "display_data"
    }
   ],
   "source": [
    "timeseries_catalog = intake.open_esm_datastore('cesm-tseries-smyle-fosi.json')\n",
    "timeseries_catalog"
   ]
  },
  {
   "cell_type": "markdown",
   "id": "9c3bddbc-aed0-41f6-9cad-8d02c23ff49e",
   "metadata": {},
   "source": [
    "### Search for Just Monthly Ocean Output"
   ]
  },
  {
   "cell_type": "code",
   "execution_count": 6,
   "id": "672bcfde-fcff-46c1-b2b6-0bd4f552d11e",
   "metadata": {},
   "outputs": [
    {
     "data": {
      "text/html": [
       "<p><strong>None catalog with 1 dataset(s) from 410 asset(s)</strong>:</p> <div>\n",
       "<style scoped>\n",
       "    .dataframe tbody tr th:only-of-type {\n",
       "        vertical-align: middle;\n",
       "    }\n",
       "\n",
       "    .dataframe tbody tr th {\n",
       "        vertical-align: top;\n",
       "    }\n",
       "\n",
       "    .dataframe thead th {\n",
       "        text-align: right;\n",
       "    }\n",
       "</style>\n",
       "<table border=\"1\" class=\"dataframe\">\n",
       "  <thead>\n",
       "    <tr style=\"text-align: right;\">\n",
       "      <th></th>\n",
       "      <th>unique</th>\n",
       "    </tr>\n",
       "  </thead>\n",
       "  <tbody>\n",
       "    <tr>\n",
       "      <th>component</th>\n",
       "      <td>1</td>\n",
       "    </tr>\n",
       "    <tr>\n",
       "      <th>stream</th>\n",
       "      <td>1</td>\n",
       "    </tr>\n",
       "    <tr>\n",
       "      <th>case</th>\n",
       "      <td>1</td>\n",
       "    </tr>\n",
       "    <tr>\n",
       "      <th>member_id</th>\n",
       "      <td>1</td>\n",
       "    </tr>\n",
       "    <tr>\n",
       "      <th>variable</th>\n",
       "      <td>410</td>\n",
       "    </tr>\n",
       "    <tr>\n",
       "      <th>start_time</th>\n",
       "      <td>1</td>\n",
       "    </tr>\n",
       "    <tr>\n",
       "      <th>end_time</th>\n",
       "      <td>1</td>\n",
       "    </tr>\n",
       "    <tr>\n",
       "      <th>time_range</th>\n",
       "      <td>1</td>\n",
       "    </tr>\n",
       "    <tr>\n",
       "      <th>long_name</th>\n",
       "      <td>409</td>\n",
       "    </tr>\n",
       "    <tr>\n",
       "      <th>units</th>\n",
       "      <td>55</td>\n",
       "    </tr>\n",
       "    <tr>\n",
       "      <th>vertical_levels</th>\n",
       "      <td>1</td>\n",
       "    </tr>\n",
       "    <tr>\n",
       "      <th>frequency</th>\n",
       "      <td>1</td>\n",
       "    </tr>\n",
       "    <tr>\n",
       "      <th>path</th>\n",
       "      <td>410</td>\n",
       "    </tr>\n",
       "  </tbody>\n",
       "</table>\n",
       "</div>"
      ],
      "text/plain": [
       "<IPython.core.display.HTML object>"
      ]
     },
     "metadata": {},
     "output_type": "display_data"
    }
   ],
   "source": [
    "monthly_ocean_timeseries = timeseries_catalog.search(component='ocn', frequency='month_1')\n",
    "monthly_ocean_timeseries"
   ]
  },
  {
   "cell_type": "code",
   "execution_count": 7,
   "id": "fa00b71d-f3c2-4310-8ddc-6f382fabf437",
   "metadata": {},
   "outputs": [
    {
     "data": {
      "text/html": [
       "<p><strong>None catalog with 1 dataset(s) from 756 asset(s)</strong>:</p> <div>\n",
       "<style scoped>\n",
       "    .dataframe tbody tr th:only-of-type {\n",
       "        vertical-align: middle;\n",
       "    }\n",
       "\n",
       "    .dataframe tbody tr th {\n",
       "        vertical-align: top;\n",
       "    }\n",
       "\n",
       "    .dataframe thead th {\n",
       "        text-align: right;\n",
       "    }\n",
       "</style>\n",
       "<table border=\"1\" class=\"dataframe\">\n",
       "  <thead>\n",
       "    <tr style=\"text-align: right;\">\n",
       "      <th></th>\n",
       "      <th>unique</th>\n",
       "    </tr>\n",
       "  </thead>\n",
       "  <tbody>\n",
       "    <tr>\n",
       "      <th>component</th>\n",
       "      <td>1</td>\n",
       "    </tr>\n",
       "    <tr>\n",
       "      <th>stream</th>\n",
       "      <td>1</td>\n",
       "    </tr>\n",
       "    <tr>\n",
       "      <th>date</th>\n",
       "      <td>756</td>\n",
       "    </tr>\n",
       "    <tr>\n",
       "      <th>case</th>\n",
       "      <td>1</td>\n",
       "    </tr>\n",
       "    <tr>\n",
       "      <th>member_id</th>\n",
       "      <td>1</td>\n",
       "    </tr>\n",
       "    <tr>\n",
       "      <th>frequency</th>\n",
       "      <td>1</td>\n",
       "    </tr>\n",
       "    <tr>\n",
       "      <th>variables</th>\n",
       "      <td>446</td>\n",
       "    </tr>\n",
       "    <tr>\n",
       "      <th>path</th>\n",
       "      <td>756</td>\n",
       "    </tr>\n",
       "  </tbody>\n",
       "</table>\n",
       "</div>"
      ],
      "text/plain": [
       "<IPython.core.display.HTML object>"
      ]
     },
     "metadata": {},
     "output_type": "display_data"
    }
   ],
   "source": [
    "monthly_ocean_history = history_catalog.search(component='ocn', frequency='month_1')\n",
    "monthly_ocean_history"
   ]
  },
  {
   "cell_type": "markdown",
   "id": "0d96f08a-9684-4c23-8685-8887b334f833",
   "metadata": {
    "tags": []
   },
   "source": [
    "## Test File Access Speeds\n",
    "Here, we test the time it takes to read in the following time ranges:\n",
    "* 1 year\n",
    "* 5 years\n",
    "* 10 years\n",
    "* 20 years\n",
    "* 40 years\n",
    "* 60 years\n",
    "\n",
    "A useful tool we will use here is the [Dask Performance Report](https://docs.dask.org/en/latest/diagnostics-distributed.html) which enables the user to output their Dask dashboard, so they can share it with others. This provides a means of going back to a computation on your cluster to investigate which tasks, workers, etc."
   ]
  },
  {
   "cell_type": "markdown",
   "id": "9e71663f-bb82-4dae-80ae-748acc0cfe77",
   "metadata": {},
   "source": [
    "### Test out the Timeseries Files"
   ]
  },
  {
   "cell_type": "code",
   "execution_count": 8,
   "id": "48939477-652d-429d-adcb-fe99090c0096",
   "metadata": {},
   "outputs": [],
   "source": [
    "def test_timeseries_file(\n",
    "    num_years, chunk_strategy='time', long_term_average=False, monthly_average=False\n",
    "):\n",
    "    start = time.time()\n",
    "    chunk_dict = {'time': {'time': 60}, 'spatial': {'nlon': 160, 'nlat': 192}}\n",
    "    dsets = monthly_ocean_timeseries.search(variable='FG_CO2').to_dataset_dict(\n",
    "        'FG_CO2', cdf_kwargs={'use_cftime': True, 'chunks': chunk_dict[chunk_strategy]}\n",
    "    )\n",
    "    keys = list(dsets.keys())\n",
    "    ds = dsets[keys[0]]\n",
    "\n",
    "    if long_term_average:\n",
    "        ds.mean(dim='time').compute()\n",
    "\n",
    "    if monthly_average:\n",
    "        ds.groupby('time.month').mean(dim='time').compute()\n",
    "\n",
    "    end = time.time()\n",
    "    return end - start"
   ]
  },
  {
   "cell_type": "markdown",
   "id": "8b8d42c5-764c-4d6f-a638-0af0526c78b4",
   "metadata": {},
   "source": [
    "### Apply the Computation\n",
    "It can be accessed using [this link]('timeseries-computation.html')!"
   ]
  },
  {
   "cell_type": "code",
   "execution_count": 9,
   "id": "165d7054-47de-4848-8615-6f966fb02689",
   "metadata": {},
   "outputs": [
    {
     "name": "stdout",
     "output_type": "stream",
     "text": [
      "Starting year 1\n",
      "\n",
      "--> The keys in the returned dictionary of datasets are constructed as follows:\n",
      "\t'component.stream.case'\n"
     ]
    },
    {
     "data": {
      "text/html": [
       "\n",
       "    <div>\n",
       "        <style>\n",
       "            /* Turns off some styling */\n",
       "            progress {\n",
       "                /* gets rid of default border in Firefox and Opera. */\n",
       "                border: none;\n",
       "                /* Needs to be in here for Safari polyfill so background images work as expected. */\n",
       "                background-size: auto;\n",
       "            }\n",
       "            .progress-bar-interrupted, .progress-bar-interrupted::-webkit-progress-bar {\n",
       "                background: #F44336;\n",
       "            }\n",
       "        </style>\n",
       "      <progress value='1' class='' max='1' style='width:300px; height:20px; vertical-align: middle;'></progress>\n",
       "      100.00% [1/1 00:00<00:00]\n",
       "    </div>\n",
       "    "
      ],
      "text/plain": [
       "<IPython.core.display.HTML object>"
      ]
     },
     "metadata": {},
     "output_type": "display_data"
    },
    {
     "name": "stdout",
     "output_type": "stream",
     "text": [
      "\n",
      "--> The keys in the returned dictionary of datasets are constructed as follows:\n",
      "\t'component.stream.case'\n"
     ]
    },
    {
     "data": {
      "text/html": [
       "\n",
       "    <div>\n",
       "        <style>\n",
       "            /* Turns off some styling */\n",
       "            progress {\n",
       "                /* gets rid of default border in Firefox and Opera. */\n",
       "                border: none;\n",
       "                /* Needs to be in here for Safari polyfill so background images work as expected. */\n",
       "                background-size: auto;\n",
       "            }\n",
       "            .progress-bar-interrupted, .progress-bar-interrupted::-webkit-progress-bar {\n",
       "                background: #F44336;\n",
       "            }\n",
       "        </style>\n",
       "      <progress value='1' class='' max='1' style='width:300px; height:20px; vertical-align: middle;'></progress>\n",
       "      100.00% [1/1 00:00<00:00]\n",
       "    </div>\n",
       "    "
      ],
      "text/plain": [
       "<IPython.core.display.HTML object>"
      ]
     },
     "metadata": {},
     "output_type": "display_data"
    },
    {
     "name": "stdout",
     "output_type": "stream",
     "text": [
      "\n",
      "--> The keys in the returned dictionary of datasets are constructed as follows:\n",
      "\t'component.stream.case'\n"
     ]
    },
    {
     "data": {
      "text/html": [
       "\n",
       "    <div>\n",
       "        <style>\n",
       "            /* Turns off some styling */\n",
       "            progress {\n",
       "                /* gets rid of default border in Firefox and Opera. */\n",
       "                border: none;\n",
       "                /* Needs to be in here for Safari polyfill so background images work as expected. */\n",
       "                background-size: auto;\n",
       "            }\n",
       "            .progress-bar-interrupted, .progress-bar-interrupted::-webkit-progress-bar {\n",
       "                background: #F44336;\n",
       "            }\n",
       "        </style>\n",
       "      <progress value='1' class='' max='1' style='width:300px; height:20px; vertical-align: middle;'></progress>\n",
       "      100.00% [1/1 00:00<00:00]\n",
       "    </div>\n",
       "    "
      ],
      "text/plain": [
       "<IPython.core.display.HTML object>"
      ]
     },
     "metadata": {},
     "output_type": "display_data"
    },
    {
     "name": "stdout",
     "output_type": "stream",
     "text": [
      "Starting year 5\n",
      "\n",
      "--> The keys in the returned dictionary of datasets are constructed as follows:\n",
      "\t'component.stream.case'\n"
     ]
    },
    {
     "data": {
      "text/html": [
       "\n",
       "    <div>\n",
       "        <style>\n",
       "            /* Turns off some styling */\n",
       "            progress {\n",
       "                /* gets rid of default border in Firefox and Opera. */\n",
       "                border: none;\n",
       "                /* Needs to be in here for Safari polyfill so background images work as expected. */\n",
       "                background-size: auto;\n",
       "            }\n",
       "            .progress-bar-interrupted, .progress-bar-interrupted::-webkit-progress-bar {\n",
       "                background: #F44336;\n",
       "            }\n",
       "        </style>\n",
       "      <progress value='1' class='' max='1' style='width:300px; height:20px; vertical-align: middle;'></progress>\n",
       "      100.00% [1/1 00:00<00:00]\n",
       "    </div>\n",
       "    "
      ],
      "text/plain": [
       "<IPython.core.display.HTML object>"
      ]
     },
     "metadata": {},
     "output_type": "display_data"
    },
    {
     "name": "stdout",
     "output_type": "stream",
     "text": [
      "\n",
      "--> The keys in the returned dictionary of datasets are constructed as follows:\n",
      "\t'component.stream.case'\n"
     ]
    },
    {
     "data": {
      "text/html": [
       "\n",
       "    <div>\n",
       "        <style>\n",
       "            /* Turns off some styling */\n",
       "            progress {\n",
       "                /* gets rid of default border in Firefox and Opera. */\n",
       "                border: none;\n",
       "                /* Needs to be in here for Safari polyfill so background images work as expected. */\n",
       "                background-size: auto;\n",
       "            }\n",
       "            .progress-bar-interrupted, .progress-bar-interrupted::-webkit-progress-bar {\n",
       "                background: #F44336;\n",
       "            }\n",
       "        </style>\n",
       "      <progress value='1' class='' max='1' style='width:300px; height:20px; vertical-align: middle;'></progress>\n",
       "      100.00% [1/1 00:00<00:00]\n",
       "    </div>\n",
       "    "
      ],
      "text/plain": [
       "<IPython.core.display.HTML object>"
      ]
     },
     "metadata": {},
     "output_type": "display_data"
    },
    {
     "name": "stdout",
     "output_type": "stream",
     "text": [
      "\n",
      "--> The keys in the returned dictionary of datasets are constructed as follows:\n",
      "\t'component.stream.case'\n"
     ]
    },
    {
     "data": {
      "text/html": [
       "\n",
       "    <div>\n",
       "        <style>\n",
       "            /* Turns off some styling */\n",
       "            progress {\n",
       "                /* gets rid of default border in Firefox and Opera. */\n",
       "                border: none;\n",
       "                /* Needs to be in here for Safari polyfill so background images work as expected. */\n",
       "                background-size: auto;\n",
       "            }\n",
       "            .progress-bar-interrupted, .progress-bar-interrupted::-webkit-progress-bar {\n",
       "                background: #F44336;\n",
       "            }\n",
       "        </style>\n",
       "      <progress value='1' class='' max='1' style='width:300px; height:20px; vertical-align: middle;'></progress>\n",
       "      100.00% [1/1 00:00<00:00]\n",
       "    </div>\n",
       "    "
      ],
      "text/plain": [
       "<IPython.core.display.HTML object>"
      ]
     },
     "metadata": {},
     "output_type": "display_data"
    },
    {
     "name": "stdout",
     "output_type": "stream",
     "text": [
      "Starting year 10\n",
      "\n",
      "--> The keys in the returned dictionary of datasets are constructed as follows:\n",
      "\t'component.stream.case'\n"
     ]
    },
    {
     "data": {
      "text/html": [
       "\n",
       "    <div>\n",
       "        <style>\n",
       "            /* Turns off some styling */\n",
       "            progress {\n",
       "                /* gets rid of default border in Firefox and Opera. */\n",
       "                border: none;\n",
       "                /* Needs to be in here for Safari polyfill so background images work as expected. */\n",
       "                background-size: auto;\n",
       "            }\n",
       "            .progress-bar-interrupted, .progress-bar-interrupted::-webkit-progress-bar {\n",
       "                background: #F44336;\n",
       "            }\n",
       "        </style>\n",
       "      <progress value='1' class='' max='1' style='width:300px; height:20px; vertical-align: middle;'></progress>\n",
       "      100.00% [1/1 00:00<00:00]\n",
       "    </div>\n",
       "    "
      ],
      "text/plain": [
       "<IPython.core.display.HTML object>"
      ]
     },
     "metadata": {},
     "output_type": "display_data"
    },
    {
     "name": "stdout",
     "output_type": "stream",
     "text": [
      "\n",
      "--> The keys in the returned dictionary of datasets are constructed as follows:\n",
      "\t'component.stream.case'\n"
     ]
    },
    {
     "data": {
      "text/html": [
       "\n",
       "    <div>\n",
       "        <style>\n",
       "            /* Turns off some styling */\n",
       "            progress {\n",
       "                /* gets rid of default border in Firefox and Opera. */\n",
       "                border: none;\n",
       "                /* Needs to be in here for Safari polyfill so background images work as expected. */\n",
       "                background-size: auto;\n",
       "            }\n",
       "            .progress-bar-interrupted, .progress-bar-interrupted::-webkit-progress-bar {\n",
       "                background: #F44336;\n",
       "            }\n",
       "        </style>\n",
       "      <progress value='1' class='' max='1' style='width:300px; height:20px; vertical-align: middle;'></progress>\n",
       "      100.00% [1/1 00:00<00:00]\n",
       "    </div>\n",
       "    "
      ],
      "text/plain": [
       "<IPython.core.display.HTML object>"
      ]
     },
     "metadata": {},
     "output_type": "display_data"
    },
    {
     "name": "stdout",
     "output_type": "stream",
     "text": [
      "\n",
      "--> The keys in the returned dictionary of datasets are constructed as follows:\n",
      "\t'component.stream.case'\n"
     ]
    },
    {
     "data": {
      "text/html": [
       "\n",
       "    <div>\n",
       "        <style>\n",
       "            /* Turns off some styling */\n",
       "            progress {\n",
       "                /* gets rid of default border in Firefox and Opera. */\n",
       "                border: none;\n",
       "                /* Needs to be in here for Safari polyfill so background images work as expected. */\n",
       "                background-size: auto;\n",
       "            }\n",
       "            .progress-bar-interrupted, .progress-bar-interrupted::-webkit-progress-bar {\n",
       "                background: #F44336;\n",
       "            }\n",
       "        </style>\n",
       "      <progress value='1' class='' max='1' style='width:300px; height:20px; vertical-align: middle;'></progress>\n",
       "      100.00% [1/1 00:00<00:00]\n",
       "    </div>\n",
       "    "
      ],
      "text/plain": [
       "<IPython.core.display.HTML object>"
      ]
     },
     "metadata": {},
     "output_type": "display_data"
    },
    {
     "name": "stdout",
     "output_type": "stream",
     "text": [
      "Starting year 20\n",
      "\n",
      "--> The keys in the returned dictionary of datasets are constructed as follows:\n",
      "\t'component.stream.case'\n"
     ]
    },
    {
     "data": {
      "text/html": [
       "\n",
       "    <div>\n",
       "        <style>\n",
       "            /* Turns off some styling */\n",
       "            progress {\n",
       "                /* gets rid of default border in Firefox and Opera. */\n",
       "                border: none;\n",
       "                /* Needs to be in here for Safari polyfill so background images work as expected. */\n",
       "                background-size: auto;\n",
       "            }\n",
       "            .progress-bar-interrupted, .progress-bar-interrupted::-webkit-progress-bar {\n",
       "                background: #F44336;\n",
       "            }\n",
       "        </style>\n",
       "      <progress value='1' class='' max='1' style='width:300px; height:20px; vertical-align: middle;'></progress>\n",
       "      100.00% [1/1 00:00<00:00]\n",
       "    </div>\n",
       "    "
      ],
      "text/plain": [
       "<IPython.core.display.HTML object>"
      ]
     },
     "metadata": {},
     "output_type": "display_data"
    },
    {
     "name": "stdout",
     "output_type": "stream",
     "text": [
      "\n",
      "--> The keys in the returned dictionary of datasets are constructed as follows:\n",
      "\t'component.stream.case'\n"
     ]
    },
    {
     "data": {
      "text/html": [
       "\n",
       "    <div>\n",
       "        <style>\n",
       "            /* Turns off some styling */\n",
       "            progress {\n",
       "                /* gets rid of default border in Firefox and Opera. */\n",
       "                border: none;\n",
       "                /* Needs to be in here for Safari polyfill so background images work as expected. */\n",
       "                background-size: auto;\n",
       "            }\n",
       "            .progress-bar-interrupted, .progress-bar-interrupted::-webkit-progress-bar {\n",
       "                background: #F44336;\n",
       "            }\n",
       "        </style>\n",
       "      <progress value='1' class='' max='1' style='width:300px; height:20px; vertical-align: middle;'></progress>\n",
       "      100.00% [1/1 00:00<00:00]\n",
       "    </div>\n",
       "    "
      ],
      "text/plain": [
       "<IPython.core.display.HTML object>"
      ]
     },
     "metadata": {},
     "output_type": "display_data"
    },
    {
     "name": "stdout",
     "output_type": "stream",
     "text": [
      "\n",
      "--> The keys in the returned dictionary of datasets are constructed as follows:\n",
      "\t'component.stream.case'\n"
     ]
    },
    {
     "data": {
      "text/html": [
       "\n",
       "    <div>\n",
       "        <style>\n",
       "            /* Turns off some styling */\n",
       "            progress {\n",
       "                /* gets rid of default border in Firefox and Opera. */\n",
       "                border: none;\n",
       "                /* Needs to be in here for Safari polyfill so background images work as expected. */\n",
       "                background-size: auto;\n",
       "            }\n",
       "            .progress-bar-interrupted, .progress-bar-interrupted::-webkit-progress-bar {\n",
       "                background: #F44336;\n",
       "            }\n",
       "        </style>\n",
       "      <progress value='1' class='' max='1' style='width:300px; height:20px; vertical-align: middle;'></progress>\n",
       "      100.00% [1/1 00:00<00:00]\n",
       "    </div>\n",
       "    "
      ],
      "text/plain": [
       "<IPython.core.display.HTML object>"
      ]
     },
     "metadata": {},
     "output_type": "display_data"
    },
    {
     "name": "stdout",
     "output_type": "stream",
     "text": [
      "Starting year 30\n",
      "\n",
      "--> The keys in the returned dictionary of datasets are constructed as follows:\n",
      "\t'component.stream.case'\n"
     ]
    },
    {
     "data": {
      "text/html": [
       "\n",
       "    <div>\n",
       "        <style>\n",
       "            /* Turns off some styling */\n",
       "            progress {\n",
       "                /* gets rid of default border in Firefox and Opera. */\n",
       "                border: none;\n",
       "                /* Needs to be in here for Safari polyfill so background images work as expected. */\n",
       "                background-size: auto;\n",
       "            }\n",
       "            .progress-bar-interrupted, .progress-bar-interrupted::-webkit-progress-bar {\n",
       "                background: #F44336;\n",
       "            }\n",
       "        </style>\n",
       "      <progress value='1' class='' max='1' style='width:300px; height:20px; vertical-align: middle;'></progress>\n",
       "      100.00% [1/1 00:00<00:00]\n",
       "    </div>\n",
       "    "
      ],
      "text/plain": [
       "<IPython.core.display.HTML object>"
      ]
     },
     "metadata": {},
     "output_type": "display_data"
    },
    {
     "name": "stdout",
     "output_type": "stream",
     "text": [
      "\n",
      "--> The keys in the returned dictionary of datasets are constructed as follows:\n",
      "\t'component.stream.case'\n"
     ]
    },
    {
     "data": {
      "text/html": [
       "\n",
       "    <div>\n",
       "        <style>\n",
       "            /* Turns off some styling */\n",
       "            progress {\n",
       "                /* gets rid of default border in Firefox and Opera. */\n",
       "                border: none;\n",
       "                /* Needs to be in here for Safari polyfill so background images work as expected. */\n",
       "                background-size: auto;\n",
       "            }\n",
       "            .progress-bar-interrupted, .progress-bar-interrupted::-webkit-progress-bar {\n",
       "                background: #F44336;\n",
       "            }\n",
       "        </style>\n",
       "      <progress value='1' class='' max='1' style='width:300px; height:20px; vertical-align: middle;'></progress>\n",
       "      100.00% [1/1 00:00<00:00]\n",
       "    </div>\n",
       "    "
      ],
      "text/plain": [
       "<IPython.core.display.HTML object>"
      ]
     },
     "metadata": {},
     "output_type": "display_data"
    },
    {
     "name": "stdout",
     "output_type": "stream",
     "text": [
      "\n",
      "--> The keys in the returned dictionary of datasets are constructed as follows:\n",
      "\t'component.stream.case'\n"
     ]
    },
    {
     "data": {
      "text/html": [
       "\n",
       "    <div>\n",
       "        <style>\n",
       "            /* Turns off some styling */\n",
       "            progress {\n",
       "                /* gets rid of default border in Firefox and Opera. */\n",
       "                border: none;\n",
       "                /* Needs to be in here for Safari polyfill so background images work as expected. */\n",
       "                background-size: auto;\n",
       "            }\n",
       "            .progress-bar-interrupted, .progress-bar-interrupted::-webkit-progress-bar {\n",
       "                background: #F44336;\n",
       "            }\n",
       "        </style>\n",
       "      <progress value='1' class='' max='1' style='width:300px; height:20px; vertical-align: middle;'></progress>\n",
       "      100.00% [1/1 00:00<00:00]\n",
       "    </div>\n",
       "    "
      ],
      "text/plain": [
       "<IPython.core.display.HTML object>"
      ]
     },
     "metadata": {},
     "output_type": "display_data"
    },
    {
     "name": "stdout",
     "output_type": "stream",
     "text": [
      "Starting year 40\n",
      "\n",
      "--> The keys in the returned dictionary of datasets are constructed as follows:\n",
      "\t'component.stream.case'\n"
     ]
    },
    {
     "data": {
      "text/html": [
       "\n",
       "    <div>\n",
       "        <style>\n",
       "            /* Turns off some styling */\n",
       "            progress {\n",
       "                /* gets rid of default border in Firefox and Opera. */\n",
       "                border: none;\n",
       "                /* Needs to be in here for Safari polyfill so background images work as expected. */\n",
       "                background-size: auto;\n",
       "            }\n",
       "            .progress-bar-interrupted, .progress-bar-interrupted::-webkit-progress-bar {\n",
       "                background: #F44336;\n",
       "            }\n",
       "        </style>\n",
       "      <progress value='1' class='' max='1' style='width:300px; height:20px; vertical-align: middle;'></progress>\n",
       "      100.00% [1/1 00:00<00:00]\n",
       "    </div>\n",
       "    "
      ],
      "text/plain": [
       "<IPython.core.display.HTML object>"
      ]
     },
     "metadata": {},
     "output_type": "display_data"
    },
    {
     "name": "stdout",
     "output_type": "stream",
     "text": [
      "\n",
      "--> The keys in the returned dictionary of datasets are constructed as follows:\n",
      "\t'component.stream.case'\n"
     ]
    },
    {
     "data": {
      "text/html": [
       "\n",
       "    <div>\n",
       "        <style>\n",
       "            /* Turns off some styling */\n",
       "            progress {\n",
       "                /* gets rid of default border in Firefox and Opera. */\n",
       "                border: none;\n",
       "                /* Needs to be in here for Safari polyfill so background images work as expected. */\n",
       "                background-size: auto;\n",
       "            }\n",
       "            .progress-bar-interrupted, .progress-bar-interrupted::-webkit-progress-bar {\n",
       "                background: #F44336;\n",
       "            }\n",
       "        </style>\n",
       "      <progress value='1' class='' max='1' style='width:300px; height:20px; vertical-align: middle;'></progress>\n",
       "      100.00% [1/1 00:00<00:00]\n",
       "    </div>\n",
       "    "
      ],
      "text/plain": [
       "<IPython.core.display.HTML object>"
      ]
     },
     "metadata": {},
     "output_type": "display_data"
    },
    {
     "name": "stdout",
     "output_type": "stream",
     "text": [
      "\n",
      "--> The keys in the returned dictionary of datasets are constructed as follows:\n",
      "\t'component.stream.case'\n"
     ]
    },
    {
     "data": {
      "text/html": [
       "\n",
       "    <div>\n",
       "        <style>\n",
       "            /* Turns off some styling */\n",
       "            progress {\n",
       "                /* gets rid of default border in Firefox and Opera. */\n",
       "                border: none;\n",
       "                /* Needs to be in here for Safari polyfill so background images work as expected. */\n",
       "                background-size: auto;\n",
       "            }\n",
       "            .progress-bar-interrupted, .progress-bar-interrupted::-webkit-progress-bar {\n",
       "                background: #F44336;\n",
       "            }\n",
       "        </style>\n",
       "      <progress value='1' class='' max='1' style='width:300px; height:20px; vertical-align: middle;'></progress>\n",
       "      100.00% [1/1 00:00<00:00]\n",
       "    </div>\n",
       "    "
      ],
      "text/plain": [
       "<IPython.core.display.HTML object>"
      ]
     },
     "metadata": {},
     "output_type": "display_data"
    }
   ],
   "source": [
    "years = [1, 5, 10, 20, 30, 40]\n",
    "\n",
    "df = pd.DataFrame()\n",
    "\n",
    "with performance_report(filename=\"timeseries-computation.html\"):\n",
    "    for year in years:\n",
    "        print(f'Starting year {year}')\n",
    "        # Compute without computation\n",
    "        wall_time = test_timeseries_file(year)\n",
    "        df = df.append(\n",
    "            {\n",
    "                'catalog': 'timeseries',\n",
    "                'computation': 'None',\n",
    "                'num_years': year,\n",
    "                'wall_time': wall_time,\n",
    "            },\n",
    "            ignore_index=True,\n",
    "        )\n",
    "\n",
    "        # Compute with long-term mean computation\n",
    "        wall_time = test_timeseries_file(year, long_term_average=True)\n",
    "        df = df.append(\n",
    "            {\n",
    "                'catalog': 'timeseries',\n",
    "                'computation': 'long_term_average',\n",
    "                'num_years': year,\n",
    "                'wall_time': wall_time,\n",
    "            },\n",
    "            ignore_index=True,\n",
    "        )\n",
    "\n",
    "        # Compute with long-term mean computation\n",
    "        wall_time = test_timeseries_file(year, monthly_average=True)\n",
    "        df = df.append(\n",
    "            {\n",
    "                'catalog': 'timeseries',\n",
    "                'computation': 'monthly_average',\n",
    "                'num_years': year,\n",
    "                'wall_time': wall_time,\n",
    "            },\n",
    "            ignore_index=True,\n",
    "        )"
   ]
  },
  {
   "cell_type": "code",
   "execution_count": 10,
   "id": "56fb124e-3600-4f33-8cd4-56211d07ceb7",
   "metadata": {},
   "outputs": [
    {
     "data": {
      "text/html": [
       "<div>\n",
       "<style scoped>\n",
       "    .dataframe tbody tr th:only-of-type {\n",
       "        vertical-align: middle;\n",
       "    }\n",
       "\n",
       "    .dataframe tbody tr th {\n",
       "        vertical-align: top;\n",
       "    }\n",
       "\n",
       "    .dataframe thead th {\n",
       "        text-align: right;\n",
       "    }\n",
       "</style>\n",
       "<table border=\"1\" class=\"dataframe\">\n",
       "  <thead>\n",
       "    <tr style=\"text-align: right;\">\n",
       "      <th></th>\n",
       "      <th>catalog</th>\n",
       "      <th>computation</th>\n",
       "      <th>num_years</th>\n",
       "      <th>wall_time</th>\n",
       "    </tr>\n",
       "  </thead>\n",
       "  <tbody>\n",
       "    <tr>\n",
       "      <th>0</th>\n",
       "      <td>timeseries</td>\n",
       "      <td>None</td>\n",
       "      <td>1.0</td>\n",
       "      <td>1.791293</td>\n",
       "    </tr>\n",
       "    <tr>\n",
       "      <th>1</th>\n",
       "      <td>timeseries</td>\n",
       "      <td>long_term_average</td>\n",
       "      <td>1.0</td>\n",
       "      <td>1.824914</td>\n",
       "    </tr>\n",
       "    <tr>\n",
       "      <th>2</th>\n",
       "      <td>timeseries</td>\n",
       "      <td>monthly_average</td>\n",
       "      <td>1.0</td>\n",
       "      <td>2.230063</td>\n",
       "    </tr>\n",
       "    <tr>\n",
       "      <th>3</th>\n",
       "      <td>timeseries</td>\n",
       "      <td>None</td>\n",
       "      <td>5.0</td>\n",
       "      <td>0.339003</td>\n",
       "    </tr>\n",
       "    <tr>\n",
       "      <th>4</th>\n",
       "      <td>timeseries</td>\n",
       "      <td>long_term_average</td>\n",
       "      <td>5.0</td>\n",
       "      <td>0.857351</td>\n",
       "    </tr>\n",
       "    <tr>\n",
       "      <th>5</th>\n",
       "      <td>timeseries</td>\n",
       "      <td>monthly_average</td>\n",
       "      <td>5.0</td>\n",
       "      <td>1.643256</td>\n",
       "    </tr>\n",
       "    <tr>\n",
       "      <th>6</th>\n",
       "      <td>timeseries</td>\n",
       "      <td>None</td>\n",
       "      <td>10.0</td>\n",
       "      <td>0.104429</td>\n",
       "    </tr>\n",
       "    <tr>\n",
       "      <th>7</th>\n",
       "      <td>timeseries</td>\n",
       "      <td>long_term_average</td>\n",
       "      <td>10.0</td>\n",
       "      <td>1.004117</td>\n",
       "    </tr>\n",
       "    <tr>\n",
       "      <th>8</th>\n",
       "      <td>timeseries</td>\n",
       "      <td>monthly_average</td>\n",
       "      <td>10.0</td>\n",
       "      <td>1.779938</td>\n",
       "    </tr>\n",
       "    <tr>\n",
       "      <th>9</th>\n",
       "      <td>timeseries</td>\n",
       "      <td>None</td>\n",
       "      <td>20.0</td>\n",
       "      <td>0.104705</td>\n",
       "    </tr>\n",
       "    <tr>\n",
       "      <th>10</th>\n",
       "      <td>timeseries</td>\n",
       "      <td>long_term_average</td>\n",
       "      <td>20.0</td>\n",
       "      <td>0.970162</td>\n",
       "    </tr>\n",
       "    <tr>\n",
       "      <th>11</th>\n",
       "      <td>timeseries</td>\n",
       "      <td>monthly_average</td>\n",
       "      <td>20.0</td>\n",
       "      <td>1.995866</td>\n",
       "    </tr>\n",
       "    <tr>\n",
       "      <th>12</th>\n",
       "      <td>timeseries</td>\n",
       "      <td>None</td>\n",
       "      <td>30.0</td>\n",
       "      <td>0.104454</td>\n",
       "    </tr>\n",
       "    <tr>\n",
       "      <th>13</th>\n",
       "      <td>timeseries</td>\n",
       "      <td>long_term_average</td>\n",
       "      <td>30.0</td>\n",
       "      <td>0.871588</td>\n",
       "    </tr>\n",
       "    <tr>\n",
       "      <th>14</th>\n",
       "      <td>timeseries</td>\n",
       "      <td>monthly_average</td>\n",
       "      <td>30.0</td>\n",
       "      <td>1.675100</td>\n",
       "    </tr>\n",
       "    <tr>\n",
       "      <th>15</th>\n",
       "      <td>timeseries</td>\n",
       "      <td>None</td>\n",
       "      <td>40.0</td>\n",
       "      <td>0.106984</td>\n",
       "    </tr>\n",
       "    <tr>\n",
       "      <th>16</th>\n",
       "      <td>timeseries</td>\n",
       "      <td>long_term_average</td>\n",
       "      <td>40.0</td>\n",
       "      <td>0.771061</td>\n",
       "    </tr>\n",
       "    <tr>\n",
       "      <th>17</th>\n",
       "      <td>timeseries</td>\n",
       "      <td>monthly_average</td>\n",
       "      <td>40.0</td>\n",
       "      <td>1.858114</td>\n",
       "    </tr>\n",
       "  </tbody>\n",
       "</table>\n",
       "</div>"
      ],
      "text/plain": [
       "       catalog        computation  num_years  wall_time\n",
       "0   timeseries               None        1.0   1.791293\n",
       "1   timeseries  long_term_average        1.0   1.824914\n",
       "2   timeseries    monthly_average        1.0   2.230063\n",
       "3   timeseries               None        5.0   0.339003\n",
       "4   timeseries  long_term_average        5.0   0.857351\n",
       "5   timeseries    monthly_average        5.0   1.643256\n",
       "6   timeseries               None       10.0   0.104429\n",
       "7   timeseries  long_term_average       10.0   1.004117\n",
       "8   timeseries    monthly_average       10.0   1.779938\n",
       "9   timeseries               None       20.0   0.104705\n",
       "10  timeseries  long_term_average       20.0   0.970162\n",
       "11  timeseries    monthly_average       20.0   1.995866\n",
       "12  timeseries               None       30.0   0.104454\n",
       "13  timeseries  long_term_average       30.0   0.871588\n",
       "14  timeseries    monthly_average       30.0   1.675100\n",
       "15  timeseries               None       40.0   0.106984\n",
       "16  timeseries  long_term_average       40.0   0.771061\n",
       "17  timeseries    monthly_average       40.0   1.858114"
      ]
     },
     "execution_count": 10,
     "metadata": {},
     "output_type": "execute_result"
    }
   ],
   "source": [
    "df"
   ]
  },
  {
   "cell_type": "code",
   "execution_count": 12,
   "id": "4648edae-6339-4176-a96b-31cd4aab0de9",
   "metadata": {},
   "outputs": [
    {
     "data": {},
     "metadata": {},
     "output_type": "display_data"
    },
    {
     "data": {
      "application/vnd.holoviews_exec.v0+json": "",
      "text/html": [
       "<div id='3353'>\n",
       "\n",
       "\n",
       "\n",
       "\n",
       "\n",
       "  <div class=\"bk-root\" id=\"ff28cfb2-8014-4724-8f13-d3059663cab2\" data-root-id=\"3353\"></div>\n",
       "</div>\n",
       "<script type=\"application/javascript\">(function(root) {\n",
       "  function embed_document(root) {\n",
       "    var docs_json = {\"ca5990bd-7701-4635-8726-9f8c59530cfd\":{\"defs\":[{\"extends\":null,\"module\":null,\"name\":\"ReactiveHTML1\",\"overrides\":[],\"properties\":[]},{\"extends\":null,\"module\":null,\"name\":\"FlexBox1\",\"overrides\":[],\"properties\":[{\"default\":\"flex-start\",\"kind\":null,\"name\":\"align_content\"},{\"default\":\"flex-start\",\"kind\":null,\"name\":\"align_items\"},{\"default\":\"row\",\"kind\":null,\"name\":\"flex_direction\"},{\"default\":\"wrap\",\"kind\":null,\"name\":\"flex_wrap\"},{\"default\":\"flex-start\",\"kind\":null,\"name\":\"justify_content\"}]},{\"extends\":null,\"module\":null,\"name\":\"TemplateActions1\",\"overrides\":[],\"properties\":[{\"default\":0,\"kind\":null,\"name\":\"open_modal\"},{\"default\":0,\"kind\":null,\"name\":\"close_modal\"}]},{\"extends\":null,\"module\":null,\"name\":\"MaterialTemplateActions1\",\"overrides\":[],\"properties\":[{\"default\":0,\"kind\":null,\"name\":\"open_modal\"},{\"default\":0,\"kind\":null,\"name\":\"close_modal\"}]}],\"roots\":{\"references\":[{\"attributes\":{\"toolbars\":[{\"id\":\"3381\"},{\"id\":\"3427\"},{\"id\":\"3473\"}],\"tools\":[{\"id\":\"3357\"},{\"id\":\"3375\"},{\"id\":\"3376\"},{\"id\":\"3377\"},{\"id\":\"3378\"},{\"id\":\"3379\"},{\"id\":\"3403\"},{\"id\":\"3421\"},{\"id\":\"3422\"},{\"id\":\"3423\"},{\"id\":\"3424\"},{\"id\":\"3425\"},{\"id\":\"3449\"},{\"id\":\"3467\"},{\"id\":\"3468\"},{\"id\":\"3469\"},{\"id\":\"3470\"},{\"id\":\"3471\"}]},\"id\":\"3529\",\"type\":\"ProxyToolbar\"},{\"attributes\":{\"margin\":[5,5,5,5],\"name\":\"HSpacer02434\",\"sizing_mode\":\"stretch_width\"},\"id\":\"3354\",\"type\":\"Spacer\"},{\"attributes\":{},\"id\":\"3421\",\"type\":\"SaveTool\"},{\"attributes\":{\"data\":{\"num_years\":{\"__ndarray__\":\"AAAAAAAA8D8AAAAAAAAUQAAAAAAAACRAAAAAAAAANEAAAAAAAAA+QAAAAAAAAERA\",\"dtype\":\"float64\",\"order\":\"little\",\"shape\":[6]},\"wall_time\":{\"__ndarray__\":\"AAAAwCKp/D8AAAAAOrLVPwAAAADcu7o/AAAAAPTNuj8AAAAAhL26PwAAAABUY7s/\",\"dtype\":\"float64\",\"order\":\"little\",\"shape\":[6]}},\"selected\":{\"id\":\"3389\"},\"selection_policy\":{\"id\":\"3502\"}},\"id\":\"3388\",\"type\":\"ColumnDataSource\"},{\"attributes\":{\"text\":\"No computation\",\"text_color\":\"black\",\"text_font_size\":\"12pt\"},\"id\":\"3359\",\"type\":\"Title\"},{\"attributes\":{\"line_color\":\"#30a2da\",\"line_width\":2,\"x\":{\"field\":\"num_years\"},\"y\":{\"field\":\"wall_time\"}},\"id\":\"3437\",\"type\":\"Line\"},{\"attributes\":{\"overlay\":{\"id\":\"3472\"}},\"id\":\"3470\",\"type\":\"BoxZoomTool\"},{\"attributes\":{\"end\":2.442626619338989,\"reset_end\":2.442626619338989,\"reset_start\":-0.10813441276550295,\"start\":-0.10813441276550295,\"tags\":[[[\"wall_time\",\"wall_time\",null]]]},\"id\":\"3356\",\"type\":\"Range1d\"},{\"attributes\":{\"bottom_units\":\"screen\",\"fill_alpha\":0.5,\"fill_color\":\"lightgrey\",\"left_units\":\"screen\",\"level\":\"overlay\",\"line_alpha\":1.0,\"line_color\":\"black\",\"line_dash\":[4,4],\"line_width\":2,\"right_units\":\"screen\",\"syncable\":false,\"top_units\":\"screen\"},\"id\":\"3472\",\"type\":\"BoxAnnotation\"},{\"attributes\":{\"line_color\":\"#30a2da\",\"line_width\":2,\"x\":{\"field\":\"num_years\"},\"y\":{\"field\":\"wall_time\"}},\"id\":\"3442\",\"type\":\"Line\"},{\"attributes\":{\"line_alpha\":0.1,\"line_color\":\"#30a2da\",\"line_width\":2,\"x\":{\"field\":\"num_years\"},\"y\":{\"field\":\"wall_time\"}},\"id\":\"3484\",\"type\":\"Line\"},{\"attributes\":{},\"id\":\"3377\",\"type\":\"WheelZoomTool\"},{\"attributes\":{\"axis\":{\"id\":\"3463\"},\"dimension\":1,\"grid_line_color\":null,\"ticker\":null},\"id\":\"3466\",\"type\":\"Grid\"},{\"attributes\":{\"children\":[[{\"id\":\"3358\"},0,0],[{\"id\":\"3404\"},0,1],[{\"id\":\"3450\"},0,2]]},\"id\":\"3528\",\"type\":\"GridBox\"},{\"attributes\":{\"source\":{\"id\":\"3388\"}},\"id\":\"3395\",\"type\":\"CDSView\"},{\"attributes\":{\"line_color\":\"#30a2da\",\"line_width\":2,\"x\":{\"field\":\"num_years\"},\"y\":{\"field\":\"wall_time\"}},\"id\":\"3396\",\"type\":\"Line\"},{\"attributes\":{},\"id\":\"3389\",\"type\":\"Selection\"},{\"attributes\":{},\"id\":\"3372\",\"type\":\"BasicTicker\"},{\"attributes\":{\"line_alpha\":0.1,\"line_color\":\"#30a2da\",\"line_width\":2,\"x\":{\"field\":\"num_years\"},\"y\":{\"field\":\"wall_time\"}},\"id\":\"3438\",\"type\":\"Line\"},{\"attributes\":{},\"id\":\"3524\",\"type\":\"UnionRenderers\"},{\"attributes\":{},\"id\":\"3445\",\"type\":\"AllLabels\"},{\"attributes\":{\"axis\":{\"id\":\"3459\"},\"grid_line_color\":null,\"ticker\":null},\"id\":\"3462\",\"type\":\"Grid\"},{\"attributes\":{\"callback\":null,\"renderers\":[{\"id\":\"3394\"}],\"tags\":[\"hv_created\"],\"tooltips\":[[\"num_years\",\"@{num_years}\"],[\"wall_time\",\"@{wall_time}\"]]},\"id\":\"3357\",\"type\":\"HoverTool\"},{\"attributes\":{},\"id\":\"3494\",\"type\":\"AllLabels\"},{\"attributes\":{\"overlay\":{\"id\":\"3426\"}},\"id\":\"3424\",\"type\":\"BoxZoomTool\"},{\"attributes\":{},\"id\":\"3425\",\"type\":\"ResetTool\"},{\"attributes\":{\"end\":40.0,\"reset_end\":40.0,\"reset_start\":1.0,\"start\":1.0,\"tags\":[[[\"num_years\",\"num_years\",null]]]},\"id\":\"3355\",\"type\":\"Range1d\"},{\"attributes\":{\"data\":{\"num_years\":{\"__ndarray__\":\"AAAAAAAA8D8AAAAAAAAUQAAAAAAAACRAAAAAAAAANEAAAAAAAAA+QAAAAAAAAERA\",\"dtype\":\"float64\",\"order\":\"little\",\"shape\":[6]},\"wall_time\":{\"__ndarray__\":\"AAAAYCvXAUAAAAAAx0r6PwAAAECgevw/AAAAABHv/z8AAACANc36PwAAAMDVuv0/\",\"dtype\":\"float64\",\"order\":\"little\",\"shape\":[6]}},\"selected\":{\"id\":\"3481\"},\"selection_policy\":{\"id\":\"3524\"}},\"id\":\"3480\",\"type\":\"ColumnDataSource\"},{\"attributes\":{},\"id\":\"3422\",\"type\":\"PanTool\"},{\"attributes\":{},\"id\":\"3448\",\"type\":\"AllLabels\"},{\"attributes\":{},\"id\":\"3481\",\"type\":\"Selection\"},{\"attributes\":{\"below\":[{\"id\":\"3367\"}],\"center\":[{\"id\":\"3370\"},{\"id\":\"3374\"}],\"height\":300,\"left\":[{\"id\":\"3371\"}],\"margin\":null,\"min_border_bottom\":10,\"min_border_left\":10,\"min_border_right\":10,\"min_border_top\":10,\"renderers\":[{\"id\":\"3394\"}],\"sizing_mode\":\"fixed\",\"title\":{\"id\":\"3359\"},\"toolbar\":{\"id\":\"3381\"},\"toolbar_location\":null,\"width\":400,\"x_range\":{\"id\":\"3355\"},\"x_scale\":{\"id\":\"3363\"},\"y_range\":{\"id\":\"3356\"},\"y_scale\":{\"id\":\"3365\"}},\"id\":\"3358\",\"subtype\":\"Figure\",\"type\":\"Plot\"},{\"attributes\":{\"line_alpha\":0.1,\"line_color\":\"#30a2da\",\"line_width\":2,\"x\":{\"field\":\"num_years\"},\"y\":{\"field\":\"wall_time\"}},\"id\":\"3392\",\"type\":\"Line\"},{\"attributes\":{\"callback\":null,\"renderers\":[{\"id\":\"3486\"}],\"tags\":[\"hv_created\"],\"tooltips\":[[\"num_years\",\"@{num_years}\"],[\"wall_time\",\"@{wall_time}\"]]},\"id\":\"3449\",\"type\":\"HoverTool\"},{\"attributes\":{\"active_multi\":null,\"tools\":[{\"id\":\"3403\"},{\"id\":\"3421\"},{\"id\":\"3422\"},{\"id\":\"3423\"},{\"id\":\"3424\"},{\"id\":\"3425\"}]},\"id\":\"3427\",\"type\":\"Toolbar\"},{\"attributes\":{\"axis_label\":\"Time (s)\",\"formatter\":{\"id\":\"3397\"},\"major_label_policy\":{\"id\":\"3399\"},\"ticker\":{\"id\":\"3368\"}},\"id\":\"3367\",\"type\":\"LinearAxis\"},{\"attributes\":{\"below\":[{\"id\":\"3413\"}],\"center\":[{\"id\":\"3416\"},{\"id\":\"3420\"}],\"height\":300,\"left\":[{\"id\":\"3417\"}],\"margin\":null,\"min_border_bottom\":10,\"min_border_left\":10,\"min_border_right\":10,\"min_border_top\":10,\"renderers\":[{\"id\":\"3440\"}],\"sizing_mode\":\"fixed\",\"title\":{\"id\":\"3405\"},\"toolbar\":{\"id\":\"3427\"},\"toolbar_location\":null,\"width\":400,\"x_range\":{\"id\":\"3355\"},\"x_scale\":{\"id\":\"3409\"},\"y_range\":{\"id\":\"3356\"},\"y_scale\":{\"id\":\"3411\"}},\"id\":\"3404\",\"subtype\":\"Figure\",\"type\":\"Plot\"},{\"attributes\":{\"line_color\":\"#30a2da\",\"line_width\":2,\"x\":{\"field\":\"num_years\"},\"y\":{\"field\":\"wall_time\"}},\"id\":\"3488\",\"type\":\"Line\"},{\"attributes\":{},\"id\":\"3423\",\"type\":\"WheelZoomTool\"},{\"attributes\":{\"margin\":[5,5,5,5],\"name\":\"HSpacer02435\",\"sizing_mode\":\"stretch_width\"},\"id\":\"3802\",\"type\":\"Spacer\"},{\"attributes\":{},\"id\":\"3411\",\"type\":\"LinearScale\"},{\"attributes\":{\"axis\":{\"id\":\"3417\"},\"dimension\":1,\"grid_line_color\":null,\"ticker\":null},\"id\":\"3420\",\"type\":\"Grid\"},{\"attributes\":{\"bottom_units\":\"screen\",\"fill_alpha\":0.5,\"fill_color\":\"lightgrey\",\"left_units\":\"screen\",\"level\":\"overlay\",\"line_alpha\":1.0,\"line_color\":\"black\",\"line_dash\":[4,4],\"line_width\":2,\"right_units\":\"screen\",\"syncable\":false,\"top_units\":\"screen\"},\"id\":\"3426\",\"type\":\"BoxAnnotation\"},{\"attributes\":{},\"id\":\"3492\",\"type\":\"BasicTickFormatter\"},{\"attributes\":{},\"id\":\"3402\",\"type\":\"AllLabels\"},{\"attributes\":{\"line_color\":\"#30a2da\",\"line_width\":2,\"x\":{\"field\":\"num_years\"},\"y\":{\"field\":\"wall_time\"}},\"id\":\"3483\",\"type\":\"Line\"},{\"attributes\":{\"data_source\":{\"id\":\"3434\"},\"glyph\":{\"id\":\"3437\"},\"hover_glyph\":null,\"muted_glyph\":{\"id\":\"3439\"},\"nonselection_glyph\":{\"id\":\"3438\"},\"selection_glyph\":{\"id\":\"3442\"},\"view\":{\"id\":\"3441\"}},\"id\":\"3440\",\"type\":\"GlyphRenderer\"},{\"attributes\":{\"axis_label\":\"wall_time\",\"formatter\":{\"id\":\"3400\"},\"major_label_policy\":{\"id\":\"3402\"},\"ticker\":{\"id\":\"3372\"}},\"id\":\"3371\",\"type\":\"LinearAxis\"},{\"attributes\":{},\"id\":\"3455\",\"type\":\"LinearScale\"},{\"attributes\":{},\"id\":\"3368\",\"type\":\"BasicTicker\"},{\"attributes\":{},\"id\":\"3489\",\"type\":\"BasicTickFormatter\"},{\"attributes\":{\"active_multi\":null,\"tools\":[{\"id\":\"3449\"},{\"id\":\"3467\"},{\"id\":\"3468\"},{\"id\":\"3469\"},{\"id\":\"3470\"},{\"id\":\"3471\"}]},\"id\":\"3473\",\"type\":\"Toolbar\"},{\"attributes\":{\"axis\":{\"id\":\"3413\"},\"grid_line_color\":null,\"ticker\":null},\"id\":\"3416\",\"type\":\"Grid\"},{\"attributes\":{\"axis\":{\"id\":\"3371\"},\"dimension\":1,\"grid_line_color\":null,\"ticker\":null},\"id\":\"3374\",\"type\":\"Grid\"},{\"attributes\":{\"line_alpha\":0.2,\"line_color\":\"#30a2da\",\"line_width\":2,\"x\":{\"field\":\"num_years\"},\"y\":{\"field\":\"wall_time\"}},\"id\":\"3393\",\"type\":\"Line\"},{\"attributes\":{\"source\":{\"id\":\"3434\"}},\"id\":\"3441\",\"type\":\"CDSView\"},{\"attributes\":{\"toolbar\":{\"id\":\"3529\"},\"toolbar_location\":\"above\"},\"id\":\"3530\",\"type\":\"ToolbarBox\"},{\"attributes\":{},\"id\":\"3379\",\"type\":\"ResetTool\"},{\"attributes\":{\"children\":[{\"id\":\"3354\"},{\"id\":\"3531\"},{\"id\":\"3802\"}],\"margin\":[0,0,0,0],\"name\":\"Row02430\",\"tags\":[\"embedded\"]},\"id\":\"3353\",\"type\":\"Row\"},{\"attributes\":{\"text\":\"Monthly climatology\",\"text_color\":\"black\",\"text_font_size\":\"12pt\"},\"id\":\"3451\",\"type\":\"Title\"},{\"attributes\":{},\"id\":\"3446\",\"type\":\"BasicTickFormatter\"},{\"attributes\":{\"axis_label\":\"Time (s)\",\"formatter\":{\"id\":\"3489\"},\"major_label_policy\":{\"id\":\"3491\"},\"ticker\":{\"id\":\"3460\"}},\"id\":\"3459\",\"type\":\"LinearAxis\"},{\"attributes\":{\"overlay\":{\"id\":\"3380\"}},\"id\":\"3378\",\"type\":\"BoxZoomTool\"},{\"attributes\":{},\"id\":\"3471\",\"type\":\"ResetTool\"},{\"attributes\":{\"axis_label\":\"Time (s)\",\"formatter\":{\"id\":\"3443\"},\"major_label_policy\":{\"id\":\"3445\"},\"ticker\":{\"id\":\"3414\"}},\"id\":\"3413\",\"type\":\"LinearAxis\"},{\"attributes\":{\"line_color\":\"#30a2da\",\"line_width\":2,\"x\":{\"field\":\"num_years\"},\"y\":{\"field\":\"wall_time\"}},\"id\":\"3391\",\"type\":\"Line\"},{\"attributes\":{},\"id\":\"3435\",\"type\":\"Selection\"},{\"attributes\":{\"axis\":{\"id\":\"3367\"},\"grid_line_color\":null,\"ticker\":null},\"id\":\"3370\",\"type\":\"Grid\"},{\"attributes\":{},\"id\":\"3365\",\"type\":\"LinearScale\"},{\"attributes\":{},\"id\":\"3399\",\"type\":\"AllLabels\"},{\"attributes\":{},\"id\":\"3443\",\"type\":\"BasicTickFormatter\"},{\"attributes\":{\"bottom_units\":\"screen\",\"fill_alpha\":0.5,\"fill_color\":\"lightgrey\",\"left_units\":\"screen\",\"level\":\"overlay\",\"line_alpha\":1.0,\"line_color\":\"black\",\"line_dash\":[4,4],\"line_width\":2,\"right_units\":\"screen\",\"syncable\":false,\"top_units\":\"screen\"},\"id\":\"3380\",\"type\":\"BoxAnnotation\"},{\"attributes\":{\"source\":{\"id\":\"3480\"}},\"id\":\"3487\",\"type\":\"CDSView\"},{\"attributes\":{},\"id\":\"3502\",\"type\":\"UnionRenderers\"},{\"attributes\":{\"data_source\":{\"id\":\"3388\"},\"glyph\":{\"id\":\"3391\"},\"hover_glyph\":null,\"muted_glyph\":{\"id\":\"3393\"},\"nonselection_glyph\":{\"id\":\"3392\"},\"selection_glyph\":{\"id\":\"3396\"},\"view\":{\"id\":\"3395\"}},\"id\":\"3394\",\"type\":\"GlyphRenderer\"},{\"attributes\":{},\"id\":\"3468\",\"type\":\"PanTool\"},{\"attributes\":{\"children\":[{\"id\":\"3530\"},{\"id\":\"3528\"}]},\"id\":\"3531\",\"type\":\"Column\"},{\"attributes\":{},\"id\":\"3363\",\"type\":\"LinearScale\"},{\"attributes\":{\"callback\":null,\"renderers\":[{\"id\":\"3440\"}],\"tags\":[\"hv_created\"],\"tooltips\":[[\"num_years\",\"@{num_years}\"],[\"wall_time\",\"@{wall_time}\"]]},\"id\":\"3403\",\"type\":\"HoverTool\"},{\"attributes\":{},\"id\":\"3460\",\"type\":\"BasicTicker\"},{\"attributes\":{},\"id\":\"3414\",\"type\":\"BasicTicker\"},{\"attributes\":{},\"id\":\"3457\",\"type\":\"LinearScale\"},{\"attributes\":{\"text\":\"Long term mean\",\"text_color\":\"black\",\"text_font_size\":\"12pt\"},\"id\":\"3405\",\"type\":\"Title\"},{\"attributes\":{},\"id\":\"3418\",\"type\":\"BasicTicker\"},{\"attributes\":{},\"id\":\"3375\",\"type\":\"SaveTool\"},{\"attributes\":{},\"id\":\"3464\",\"type\":\"BasicTicker\"},{\"attributes\":{\"axis_label\":\"wall_time\",\"formatter\":{\"id\":\"3446\"},\"major_label_policy\":{\"id\":\"3448\"},\"ticker\":{\"id\":\"3418\"}},\"id\":\"3417\",\"type\":\"LinearAxis\"},{\"attributes\":{},\"id\":\"3397\",\"type\":\"BasicTickFormatter\"},{\"attributes\":{\"line_alpha\":0.2,\"line_color\":\"#30a2da\",\"line_width\":2,\"x\":{\"field\":\"num_years\"},\"y\":{\"field\":\"wall_time\"}},\"id\":\"3439\",\"type\":\"Line\"},{\"attributes\":{},\"id\":\"3491\",\"type\":\"AllLabels\"},{\"attributes\":{\"line_alpha\":0.2,\"line_color\":\"#30a2da\",\"line_width\":2,\"x\":{\"field\":\"num_years\"},\"y\":{\"field\":\"wall_time\"}},\"id\":\"3485\",\"type\":\"Line\"},{\"attributes\":{\"data\":{\"num_years\":{\"__ndarray__\":\"AAAAAAAA8D8AAAAAAAAUQAAAAAAAACRAAAAAAAAANEAAAAAAAAA+QAAAAAAAAERA\",\"dtype\":\"float64\",\"order\":\"little\",\"shape\":[6]},\"wall_time\":{\"__ndarray__\":\"AAAAwNgy/T8AAAAAa2/rPwAAAIDcEPA/AAAAgJEL7z8AAAAADOTrPwAAAACJrOg/\",\"dtype\":\"float64\",\"order\":\"little\",\"shape\":[6]}},\"selected\":{\"id\":\"3435\"},\"selection_policy\":{\"id\":\"3513\"}},\"id\":\"3434\",\"type\":\"ColumnDataSource\"},{\"attributes\":{\"axis_label\":\"wall_time\",\"formatter\":{\"id\":\"3492\"},\"major_label_policy\":{\"id\":\"3494\"},\"ticker\":{\"id\":\"3464\"}},\"id\":\"3463\",\"type\":\"LinearAxis\"},{\"attributes\":{},\"id\":\"3467\",\"type\":\"SaveTool\"},{\"attributes\":{},\"id\":\"3409\",\"type\":\"LinearScale\"},{\"attributes\":{},\"id\":\"3469\",\"type\":\"WheelZoomTool\"},{\"attributes\":{\"data_source\":{\"id\":\"3480\"},\"glyph\":{\"id\":\"3483\"},\"hover_glyph\":null,\"muted_glyph\":{\"id\":\"3485\"},\"nonselection_glyph\":{\"id\":\"3484\"},\"selection_glyph\":{\"id\":\"3488\"},\"view\":{\"id\":\"3487\"}},\"id\":\"3486\",\"type\":\"GlyphRenderer\"},{\"attributes\":{},\"id\":\"3376\",\"type\":\"PanTool\"},{\"attributes\":{},\"id\":\"3400\",\"type\":\"BasicTickFormatter\"},{\"attributes\":{\"below\":[{\"id\":\"3459\"}],\"center\":[{\"id\":\"3462\"},{\"id\":\"3466\"}],\"height\":300,\"left\":[{\"id\":\"3463\"}],\"margin\":null,\"min_border_bottom\":10,\"min_border_left\":10,\"min_border_right\":10,\"min_border_top\":10,\"renderers\":[{\"id\":\"3486\"}],\"sizing_mode\":\"fixed\",\"title\":{\"id\":\"3451\"},\"toolbar\":{\"id\":\"3473\"},\"toolbar_location\":null,\"width\":400,\"x_range\":{\"id\":\"3355\"},\"x_scale\":{\"id\":\"3455\"},\"y_range\":{\"id\":\"3356\"},\"y_scale\":{\"id\":\"3457\"}},\"id\":\"3450\",\"subtype\":\"Figure\",\"type\":\"Plot\"},{\"attributes\":{},\"id\":\"3513\",\"type\":\"UnionRenderers\"},{\"attributes\":{\"active_multi\":null,\"tools\":[{\"id\":\"3357\"},{\"id\":\"3375\"},{\"id\":\"3376\"},{\"id\":\"3377\"},{\"id\":\"3378\"},{\"id\":\"3379\"}]},\"id\":\"3381\",\"type\":\"Toolbar\"}],\"root_ids\":[\"3353\"]},\"title\":\"Bokeh Application\",\"version\":\"2.3.3\"}};\n",
       "    var render_items = [{\"docid\":\"ca5990bd-7701-4635-8726-9f8c59530cfd\",\"root_ids\":[\"3353\"],\"roots\":{\"3353\":\"ff28cfb2-8014-4724-8f13-d3059663cab2\"}}];\n",
       "    root.Bokeh.embed.embed_items_notebook(docs_json, render_items);\n",
       "  }\n",
       "  if (root.Bokeh !== undefined && root.Bokeh.Panel !== undefined) {\n",
       "    embed_document(root);\n",
       "  } else {\n",
       "    var attempts = 0;\n",
       "    var timer = setInterval(function(root) {\n",
       "      if (root.Bokeh !== undefined && root.Bokeh.Panel !== undefined) {\n",
       "        clearInterval(timer);\n",
       "        embed_document(root);\n",
       "      } else if (document.readyState == \"complete\") {\n",
       "        attempts++;\n",
       "        if (attempts > 200) {\n",
       "          clearInterval(timer);\n",
       "          console.log(\"Bokeh: ERROR: Unable to run BokehJS code because BokehJS library is missing\");\n",
       "        }\n",
       "      }\n",
       "    }, 25, root)\n",
       "  }\n",
       "})(window);</script>"
      ],
      "text/plain": [
       ":Layout\n",
       "   .Curve.No_computation      :Curve   [num_years]   (wall_time)\n",
       "   .Curve.Long_term_mean      :Curve   [num_years]   (wall_time)\n",
       "   .Curve.Monthly_climatology :Curve   [num_years]   (wall_time)"
      ]
     },
     "execution_count": 12,
     "metadata": {
      "application/vnd.holoviews_exec.v0+json": {
       "id": "3353"
      }
     },
     "output_type": "execute_result"
    }
   ],
   "source": [
    "file_read_in = df.loc[df.computation == 'None'].hvplot(\n",
    "    x='num_years', y='wall_time', xlabel='Time (s)', width=400, label='No computation'\n",
    ")\n",
    "long_term_mean = df.loc[df.computation == 'long_term_average'].hvplot(\n",
    "    x='num_years', y='wall_time', xlabel='Time (s)', width=400, label='Long term mean'\n",
    ")\n",
    "monthly_average = df.loc[df.computation == 'monthly_average'].hvplot(\n",
    "    x='num_years', y='wall_time', xlabel='Time (s)', width=400, label='Monthly climatology'\n",
    ")\n",
    "\n",
    "file_read_in + long_term_mean + monthly_average"
   ]
  },
  {
   "cell_type": "markdown",
   "id": "a4aa0f5d-6523-4fd7-840d-9980a69fd03e",
   "metadata": {},
   "source": [
    "### Test out the History Files"
   ]
  },
  {
   "cell_type": "code",
   "execution_count": 13,
   "id": "80276260-c696-445b-82e2-f244d69a45fc",
   "metadata": {},
   "outputs": [],
   "source": [
    "def test_history_file(num_years, long_term_average=False, monthly_average=False):\n",
    "    start = time.time()\n",
    "    dsets = monthly_ocean_history.search(\n",
    "        date=monthly_ocean_history.df.date[: num_years * 12]\n",
    "    ).to_dataset_dict('FG_CO2', cdf_kwargs={'use_cftime': True, 'chunks': {'time': 60}})\n",
    "    keys = list(dsets.keys())\n",
    "    ds = dsets[keys[0]]\n",
    "\n",
    "    if long_term_average:\n",
    "        ds.mean(dim='time').compute()\n",
    "\n",
    "    if monthly_average:\n",
    "        ds.groupby('time.month').mean(dim='time').compute()\n",
    "\n",
    "    end = time.time()\n",
    "    return end - start"
   ]
  },
  {
   "cell_type": "code",
   "execution_count": null,
   "id": "f432855c-9674-4820-9072-357ac49232d7",
   "metadata": {},
   "outputs": [
    {
     "name": "stdout",
     "output_type": "stream",
     "text": [
      "\n",
      "--> The keys in the returned dictionary of datasets are constructed as follows:\n",
      "\t'component/stream/case'\n"
     ]
    },
    {
     "data": {
      "text/html": [
       "\n",
       "    <div>\n",
       "        <style>\n",
       "            /* Turns off some styling */\n",
       "            progress {\n",
       "                /* gets rid of default border in Firefox and Opera. */\n",
       "                border: none;\n",
       "                /* Needs to be in here for Safari polyfill so background images work as expected. */\n",
       "                background-size: auto;\n",
       "            }\n",
       "            .progress-bar-interrupted, .progress-bar-interrupted::-webkit-progress-bar {\n",
       "                background: #F44336;\n",
       "            }\n",
       "        </style>\n",
       "      <progress value='1' class='' max='1' style='width:300px; height:20px; vertical-align: middle;'></progress>\n",
       "      100.00% [1/1 00:00<00:00]\n",
       "    </div>\n",
       "    "
      ],
      "text/plain": [
       "<IPython.core.display.HTML object>"
      ]
     },
     "metadata": {},
     "output_type": "display_data"
    },
    {
     "name": "stdout",
     "output_type": "stream",
     "text": [
      "\n",
      "--> The keys in the returned dictionary of datasets are constructed as follows:\n",
      "\t'component/stream/case'\n"
     ]
    },
    {
     "data": {
      "text/html": [
       "\n",
       "    <div>\n",
       "        <style>\n",
       "            /* Turns off some styling */\n",
       "            progress {\n",
       "                /* gets rid of default border in Firefox and Opera. */\n",
       "                border: none;\n",
       "                /* Needs to be in here for Safari polyfill so background images work as expected. */\n",
       "                background-size: auto;\n",
       "            }\n",
       "            .progress-bar-interrupted, .progress-bar-interrupted::-webkit-progress-bar {\n",
       "                background: #F44336;\n",
       "            }\n",
       "        </style>\n",
       "      <progress value='1' class='' max='1' style='width:300px; height:20px; vertical-align: middle;'></progress>\n",
       "      100.00% [1/1 00:00<00:00]\n",
       "    </div>\n",
       "    "
      ],
      "text/plain": [
       "<IPython.core.display.HTML object>"
      ]
     },
     "metadata": {},
     "output_type": "display_data"
    },
    {
     "name": "stdout",
     "output_type": "stream",
     "text": [
      "\n",
      "--> The keys in the returned dictionary of datasets are constructed as follows:\n",
      "\t'component/stream/case'\n"
     ]
    },
    {
     "data": {
      "text/html": [
       "\n",
       "    <div>\n",
       "        <style>\n",
       "            /* Turns off some styling */\n",
       "            progress {\n",
       "                /* gets rid of default border in Firefox and Opera. */\n",
       "                border: none;\n",
       "                /* Needs to be in here for Safari polyfill so background images work as expected. */\n",
       "                background-size: auto;\n",
       "            }\n",
       "            .progress-bar-interrupted, .progress-bar-interrupted::-webkit-progress-bar {\n",
       "                background: #F44336;\n",
       "            }\n",
       "        </style>\n",
       "      <progress value='1' class='' max='1' style='width:300px; height:20px; vertical-align: middle;'></progress>\n",
       "      100.00% [1/1 00:00<00:00]\n",
       "    </div>\n",
       "    "
      ],
      "text/plain": [
       "<IPython.core.display.HTML object>"
      ]
     },
     "metadata": {},
     "output_type": "display_data"
    }
   ],
   "source": [
    "with performance_report(filename=\"history-computation.html\"):\n",
    "    for year in years:\n",
    "\n",
    "        # Compute without computation\n",
    "        wall_time = test_history_file(year)\n",
    "        df = df.append(\n",
    "            {'catalog': 'history', 'computation': None, 'num_years': year, 'wall_time': wall_time},\n",
    "            ignore_index=True,\n",
    "        )\n",
    "\n",
    "        # Compute with long-term mean computation\n",
    "        wall_time = test_history_file(year, long_term_average=True)\n",
    "        df = df.append(\n",
    "            {\n",
    "                'catalog': 'history',\n",
    "                'computation': 'long_term_average',\n",
    "                'num_years': year,\n",
    "                'wall_time': wall_time,\n",
    "            },\n",
    "            ignore_index=True,\n",
    "        )\n",
    "\n",
    "        # Compute with long-term mean computation\n",
    "        wall_time = test_history_file(year, monthly_average=True)\n",
    "        df = df.append(\n",
    "            {\n",
    "                'catalog': 'history',\n",
    "                'computation': 'monthly_average',\n",
    "                'num_years': year,\n",
    "                'wall_time': wall_time,\n",
    "            },\n",
    "            ignore_index=True,\n",
    "        )"
   ]
  },
  {
   "cell_type": "code",
   "execution_count": null,
   "id": "dc6abec9-18da-40d8-8e24-4a0e7b53cc44",
   "metadata": {},
   "outputs": [],
   "source": [
    "history_file_times = [\n",
    "    2.33,\n",
    "    17.4,\n",
    "    27.7,\n",
    "    65.5,\n",
    "]"
   ]
  }
 ],
 "metadata": {
  "author": "Max Grover",
  "date": "2021-09-17",
  "kernelspec": {
   "display_name": "Python [conda env:miniconda3-ecgtools-dev-2]",
   "language": "python",
   "name": "conda-env-miniconda3-ecgtools-dev-2-py"
  },
  "language_info": {
   "codemirror_mode": {
    "name": "ipython",
    "version": 3
   },
   "file_extension": ".py",
   "mimetype": "text/x-python",
   "name": "python",
   "nbconvert_exporter": "python",
   "pygments_lexer": "ipython3",
   "version": "3.9.7"
  },
  "tags": "ecgtools,intake,dask,cesm,benchmark",
  "title": "Benchmarking Performance of History vs. Timeseries Files"
 },
 "nbformat": 4,
 "nbformat_minor": 5
}
