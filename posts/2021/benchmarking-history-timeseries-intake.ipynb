{
 "cells": [
  {
   "cell_type": "markdown",
   "id": "bfd9cb30-4482-4695-ab80-63b2d2536cf2",
   "metadata": {},
   "source": [
    "# Benchmarking Performance of History vs. Timeseries Files with [`ecgtools`](https://ecgtools.readthedocs.io/en/latest/), [`Intake-ESM`](https://intake-esm.readthedocs.io/en/latest/), and [`Dask`](https://dask.org/)\n",
    "\n",
    "In this example, we will walk through \"benchmarking\" performance of reading, apply calculations, and visualizing data from the Community Earth System Model (CESM), using the following packages:\n",
    "* [`ecgtools`](https://ecgtools.readthedocs.io/en/latest/)\n",
    "* [`Intake-ESM`](https://intake-esm.readthedocs.io/en/latest/)\n",
    "* [`Dask`](https://dask.org/)\n",
    "\n",
    "Going into this analysis, we have a ***hypothesis*** that performance should be substantially better when reading from timeseries files, but let's take a look..."
   ]
  },
  {
   "cell_type": "markdown",
   "id": "7511948a-7fe1-4bc6-880a-735599ef05b1",
   "metadata": {},
   "source": [
    "## Imports"
   ]
  },
  {
   "cell_type": "markdown",
   "id": "3073144b-bd77-4775-89b1-3ccbb9bebecd",
   "metadata": {},
   "source": [
    "### Installing packages via `conda-forge`\n",
    "\n",
    "As of this week, [`ecgtools`](https://ecgtools.readthedocs.io/en/latest/) is available via `conda-forge`, which is very exciting! You can install the packages used here using the following:\n",
    "\n",
    "```bash\n",
    "conda install -c conda-forge ecgtools ncar-jobqueue distributed intake-esm\n",
    "```"
   ]
  },
  {
   "cell_type": "code",
   "execution_count": 3,
   "id": "66fe2b0c-5d78-4b27-ac77-a1a5de1a056d",
   "metadata": {},
   "outputs": [],
   "source": [
    "import intake\n",
    "from distributed import Client\n",
    "from ecgtools import Builder\n",
    "from ecgtools.parsers.cesm import parse_cesm_history, parse_cesm_timeseries\n",
    "from ncar_jobqueue import NCARCluster"
   ]
  },
  {
   "cell_type": "markdown",
   "id": "3ba985ea-8428-4098-b455-71306957963f",
   "metadata": {},
   "source": [
    "## Build the Catalogs\n",
    "\n",
    "Something to keep in mind here is that [`ecgtools`](https://ecgtools.readthedocs.io/en/latest/)'s builder parallelizes across the number of cores you have available; so ideally, for this section of the notebook, you will want to use more than a single core, up to however many you see fit."
   ]
  },
  {
   "cell_type": "code",
   "execution_count": null,
   "id": "1e77b174-e386-41fb-a31a-b10879ba8368",
   "metadata": {},
   "outputs": [],
   "source": [
    "b = Builder(\n",
    "    \"/glade/campaign/cesm/development/espwg/SMYLE/initial_conditions/SMYLE-FOSI/\",\n",
    "    depth=5,\n",
    "    exclude_patterns=[\"*/rest/*\", \"*/logs/*\", \"*/proc/*\"],\n",
    "    njobs=5,\n",
    ")"
   ]
  }
 ],
 "metadata": {
  "author": "Max Grover",
  "date": "2021-09-17",
  "kernelspec": {
   "display_name": "Python [conda env:miniconda3-ecgtools-dev-2]",
   "language": "python",
   "name": "conda-env-miniconda3-ecgtools-dev-2-py"
  },
  "language_info": {
   "codemirror_mode": {
    "name": "ipython",
    "version": 3
   },
   "file_extension": ".py",
   "mimetype": "text/x-python",
   "name": "python",
   "nbconvert_exporter": "python",
   "pygments_lexer": "ipython3",
   "version": "3.9.7"
  },
  "tags": "ecgtools,intake,dask,cesm,benchmark",
  "title": "Benchmarking Performance of History vs. Timeseries Files"
 },
 "nbformat": 4,
 "nbformat_minor": 5
}
