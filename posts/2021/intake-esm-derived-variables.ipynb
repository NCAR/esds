{
 "cells": [
  {
   "cell_type": "markdown",
   "id": "36907681-b931-4dcf-9c33-2d836033b459",
   "metadata": {},
   "source": [
    "# Using [Intake-ESM's](https://intake-esm.readthedocs.io/en/latest/) New Derived Variable Functionality\n",
    "\n",
    "Last week, [Anderson Banihirwe](https://github.com/andersy005) added a new feature to intake-esm, enabling users to add \"derived variables\" to catalogs! This is an exciting addition, and although this has not been included in a release yet, you are welcome to test out the functionality!\n",
    "\n",
    "## What is a \"Derived Variable\"\n",
    "A derived variable in this case is a variable which can be derived using variables within some data catalog. The basic assumption is that they can be included **in the same dataset** (which ***could be extended*** to be able to work with variables from multiple datasets). This means that variables will need to be **on the same grid with the same dimensionality**.\n",
    "\n",
    "An example of a derived variable could be temperature in degrees Fahrenheit. Often times, climate model models write temperature in Celsius or Kelvin, but the user may want degrees Fahrenheit!\n",
    "\n",
    "Often times, this workflow consists of the following:\n",
    "* Load the data within the catalog\n",
    "* Apply some function to the loaded datasets\n",
    "* Plot the output\n",
    "\n",
    "But what if we could couple those first two steps? What if we could have some set of **variable definitions**, consisting of variable requirements, such as `dependent variables`, and a function which derives the quantity! This is what the `derived_variable` funtionality offers in `intake-esm`!\n",
    "\n",
    "Let's get started with an example!"
   ]
  },
  {
   "cell_type": "markdown",
   "id": "8199ba75-1c6a-421d-b927-a37ab6df0e8b",
   "metadata": {},
   "source": [
    "## Installing the Development Version of Intake-ESM\n",
    "Since this has not yet been released in a version of Intake-ESM, you can install the development version using the following:\n",
    "\n",
    "```bash\n",
    "pip install git+https://github.com/intake/intake-esm.git\n",
    "```"
   ]
  },
  {
   "cell_type": "markdown",
   "id": "ca24a5e0-e5b5-4e2c-bdaa-b45dc1b97b4f",
   "metadata": {},
   "source": [
    "## Imports"
   ]
  },
  {
   "cell_type": "code",
   "execution_count": 7,
   "id": "ee418225-e6c6-471a-ad3c-19e6ed952912",
   "metadata": {},
   "outputs": [],
   "source": [
    "import intake\n",
    "from intake_esm.derived import DerivedVariableRegistry"
   ]
  },
  {
   "cell_type": "code",
   "execution_count": 6,
   "id": "1f273b8d-81e1-4d8c-9419-54996470b8c6",
   "metadata": {},
   "outputs": [],
   "source": [
    "dvr = DerivedVariableRegistry()"
   ]
  },
  {
   "cell_type": "code",
   "execution_count": null,
   "id": "bba94d63-71cc-4686-b456-7961a1dd0696",
   "metadata": {},
   "outputs": [],
   "source": []
  }
 ],
 "metadata": {
  "author": "Max Grover",
  "date": "2021-10-22",
  "kernelspec": {
   "display_name": "Python [conda env:miniconda3-cesm-collections-dev]",
   "language": "python",
   "name": "conda-env-miniconda3-cesm-collections-dev-py"
  },
  "language_info": {
   "codemirror_mode": {
    "name": "ipython",
    "version": 3
   },
   "file_extension": ".py",
   "mimetype": "text/x-python",
   "name": "python",
   "nbconvert_exporter": "python",
   "pygments_lexer": "ipython3",
   "version": "3.9.6"
  },
  "tags": "intake,diagnostics,cesm",
  "title": "Using Intake-ESM's New Derived Variable Functionality"
 },
 "nbformat": 4,
 "nbformat_minor": 5
}
