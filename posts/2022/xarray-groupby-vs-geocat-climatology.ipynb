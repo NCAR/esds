{
 "cells": [
  {
   "cell_type": "markdown",
   "metadata": {
    "pycharm": {
     "name": "#%% md\n"
    }
   },
   "source": [
    "# Calculating Temporal Averages with GeoCAT-comp vs Xarray\n",
    "\n",
    "With temporally large datasets, computing seasonal and annual averages are a great ways to summarize the data and make it easier to manage and understand. You may want to take hourly, daily, or monthly data and compute seasonal (3 month time spans) or annual averages."
   ]
  },
  {
   "cell_type": "markdown",
   "metadata": {
    "pycharm": {
     "name": "#%% md\n"
    }
   },
   "source": [
    "## Challenges\n",
    "When using data that has a daily or finer resolution (e.g. hourly), calculating an annual average is simple. Every day and hour has the same length, so an unweighted average will work.\n",
    "\n",
    "But when using data that is monthly, things can get a bit tricky. Not every month is created equal. February has 28 or 29 days and March has 31 days. Since monthly data has one value for each month, those points can't be averaged in the usual way. A weighted average is needed.\n",
    "\n",
    "While it is tempting to quickly compute monthly to annual averages with `Xarray`'s `resample` or `groupby` functions, we need to be careful to specify the weights. Unfortunately, `Xarray` doesn't support weighted `resample` or `groupby` at the time this post was created.\n",
    "\n",
    "Below is a plot showing the difference between computing an annual average from monthly data using the incorrect unweighted average and the correct weighted average."
   ]
  },
  {
   "cell_type": "markdown",
   "metadata": {
    "pycharm": {
     "name": "#%% md\n"
    }
   },
   "source": [
    "# ADD PLOT"
   ]
  },
  {
   "cell_type": "markdown",
   "metadata": {},
   "source": [
    "### Imports"
   ]
  },
  {
   "cell_type": "code",
   "execution_count": null,
   "metadata": {},
   "outputs": [],
   "source": [
    "import numpy as np\n",
    "import xarray as xr\n",
    "import nc_time_axis\n",
    "import geocat.comp as gc\n",
    "import zarr"
   ]
  },
  {
   "cell_type": "markdown",
   "metadata": {},
   "source": [
    "### Helper function to make all of the plots the same way but with different data"
   ]
  },
  {
   "cell_type": "code",
   "execution_count": null,
   "metadata": {},
   "outputs": [],
   "source": [
    "import matplotlib.pyplot as plt\n",
    "import cartopy.crs as ccrs\n",
    "import geocat.viz as gv\n",
    "\n",
    "def custom_plot(data, title):\n",
    "    # Generate figure (set its size (width, height) in inches)\n",
    "    plt.figure(figsize=(14, 7))\n",
    "\n",
    "    # Generate axes, using Cartopy\n",
    "    projection = ccrs.PlateCarree()\n",
    "    ax = plt.axes(projection=projection)\n",
    "\n",
    "    # Use global map and draw coastlines\n",
    "    ax.set_global()\n",
    "    ax.coastlines()\n",
    "\n",
    "    # Contourf-plot data (for filled contours)\n",
    "    p = data.plot.contourf(ax=ax, vmin=-10, vmax=35, levels=16, cmap='inferno',\n",
    "                        add_colorbar=False, transform=projection, extend='neither')\n",
    "\n",
    "    # Add horizontal colorbar\n",
    "    cbar = plt.colorbar(p, orientation='horizontal', shrink=0.5)\n",
    "    cbar.ax.tick_params(labelsize=14)\n",
    "    cbar.set_ticks(np.linspace(-10, 35, 14))\n",
    "\n",
    "    # Use geocat.viz.util convenience function to set axes tick values\n",
    "    gv.set_axes_limits_and_ticks(ax,\n",
    "                                 xticks=np.linspace(-180, 180, 13),\n",
    "                                 yticks=np.linspace(-90, 90, 7))\n",
    "\n",
    "    # Use geocat.viz.util convenience function to make plots look like NCL plots by using latitude, longitude tick labels\n",
    "    gv.add_lat_lon_ticklabels(ax)\n",
    "\n",
    "    # Use geocat.viz.util convenience function to add minor and major tick lines\n",
    "    gv.add_major_minor_ticks(ax, labelsize=12)\n",
    "\n",
    "    # Use geocat.viz.util convenience function to add titles to left and right of the plot axis.\n",
    "    gv.set_titles_and_labels(ax, maintitle=title,\n",
    "                             lefttitle=data.long_name, lefttitlefontsize=16,\n",
    "                             righttitle=data.units, righttitlefontsize=16,\n",
    "                             xlabel=\"\", ylabel=\"\")\n",
    "\n",
    "    # Show the plot\n",
    "    plt.show()"
   ]
  },
  {
   "cell_type": "markdown",
   "metadata": {},
   "source": [
    "### Read in and format data"
   ]
  },
  {
   "cell_type": "code",
   "execution_count": null,
   "metadata": {},
   "outputs": [],
   "source": [
    "ds = xr.open_zarr(\n",
    "    's3://ncar-cesm2-lens/ocn/monthly/cesm2LE-ssp370-cmip6-TEMP.zarr',\n",
    "    storage_options={'anon': True},\n",
    ")\n",
    "# Get the first 5 years of data to reduce computation time\n",
    "ds_first_five_years = ds.sel(time=slice('2015', '2019')).isel(member_id=1)\n",
    "\n",
    "ds_first_five_years"
   ]
  },
  {
   "cell_type": "markdown",
   "metadata": {},
   "source": [
    "### The incorrect way to compute seasonal averages from monthly data"
   ]
  },
  {
   "cell_type": "markdown",
   "metadata": {},
   "source": [
    "It's easy to compute and unweighted average using `xarray` functionality; however, this generates inaccurate results. Here is what the ***incorrect*** way of doing this looks like."
   ]
  },
  {
   "cell_type": "code",
   "execution_count": null,
   "metadata": {},
   "outputs": [],
   "source": [
    "seasonal_average_weighted_incorrectly = ds_first_five_years.resample(time='QS-DEC').mean().groupby('time.month').mean()\n",
    "seasonal_average_weighted_incorrectly"
   ]
  },
  {
   "cell_type": "code",
   "execution_count": null,
   "metadata": {},
   "outputs": [],
   "source": [
    "custom_plot(seasonal_average_weighted_incorrectly.TEMP.isel(z_t=0, month=0), \"Incorrect Spring Average Temps\")"
   ]
  },
  {
   "cell_type": "markdown",
   "metadata": {},
   "source": [
    "### The correct way to compute seasonal averages with xarray\n",
    "Using GeoCAT's climatology average, we can calculate the average potential temperature for each season during the 5 years our data covers. We do need to format the data before using it. `climatology_average` requires that the datetime objects for the time dimension are evenly spaced. We can use `xarray.DataArray.resample` to make sure the monthly data has dates at the start of each month rather than in the center of the months."
   ]
  },
  {
   "cell_type": "code",
   "execution_count": null,
   "metadata": {},
   "outputs": [],
   "source": [
    "# What the time dimension looks like before resampling\n",
    "ds_first_five_years['time']"
   ]
  },
  {
   "cell_type": "code",
   "execution_count": null,
   "metadata": {},
   "outputs": [],
   "source": [
    "# What the time dimesnion looks like after resampling. The call to mean describes how to \n",
    "# agregate the data, but we know that we only have one data point per month. We are just\n",
    "# changing the day for the datetime objects.\n",
    "ds_resample = ds_first_five_years.resample(time='MS').mean()\n",
    "ds_resample"
   ]
  },
  {
   "cell_type": "code",
   "execution_count": null,
   "metadata": {},
   "outputs": [],
   "source": [
    "seasonal_average_weighted_correctly = gc.climatology_average(ds_resample, 'season')\n",
    "seasonal_average_weighted_correctly"
   ]
  },
  {
   "cell_type": "code",
   "execution_count": null,
   "metadata": {},
   "outputs": [],
   "source": [
    "custom_plot(seasonal_average_weighted_correctly.TEMP.isel(z_t=0, time=0), 'Correct Sping Average Temps')"
   ]
  },
  {
   "cell_type": "markdown",
   "metadata": {},
   "source": [
    "## So what's the difference?\n",
    "It is hard to see the difference between the correct and incorrect ways of caluclating the seasonal averages. If we plot the difference between the two results, the computational errors become easier to see."
   ]
  },
  {
   "cell_type": "code",
   "execution_count": null,
   "metadata": {},
   "outputs": [],
   "source": [
    "diff = seasonal_average_weighted_correctly - seasonal_average_weighted_incorrectly\n",
    "diff.max()"
   ]
  },
  {
   "cell_type": "code",
   "execution_count": null,
   "metadata": {},
   "outputs": [],
   "source": []
  }
 ],
 "metadata": {
  "kernelspec": {
   "display_name": "CMIP6 2019.10",
   "language": "python",
   "name": "cmip6-201910"
  },
  "language_info": {
   "codemirror_mode": {
    "name": "ipython",
    "version": 3
   },
   "file_extension": ".py",
   "mimetype": "text/x-python",
   "name": "python",
   "nbconvert_exporter": "python",
   "pygments_lexer": "ipython3",
   "version": "3.7.10"
  }
 },
 "nbformat": 4,
 "nbformat_minor": 4
}
