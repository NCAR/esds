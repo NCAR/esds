{
 "cells": [
  {
   "cell_type": "markdown",
   "source": [
    "# Calculating Temporal Averages with GeoCAT-comp vs Xarray\n",
    "\n",
    "With temporally large datasets, computing seasonal and annual averages are a great ways to summarize the data and make it easier to manage and understand. You may want to take hourly, daily, or monthly data and compute seasonal or annual averages."
   ],
   "metadata": {
    "collapsed": false,
    "pycharm": {
     "name": "#%% md\n"
    }
   }
  },
  {
   "cell_type": "markdown",
   "source": [
    "## Challenges\n",
    "When using data that has a daily or finer resolution (e.g. hourly), calculating an annual average is simple. Every day and hour has the same length, so an unweighted average will work.\n",
    "\n",
    "But when using data that is monthly, things can get a bit tricky. Not every month is created equal. February has 28 or 29 days and March has 31 days. Since monthly data has one value for each month, those points can't be averaged in the usual way. A weighted average is needed.\n",
    "\n",
    "While it is tempting to quickly compute monthly to annual averages with `Xarray`'s `resample` or `groupby` functions, we need to be careful to specify the weights. Unfortunately, `Xarray` doesn't support weighted `resample` or `groupby` at the time this post was created, but `geocat-comp.climatology_average` builds upon `Xarray` to compute the weights for you.\n",
    "\n",
    "Below is a plot showing the difference between computing the winter average temperature from monthly data using the incorrect unweighted average and the correct weighted average.\n",
    "\n",
    "![xarray_vs_geocat_climatology-4.png](attachment:xarray_vs_geocat_climatology-4.png)"
   ],
   "metadata": {
    "collapsed": false,
    "pycharm": {
     "name": "#%% md\n"
    }
   }
  },
  {
   "cell_type": "markdown",
   "source": [
    "## Demonstration\n",
    "In this post, I'll show how to compute seasonal averages from monthly data the nieve way (with unweighted averages) and the correct way (with weighted averages).\n",
    "\n",
    "### Imports"
   ],
   "metadata": {
    "collapsed": false,
    "pycharm": {
     "name": "#%% md\n"
    }
   }
  },
  {
   "cell_type": "code",
   "execution_count": null,
   "outputs": [],
   "source": [
    "import cartopy.crs as ccrs\n",
    "import geocat.comp as gc\n",
    "import geocat.viz as gv\n",
    "import matplotlib.pyplot as plt\n",
    "import numpy as np\n",
    "import xarray as xr"
   ],
   "metadata": {
    "collapsed": false,
    "pycharm": {
     "name": "#%%\n"
    }
   }
  },
  {
   "cell_type": "markdown",
   "source": [
    "### Helper function to make all of the plots the same way but with different data"
   ],
   "metadata": {
    "collapsed": false,
    "pycharm": {
     "name": "#%% md\n"
    }
   }
  },
  {
   "cell_type": "code",
   "execution_count": null,
   "outputs": [],
   "source": [
    "def custom_plot(data, title):\n",
    "    # Generate figure (set its size (width, height) in inches)\n",
    "    plt.figure(figsize=(14, 7))\n",
    "\n",
    "    # Generate axes, using Cartopy\n",
    "    projection = ccrs.PlateCarree()\n",
    "    ax = plt.axes(projection=projection)\n",
    "\n",
    "    # Draw coastlines\n",
    "    ax.coastlines()\n",
    "    ax.gridlines(alpha=0.5)\n",
    "\n",
    "    if 'Difference' in title:\n",
    "        # Contourf-plot data (for filled contours)\n",
    "        p = data.plot.contourf(\n",
    "            ax=ax,\n",
    "            vmin=-3,\n",
    "            vmax=3,\n",
    "            levels=13,\n",
    "            cmap='bwr',\n",
    "            add_colorbar=False,\n",
    "            transform=projection,\n",
    "            extend='neither',\n",
    "        )\n",
    "\n",
    "        # Add horizontal colorbar\n",
    "        cbar = plt.colorbar(p, orientation='horizontal', shrink=0.5)\n",
    "        cbar.ax.tick_params(labelsize=14)\n",
    "        cbar.set_ticks(np.linspace(-3, 3, 7))\n",
    "    else:\n",
    "        # Contourf-plot data (for filled contours)\n",
    "        p = data.plot.contourf(\n",
    "            ax=ax,\n",
    "            vmin=20,\n",
    "            vmax=30,\n",
    "            levels=11,\n",
    "            cmap='inferno',\n",
    "            add_colorbar=False,\n",
    "            transform=projection,\n",
    "            extend='neither',\n",
    "        )\n",
    "\n",
    "        # Add horizontal colorbar\n",
    "        cbar = plt.colorbar(p, orientation='horizontal', shrink=0.5)\n",
    "        cbar.ax.tick_params(labelsize=14)\n",
    "        cbar.set_ticks(np.linspace(20, 30, 6))\n",
    "\n",
    "    # Use geocat.viz.util convenience function to set axes tick values\n",
    "    gv.set_axes_limits_and_ticks(\n",
    "        ax,\n",
    "        xlim=(-180, -70),\n",
    "        ylim=(-20, 20),\n",
    "        xticks=np.arange(-180, -70, 10),\n",
    "        yticks=np.arange(-20, 20, 5),\n",
    "    )\n",
    "\n",
    "    # Use geocat.viz.util convenience function to make plots look like NCL plots by using latitude, longitude tick labels\n",
    "    gv.add_lat_lon_ticklabels(ax)\n",
    "\n",
    "    # Use geocat.viz.util convenience function to add minor and major tick lines\n",
    "    gv.add_major_minor_ticks(ax, labelsize=12)\n",
    "\n",
    "    # Use geocat.viz.util convenience function to add titles to left and right of the plot axis.\n",
    "    gv.set_titles_and_labels(\n",
    "        ax,\n",
    "        maintitle=title,\n",
    "        lefttitle=\"Winter Average\",\n",
    "        lefttitlefontsize=16,\n",
    "        righttitle=data.units,\n",
    "        righttitlefontsize=16,\n",
    "        xlabel=\"\",\n",
    "        ylabel=\"\",\n",
    "    )\n",
    "\n",
    "    # Show the plot\n",
    "    plt.show()"
   ],
   "metadata": {
    "collapsed": false,
    "pycharm": {
     "name": "#%%\n"
    }
   }
  },
  {
   "cell_type": "markdown",
   "source": [
    "### Read in and format data\n",
    "The data we will be using is a subset from RDA dataset ds277.0 - 'NOAA NCEP Optimum Interpolation Sea Surface Temperature Analysis'. It contains monthly average sea surface temperatures over the contentental US from 1982 to 1986. We will be computing seasonal averages from this data and comparing the two different methods for doing this calculation."
   ],
   "metadata": {
    "collapsed": false,
    "pycharm": {
     "name": "#%% md\n"
    }
   }
  },
  {
   "cell_type": "code",
   "execution_count": null,
   "outputs": [],
   "source": [
    "ds = xr.open_dataset('603321.sst.sst.mnmean.nc')\n",
    "ds = ds.sst  # Pull out the sea surface temperature data\n",
    "ds = ds.isel(\n",
    "    time=range(1, 49)\n",
    ")  # Remove the first data point so that we have an equal number of data points from each month"
   ],
   "metadata": {
    "collapsed": false,
    "pycharm": {
     "name": "#%%\n"
    }
   }
  },
  {
   "cell_type": "markdown",
   "source": [
    "### The incorrect way to compute seasonal averages from monthly data"
   ],
   "metadata": {
    "collapsed": false,
    "pycharm": {
     "name": "#%% md\n"
    }
   }
  },
  {
   "cell_type": "markdown",
   "source": [
    "It's easy to compute an unweighted average using `xarray` functionality; however, this generates inaccurate results. Here is what the ***incorrect*** way of doing this looks like. Notice that the result has a `month` dimension. These months are the start of each quarter. The quarters are the meterological seasons. (e.g. December, January, and February for winter)"
   ],
   "metadata": {
    "collapsed": false,
    "pycharm": {
     "name": "#%% md\n"
    }
   }
  },
  {
   "cell_type": "code",
   "execution_count": null,
   "outputs": [],
   "source": [
    "# Resample the data by quarters, compute the average, and group by month.\n",
    "seasonal_average_weighted_incorrectly = (\n",
    "    ds.resample(time='QS-DEC').mean().groupby('time.month').mean()\n",
    ")\n",
    "seasonal_average_weighted_incorrectly"
   ],
   "metadata": {
    "collapsed": false,
    "pycharm": {
     "name": "#%%\n"
    }
   }
  },
  {
   "cell_type": "code",
   "execution_count": null,
   "outputs": [],
   "source": [
    "custom_plot(seasonal_average_weighted_incorrectly.isel(month=-1), \"Incorrect Winter Average Temps\")"
   ],
   "metadata": {
    "collapsed": false,
    "pycharm": {
     "name": "#%%\n"
    }
   }
  },
  {
   "cell_type": "markdown",
   "source": [
    "### The correct way to compute seasonal averages with xarray\n",
    "Using GeoCAT's climatology average, we can calculate the average temperature for each season. Note that `climatology_average` requires that the datetime objects for the time dimension match a recognized frequency. More information about frequencies can be found [here](http://pandas.pydata.org/pandas-docs/stable/user_guide/timeseries.html#offset-aliases). Luckily, our data is already in the correct format as shown below with each data point being at the start of a month."
   ],
   "metadata": {
    "collapsed": false,
    "pycharm": {
     "name": "#%% md\n"
    }
   }
  },
  {
   "cell_type": "code",
   "execution_count": null,
   "outputs": [],
   "source": [
    "# What the time dimension looks like before resampling\n",
    "ds['time']"
   ],
   "metadata": {
    "collapsed": false,
    "pycharm": {
     "name": "#%%\n"
    }
   }
  },
  {
   "cell_type": "markdown",
   "source": [
    "`climatology_average` takes in the data, the frequency for the averages (seasonal averages in this case), and the name of the time dimension. Note that the output now has a `season` dimension with strings representing the difference months in each meterological season."
   ],
   "metadata": {
    "collapsed": false,
    "pycharm": {
     "name": "#%% md\n"
    }
   }
  },
  {
   "cell_type": "code",
   "execution_count": null,
   "outputs": [],
   "source": [
    "seasonal_average_weighted_correctly = gc.climatology_average(ds, 'season', 'time')\n",
    "seasonal_average_weighted_correctly"
   ],
   "metadata": {
    "collapsed": false,
    "pycharm": {
     "name": "#%%\n"
    }
   }
  },
  {
   "cell_type": "code",
   "execution_count": null,
   "outputs": [],
   "source": [
    "custom_plot(seasonal_average_weighted_correctly.isel(season=0), 'Correct Winter Average Temps')"
   ],
   "metadata": {
    "collapsed": false,
    "pycharm": {
     "name": "#%%\n"
    }
   }
  },
  {
   "cell_type": "markdown",
   "source": [
    "## So what's the difference?\n",
    "It is hard to see the difference between the correct and incorrect ways of caluclating the seasonal averages. If we plot the difference between the two results, the computational errors become easier to see."
   ],
   "metadata": {
    "collapsed": false,
    "pycharm": {
     "name": "#%% md\n"
    }
   }
  },
  {
   "cell_type": "code",
   "execution_count": null,
   "outputs": [],
   "source": [
    "# Rename and reassign coordinates so both outputs have matching dimensions and coords\n",
    "incorrect = seasonal_average_weighted_incorrectly.rename({'month': 'season'})\n",
    "incorrect = incorrect.assign_coords({'season': ['DJF', 'MAM', 'JJA', 'SON']})\n",
    "incorrect\n",
    "\n",
    "diff = seasonal_average_weighted_correctly - incorrect\n",
    "diff"
   ],
   "metadata": {
    "collapsed": false,
    "pycharm": {
     "name": "#%%\n"
    }
   }
  },
  {
   "cell_type": "code",
   "execution_count": null,
   "outputs": [],
   "source": [
    "custom_plot(diff.isel(season=0), 'Difference: Correct Average - Incorrect Average')"
   ],
   "metadata": {
    "collapsed": false,
    "pycharm": {
     "name": "#%%\n"
    }
   }
  },
  {
   "cell_type": "markdown",
   "source": [
    "## What we learned\n",
    "The incorrect averages deviate from the correct averages by up to 3 degrees Celcius in this example, but it wasn't obvious before we computed the difference! It's really easy to assume that an unweighted average will give you the correct climatology values and end up with hard to find errors in your calculations.\n",
    "\n",
    "This example covered the correct way to compute seasonal climatologies from monthly data using GeoCAT-comp's `climatology_average` and the descrepencies of using unweighted averages. Not every calculation needs a weighted average, but be sure to consider what kind of average you need before doing your calculations to avoid a debugging headache!"
   ],
   "metadata": {
    "collapsed": false,
    "pycharm": {
     "name": "#%% md\n"
    }
   }
  },
  {
   "cell_type": "markdown",
   "metadata": {},
   "source": [
    "## What we learned\n",
    "The incorrect averages deviate from the correct averages by up to 3 degrees Celcius in this example, but it wasn't obvious before we computed the difference! It's really easy to assume that an unweighted average will give you the correct climatology values and end up with hard to find errors in your calculations.\n",
    "\n",
    "This example covered the correct way to compute seasonal climatologies from monthly data using GeoCAT-comp's `climatology_average` and the descrepencies of using unweighted averages. Not every calculation needs a weighted average, but be sure to consider what kind of average you need before doing your calculations to avoid a debugging headache!"
   ]
  }
 ],
 "metadata": {
  "kernelspec": {
   "display_name": "Python 3 (ipykernel)",
   "language": "python",
   "name": "python3"
  },
  "language_info": {
   "codemirror_mode": {
    "name": "ipython",
    "version": 3
   },
   "file_extension": ".py",
   "mimetype": "text/x-python",
   "name": "python",
   "nbconvert_exporter": "python",
   "pygments_lexer": "ipython3",
   "version": "3.9.15"
  }
 },
 "nbformat": 4,
 "nbformat_minor": 4
}
